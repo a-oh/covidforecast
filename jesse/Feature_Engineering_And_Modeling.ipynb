{
 "cells": [
  {
   "cell_type": "markdown",
   "metadata": {},
   "source": [
    "# Feature Engineering and Modeling"
   ]
  },
  {
   "cell_type": "code",
   "execution_count": 1,
   "metadata": {},
   "outputs": [],
   "source": [
    "# import libraries\n",
    "import datetime\n",
    "\n",
    "import pandas as pd\n",
    "import numpy as np\n",
    "import matplotlib.pyplot as plt\n",
    "import seaborn as sns\n",
    "import tensorflow as tf\n",
    "\n",
    "from sklearn.preprocessing import StandardScaler, MinMaxScaler\n",
    "from sklearn.experimental import enable_halving_search_cv\n",
    "from sklearn.model_selection import train_test_split, HalvingRandomSearchCV\n",
    "\n",
    "from tensorflow.keras.models import Sequential, load_model\n",
    "from tensorflow.keras.layers import Dense, Dropout, GRU, LSTM\n",
    "from tensorflow.keras.optimizers import Adam\n",
    "from tensorflow.keras.regularizers import l2\n",
    "from tensorflow.keras.preprocessing.sequence import TimeseriesGenerator\n",
    "from tensorflow.keras.callbacks import EarlyStopping\n",
    "\n",
    "gpus = tf.config.experimental.list_physical_devices('GPU')\n",
    "tf.config.experimental.set_memory_growth(gpus[0], True)\n",
    "\n",
    "%matplotlib inline"
   ]
  },
  {
   "cell_type": "code",
   "execution_count": 2,
   "metadata": {},
   "outputs": [
    {
     "data": {
      "text/html": [
       "<div>\n",
       "<style scoped>\n",
       "    .dataframe tbody tr th:only-of-type {\n",
       "        vertical-align: middle;\n",
       "    }\n",
       "\n",
       "    .dataframe tbody tr th {\n",
       "        vertical-align: top;\n",
       "    }\n",
       "\n",
       "    .dataframe thead th {\n",
       "        text-align: right;\n",
       "    }\n",
       "</style>\n",
       "<table border=\"1\" class=\"dataframe\">\n",
       "  <thead>\n",
       "    <tr style=\"text-align: right;\">\n",
       "      <th></th>\n",
       "      <th>county</th>\n",
       "      <th>totalcountconfirmed</th>\n",
       "      <th>totalcountdeaths</th>\n",
       "      <th>newcountconfirmed</th>\n",
       "      <th>newcountdeaths</th>\n",
       "      <th>date</th>\n",
       "      <th>NEVER</th>\n",
       "      <th>RARELY</th>\n",
       "      <th>SOMETIMES</th>\n",
       "      <th>FREQUENTLY</th>\n",
       "      <th>ALWAYS</th>\n",
       "      <th>population</th>\n",
       "      <th>confirmedper100k</th>\n",
       "      <th>newlyconfirmedper100k</th>\n",
       "      <th>deathper100k</th>\n",
       "      <th>newdeath100k</th>\n",
       "      <th>7dayrollingavg_newlyconfirmed</th>\n",
       "      <th>7dayrollingavg_newdeath</th>\n",
       "      <th>7dayrollingavg_newlyconfirmed_rawnumber</th>\n",
       "      <th>7dayrollingavg_newdeath_rawnumber</th>\n",
       "    </tr>\n",
       "  </thead>\n",
       "  <tbody>\n",
       "    <tr>\n",
       "      <th>0</th>\n",
       "      <td>Alameda</td>\n",
       "      <td>29.0</td>\n",
       "      <td>0.0</td>\n",
       "      <td>29</td>\n",
       "      <td>0</td>\n",
       "      <td>2020-03-18</td>\n",
       "      <td>0.019</td>\n",
       "      <td>0.008</td>\n",
       "      <td>0.055</td>\n",
       "      <td>0.123</td>\n",
       "      <td>0.795</td>\n",
       "      <td>1671329</td>\n",
       "      <td>1.735146</td>\n",
       "      <td>1.735146</td>\n",
       "      <td>0.000000</td>\n",
       "      <td>0.000000</td>\n",
       "      <td>NaN</td>\n",
       "      <td>NaN</td>\n",
       "      <td>NaN</td>\n",
       "      <td>NaN</td>\n",
       "    </tr>\n",
       "    <tr>\n",
       "      <th>1</th>\n",
       "      <td>Alameda</td>\n",
       "      <td>36.0</td>\n",
       "      <td>0.0</td>\n",
       "      <td>7</td>\n",
       "      <td>0</td>\n",
       "      <td>2020-03-19</td>\n",
       "      <td>0.019</td>\n",
       "      <td>0.008</td>\n",
       "      <td>0.055</td>\n",
       "      <td>0.123</td>\n",
       "      <td>0.795</td>\n",
       "      <td>1671329</td>\n",
       "      <td>2.153974</td>\n",
       "      <td>0.418828</td>\n",
       "      <td>0.000000</td>\n",
       "      <td>0.000000</td>\n",
       "      <td>NaN</td>\n",
       "      <td>NaN</td>\n",
       "      <td>NaN</td>\n",
       "      <td>NaN</td>\n",
       "    </tr>\n",
       "    <tr>\n",
       "      <th>2</th>\n",
       "      <td>Alameda</td>\n",
       "      <td>42.0</td>\n",
       "      <td>0.0</td>\n",
       "      <td>6</td>\n",
       "      <td>0</td>\n",
       "      <td>2020-03-20</td>\n",
       "      <td>0.019</td>\n",
       "      <td>0.008</td>\n",
       "      <td>0.055</td>\n",
       "      <td>0.123</td>\n",
       "      <td>0.795</td>\n",
       "      <td>1671329</td>\n",
       "      <td>2.512970</td>\n",
       "      <td>0.358996</td>\n",
       "      <td>0.000000</td>\n",
       "      <td>0.000000</td>\n",
       "      <td>NaN</td>\n",
       "      <td>NaN</td>\n",
       "      <td>NaN</td>\n",
       "      <td>NaN</td>\n",
       "    </tr>\n",
       "    <tr>\n",
       "      <th>3</th>\n",
       "      <td>Alameda</td>\n",
       "      <td>62.0</td>\n",
       "      <td>0.0</td>\n",
       "      <td>20</td>\n",
       "      <td>0</td>\n",
       "      <td>2020-03-21</td>\n",
       "      <td>0.019</td>\n",
       "      <td>0.008</td>\n",
       "      <td>0.055</td>\n",
       "      <td>0.123</td>\n",
       "      <td>0.795</td>\n",
       "      <td>1671329</td>\n",
       "      <td>3.709623</td>\n",
       "      <td>1.196652</td>\n",
       "      <td>0.000000</td>\n",
       "      <td>0.000000</td>\n",
       "      <td>NaN</td>\n",
       "      <td>NaN</td>\n",
       "      <td>NaN</td>\n",
       "      <td>NaN</td>\n",
       "    </tr>\n",
       "    <tr>\n",
       "      <th>4</th>\n",
       "      <td>Alameda</td>\n",
       "      <td>72.0</td>\n",
       "      <td>1.0</td>\n",
       "      <td>10</td>\n",
       "      <td>1</td>\n",
       "      <td>2020-03-22</td>\n",
       "      <td>0.019</td>\n",
       "      <td>0.008</td>\n",
       "      <td>0.055</td>\n",
       "      <td>0.123</td>\n",
       "      <td>0.795</td>\n",
       "      <td>1671329</td>\n",
       "      <td>4.307949</td>\n",
       "      <td>0.598326</td>\n",
       "      <td>0.059833</td>\n",
       "      <td>0.059833</td>\n",
       "      <td>NaN</td>\n",
       "      <td>NaN</td>\n",
       "      <td>NaN</td>\n",
       "      <td>NaN</td>\n",
       "    </tr>\n",
       "  </tbody>\n",
       "</table>\n",
       "</div>"
      ],
      "text/plain": [
       "    county  totalcountconfirmed  totalcountdeaths  newcountconfirmed  \\\n",
       "0  Alameda                 29.0               0.0                 29   \n",
       "1  Alameda                 36.0               0.0                  7   \n",
       "2  Alameda                 42.0               0.0                  6   \n",
       "3  Alameda                 62.0               0.0                 20   \n",
       "4  Alameda                 72.0               1.0                 10   \n",
       "\n",
       "   newcountdeaths        date  NEVER  RARELY  SOMETIMES  FREQUENTLY  ALWAYS  \\\n",
       "0               0  2020-03-18  0.019   0.008      0.055       0.123   0.795   \n",
       "1               0  2020-03-19  0.019   0.008      0.055       0.123   0.795   \n",
       "2               0  2020-03-20  0.019   0.008      0.055       0.123   0.795   \n",
       "3               0  2020-03-21  0.019   0.008      0.055       0.123   0.795   \n",
       "4               1  2020-03-22  0.019   0.008      0.055       0.123   0.795   \n",
       "\n",
       "   population  confirmedper100k  newlyconfirmedper100k  deathper100k  \\\n",
       "0     1671329          1.735146               1.735146      0.000000   \n",
       "1     1671329          2.153974               0.418828      0.000000   \n",
       "2     1671329          2.512970               0.358996      0.000000   \n",
       "3     1671329          3.709623               1.196652      0.000000   \n",
       "4     1671329          4.307949               0.598326      0.059833   \n",
       "\n",
       "   newdeath100k  7dayrollingavg_newlyconfirmed  7dayrollingavg_newdeath  \\\n",
       "0      0.000000                            NaN                      NaN   \n",
       "1      0.000000                            NaN                      NaN   \n",
       "2      0.000000                            NaN                      NaN   \n",
       "3      0.000000                            NaN                      NaN   \n",
       "4      0.059833                            NaN                      NaN   \n",
       "\n",
       "   7dayrollingavg_newlyconfirmed_rawnumber  7dayrollingavg_newdeath_rawnumber  \n",
       "0                                      NaN                                NaN  \n",
       "1                                      NaN                                NaN  \n",
       "2                                      NaN                                NaN  \n",
       "3                                      NaN                                NaN  \n",
       "4                                      NaN                                NaN  "
      ]
     },
     "execution_count": 2,
     "metadata": {},
     "output_type": "execute_result"
    }
   ],
   "source": [
    "# import datasets\n",
    "cases_df = pd.read_csv('../clean_data/Cases_Normalized_per_100k.csv')\n",
    "cases_df.head()"
   ]
  },
  {
   "cell_type": "code",
   "execution_count": 3,
   "metadata": {},
   "outputs": [
    {
     "data": {
      "text/html": [
       "<div>\n",
       "<style scoped>\n",
       "    .dataframe tbody tr th:only-of-type {\n",
       "        vertical-align: middle;\n",
       "    }\n",
       "\n",
       "    .dataframe tbody tr th {\n",
       "        vertical-align: top;\n",
       "    }\n",
       "\n",
       "    .dataframe thead th {\n",
       "        text-align: right;\n",
       "    }\n",
       "</style>\n",
       "<table border=\"1\" class=\"dataframe\">\n",
       "  <thead>\n",
       "    <tr style=\"text-align: right;\">\n",
       "      <th></th>\n",
       "      <th>totalcountconfirmed</th>\n",
       "      <th>totalcountdeaths</th>\n",
       "      <th>newcountconfirmed</th>\n",
       "      <th>newcountdeaths</th>\n",
       "      <th>NEVER</th>\n",
       "      <th>RARELY</th>\n",
       "      <th>SOMETIMES</th>\n",
       "      <th>FREQUENTLY</th>\n",
       "      <th>ALWAYS</th>\n",
       "      <th>population</th>\n",
       "      <th>confirmedper100k</th>\n",
       "      <th>newlyconfirmedper100k</th>\n",
       "      <th>deathper100k</th>\n",
       "      <th>newdeath100k</th>\n",
       "      <th>7dayrollingavg_newlyconfirmed</th>\n",
       "      <th>7dayrollingavg_newdeath</th>\n",
       "      <th>7dayrollingavg_newlyconfirmed_rawnumber</th>\n",
       "      <th>7dayrollingavg_newdeath_rawnumber</th>\n",
       "    </tr>\n",
       "  </thead>\n",
       "  <tbody>\n",
       "    <tr>\n",
       "      <th>count</th>\n",
       "      <td>1.812400e+04</td>\n",
       "      <td>18124.000000</td>\n",
       "      <td>18124.000000</td>\n",
       "      <td>18124.000000</td>\n",
       "      <td>18124.000000</td>\n",
       "      <td>18124.000000</td>\n",
       "      <td>18124.000000</td>\n",
       "      <td>18124.000000</td>\n",
       "      <td>18124.000000</td>\n",
       "      <td>1.812400e+04</td>\n",
       "      <td>18124.000000</td>\n",
       "      <td>18124.000000</td>\n",
       "      <td>18124.000000</td>\n",
       "      <td>18124.000000</td>\n",
       "      <td>17776.000000</td>\n",
       "      <td>1.777600e+04</td>\n",
       "      <td>17776.000000</td>\n",
       "      <td>17776.000000</td>\n",
       "    </tr>\n",
       "    <tr>\n",
       "      <th>mean</th>\n",
       "      <td>1.327444e+04</td>\n",
       "      <td>210.774443</td>\n",
       "      <td>173.013187</td>\n",
       "      <td>2.048003</td>\n",
       "      <td>0.032279</td>\n",
       "      <td>0.030699</td>\n",
       "      <td>0.063650</td>\n",
       "      <td>0.158545</td>\n",
       "      <td>0.714792</td>\n",
       "      <td>6.823606e+05</td>\n",
       "      <td>1542.530785</td>\n",
       "      <td>20.284986</td>\n",
       "      <td>19.606417</td>\n",
       "      <td>0.210988</td>\n",
       "      <td>20.232502</td>\n",
       "      <td>2.081917e-01</td>\n",
       "      <td>172.290086</td>\n",
       "      <td>2.001583</td>\n",
       "    </tr>\n",
       "    <tr>\n",
       "      <th>std</th>\n",
       "      <td>5.201773e+04</td>\n",
       "      <td>852.430551</td>\n",
       "      <td>814.985729</td>\n",
       "      <td>11.017366</td>\n",
       "      <td>0.028533</td>\n",
       "      <td>0.026178</td>\n",
       "      <td>0.033898</td>\n",
       "      <td>0.040410</td>\n",
       "      <td>0.092762</td>\n",
       "      <td>1.456208e+06</td>\n",
       "      <td>2084.332897</td>\n",
       "      <td>43.944282</td>\n",
       "      <td>28.624650</td>\n",
       "      <td>0.831238</td>\n",
       "      <td>31.417552</td>\n",
       "      <td>4.040341e-01</td>\n",
       "      <td>775.800926</td>\n",
       "      <td>9.438015</td>\n",
       "    </tr>\n",
       "    <tr>\n",
       "      <th>min</th>\n",
       "      <td>0.000000e+00</td>\n",
       "      <td>0.000000</td>\n",
       "      <td>-1157.000000</td>\n",
       "      <td>-16.000000</td>\n",
       "      <td>0.001000</td>\n",
       "      <td>0.000000</td>\n",
       "      <td>0.004000</td>\n",
       "      <td>0.058000</td>\n",
       "      <td>0.482000</td>\n",
       "      <td>1.129000e+03</td>\n",
       "      <td>0.000000</td>\n",
       "      <td>-74.546183</td>\n",
       "      <td>0.000000</td>\n",
       "      <td>-5.543545</td>\n",
       "      <td>-6.977150</td>\n",
       "      <td>-7.919349e-01</td>\n",
       "      <td>-1.142857</td>\n",
       "      <td>-1.428571</td>\n",
       "    </tr>\n",
       "    <tr>\n",
       "      <th>25%</th>\n",
       "      <td>9.400000e+01</td>\n",
       "      <td>1.000000</td>\n",
       "      <td>1.000000</td>\n",
       "      <td>0.000000</td>\n",
       "      <td>0.015000</td>\n",
       "      <td>0.013000</td>\n",
       "      <td>0.040000</td>\n",
       "      <td>0.134000</td>\n",
       "      <td>0.661000</td>\n",
       "      <td>4.590500e+04</td>\n",
       "      <td>99.646385</td>\n",
       "      <td>0.606875</td>\n",
       "      <td>1.002456</td>\n",
       "      <td>0.000000</td>\n",
       "      <td>2.049615</td>\n",
       "      <td>1.522592e-15</td>\n",
       "      <td>2.000000</td>\n",
       "      <td>0.000000</td>\n",
       "    </tr>\n",
       "    <tr>\n",
       "      <th>50%</th>\n",
       "      <td>1.044000e+03</td>\n",
       "      <td>15.000000</td>\n",
       "      <td>14.000000</td>\n",
       "      <td>0.000000</td>\n",
       "      <td>0.023000</td>\n",
       "      <td>0.023000</td>\n",
       "      <td>0.058000</td>\n",
       "      <td>0.156000</td>\n",
       "      <td>0.737000</td>\n",
       "      <td>1.928430e+05</td>\n",
       "      <td>711.532789</td>\n",
       "      <td>6.700781</td>\n",
       "      <td>8.138623</td>\n",
       "      <td>0.000000</td>\n",
       "      <td>8.310360</td>\n",
       "      <td>5.983262e-02</td>\n",
       "      <td>18.285714</td>\n",
       "      <td>0.142857</td>\n",
       "    </tr>\n",
       "    <tr>\n",
       "      <th>75%</th>\n",
       "      <td>8.147250e+03</td>\n",
       "      <td>114.000000</td>\n",
       "      <td>85.000000</td>\n",
       "      <td>0.000000</td>\n",
       "      <td>0.043000</td>\n",
       "      <td>0.043000</td>\n",
       "      <td>0.084000</td>\n",
       "      <td>0.186000</td>\n",
       "      <td>0.786000</td>\n",
       "      <td>7.621480e+05</td>\n",
       "      <td>2248.121154</td>\n",
       "      <td>22.165620</td>\n",
       "      <td>27.829294</td>\n",
       "      <td>0.000000</td>\n",
       "      <td>24.251025</td>\n",
       "      <td>2.301092e-01</td>\n",
       "      <td>89.464286</td>\n",
       "      <td>1.000000</td>\n",
       "    </tr>\n",
       "    <tr>\n",
       "      <th>max</th>\n",
       "      <td>1.048757e+06</td>\n",
       "      <td>15260.000000</td>\n",
       "      <td>28549.000000</td>\n",
       "      <td>318.000000</td>\n",
       "      <td>0.140000</td>\n",
       "      <td>0.135000</td>\n",
       "      <td>0.162000</td>\n",
       "      <td>0.276000</td>\n",
       "      <td>0.889000</td>\n",
       "      <td>1.003911e+07</td>\n",
       "      <td>15791.711641</td>\n",
       "      <td>1860.053144</td>\n",
       "      <td>272.052534</td>\n",
       "      <td>27.717723</td>\n",
       "      <td>566.793296</td>\n",
       "      <td>6.335479e+00</td>\n",
       "      <td>15711.142857</td>\n",
       "      <td>241.285714</td>\n",
       "    </tr>\n",
       "  </tbody>\n",
       "</table>\n",
       "</div>"
      ],
      "text/plain": [
       "       totalcountconfirmed  totalcountdeaths  newcountconfirmed  \\\n",
       "count         1.812400e+04      18124.000000       18124.000000   \n",
       "mean          1.327444e+04        210.774443         173.013187   \n",
       "std           5.201773e+04        852.430551         814.985729   \n",
       "min           0.000000e+00          0.000000       -1157.000000   \n",
       "25%           9.400000e+01          1.000000           1.000000   \n",
       "50%           1.044000e+03         15.000000          14.000000   \n",
       "75%           8.147250e+03        114.000000          85.000000   \n",
       "max           1.048757e+06      15260.000000       28549.000000   \n",
       "\n",
       "       newcountdeaths         NEVER        RARELY     SOMETIMES    FREQUENTLY  \\\n",
       "count    18124.000000  18124.000000  18124.000000  18124.000000  18124.000000   \n",
       "mean         2.048003      0.032279      0.030699      0.063650      0.158545   \n",
       "std         11.017366      0.028533      0.026178      0.033898      0.040410   \n",
       "min        -16.000000      0.001000      0.000000      0.004000      0.058000   \n",
       "25%          0.000000      0.015000      0.013000      0.040000      0.134000   \n",
       "50%          0.000000      0.023000      0.023000      0.058000      0.156000   \n",
       "75%          0.000000      0.043000      0.043000      0.084000      0.186000   \n",
       "max        318.000000      0.140000      0.135000      0.162000      0.276000   \n",
       "\n",
       "             ALWAYS    population  confirmedper100k  newlyconfirmedper100k  \\\n",
       "count  18124.000000  1.812400e+04      18124.000000           18124.000000   \n",
       "mean       0.714792  6.823606e+05       1542.530785              20.284986   \n",
       "std        0.092762  1.456208e+06       2084.332897              43.944282   \n",
       "min        0.482000  1.129000e+03          0.000000             -74.546183   \n",
       "25%        0.661000  4.590500e+04         99.646385               0.606875   \n",
       "50%        0.737000  1.928430e+05        711.532789               6.700781   \n",
       "75%        0.786000  7.621480e+05       2248.121154              22.165620   \n",
       "max        0.889000  1.003911e+07      15791.711641            1860.053144   \n",
       "\n",
       "       deathper100k  newdeath100k  7dayrollingavg_newlyconfirmed  \\\n",
       "count  18124.000000  18124.000000                   17776.000000   \n",
       "mean      19.606417      0.210988                      20.232502   \n",
       "std       28.624650      0.831238                      31.417552   \n",
       "min        0.000000     -5.543545                      -6.977150   \n",
       "25%        1.002456      0.000000                       2.049615   \n",
       "50%        8.138623      0.000000                       8.310360   \n",
       "75%       27.829294      0.000000                      24.251025   \n",
       "max      272.052534     27.717723                     566.793296   \n",
       "\n",
       "       7dayrollingavg_newdeath  7dayrollingavg_newlyconfirmed_rawnumber  \\\n",
       "count             1.777600e+04                             17776.000000   \n",
       "mean              2.081917e-01                               172.290086   \n",
       "std               4.040341e-01                               775.800926   \n",
       "min              -7.919349e-01                                -1.142857   \n",
       "25%               1.522592e-15                                 2.000000   \n",
       "50%               5.983262e-02                                18.285714   \n",
       "75%               2.301092e-01                                89.464286   \n",
       "max               6.335479e+00                             15711.142857   \n",
       "\n",
       "       7dayrollingavg_newdeath_rawnumber  \n",
       "count                       17776.000000  \n",
       "mean                            2.001583  \n",
       "std                             9.438015  \n",
       "min                            -1.428571  \n",
       "25%                             0.000000  \n",
       "50%                             0.142857  \n",
       "75%                             1.000000  \n",
       "max                           241.285714  "
      ]
     },
     "execution_count": 3,
     "metadata": {},
     "output_type": "execute_result"
    }
   ],
   "source": [
    "cases_df.describe()"
   ]
  },
  {
   "cell_type": "code",
   "execution_count": 4,
   "metadata": {},
   "outputs": [],
   "source": [
    "# convert date to datetime\n",
    "cases_df['date'] = pd.to_datetime(cases_df['date'])"
   ]
  },
  {
   "cell_type": "code",
   "execution_count": 5,
   "metadata": {},
   "outputs": [
    {
     "data": {
      "text/html": [
       "<div>\n",
       "<style scoped>\n",
       "    .dataframe tbody tr th:only-of-type {\n",
       "        vertical-align: middle;\n",
       "    }\n",
       "\n",
       "    .dataframe tbody tr th {\n",
       "        vertical-align: top;\n",
       "    }\n",
       "\n",
       "    .dataframe thead th {\n",
       "        text-align: right;\n",
       "    }\n",
       "</style>\n",
       "<table border=\"1\" class=\"dataframe\">\n",
       "  <thead>\n",
       "    <tr style=\"text-align: right;\">\n",
       "      <th></th>\n",
       "      <th>county</th>\n",
       "      <th>date</th>\n",
       "      <th>7dayrollingavg_newlyconfirmed</th>\n",
       "      <th>7dayrollingavg_newdeath</th>\n",
       "    </tr>\n",
       "  </thead>\n",
       "  <tbody>\n",
       "    <tr>\n",
       "      <th>0</th>\n",
       "      <td>Alameda</td>\n",
       "      <td>2020-03-18</td>\n",
       "      <td>NaN</td>\n",
       "      <td>NaN</td>\n",
       "    </tr>\n",
       "    <tr>\n",
       "      <th>1</th>\n",
       "      <td>Alameda</td>\n",
       "      <td>2020-03-19</td>\n",
       "      <td>NaN</td>\n",
       "      <td>NaN</td>\n",
       "    </tr>\n",
       "    <tr>\n",
       "      <th>2</th>\n",
       "      <td>Alameda</td>\n",
       "      <td>2020-03-20</td>\n",
       "      <td>NaN</td>\n",
       "      <td>NaN</td>\n",
       "    </tr>\n",
       "    <tr>\n",
       "      <th>3</th>\n",
       "      <td>Alameda</td>\n",
       "      <td>2020-03-21</td>\n",
       "      <td>NaN</td>\n",
       "      <td>NaN</td>\n",
       "    </tr>\n",
       "    <tr>\n",
       "      <th>4</th>\n",
       "      <td>Alameda</td>\n",
       "      <td>2020-03-22</td>\n",
       "      <td>NaN</td>\n",
       "      <td>NaN</td>\n",
       "    </tr>\n",
       "  </tbody>\n",
       "</table>\n",
       "</div>"
      ],
      "text/plain": [
       "    county       date  7dayrollingavg_newlyconfirmed  7dayrollingavg_newdeath\n",
       "0  Alameda 2020-03-18                            NaN                      NaN\n",
       "1  Alameda 2020-03-19                            NaN                      NaN\n",
       "2  Alameda 2020-03-20                            NaN                      NaN\n",
       "3  Alameda 2020-03-21                            NaN                      NaN\n",
       "4  Alameda 2020-03-22                            NaN                      NaN"
      ]
     },
     "execution_count": 5,
     "metadata": {},
     "output_type": "execute_result"
    }
   ],
   "source": [
    "# drop no longer needed columns\n",
    "cases_df.drop(['totalcountconfirmed', 'totalcountdeaths', 'newcountconfirmed',\n",
    "              'newcountdeaths', 'NEVER', 'RARELY', 'SOMETIMES', 'FREQUENTLY', \n",
    "              'ALWAYS', 'deathper100k', 'newdeath100k', 'confirmedper100k', 'population',\n",
    "               'newlyconfirmedper100k' ,'7dayrollingavg_newlyconfirmed_rawnumber', '7dayrollingavg_newdeath_rawnumber'], \n",
    "             axis = 1, inplace = True)\n",
    "cases_df.head()"
   ]
  },
  {
   "cell_type": "code",
   "execution_count": 6,
   "metadata": {},
   "outputs": [
    {
     "data": {
      "text/html": [
       "<div>\n",
       "<style scoped>\n",
       "    .dataframe tbody tr th:only-of-type {\n",
       "        vertical-align: middle;\n",
       "    }\n",
       "\n",
       "    .dataframe tbody tr th {\n",
       "        vertical-align: top;\n",
       "    }\n",
       "\n",
       "    .dataframe thead th {\n",
       "        text-align: right;\n",
       "    }\n",
       "</style>\n",
       "<table border=\"1\" class=\"dataframe\">\n",
       "  <thead>\n",
       "    <tr style=\"text-align: right;\">\n",
       "      <th></th>\n",
       "      <th>county</th>\n",
       "      <th>todays_date</th>\n",
       "      <th>hospitalized_covid_confirmed_patients</th>\n",
       "      <th>hospitalized_suspected_covid_patients</th>\n",
       "      <th>hospitalized_covid_patients</th>\n",
       "      <th>all_hospital_beds</th>\n",
       "      <th>icu_covid_confirmed_patients</th>\n",
       "      <th>icu_suspected_covid_patients</th>\n",
       "      <th>icu_available_beds</th>\n",
       "    </tr>\n",
       "  </thead>\n",
       "  <tbody>\n",
       "    <tr>\n",
       "      <th>0</th>\n",
       "      <td>Plumas</td>\n",
       "      <td>2020-03-29</td>\n",
       "      <td>0.0</td>\n",
       "      <td>1.0</td>\n",
       "      <td>1.0</td>\n",
       "      <td>NaN</td>\n",
       "      <td>0.0</td>\n",
       "      <td>1.0</td>\n",
       "      <td>NaN</td>\n",
       "    </tr>\n",
       "    <tr>\n",
       "      <th>1</th>\n",
       "      <td>Tehama</td>\n",
       "      <td>2020-03-29</td>\n",
       "      <td>0.0</td>\n",
       "      <td>0.0</td>\n",
       "      <td>0.0</td>\n",
       "      <td>308.0</td>\n",
       "      <td>0.0</td>\n",
       "      <td>0.0</td>\n",
       "      <td>2.0</td>\n",
       "    </tr>\n",
       "    <tr>\n",
       "      <th>2</th>\n",
       "      <td>Glenn</td>\n",
       "      <td>2020-03-29</td>\n",
       "      <td>0.0</td>\n",
       "      <td>0.0</td>\n",
       "      <td>0.0</td>\n",
       "      <td>NaN</td>\n",
       "      <td>NaN</td>\n",
       "      <td>NaN</td>\n",
       "      <td>NaN</td>\n",
       "    </tr>\n",
       "    <tr>\n",
       "      <th>3</th>\n",
       "      <td>Mono</td>\n",
       "      <td>2020-03-29</td>\n",
       "      <td>0.0</td>\n",
       "      <td>1.0</td>\n",
       "      <td>1.0</td>\n",
       "      <td>308.0</td>\n",
       "      <td>0.0</td>\n",
       "      <td>0.0</td>\n",
       "      <td>2.0</td>\n",
       "    </tr>\n",
       "    <tr>\n",
       "      <th>4</th>\n",
       "      <td>Marin</td>\n",
       "      <td>2020-03-29</td>\n",
       "      <td>7.0</td>\n",
       "      <td>13.0</td>\n",
       "      <td>20.0</td>\n",
       "      <td>493.0</td>\n",
       "      <td>2.0</td>\n",
       "      <td>6.0</td>\n",
       "      <td>11.0</td>\n",
       "    </tr>\n",
       "  </tbody>\n",
       "</table>\n",
       "</div>"
      ],
      "text/plain": [
       "   county todays_date  hospitalized_covid_confirmed_patients  \\\n",
       "0  Plumas  2020-03-29                                    0.0   \n",
       "1  Tehama  2020-03-29                                    0.0   \n",
       "2   Glenn  2020-03-29                                    0.0   \n",
       "3    Mono  2020-03-29                                    0.0   \n",
       "4   Marin  2020-03-29                                    7.0   \n",
       "\n",
       "   hospitalized_suspected_covid_patients  hospitalized_covid_patients  \\\n",
       "0                                    1.0                          1.0   \n",
       "1                                    0.0                          0.0   \n",
       "2                                    0.0                          0.0   \n",
       "3                                    1.0                          1.0   \n",
       "4                                   13.0                         20.0   \n",
       "\n",
       "   all_hospital_beds  icu_covid_confirmed_patients  \\\n",
       "0                NaN                           0.0   \n",
       "1              308.0                           0.0   \n",
       "2                NaN                           NaN   \n",
       "3              308.0                           0.0   \n",
       "4              493.0                           2.0   \n",
       "\n",
       "   icu_suspected_covid_patients  icu_available_beds  \n",
       "0                           1.0                 NaN  \n",
       "1                           0.0                 2.0  \n",
       "2                           NaN                 NaN  \n",
       "3                           0.0                 2.0  \n",
       "4                           6.0                11.0  "
      ]
     },
     "execution_count": 6,
     "metadata": {},
     "output_type": "execute_result"
    }
   ],
   "source": [
    "# bring in hospital data\n",
    "hospitals_df = pd.read_csv('../clean_data/hospitals_by_county.csv')\n",
    "hospitals_df.head()"
   ]
  },
  {
   "cell_type": "code",
   "execution_count": 7,
   "metadata": {},
   "outputs": [],
   "source": [
    "# convert to datetime\n",
    "hospitals_df['todays_date'] = pd.to_datetime(hospitals_df['todays_date'])"
   ]
  },
  {
   "cell_type": "code",
   "execution_count": 8,
   "metadata": {},
   "outputs": [
    {
     "data": {
      "text/html": [
       "<div>\n",
       "<style scoped>\n",
       "    .dataframe tbody tr th:only-of-type {\n",
       "        vertical-align: middle;\n",
       "    }\n",
       "\n",
       "    .dataframe tbody tr th {\n",
       "        vertical-align: top;\n",
       "    }\n",
       "\n",
       "    .dataframe thead th {\n",
       "        text-align: right;\n",
       "    }\n",
       "</style>\n",
       "<table border=\"1\" class=\"dataframe\">\n",
       "  <thead>\n",
       "    <tr style=\"text-align: right;\">\n",
       "      <th></th>\n",
       "      <th>county</th>\n",
       "      <th>todays_date</th>\n",
       "      <th>hospitalized_covid_patients</th>\n",
       "      <th>all_hospital_beds</th>\n",
       "      <th>icu_available_beds</th>\n",
       "    </tr>\n",
       "  </thead>\n",
       "  <tbody>\n",
       "    <tr>\n",
       "      <th>0</th>\n",
       "      <td>Plumas</td>\n",
       "      <td>2020-03-29</td>\n",
       "      <td>1.0</td>\n",
       "      <td>NaN</td>\n",
       "      <td>NaN</td>\n",
       "    </tr>\n",
       "    <tr>\n",
       "      <th>1</th>\n",
       "      <td>Tehama</td>\n",
       "      <td>2020-03-29</td>\n",
       "      <td>0.0</td>\n",
       "      <td>308.0</td>\n",
       "      <td>2.0</td>\n",
       "    </tr>\n",
       "    <tr>\n",
       "      <th>2</th>\n",
       "      <td>Glenn</td>\n",
       "      <td>2020-03-29</td>\n",
       "      <td>0.0</td>\n",
       "      <td>NaN</td>\n",
       "      <td>NaN</td>\n",
       "    </tr>\n",
       "    <tr>\n",
       "      <th>3</th>\n",
       "      <td>Mono</td>\n",
       "      <td>2020-03-29</td>\n",
       "      <td>1.0</td>\n",
       "      <td>308.0</td>\n",
       "      <td>2.0</td>\n",
       "    </tr>\n",
       "    <tr>\n",
       "      <th>4</th>\n",
       "      <td>Marin</td>\n",
       "      <td>2020-03-29</td>\n",
       "      <td>20.0</td>\n",
       "      <td>493.0</td>\n",
       "      <td>11.0</td>\n",
       "    </tr>\n",
       "  </tbody>\n",
       "</table>\n",
       "</div>"
      ],
      "text/plain": [
       "   county todays_date  hospitalized_covid_patients  all_hospital_beds  \\\n",
       "0  Plumas  2020-03-29                          1.0                NaN   \n",
       "1  Tehama  2020-03-29                          0.0              308.0   \n",
       "2   Glenn  2020-03-29                          0.0                NaN   \n",
       "3    Mono  2020-03-29                          1.0              308.0   \n",
       "4   Marin  2020-03-29                         20.0              493.0   \n",
       "\n",
       "   icu_available_beds  \n",
       "0                 NaN  \n",
       "1                 2.0  \n",
       "2                 NaN  \n",
       "3                 2.0  \n",
       "4                11.0  "
      ]
     },
     "execution_count": 8,
     "metadata": {},
     "output_type": "execute_result"
    }
   ],
   "source": [
    "# drop unncessary columns\n",
    "hospitals_df.drop(['hospitalized_covid_confirmed_patients', 'hospitalized_suspected_covid_patients', \n",
    "                   'icu_covid_confirmed_patients', 'icu_suspected_covid_patients'],\n",
    "                 axis = 1, inplace = True)\n",
    "hospitals_df.head()"
   ]
  },
  {
   "cell_type": "code",
   "execution_count": 9,
   "metadata": {},
   "outputs": [
    {
     "data": {
      "text/html": [
       "<div>\n",
       "<style scoped>\n",
       "    .dataframe tbody tr th:only-of-type {\n",
       "        vertical-align: middle;\n",
       "    }\n",
       "\n",
       "    .dataframe tbody tr th {\n",
       "        vertical-align: top;\n",
       "    }\n",
       "\n",
       "    .dataframe thead th {\n",
       "        text-align: right;\n",
       "    }\n",
       "</style>\n",
       "<table border=\"1\" class=\"dataframe\">\n",
       "  <thead>\n",
       "    <tr style=\"text-align: right;\">\n",
       "      <th></th>\n",
       "      <th>county</th>\n",
       "      <th>date</th>\n",
       "      <th>7dayrollingavg_newlyconfirmed</th>\n",
       "      <th>7dayrollingavg_newdeath</th>\n",
       "      <th>todays_date</th>\n",
       "      <th>hospitalized_covid_patients</th>\n",
       "      <th>all_hospital_beds</th>\n",
       "      <th>icu_available_beds</th>\n",
       "    </tr>\n",
       "  </thead>\n",
       "  <tbody>\n",
       "    <tr>\n",
       "      <th>0</th>\n",
       "      <td>Alameda</td>\n",
       "      <td>2020-03-29</td>\n",
       "      <td>1.153915</td>\n",
       "      <td>0.042738</td>\n",
       "      <td>2020-03-29</td>\n",
       "      <td>127.0</td>\n",
       "      <td>2725.0</td>\n",
       "      <td>119.0</td>\n",
       "    </tr>\n",
       "    <tr>\n",
       "      <th>1</th>\n",
       "      <td>Alameda</td>\n",
       "      <td>2020-03-30</td>\n",
       "      <td>1.384698</td>\n",
       "      <td>0.051285</td>\n",
       "      <td>2020-03-30</td>\n",
       "      <td>148.0</td>\n",
       "      <td>3283.0</td>\n",
       "      <td>146.0</td>\n",
       "    </tr>\n",
       "    <tr>\n",
       "      <th>2</th>\n",
       "      <td>Alameda</td>\n",
       "      <td>2020-03-31</td>\n",
       "      <td>1.478721</td>\n",
       "      <td>0.042738</td>\n",
       "      <td>2020-03-31</td>\n",
       "      <td>150.0</td>\n",
       "      <td>1857.0</td>\n",
       "      <td>77.0</td>\n",
       "    </tr>\n",
       "    <tr>\n",
       "      <th>3</th>\n",
       "      <td>Alameda</td>\n",
       "      <td>2020-04-01</td>\n",
       "      <td>1.307770</td>\n",
       "      <td>0.042738</td>\n",
       "      <td>2020-04-01</td>\n",
       "      <td>128.0</td>\n",
       "      <td>2456.0</td>\n",
       "      <td>106.0</td>\n",
       "    </tr>\n",
       "    <tr>\n",
       "      <th>4</th>\n",
       "      <td>Alameda</td>\n",
       "      <td>2020-04-02</td>\n",
       "      <td>1.478721</td>\n",
       "      <td>0.051285</td>\n",
       "      <td>2020-04-02</td>\n",
       "      <td>133.0</td>\n",
       "      <td>2580.0</td>\n",
       "      <td>112.0</td>\n",
       "    </tr>\n",
       "  </tbody>\n",
       "</table>\n",
       "</div>"
      ],
      "text/plain": [
       "    county       date  7dayrollingavg_newlyconfirmed  7dayrollingavg_newdeath  \\\n",
       "0  Alameda 2020-03-29                       1.153915                 0.042738   \n",
       "1  Alameda 2020-03-30                       1.384698                 0.051285   \n",
       "2  Alameda 2020-03-31                       1.478721                 0.042738   \n",
       "3  Alameda 2020-04-01                       1.307770                 0.042738   \n",
       "4  Alameda 2020-04-02                       1.478721                 0.051285   \n",
       "\n",
       "  todays_date  hospitalized_covid_patients  all_hospital_beds  \\\n",
       "0  2020-03-29                        127.0             2725.0   \n",
       "1  2020-03-30                        148.0             3283.0   \n",
       "2  2020-03-31                        150.0             1857.0   \n",
       "3  2020-04-01                        128.0             2456.0   \n",
       "4  2020-04-02                        133.0             2580.0   \n",
       "\n",
       "   icu_available_beds  \n",
       "0               119.0  \n",
       "1               146.0  \n",
       "2                77.0  \n",
       "3               106.0  \n",
       "4               112.0  "
      ]
     },
     "execution_count": 9,
     "metadata": {},
     "output_type": "execute_result"
    }
   ],
   "source": [
    "cases_hosp_df = cases_df.merge(hospitals_df, how = 'inner', left_on = ['county','date'], right_on = ['county', 'todays_date'])\n",
    "cases_hosp_df.head()"
   ]
  },
  {
   "cell_type": "code",
   "execution_count": 10,
   "metadata": {},
   "outputs": [],
   "source": [
    "# do a group by so we can create predictions per county\n",
    "county_df = cases_hosp_df.groupby(['county', 'date']).mean()"
   ]
  },
  {
   "cell_type": "code",
   "execution_count": 11,
   "metadata": {},
   "outputs": [
    {
     "data": {
      "text/plain": [
       "'Alameda'"
      ]
     },
     "execution_count": 11,
     "metadata": {},
     "output_type": "execute_result"
    }
   ],
   "source": [
    "county_df.index.get_level_values('county').unique()[0]"
   ]
  },
  {
   "cell_type": "code",
   "execution_count": 12,
   "metadata": {},
   "outputs": [
    {
     "data": {
      "text/html": [
       "<div>\n",
       "<style scoped>\n",
       "    .dataframe tbody tr th:only-of-type {\n",
       "        vertical-align: middle;\n",
       "    }\n",
       "\n",
       "    .dataframe tbody tr th {\n",
       "        vertical-align: top;\n",
       "    }\n",
       "\n",
       "    .dataframe thead th {\n",
       "        text-align: right;\n",
       "    }\n",
       "</style>\n",
       "<table border=\"1\" class=\"dataframe\">\n",
       "  <thead>\n",
       "    <tr style=\"text-align: right;\">\n",
       "      <th></th>\n",
       "      <th>7dayrollingavg_newlyconfirmed</th>\n",
       "      <th>7dayrollingavg_newdeath</th>\n",
       "      <th>hospitalized_covid_patients</th>\n",
       "      <th>all_hospital_beds</th>\n",
       "      <th>icu_available_beds</th>\n",
       "    </tr>\n",
       "    <tr>\n",
       "      <th>date</th>\n",
       "      <th></th>\n",
       "      <th></th>\n",
       "      <th></th>\n",
       "      <th></th>\n",
       "      <th></th>\n",
       "    </tr>\n",
       "  </thead>\n",
       "  <tbody>\n",
       "    <tr>\n",
       "      <th>2020-03-29</th>\n",
       "      <td>2.468916</td>\n",
       "      <td>0.048382</td>\n",
       "      <td>1621.0</td>\n",
       "      <td>7394.0</td>\n",
       "      <td>345.0</td>\n",
       "    </tr>\n",
       "    <tr>\n",
       "      <th>2020-03-30</th>\n",
       "      <td>2.957007</td>\n",
       "      <td>0.056920</td>\n",
       "      <td>1878.0</td>\n",
       "      <td>9688.0</td>\n",
       "      <td>456.0</td>\n",
       "    </tr>\n",
       "    <tr>\n",
       "      <th>2020-03-31</th>\n",
       "      <td>3.369679</td>\n",
       "      <td>0.059766</td>\n",
       "      <td>1952.0</td>\n",
       "      <td>9460.0</td>\n",
       "      <td>445.0</td>\n",
       "    </tr>\n",
       "    <tr>\n",
       "      <th>2020-04-01</th>\n",
       "      <td>3.951689</td>\n",
       "      <td>0.079688</td>\n",
       "      <td>2071.0</td>\n",
       "      <td>10431.0</td>\n",
       "      <td>492.0</td>\n",
       "    </tr>\n",
       "    <tr>\n",
       "      <th>2020-04-02</th>\n",
       "      <td>4.219214</td>\n",
       "      <td>0.086803</td>\n",
       "      <td>2088.0</td>\n",
       "      <td>10349.0</td>\n",
       "      <td>488.0</td>\n",
       "    </tr>\n",
       "    <tr>\n",
       "      <th>...</th>\n",
       "      <td>...</td>\n",
       "      <td>...</td>\n",
       "      <td>...</td>\n",
       "      <td>...</td>\n",
       "      <td>...</td>\n",
       "    </tr>\n",
       "    <tr>\n",
       "      <th>2021-01-20</th>\n",
       "      <td>110.458032</td>\n",
       "      <td>2.033476</td>\n",
       "      <td>7413.0</td>\n",
       "      <td>19392.0</td>\n",
       "      <td>236.0</td>\n",
       "    </tr>\n",
       "    <tr>\n",
       "      <th>2021-01-21</th>\n",
       "      <td>97.337912</td>\n",
       "      <td>2.002170</td>\n",
       "      <td>7226.0</td>\n",
       "      <td>19411.0</td>\n",
       "      <td>274.0</td>\n",
       "    </tr>\n",
       "    <tr>\n",
       "      <th>2021-01-22</th>\n",
       "      <td>88.508157</td>\n",
       "      <td>1.999324</td>\n",
       "      <td>7014.0</td>\n",
       "      <td>19377.0</td>\n",
       "      <td>281.0</td>\n",
       "    </tr>\n",
       "    <tr>\n",
       "      <th>2021-01-23</th>\n",
       "      <td>82.928548</td>\n",
       "      <td>2.022092</td>\n",
       "      <td>6793.0</td>\n",
       "      <td>19334.0</td>\n",
       "      <td>299.0</td>\n",
       "    </tr>\n",
       "    <tr>\n",
       "      <th>2021-01-24</th>\n",
       "      <td>79.302728</td>\n",
       "      <td>2.009285</td>\n",
       "      <td>6606.0</td>\n",
       "      <td>19292.0</td>\n",
       "      <td>295.0</td>\n",
       "    </tr>\n",
       "  </tbody>\n",
       "</table>\n",
       "<p>302 rows × 5 columns</p>\n",
       "</div>"
      ],
      "text/plain": [
       "            7dayrollingavg_newlyconfirmed  7dayrollingavg_newdeath  \\\n",
       "date                                                                 \n",
       "2020-03-29                       2.468916                 0.048382   \n",
       "2020-03-30                       2.957007                 0.056920   \n",
       "2020-03-31                       3.369679                 0.059766   \n",
       "2020-04-01                       3.951689                 0.079688   \n",
       "2020-04-02                       4.219214                 0.086803   \n",
       "...                                   ...                      ...   \n",
       "2021-01-20                     110.458032                 2.033476   \n",
       "2021-01-21                      97.337912                 2.002170   \n",
       "2021-01-22                      88.508157                 1.999324   \n",
       "2021-01-23                      82.928548                 2.022092   \n",
       "2021-01-24                      79.302728                 2.009285   \n",
       "\n",
       "            hospitalized_covid_patients  all_hospital_beds  icu_available_beds  \n",
       "date                                                                            \n",
       "2020-03-29                       1621.0             7394.0               345.0  \n",
       "2020-03-30                       1878.0             9688.0               456.0  \n",
       "2020-03-31                       1952.0             9460.0               445.0  \n",
       "2020-04-01                       2071.0            10431.0               492.0  \n",
       "2020-04-02                       2088.0            10349.0               488.0  \n",
       "...                                 ...                ...                 ...  \n",
       "2021-01-20                       7413.0            19392.0               236.0  \n",
       "2021-01-21                       7226.0            19411.0               274.0  \n",
       "2021-01-22                       7014.0            19377.0               281.0  \n",
       "2021-01-23                       6793.0            19334.0               299.0  \n",
       "2021-01-24                       6606.0            19292.0               295.0  \n",
       "\n",
       "[302 rows x 5 columns]"
      ]
     },
     "execution_count": 12,
     "metadata": {},
     "output_type": "execute_result"
    }
   ],
   "source": [
    "# start by analyzing LA County\n",
    "county_df.loc['Los Angeles']"
   ]
  },
  {
   "cell_type": "code",
   "execution_count": 13,
   "metadata": {},
   "outputs": [
    {
     "data": {
      "text/html": [
       "<div>\n",
       "<style scoped>\n",
       "    .dataframe tbody tr th:only-of-type {\n",
       "        vertical-align: middle;\n",
       "    }\n",
       "\n",
       "    .dataframe tbody tr th {\n",
       "        vertical-align: top;\n",
       "    }\n",
       "\n",
       "    .dataframe thead th {\n",
       "        text-align: right;\n",
       "    }\n",
       "</style>\n",
       "<table border=\"1\" class=\"dataframe\">\n",
       "  <thead>\n",
       "    <tr style=\"text-align: right;\">\n",
       "      <th></th>\n",
       "      <th>7dayrollingavg_newlyconfirmed</th>\n",
       "      <th>7dayrollingavg_newdeath</th>\n",
       "      <th>hospitalized_covid_patients</th>\n",
       "      <th>all_hospital_beds</th>\n",
       "      <th>icu_available_beds</th>\n",
       "    </tr>\n",
       "    <tr>\n",
       "      <th>date</th>\n",
       "      <th></th>\n",
       "      <th></th>\n",
       "      <th></th>\n",
       "      <th></th>\n",
       "      <th></th>\n",
       "    </tr>\n",
       "  </thead>\n",
       "  <tbody>\n",
       "    <tr>\n",
       "      <th>2020-03-29</th>\n",
       "      <td>2.468916</td>\n",
       "      <td>0.048382</td>\n",
       "      <td>1621.0</td>\n",
       "      <td>7394.0</td>\n",
       "      <td>345.0</td>\n",
       "    </tr>\n",
       "    <tr>\n",
       "      <th>2020-03-30</th>\n",
       "      <td>2.957007</td>\n",
       "      <td>0.056920</td>\n",
       "      <td>1878.0</td>\n",
       "      <td>9688.0</td>\n",
       "      <td>456.0</td>\n",
       "    </tr>\n",
       "    <tr>\n",
       "      <th>2020-03-31</th>\n",
       "      <td>3.369679</td>\n",
       "      <td>0.059766</td>\n",
       "      <td>1952.0</td>\n",
       "      <td>9460.0</td>\n",
       "      <td>445.0</td>\n",
       "    </tr>\n",
       "    <tr>\n",
       "      <th>2020-04-01</th>\n",
       "      <td>3.951689</td>\n",
       "      <td>0.079688</td>\n",
       "      <td>2071.0</td>\n",
       "      <td>10431.0</td>\n",
       "      <td>492.0</td>\n",
       "    </tr>\n",
       "    <tr>\n",
       "      <th>2020-04-02</th>\n",
       "      <td>4.219214</td>\n",
       "      <td>0.086803</td>\n",
       "      <td>2088.0</td>\n",
       "      <td>10349.0</td>\n",
       "      <td>488.0</td>\n",
       "    </tr>\n",
       "    <tr>\n",
       "      <th>...</th>\n",
       "      <td>...</td>\n",
       "      <td>...</td>\n",
       "      <td>...</td>\n",
       "      <td>...</td>\n",
       "      <td>...</td>\n",
       "    </tr>\n",
       "    <tr>\n",
       "      <th>2021-01-20</th>\n",
       "      <td>110.458032</td>\n",
       "      <td>2.033476</td>\n",
       "      <td>7413.0</td>\n",
       "      <td>19392.0</td>\n",
       "      <td>236.0</td>\n",
       "    </tr>\n",
       "    <tr>\n",
       "      <th>2021-01-21</th>\n",
       "      <td>97.337912</td>\n",
       "      <td>2.002170</td>\n",
       "      <td>7226.0</td>\n",
       "      <td>19411.0</td>\n",
       "      <td>274.0</td>\n",
       "    </tr>\n",
       "    <tr>\n",
       "      <th>2021-01-22</th>\n",
       "      <td>88.508157</td>\n",
       "      <td>1.999324</td>\n",
       "      <td>7014.0</td>\n",
       "      <td>19377.0</td>\n",
       "      <td>281.0</td>\n",
       "    </tr>\n",
       "    <tr>\n",
       "      <th>2021-01-23</th>\n",
       "      <td>82.928548</td>\n",
       "      <td>2.022092</td>\n",
       "      <td>6793.0</td>\n",
       "      <td>19334.0</td>\n",
       "      <td>299.0</td>\n",
       "    </tr>\n",
       "    <tr>\n",
       "      <th>2021-01-24</th>\n",
       "      <td>79.302728</td>\n",
       "      <td>2.009285</td>\n",
       "      <td>6606.0</td>\n",
       "      <td>19292.0</td>\n",
       "      <td>295.0</td>\n",
       "    </tr>\n",
       "  </tbody>\n",
       "</table>\n",
       "<p>302 rows × 5 columns</p>\n",
       "</div>"
      ],
      "text/plain": [
       "            7dayrollingavg_newlyconfirmed  7dayrollingavg_newdeath  \\\n",
       "date                                                                 \n",
       "2020-03-29                       2.468916                 0.048382   \n",
       "2020-03-30                       2.957007                 0.056920   \n",
       "2020-03-31                       3.369679                 0.059766   \n",
       "2020-04-01                       3.951689                 0.079688   \n",
       "2020-04-02                       4.219214                 0.086803   \n",
       "...                                   ...                      ...   \n",
       "2021-01-20                     110.458032                 2.033476   \n",
       "2021-01-21                      97.337912                 2.002170   \n",
       "2021-01-22                      88.508157                 1.999324   \n",
       "2021-01-23                      82.928548                 2.022092   \n",
       "2021-01-24                      79.302728                 2.009285   \n",
       "\n",
       "            hospitalized_covid_patients  all_hospital_beds  icu_available_beds  \n",
       "date                                                                            \n",
       "2020-03-29                       1621.0             7394.0               345.0  \n",
       "2020-03-30                       1878.0             9688.0               456.0  \n",
       "2020-03-31                       1952.0             9460.0               445.0  \n",
       "2020-04-01                       2071.0            10431.0               492.0  \n",
       "2020-04-02                       2088.0            10349.0               488.0  \n",
       "...                                 ...                ...                 ...  \n",
       "2021-01-20                       7413.0            19392.0               236.0  \n",
       "2021-01-21                       7226.0            19411.0               274.0  \n",
       "2021-01-22                       7014.0            19377.0               281.0  \n",
       "2021-01-23                       6793.0            19334.0               299.0  \n",
       "2021-01-24                       6606.0            19292.0               295.0  \n",
       "\n",
       "[302 rows x 5 columns]"
      ]
     },
     "execution_count": 13,
     "metadata": {},
     "output_type": "execute_result"
    }
   ],
   "source": [
    "county_df.loc['Los Angeles']"
   ]
  },
  {
   "cell_type": "code",
   "execution_count": 14,
   "metadata": {},
   "outputs": [],
   "source": [
    "county_df.to_csv('../clean_data/counties_models.csv')"
   ]
  },
  {
   "cell_type": "code",
   "execution_count": 15,
   "metadata": {},
   "outputs": [],
   "source": [
    "la_df = county_df.loc['Los Angeles']\n",
    "features = ['hospitalized_covid_patients']\n",
    "X = la_df[features]\n",
    "y = la_df[['7dayrollingavg_newlyconfirmed']].values"
   ]
  },
  {
   "cell_type": "code",
   "execution_count": 16,
   "metadata": {},
   "outputs": [],
   "source": [
    "# Train/Test Split\n",
    "X_train, X_test, y_train, y_test = train_test_split(X, y, shuffle = False, test_size = 0.15)"
   ]
  },
  {
   "cell_type": "code",
   "execution_count": 17,
   "metadata": {},
   "outputs": [],
   "source": [
    "# scale our data\n",
    "mms = MinMaxScaler()\n",
    "X_train_sc = mms.fit_transform(X_train)\n",
    "X_test_sc = mms.transform(X_test)"
   ]
  },
  {
   "cell_type": "code",
   "execution_count": 18,
   "metadata": {},
   "outputs": [],
   "source": [
    "# Create training sequences\n",
    "train_sequences = TimeseriesGenerator(X_train_sc, y_train, length = 1,  batch_size = 32)"
   ]
  },
  {
   "cell_type": "code",
   "execution_count": 19,
   "metadata": {},
   "outputs": [],
   "source": [
    "# Create test sequences\n",
    "batch_x, batch_y = train_sequences[0]"
   ]
  },
  {
   "cell_type": "code",
   "execution_count": 20,
   "metadata": {},
   "outputs": [],
   "source": [
    "test_sequences = TimeseriesGenerator(X_test_sc, y_test, length = 1,  batch_size = 32)"
   ]
  },
  {
   "cell_type": "code",
   "execution_count": 21,
   "metadata": {},
   "outputs": [],
   "source": [
    "input_shape = train_sequences[0][0][0].shape"
   ]
  },
  {
   "cell_type": "code",
   "execution_count": 22,
   "metadata": {},
   "outputs": [],
   "source": [
    "# Design RNN\n",
    "model = Sequential()\n",
    "model.add(LSTM(128, input_shape = (input_shape), return_sequences = True))\n",
    "model.add(Dropout(0.2))\n",
    "model.add(LSTM(64, return_sequences = True))\n",
    "model.add(Dropout(0.2))\n",
    "model.add(Dense(32, activation = 'swish', kernel_regularizer = l2(0.001)))\n",
    "model.add(Dropout(0.2))\n",
    "model.add(Dense(16, activation = 'swish', kernel_regularizer = l2(0.001)))\n",
    "model.add(Dense(1))"
   ]
  },
  {
   "cell_type": "code",
   "execution_count": 23,
   "metadata": {},
   "outputs": [],
   "source": [
    "model.compile(optimizer=Adam(lr = 0.005), loss = 'mae')\n",
    "early_stop = EarlyStopping(monitor = 'val_loss', patience = 20, verbose = 1, mode = 'auto')"
   ]
  },
  {
   "cell_type": "code",
   "execution_count": 24,
   "metadata": {},
   "outputs": [
    {
     "name": "stdout",
     "output_type": "stream",
     "text": [
      "Epoch 00178: early stopping\n"
     ]
    }
   ],
   "source": [
    "history = model.fit(train_sequences, validation_data = (test_sequences), epochs = 200, verbose = 0,callbacks = [early_stop] )"
   ]
  },
  {
   "cell_type": "code",
   "execution_count": 25,
   "metadata": {},
   "outputs": [
    {
     "name": "stdout",
     "output_type": "stream",
     "text": [
      "6.307078838348389\n",
      "14.0885009765625\n"
     ]
    }
   ],
   "source": [
    "print(history.history['loss'][-1])\n",
    "print(history.history['val_loss'][-1])"
   ]
  },
  {
   "cell_type": "code",
   "execution_count": 26,
   "metadata": {},
   "outputs": [],
   "source": [
    "preds_train = model.predict(train_sequences)"
   ]
  },
  {
   "cell_type": "code",
   "execution_count": 27,
   "metadata": {},
   "outputs": [
    {
     "data": {
      "text/plain": [
       "(255, 1, 1)"
      ]
     },
     "execution_count": 27,
     "metadata": {},
     "output_type": "execute_result"
    }
   ],
   "source": [
    "preds_train.shape"
   ]
  },
  {
   "cell_type": "code",
   "execution_count": 28,
   "metadata": {},
   "outputs": [],
   "source": [
    "train_preds = preds_train[:,0]"
   ]
  },
  {
   "cell_type": "code",
   "execution_count": 29,
   "metadata": {},
   "outputs": [],
   "source": [
    "train_preds = train_preds.reshape(255)"
   ]
  },
  {
   "cell_type": "code",
   "execution_count": 30,
   "metadata": {},
   "outputs": [],
   "source": [
    "preds_test = model.predict(test_sequences)"
   ]
  },
  {
   "cell_type": "code",
   "execution_count": 31,
   "metadata": {},
   "outputs": [
    {
     "data": {
      "text/plain": [
       "(45, 1, 1)"
      ]
     },
     "execution_count": 31,
     "metadata": {},
     "output_type": "execute_result"
    }
   ],
   "source": [
    "preds_test.shape"
   ]
  },
  {
   "cell_type": "code",
   "execution_count": 32,
   "metadata": {},
   "outputs": [],
   "source": [
    "test_preds = preds_test[:, 0]\n",
    "test_preds = test_preds.reshape(45)"
   ]
  },
  {
   "cell_type": "code",
   "execution_count": 33,
   "metadata": {},
   "outputs": [
    {
     "data": {
      "text/plain": [
       "(45,)"
      ]
     },
     "execution_count": 33,
     "metadata": {},
     "output_type": "execute_result"
    }
   ],
   "source": [
    "test_preds.shape"
   ]
  },
  {
   "cell_type": "code",
   "execution_count": 34,
   "metadata": {},
   "outputs": [
    {
     "data": {
      "text/plain": [
       "178"
      ]
     },
     "execution_count": 34,
     "metadata": {},
     "output_type": "execute_result"
    }
   ],
   "source": [
    "len(history.history['loss'])"
   ]
  },
  {
   "cell_type": "code",
   "execution_count": 36,
   "metadata": {},
   "outputs": [
    {
     "data": {
      "image/png": "[encoded data removed]",
      "text/plain": [
       "<Figure size 1080x1080 with 1 Axes>"
      ]
     },
     "metadata": {
      "needs_background": "light"
     },
     "output_type": "display_data"
    }
   ],
   "source": [
    "plt.figure(figsize=(15,15))\n",
    "sns.lineplot(x = range(1, 179), y = history.history['loss'], label = 'Train Loss')\n",
    "sns.lineplot(x = range(1, 179), y = history.history['val_loss'], label = 'Test Loss')\n",
    "plt.title('Train vs Test Loss for Los Angeles County', fontsize = 20, fontweight = 'bold')\n",
    "plt.xlabel('Epochs')\n",
    "plt.ylabel('Mean Absolute Error')\n",
    "plt.legend()\n",
    "plt.savefig('../images/train_test_loss_la_county.png');"
   ]
  },
  {
   "cell_type": "code",
   "execution_count": 37,
   "metadata": {},
   "outputs": [],
   "source": [
    "# generate predictions\n",
    "future_pred_count = 1\n",
    "future = []\n",
    "batch = X_test_sc[-future_pred_count:].reshape((1, future_pred_count, 1))\n",
    "model.predict(batch)[0].shape\n",
    "\n",
    "for i in range(22):\n",
    "    pred = model.predict(batch)[0]\n",
    "    future.append(pred)\n",
    "    batch = np.append(batch[:, 0:, :], [[pred[i]]] , axis = 1)"
   ]
  },
  {
   "cell_type": "code",
   "execution_count": 38,
   "metadata": {},
   "outputs": [
    {
     "data": {
      "text/html": [
       "<div>\n",
       "<style scoped>\n",
       "    .dataframe tbody tr th:only-of-type {\n",
       "        vertical-align: middle;\n",
       "    }\n",
       "\n",
       "    .dataframe tbody tr th {\n",
       "        vertical-align: top;\n",
       "    }\n",
       "\n",
       "    .dataframe thead th {\n",
       "        text-align: right;\n",
       "    }\n",
       "</style>\n",
       "<table border=\"1\" class=\"dataframe\">\n",
       "  <thead>\n",
       "    <tr style=\"text-align: right;\">\n",
       "      <th></th>\n",
       "      <th>hospitalized_covid_patients</th>\n",
       "    </tr>\n",
       "  </thead>\n",
       "  <tbody>\n",
       "    <tr>\n",
       "      <th>2021-02-11</th>\n",
       "      <td>NaN</td>\n",
       "    </tr>\n",
       "    <tr>\n",
       "      <th>2021-02-12</th>\n",
       "      <td>NaN</td>\n",
       "    </tr>\n",
       "    <tr>\n",
       "      <th>2021-02-13</th>\n",
       "      <td>NaN</td>\n",
       "    </tr>\n",
       "    <tr>\n",
       "      <th>2021-02-14</th>\n",
       "      <td>NaN</td>\n",
       "    </tr>\n",
       "    <tr>\n",
       "      <th>2021-02-15</th>\n",
       "      <td>NaN</td>\n",
       "    </tr>\n",
       "  </tbody>\n",
       "</table>\n",
       "</div>"
      ],
      "text/plain": [
       "           hospitalized_covid_patients\n",
       "2021-02-11                         NaN\n",
       "2021-02-12                         NaN\n",
       "2021-02-13                         NaN\n",
       "2021-02-14                         NaN\n",
       "2021-02-15                         NaN"
      ]
     },
     "execution_count": 38,
     "metadata": {},
     "output_type": "execute_result"
    }
   ],
   "source": [
    "dates = [la_df.index[-1] + pd.tseries.offsets.DateOffset(days = x) for x in range(0, 23)]\n",
    "future_date = pd.DataFrame(index = dates[1:], columns = X.columns)\n",
    "future_date.tail()"
   ]
  },
  {
   "cell_type": "code",
   "execution_count": 39,
   "metadata": {},
   "outputs": [
    {
     "data": {
      "text/html": [
       "<div>\n",
       "<style scoped>\n",
       "    .dataframe tbody tr th:only-of-type {\n",
       "        vertical-align: middle;\n",
       "    }\n",
       "\n",
       "    .dataframe tbody tr th {\n",
       "        vertical-align: top;\n",
       "    }\n",
       "\n",
       "    .dataframe thead th {\n",
       "        text-align: right;\n",
       "    }\n",
       "</style>\n",
       "<table border=\"1\" class=\"dataframe\">\n",
       "  <thead>\n",
       "    <tr style=\"text-align: right;\">\n",
       "      <th></th>\n",
       "      <th>Prediction</th>\n",
       "    </tr>\n",
       "  </thead>\n",
       "  <tbody>\n",
       "    <tr>\n",
       "      <th>2021-01-25</th>\n",
       "      <td>124.042221</td>\n",
       "    </tr>\n",
       "    <tr>\n",
       "      <th>2021-01-26</th>\n",
       "      <td>151.087616</td>\n",
       "    </tr>\n",
       "    <tr>\n",
       "      <th>2021-01-27</th>\n",
       "      <td>156.737381</td>\n",
       "    </tr>\n",
       "    <tr>\n",
       "      <th>2021-01-28</th>\n",
       "      <td>158.268784</td>\n",
       "    </tr>\n",
       "    <tr>\n",
       "      <th>2021-01-29</th>\n",
       "      <td>158.790863</td>\n",
       "    </tr>\n",
       "  </tbody>\n",
       "</table>\n",
       "</div>"
      ],
      "text/plain": [
       "            Prediction\n",
       "2021-01-25  124.042221\n",
       "2021-01-26  151.087616\n",
       "2021-01-27  156.737381\n",
       "2021-01-28  158.268784\n",
       "2021-01-29  158.790863"
      ]
     },
     "execution_count": 39,
     "metadata": {},
     "output_type": "execute_result"
    }
   ],
   "source": [
    "df_predict = pd.DataFrame(future[21], index = future_date[-22:].index, columns = ['Prediction'])\n",
    "df_predict.head()"
   ]
  },
  {
   "cell_type": "code",
   "execution_count": 40,
   "metadata": {},
   "outputs": [
    {
     "data": {
      "text/html": [
       "<div>\n",
       "<style scoped>\n",
       "    .dataframe tbody tr th:only-of-type {\n",
       "        vertical-align: middle;\n",
       "    }\n",
       "\n",
       "    .dataframe tbody tr th {\n",
       "        vertical-align: top;\n",
       "    }\n",
       "\n",
       "    .dataframe thead th {\n",
       "        text-align: right;\n",
       "    }\n",
       "</style>\n",
       "<table border=\"1\" class=\"dataframe\">\n",
       "  <thead>\n",
       "    <tr style=\"text-align: right;\">\n",
       "      <th></th>\n",
       "      <th>7dayrollingavg_newlyconfirmed</th>\n",
       "      <th>7dayrollingavg_newdeath</th>\n",
       "      <th>hospitalized_covid_patients</th>\n",
       "      <th>all_hospital_beds</th>\n",
       "      <th>icu_available_beds</th>\n",
       "      <th>Prediction</th>\n",
       "    </tr>\n",
       "  </thead>\n",
       "  <tbody>\n",
       "    <tr>\n",
       "      <th>2020-03-29</th>\n",
       "      <td>2.468916</td>\n",
       "      <td>0.048382</td>\n",
       "      <td>1621.0</td>\n",
       "      <td>7394.0</td>\n",
       "      <td>345.0</td>\n",
       "      <td>NaN</td>\n",
       "    </tr>\n",
       "    <tr>\n",
       "      <th>2020-03-30</th>\n",
       "      <td>2.957007</td>\n",
       "      <td>0.056920</td>\n",
       "      <td>1878.0</td>\n",
       "      <td>9688.0</td>\n",
       "      <td>456.0</td>\n",
       "      <td>NaN</td>\n",
       "    </tr>\n",
       "    <tr>\n",
       "      <th>2020-03-31</th>\n",
       "      <td>3.369679</td>\n",
       "      <td>0.059766</td>\n",
       "      <td>1952.0</td>\n",
       "      <td>9460.0</td>\n",
       "      <td>445.0</td>\n",
       "      <td>NaN</td>\n",
       "    </tr>\n",
       "    <tr>\n",
       "      <th>2020-04-01</th>\n",
       "      <td>3.951689</td>\n",
       "      <td>0.079688</td>\n",
       "      <td>2071.0</td>\n",
       "      <td>10431.0</td>\n",
       "      <td>492.0</td>\n",
       "      <td>NaN</td>\n",
       "    </tr>\n",
       "    <tr>\n",
       "      <th>2020-04-02</th>\n",
       "      <td>4.219214</td>\n",
       "      <td>0.086803</td>\n",
       "      <td>2088.0</td>\n",
       "      <td>10349.0</td>\n",
       "      <td>488.0</td>\n",
       "      <td>NaN</td>\n",
       "    </tr>\n",
       "    <tr>\n",
       "      <th>...</th>\n",
       "      <td>...</td>\n",
       "      <td>...</td>\n",
       "      <td>...</td>\n",
       "      <td>...</td>\n",
       "      <td>...</td>\n",
       "      <td>...</td>\n",
       "    </tr>\n",
       "    <tr>\n",
       "      <th>2021-02-11</th>\n",
       "      <td>NaN</td>\n",
       "      <td>NaN</td>\n",
       "      <td>NaN</td>\n",
       "      <td>NaN</td>\n",
       "      <td>NaN</td>\n",
       "      <td>159.253693</td>\n",
       "    </tr>\n",
       "    <tr>\n",
       "      <th>2021-02-12</th>\n",
       "      <td>NaN</td>\n",
       "      <td>NaN</td>\n",
       "      <td>NaN</td>\n",
       "      <td>NaN</td>\n",
       "      <td>NaN</td>\n",
       "      <td>159.253693</td>\n",
       "    </tr>\n",
       "    <tr>\n",
       "      <th>2021-02-13</th>\n",
       "      <td>NaN</td>\n",
       "      <td>NaN</td>\n",
       "      <td>NaN</td>\n",
       "      <td>NaN</td>\n",
       "      <td>NaN</td>\n",
       "      <td>159.253693</td>\n",
       "    </tr>\n",
       "    <tr>\n",
       "      <th>2021-02-14</th>\n",
       "      <td>NaN</td>\n",
       "      <td>NaN</td>\n",
       "      <td>NaN</td>\n",
       "      <td>NaN</td>\n",
       "      <td>NaN</td>\n",
       "      <td>159.253693</td>\n",
       "    </tr>\n",
       "    <tr>\n",
       "      <th>2021-02-15</th>\n",
       "      <td>NaN</td>\n",
       "      <td>NaN</td>\n",
       "      <td>NaN</td>\n",
       "      <td>NaN</td>\n",
       "      <td>NaN</td>\n",
       "      <td>159.253693</td>\n",
       "    </tr>\n",
       "  </tbody>\n",
       "</table>\n",
       "<p>324 rows × 6 columns</p>\n",
       "</div>"
      ],
      "text/plain": [
       "            7dayrollingavg_newlyconfirmed  7dayrollingavg_newdeath  \\\n",
       "2020-03-29                       2.468916                 0.048382   \n",
       "2020-03-30                       2.957007                 0.056920   \n",
       "2020-03-31                       3.369679                 0.059766   \n",
       "2020-04-01                       3.951689                 0.079688   \n",
       "2020-04-02                       4.219214                 0.086803   \n",
       "...                                   ...                      ...   \n",
       "2021-02-11                            NaN                      NaN   \n",
       "2021-02-12                            NaN                      NaN   \n",
       "2021-02-13                            NaN                      NaN   \n",
       "2021-02-14                            NaN                      NaN   \n",
       "2021-02-15                            NaN                      NaN   \n",
       "\n",
       "            hospitalized_covid_patients  all_hospital_beds  \\\n",
       "2020-03-29                       1621.0             7394.0   \n",
       "2020-03-30                       1878.0             9688.0   \n",
       "2020-03-31                       1952.0             9460.0   \n",
       "2020-04-01                       2071.0            10431.0   \n",
       "2020-04-02                       2088.0            10349.0   \n",
       "...                                 ...                ...   \n",
       "2021-02-11                          NaN                NaN   \n",
       "2021-02-12                          NaN                NaN   \n",
       "2021-02-13                          NaN                NaN   \n",
       "2021-02-14                          NaN                NaN   \n",
       "2021-02-15                          NaN                NaN   \n",
       "\n",
       "            icu_available_beds  Prediction  \n",
       "2020-03-29               345.0         NaN  \n",
       "2020-03-30               456.0         NaN  \n",
       "2020-03-31               445.0         NaN  \n",
       "2020-04-01               492.0         NaN  \n",
       "2020-04-02               488.0         NaN  \n",
       "...                        ...         ...  \n",
       "2021-02-11                 NaN  159.253693  \n",
       "2021-02-12                 NaN  159.253693  \n",
       "2021-02-13                 NaN  159.253693  \n",
       "2021-02-14                 NaN  159.253693  \n",
       "2021-02-15                 NaN  159.253693  \n",
       "\n",
       "[324 rows x 6 columns]"
      ]
     },
     "execution_count": 40,
     "metadata": {},
     "output_type": "execute_result"
    }
   ],
   "source": [
    "df_test = pd.concat([la_df, df_predict], axis = 1)\n",
    "df_test"
   ]
  },
  {
   "cell_type": "code",
   "execution_count": 41,
   "metadata": {},
   "outputs": [
    {
     "data": {
      "image/png": "[encoded data removed]",
      "text/plain": [
       "<Figure size 1080x360 with 1 Axes>"
      ]
     },
     "metadata": {
      "needs_background": "light"
     },
     "output_type": "display_data"
    }
   ],
   "source": [
    "plt.figure(figsize=(15, 5))\n",
    "plt.plot(df_test.index, df_test['7dayrollingavg_newlyconfirmed'])\n",
    "plt.plot(df_test.index, df_test['Prediction'], color = 'r')\n",
    "plt.plot(X_train.index[:-1], train_preds, color = 'g')\n",
    "plt.plot(X_test.index[:-1], test_preds, color = 'g')\n",
    "plt.legend(['7dayrollingavg_newlyconfirmed', 'Future Prediction', 'Current Time Prediction'], loc = 'best', fontsize = 'xx-large')\n",
    "plt.xticks(fontsize = 12)\n",
    "plt.yticks(fontsize = 16)\n",
    "plt.xlabel('Date')\n",
    "plt.ylabel('7 Day Rolloing Average Cases per 100k People')\n",
    "plt.title('Prediction of 7 Day Rolling Average Cases per 100k People in LA County', fontsize = 20, fontweight = 'bold')\n",
    "plt.savefig('../images/rolling_7_day_prediction.png');"
   ]
  },
  {
   "cell_type": "code",
   "execution_count": 42,
   "metadata": {},
   "outputs": [],
   "source": [
    "# create a function to generate predictions for every county\n",
    "def pred_model(df):\n",
    "    X = df[['hospitalized_covid_patients']]\n",
    "    y = df[['7dayrollingavg_newlyconfirmed']].values\n",
    "    X_train, X_test, y_train, y_test = train_test_split(X, y, shuffle = False, test_size = 0.4)\n",
    "    mms = MinMaxScaler() # use MinMaxScaler as we are dealing with purely positive values\n",
    "    X_train_sc = mms.fit_transform(X_train)\n",
    "    X_test_sc = mms.transform(X_test)\n",
    "    \n",
    "    # Create training sequences\n",
    "    train_sequences = TimeseriesGenerator(X_train_sc, y_train, length = 1,  batch_size = 128)\n",
    "    \n",
    "    # Create test sequences\n",
    "    batch_x, batch_y = train_sequences[0]\n",
    "    test_sequences = TimeseriesGenerator(X_test_sc, y_test, length = 1,  batch_size = 128)\n",
    "    input_shape = train_sequences[0][0][0].shape\n",
    "    \n",
    "    # Design RNN\n",
    "    model = Sequential()\n",
    "    model.add(LSTM(60, input_shape = (input_shape), return_sequences = True))\n",
    "    model.add(Dropout(0.2))\n",
    "    model.add(LSTM(32, return_sequences = True))\n",
    "    model.add(Dropout(0.2))\n",
    "    model.add(Dense(16, activation = 'swish', kernel_regularizer = l2(0.001)))\n",
    "    model.add(Dropout(0.2))\n",
    "    model.add(Dense(8, activation = 'swish', kernel_regularizer = l2(0.001)))\n",
    "    model.add(Dense(1))\n",
    "    model.compile(optimizer=Adam(lr = 0.005), loss = 'mae')\n",
    "    early_stop = EarlyStopping(monitor = 'val_loss', patience = 100, verbose = 1, mode = 'auto')\n",
    "    model.fit(train_sequences, validation_data = (test_sequences), epochs = 1000, verbose = 0, callbacks = [early_stop])\n",
    "    \n",
    "    future_pred_count = 1\n",
    "    future = []\n",
    "    batch = X_test_sc[-future_pred_count:].reshape((1, future_pred_count, 1))\n",
    "    model.predict(batch)[0].shape\n",
    "\n",
    "    for i in range(22):\n",
    "        pred = model.predict(batch)[0]\n",
    "        future.append(pred)\n",
    "        batch = np.append(batch[:, 0:, :], [[pred[i]]] , axis = 1)\n",
    "        \n",
    "    dates = [la_df.index[-1] + pd.tseries.offsets.DateOffset(days = x) for x in range(0, 22)]\n",
    "    future_date = pd.DataFrame(index = dates[1:], columns = X.columns)\n",
    "    future_date.head()\n",
    "    \n",
    "    df_predict = pd.DataFrame(future[20], index = future_date[-21:].index, columns = ['Prediction'])\n",
    "    df_test = pd.concat([df, df_predict], axis = 1)\n",
    "    \n",
    "    return df_test, model"
   ]
  },
  {
   "cell_type": "code",
   "execution_count": 43,
   "metadata": {},
   "outputs": [
    {
     "data": {
      "text/plain": [
       "Index(['Alameda', 'Amador', 'Butte', 'Calaveras', 'Colusa', 'Contra Costa',\n",
       "       'Del Norte', 'El Dorado', 'Fresno', 'Glenn', 'Humboldt', 'Imperial',\n",
       "       'Inyo', 'Kern', 'Kings', 'Lake', 'Lassen', 'Los Angeles', 'Madera',\n",
       "       'Marin', 'Mariposa', 'Mendocino', 'Merced', 'Modoc', 'Mono', 'Monterey',\n",
       "       'Napa', 'Nevada', 'Orange', 'Placer', 'Plumas', 'Riverside',\n",
       "       'Sacramento', 'San Benito', 'San Bernardino', 'San Diego',\n",
       "       'San Francisco', 'San Joaquin', 'San Luis Obispo', 'San Mateo',\n",
       "       'Santa Barbara', 'Santa Clara', 'Santa Cruz', 'Shasta', 'Siskiyou',\n",
       "       'Solano', 'Sonoma', 'Stanislaus', 'Sutter', 'Tehama', 'Trinity',\n",
       "       'Tulare', 'Tuolumne', 'Ventura', 'Yolo', 'Yuba'],\n",
       "      dtype='object', name='county')"
      ]
     },
     "execution_count": 43,
     "metadata": {},
     "output_type": "execute_result"
    }
   ],
   "source": [
    "county_df.index.get_level_values('county').unique()"
   ]
  },
  {
   "cell_type": "code",
   "execution_count": 57,
   "metadata": {},
   "outputs": [
    {
     "name": "stdout",
     "output_type": "stream",
     "text": [
      "Epoch 00151: early stopping\n",
      "WARNING:tensorflow:Model was constructed with shape (None, 1, 1) for input KerasTensor(type_spec=TensorSpec(shape=(None, 1, 1), dtype=tf.float32, name='lstm_228_input'), name='lstm_228_input', description=\"created by layer 'lstm_228_input'\"), but it was called on an input with incompatible shape (None, 2, 1).\n"
     ]
    },
    {
     "name": "stderr",
     "output_type": "stream",
     "text": [
      "WARNING:tensorflow:Model was constructed with shape (None, 1, 1) for input KerasTensor(type_spec=TensorSpec(shape=(None, 1, 1), dtype=tf.float32, name='lstm_228_input'), name='lstm_228_input', description=\"created by layer 'lstm_228_input'\"), but it was called on an input with incompatible shape (None, 2, 1).\n"
     ]
    },
    {
     "name": "stdout",
     "output_type": "stream",
     "text": [
      "Epoch 00149: early stopping\n",
      "WARNING:tensorflow:Model was constructed with shape (None, 1, 1) for input KerasTensor(type_spec=TensorSpec(shape=(None, 1, 1), dtype=tf.float32, name='lstm_230_input'), name='lstm_230_input', description=\"created by layer 'lstm_230_input'\"), but it was called on an input with incompatible shape (None, 2, 1).\n"
     ]
    },
    {
     "name": "stderr",
     "output_type": "stream",
     "text": [
      "WARNING:tensorflow:Model was constructed with shape (None, 1, 1) for input KerasTensor(type_spec=TensorSpec(shape=(None, 1, 1), dtype=tf.float32, name='lstm_230_input'), name='lstm_230_input', description=\"created by layer 'lstm_230_input'\"), but it was called on an input with incompatible shape (None, 2, 1).\n"
     ]
    },
    {
     "name": "stdout",
     "output_type": "stream",
     "text": [
      "Epoch 00167: early stopping\n",
      "WARNING:tensorflow:Model was constructed with shape (None, 1, 1) for input KerasTensor(type_spec=TensorSpec(shape=(None, 1, 1), dtype=tf.float32, name='lstm_232_input'), name='lstm_232_input', description=\"created by layer 'lstm_232_input'\"), but it was called on an input with incompatible shape (None, 2, 1).\n"
     ]
    },
    {
     "name": "stderr",
     "output_type": "stream",
     "text": [
      "WARNING:tensorflow:Model was constructed with shape (None, 1, 1) for input KerasTensor(type_spec=TensorSpec(shape=(None, 1, 1), dtype=tf.float32, name='lstm_232_input'), name='lstm_232_input', description=\"created by layer 'lstm_232_input'\"), but it was called on an input with incompatible shape (None, 2, 1).\n"
     ]
    },
    {
     "name": "stdout",
     "output_type": "stream",
     "text": [
      "Epoch 00243: early stopping\n",
      "WARNING:tensorflow:Model was constructed with shape (None, 1, 1) for input KerasTensor(type_spec=TensorSpec(shape=(None, 1, 1), dtype=tf.float32, name='lstm_234_input'), name='lstm_234_input', description=\"created by layer 'lstm_234_input'\"), but it was called on an input with incompatible shape (None, 2, 1).\n"
     ]
    },
    {
     "name": "stderr",
     "output_type": "stream",
     "text": [
      "WARNING:tensorflow:Model was constructed with shape (None, 1, 1) for input KerasTensor(type_spec=TensorSpec(shape=(None, 1, 1), dtype=tf.float32, name='lstm_234_input'), name='lstm_234_input', description=\"created by layer 'lstm_234_input'\"), but it was called on an input with incompatible shape (None, 2, 1).\n"
     ]
    },
    {
     "name": "stdout",
     "output_type": "stream",
     "text": [
      "Epoch 00162: early stopping\n",
      "WARNING:tensorflow:Model was constructed with shape (None, 1, 1) for input KerasTensor(type_spec=TensorSpec(shape=(None, 1, 1), dtype=tf.float32, name='lstm_236_input'), name='lstm_236_input', description=\"created by layer 'lstm_236_input'\"), but it was called on an input with incompatible shape (None, 2, 1).\n"
     ]
    },
    {
     "name": "stderr",
     "output_type": "stream",
     "text": [
      "WARNING:tensorflow:Model was constructed with shape (None, 1, 1) for input KerasTensor(type_spec=TensorSpec(shape=(None, 1, 1), dtype=tf.float32, name='lstm_236_input'), name='lstm_236_input', description=\"created by layer 'lstm_236_input'\"), but it was called on an input with incompatible shape (None, 2, 1).\n"
     ]
    },
    {
     "name": "stdout",
     "output_type": "stream",
     "text": [
      "Epoch 00194: early stopping\n",
      "WARNING:tensorflow:Model was constructed with shape (None, 1, 1) for input KerasTensor(type_spec=TensorSpec(shape=(None, 1, 1), dtype=tf.float32, name='lstm_238_input'), name='lstm_238_input', description=\"created by layer 'lstm_238_input'\"), but it was called on an input with incompatible shape (None, 2, 1).\n"
     ]
    },
    {
     "name": "stderr",
     "output_type": "stream",
     "text": [
      "WARNING:tensorflow:Model was constructed with shape (None, 1, 1) for input KerasTensor(type_spec=TensorSpec(shape=(None, 1, 1), dtype=tf.float32, name='lstm_238_input'), name='lstm_238_input', description=\"created by layer 'lstm_238_input'\"), but it was called on an input with incompatible shape (None, 2, 1).\n"
     ]
    },
    {
     "name": "stdout",
     "output_type": "stream",
     "text": [
      "Epoch 00240: early stopping\n",
      "WARNING:tensorflow:Model was constructed with shape (None, 1, 1) for input KerasTensor(type_spec=TensorSpec(shape=(None, 1, 1), dtype=tf.float32, name='lstm_240_input'), name='lstm_240_input', description=\"created by layer 'lstm_240_input'\"), but it was called on an input with incompatible shape (None, 2, 1).\n"
     ]
    },
    {
     "name": "stderr",
     "output_type": "stream",
     "text": [
      "WARNING:tensorflow:Model was constructed with shape (None, 1, 1) for input KerasTensor(type_spec=TensorSpec(shape=(None, 1, 1), dtype=tf.float32, name='lstm_240_input'), name='lstm_240_input', description=\"created by layer 'lstm_240_input'\"), but it was called on an input with incompatible shape (None, 2, 1).\n"
     ]
    },
    {
     "name": "stdout",
     "output_type": "stream",
     "text": [
      "Epoch 00121: early stopping\n",
      "WARNING:tensorflow:Model was constructed with shape (None, 1, 1) for input KerasTensor(type_spec=TensorSpec(shape=(None, 1, 1), dtype=tf.float32, name='lstm_242_input'), name='lstm_242_input', description=\"created by layer 'lstm_242_input'\"), but it was called on an input with incompatible shape (None, 2, 1).\n"
     ]
    },
    {
     "name": "stderr",
     "output_type": "stream",
     "text": [
      "WARNING:tensorflow:Model was constructed with shape (None, 1, 1) for input KerasTensor(type_spec=TensorSpec(shape=(None, 1, 1), dtype=tf.float32, name='lstm_242_input'), name='lstm_242_input', description=\"created by layer 'lstm_242_input'\"), but it was called on an input with incompatible shape (None, 2, 1).\n"
     ]
    },
    {
     "name": "stdout",
     "output_type": "stream",
     "text": [
      "Epoch 00141: early stopping\n",
      "WARNING:tensorflow:Model was constructed with shape (None, 1, 1) for input KerasTensor(type_spec=TensorSpec(shape=(None, 1, 1), dtype=tf.float32, name='lstm_244_input'), name='lstm_244_input', description=\"created by layer 'lstm_244_input'\"), but it was called on an input with incompatible shape (None, 2, 1).\n"
     ]
    },
    {
     "name": "stderr",
     "output_type": "stream",
     "text": [
      "WARNING:tensorflow:Model was constructed with shape (None, 1, 1) for input KerasTensor(type_spec=TensorSpec(shape=(None, 1, 1), dtype=tf.float32, name='lstm_244_input'), name='lstm_244_input', description=\"created by layer 'lstm_244_input'\"), but it was called on an input with incompatible shape (None, 2, 1).\n"
     ]
    },
    {
     "name": "stdout",
     "output_type": "stream",
     "text": [
      "Epoch 00122: early stopping\n",
      "WARNING:tensorflow:Model was constructed with shape (None, 1, 1) for input KerasTensor(type_spec=TensorSpec(shape=(None, 1, 1), dtype=tf.float32, name='lstm_246_input'), name='lstm_246_input', description=\"created by layer 'lstm_246_input'\"), but it was called on an input with incompatible shape (None, 2, 1).\n"
     ]
    },
    {
     "name": "stderr",
     "output_type": "stream",
     "text": [
      "WARNING:tensorflow:Model was constructed with shape (None, 1, 1) for input KerasTensor(type_spec=TensorSpec(shape=(None, 1, 1), dtype=tf.float32, name='lstm_246_input'), name='lstm_246_input', description=\"created by layer 'lstm_246_input'\"), but it was called on an input with incompatible shape (None, 2, 1).\n"
     ]
    },
    {
     "name": "stdout",
     "output_type": "stream",
     "text": [
      "Epoch 00114: early stopping\n",
      "WARNING:tensorflow:Model was constructed with shape (None, 1, 1) for input KerasTensor(type_spec=TensorSpec(shape=(None, 1, 1), dtype=tf.float32, name='lstm_248_input'), name='lstm_248_input', description=\"created by layer 'lstm_248_input'\"), but it was called on an input with incompatible shape (None, 2, 1).\n"
     ]
    },
    {
     "name": "stderr",
     "output_type": "stream",
     "text": [
      "WARNING:tensorflow:Model was constructed with shape (None, 1, 1) for input KerasTensor(type_spec=TensorSpec(shape=(None, 1, 1), dtype=tf.float32, name='lstm_248_input'), name='lstm_248_input', description=\"created by layer 'lstm_248_input'\"), but it was called on an input with incompatible shape (None, 2, 1).\n"
     ]
    },
    {
     "name": "stdout",
     "output_type": "stream",
     "text": [
      "Epoch 00186: early stopping\n",
      "WARNING:tensorflow:Model was constructed with shape (None, 1, 1) for input KerasTensor(type_spec=TensorSpec(shape=(None, 1, 1), dtype=tf.float32, name='lstm_250_input'), name='lstm_250_input', description=\"created by layer 'lstm_250_input'\"), but it was called on an input with incompatible shape (None, 2, 1).\n"
     ]
    },
    {
     "name": "stderr",
     "output_type": "stream",
     "text": [
      "WARNING:tensorflow:Model was constructed with shape (None, 1, 1) for input KerasTensor(type_spec=TensorSpec(shape=(None, 1, 1), dtype=tf.float32, name='lstm_250_input'), name='lstm_250_input', description=\"created by layer 'lstm_250_input'\"), but it was called on an input with incompatible shape (None, 2, 1).\n"
     ]
    },
    {
     "name": "stdout",
     "output_type": "stream",
     "text": [
      "Epoch 00118: early stopping\n",
      "WARNING:tensorflow:Model was constructed with shape (None, 1, 1) for input KerasTensor(type_spec=TensorSpec(shape=(None, 1, 1), dtype=tf.float32, name='lstm_252_input'), name='lstm_252_input', description=\"created by layer 'lstm_252_input'\"), but it was called on an input with incompatible shape (None, 2, 1).\n"
     ]
    },
    {
     "name": "stderr",
     "output_type": "stream",
     "text": [
      "WARNING:tensorflow:Model was constructed with shape (None, 1, 1) for input KerasTensor(type_spec=TensorSpec(shape=(None, 1, 1), dtype=tf.float32, name='lstm_252_input'), name='lstm_252_input', description=\"created by layer 'lstm_252_input'\"), but it was called on an input with incompatible shape (None, 2, 1).\n"
     ]
    },
    {
     "name": "stdout",
     "output_type": "stream",
     "text": [
      "Epoch 00538: early stopping\n",
      "WARNING:tensorflow:Model was constructed with shape (None, 1, 1) for input KerasTensor(type_spec=TensorSpec(shape=(None, 1, 1), dtype=tf.float32, name='lstm_254_input'), name='lstm_254_input', description=\"created by layer 'lstm_254_input'\"), but it was called on an input with incompatible shape (None, 2, 1).\n"
     ]
    },
    {
     "name": "stderr",
     "output_type": "stream",
     "text": [
      "WARNING:tensorflow:Model was constructed with shape (None, 1, 1) for input KerasTensor(type_spec=TensorSpec(shape=(None, 1, 1), dtype=tf.float32, name='lstm_254_input'), name='lstm_254_input', description=\"created by layer 'lstm_254_input'\"), but it was called on an input with incompatible shape (None, 2, 1).\n"
     ]
    },
    {
     "name": "stdout",
     "output_type": "stream",
     "text": [
      "Epoch 00189: early stopping\n",
      "WARNING:tensorflow:Model was constructed with shape (None, 1, 1) for input KerasTensor(type_spec=TensorSpec(shape=(None, 1, 1), dtype=tf.float32, name='lstm_256_input'), name='lstm_256_input', description=\"created by layer 'lstm_256_input'\"), but it was called on an input with incompatible shape (None, 2, 1).\n"
     ]
    },
    {
     "name": "stderr",
     "output_type": "stream",
     "text": [
      "WARNING:tensorflow:Model was constructed with shape (None, 1, 1) for input KerasTensor(type_spec=TensorSpec(shape=(None, 1, 1), dtype=tf.float32, name='lstm_256_input'), name='lstm_256_input', description=\"created by layer 'lstm_256_input'\"), but it was called on an input with incompatible shape (None, 2, 1).\n"
     ]
    },
    {
     "name": "stdout",
     "output_type": "stream",
     "text": [
      "Epoch 00126: early stopping\n",
      "WARNING:tensorflow:Model was constructed with shape (None, 1, 1) for input KerasTensor(type_spec=TensorSpec(shape=(None, 1, 1), dtype=tf.float32, name='lstm_258_input'), name='lstm_258_input', description=\"created by layer 'lstm_258_input'\"), but it was called on an input with incompatible shape (None, 2, 1).\n"
     ]
    },
    {
     "name": "stderr",
     "output_type": "stream",
     "text": [
      "WARNING:tensorflow:Model was constructed with shape (None, 1, 1) for input KerasTensor(type_spec=TensorSpec(shape=(None, 1, 1), dtype=tf.float32, name='lstm_258_input'), name='lstm_258_input', description=\"created by layer 'lstm_258_input'\"), but it was called on an input with incompatible shape (None, 2, 1).\n"
     ]
    },
    {
     "name": "stdout",
     "output_type": "stream",
     "text": [
      "Epoch 00125: early stopping\n",
      "WARNING:tensorflow:Model was constructed with shape (None, 1, 1) for input KerasTensor(type_spec=TensorSpec(shape=(None, 1, 1), dtype=tf.float32, name='lstm_260_input'), name='lstm_260_input', description=\"created by layer 'lstm_260_input'\"), but it was called on an input with incompatible shape (None, 2, 1).\n"
     ]
    },
    {
     "name": "stderr",
     "output_type": "stream",
     "text": [
      "WARNING:tensorflow:Model was constructed with shape (None, 1, 1) for input KerasTensor(type_spec=TensorSpec(shape=(None, 1, 1), dtype=tf.float32, name='lstm_260_input'), name='lstm_260_input', description=\"created by layer 'lstm_260_input'\"), but it was called on an input with incompatible shape (None, 2, 1).\n"
     ]
    },
    {
     "name": "stdout",
     "output_type": "stream",
     "text": [
      "Epoch 00514: early stopping\n",
      "WARNING:tensorflow:Model was constructed with shape (None, 1, 1) for input KerasTensor(type_spec=TensorSpec(shape=(None, 1, 1), dtype=tf.float32, name='lstm_262_input'), name='lstm_262_input', description=\"created by layer 'lstm_262_input'\"), but it was called on an input with incompatible shape (None, 2, 1).\n"
     ]
    },
    {
     "name": "stderr",
     "output_type": "stream",
     "text": [
      "WARNING:tensorflow:Model was constructed with shape (None, 1, 1) for input KerasTensor(type_spec=TensorSpec(shape=(None, 1, 1), dtype=tf.float32, name='lstm_262_input'), name='lstm_262_input', description=\"created by layer 'lstm_262_input'\"), but it was called on an input with incompatible shape (None, 2, 1).\n"
     ]
    },
    {
     "name": "stdout",
     "output_type": "stream",
     "text": [
      "Epoch 00142: early stopping\n",
      "WARNING:tensorflow:Model was constructed with shape (None, 1, 1) for input KerasTensor(type_spec=TensorSpec(shape=(None, 1, 1), dtype=tf.float32, name='lstm_264_input'), name='lstm_264_input', description=\"created by layer 'lstm_264_input'\"), but it was called on an input with incompatible shape (None, 2, 1).\n"
     ]
    },
    {
     "name": "stderr",
     "output_type": "stream",
     "text": [
      "WARNING:tensorflow:Model was constructed with shape (None, 1, 1) for input KerasTensor(type_spec=TensorSpec(shape=(None, 1, 1), dtype=tf.float32, name='lstm_264_input'), name='lstm_264_input', description=\"created by layer 'lstm_264_input'\"), but it was called on an input with incompatible shape (None, 2, 1).\n"
     ]
    },
    {
     "name": "stdout",
     "output_type": "stream",
     "text": [
      "Epoch 00151: early stopping\n",
      "WARNING:tensorflow:Model was constructed with shape (None, 1, 1) for input KerasTensor(type_spec=TensorSpec(shape=(None, 1, 1), dtype=tf.float32, name='lstm_266_input'), name='lstm_266_input', description=\"created by layer 'lstm_266_input'\"), but it was called on an input with incompatible shape (None, 2, 1).\n"
     ]
    },
    {
     "name": "stderr",
     "output_type": "stream",
     "text": [
      "WARNING:tensorflow:Model was constructed with shape (None, 1, 1) for input KerasTensor(type_spec=TensorSpec(shape=(None, 1, 1), dtype=tf.float32, name='lstm_266_input'), name='lstm_266_input', description=\"created by layer 'lstm_266_input'\"), but it was called on an input with incompatible shape (None, 2, 1).\n"
     ]
    },
    {
     "name": "stdout",
     "output_type": "stream",
     "text": [
      "Epoch 00121: early stopping\n",
      "WARNING:tensorflow:Model was constructed with shape (None, 1, 1) for input KerasTensor(type_spec=TensorSpec(shape=(None, 1, 1), dtype=tf.float32, name='lstm_268_input'), name='lstm_268_input', description=\"created by layer 'lstm_268_input'\"), but it was called on an input with incompatible shape (None, 2, 1).\n"
     ]
    },
    {
     "name": "stderr",
     "output_type": "stream",
     "text": [
      "WARNING:tensorflow:Model was constructed with shape (None, 1, 1) for input KerasTensor(type_spec=TensorSpec(shape=(None, 1, 1), dtype=tf.float32, name='lstm_268_input'), name='lstm_268_input', description=\"created by layer 'lstm_268_input'\"), but it was called on an input with incompatible shape (None, 2, 1).\n"
     ]
    },
    {
     "name": "stdout",
     "output_type": "stream",
     "text": [
      "Epoch 00177: early stopping\n",
      "WARNING:tensorflow:Model was constructed with shape (None, 1, 1) for input KerasTensor(type_spec=TensorSpec(shape=(None, 1, 1), dtype=tf.float32, name='lstm_270_input'), name='lstm_270_input', description=\"created by layer 'lstm_270_input'\"), but it was called on an input with incompatible shape (None, 2, 1).\n"
     ]
    },
    {
     "name": "stderr",
     "output_type": "stream",
     "text": [
      "WARNING:tensorflow:Model was constructed with shape (None, 1, 1) for input KerasTensor(type_spec=TensorSpec(shape=(None, 1, 1), dtype=tf.float32, name='lstm_270_input'), name='lstm_270_input', description=\"created by layer 'lstm_270_input'\"), but it was called on an input with incompatible shape (None, 2, 1).\n"
     ]
    },
    {
     "name": "stdout",
     "output_type": "stream",
     "text": [
      "Epoch 00150: early stopping\n",
      "WARNING:tensorflow:Model was constructed with shape (None, 1, 1) for input KerasTensor(type_spec=TensorSpec(shape=(None, 1, 1), dtype=tf.float32, name='lstm_272_input'), name='lstm_272_input', description=\"created by layer 'lstm_272_input'\"), but it was called on an input with incompatible shape (None, 2, 1).\n"
     ]
    },
    {
     "name": "stderr",
     "output_type": "stream",
     "text": [
      "WARNING:tensorflow:Model was constructed with shape (None, 1, 1) for input KerasTensor(type_spec=TensorSpec(shape=(None, 1, 1), dtype=tf.float32, name='lstm_272_input'), name='lstm_272_input', description=\"created by layer 'lstm_272_input'\"), but it was called on an input with incompatible shape (None, 2, 1).\n"
     ]
    },
    {
     "name": "stdout",
     "output_type": "stream",
     "text": [
      "Epoch 00100: early stopping\n",
      "WARNING:tensorflow:Model was constructed with shape (None, 1, 1) for input KerasTensor(type_spec=TensorSpec(shape=(None, 1, 1), dtype=tf.float32, name='lstm_274_input'), name='lstm_274_input', description=\"created by layer 'lstm_274_input'\"), but it was called on an input with incompatible shape (None, 2, 1).\n"
     ]
    },
    {
     "name": "stderr",
     "output_type": "stream",
     "text": [
      "WARNING:tensorflow:Model was constructed with shape (None, 1, 1) for input KerasTensor(type_spec=TensorSpec(shape=(None, 1, 1), dtype=tf.float32, name='lstm_274_input'), name='lstm_274_input', description=\"created by layer 'lstm_274_input'\"), but it was called on an input with incompatible shape (None, 2, 1).\n"
     ]
    },
    {
     "name": "stdout",
     "output_type": "stream",
     "text": [
      "Epoch 00116: early stopping\n",
      "WARNING:tensorflow:Model was constructed with shape (None, 1, 1) for input KerasTensor(type_spec=TensorSpec(shape=(None, 1, 1), dtype=tf.float32, name='lstm_276_input'), name='lstm_276_input', description=\"created by layer 'lstm_276_input'\"), but it was called on an input with incompatible shape (None, 2, 1).\n"
     ]
    },
    {
     "name": "stderr",
     "output_type": "stream",
     "text": [
      "WARNING:tensorflow:Model was constructed with shape (None, 1, 1) for input KerasTensor(type_spec=TensorSpec(shape=(None, 1, 1), dtype=tf.float32, name='lstm_276_input'), name='lstm_276_input', description=\"created by layer 'lstm_276_input'\"), but it was called on an input with incompatible shape (None, 2, 1).\n"
     ]
    },
    {
     "name": "stdout",
     "output_type": "stream",
     "text": [
      "Epoch 00172: early stopping\n",
      "WARNING:tensorflow:Model was constructed with shape (None, 1, 1) for input KerasTensor(type_spec=TensorSpec(shape=(None, 1, 1), dtype=tf.float32, name='lstm_278_input'), name='lstm_278_input', description=\"created by layer 'lstm_278_input'\"), but it was called on an input with incompatible shape (None, 2, 1).\n"
     ]
    },
    {
     "name": "stderr",
     "output_type": "stream",
     "text": [
      "WARNING:tensorflow:Model was constructed with shape (None, 1, 1) for input KerasTensor(type_spec=TensorSpec(shape=(None, 1, 1), dtype=tf.float32, name='lstm_278_input'), name='lstm_278_input', description=\"created by layer 'lstm_278_input'\"), but it was called on an input with incompatible shape (None, 2, 1).\n"
     ]
    },
    {
     "name": "stdout",
     "output_type": "stream",
     "text": [
      "Epoch 00192: early stopping\n",
      "WARNING:tensorflow:Model was constructed with shape (None, 1, 1) for input KerasTensor(type_spec=TensorSpec(shape=(None, 1, 1), dtype=tf.float32, name='lstm_280_input'), name='lstm_280_input', description=\"created by layer 'lstm_280_input'\"), but it was called on an input with incompatible shape (None, 2, 1).\n"
     ]
    },
    {
     "name": "stderr",
     "output_type": "stream",
     "text": [
      "WARNING:tensorflow:Model was constructed with shape (None, 1, 1) for input KerasTensor(type_spec=TensorSpec(shape=(None, 1, 1), dtype=tf.float32, name='lstm_280_input'), name='lstm_280_input', description=\"created by layer 'lstm_280_input'\"), but it was called on an input with incompatible shape (None, 2, 1).\n"
     ]
    },
    {
     "name": "stdout",
     "output_type": "stream",
     "text": [
      "Epoch 00119: early stopping\n",
      "WARNING:tensorflow:Model was constructed with shape (None, 1, 1) for input KerasTensor(type_spec=TensorSpec(shape=(None, 1, 1), dtype=tf.float32, name='lstm_282_input'), name='lstm_282_input', description=\"created by layer 'lstm_282_input'\"), but it was called on an input with incompatible shape (None, 2, 1).\n"
     ]
    },
    {
     "name": "stderr",
     "output_type": "stream",
     "text": [
      "WARNING:tensorflow:Model was constructed with shape (None, 1, 1) for input KerasTensor(type_spec=TensorSpec(shape=(None, 1, 1), dtype=tf.float32, name='lstm_282_input'), name='lstm_282_input', description=\"created by layer 'lstm_282_input'\"), but it was called on an input with incompatible shape (None, 2, 1).\n"
     ]
    },
    {
     "name": "stdout",
     "output_type": "stream",
     "text": [
      "Epoch 00378: early stopping\n",
      "WARNING:tensorflow:Model was constructed with shape (None, 1, 1) for input KerasTensor(type_spec=TensorSpec(shape=(None, 1, 1), dtype=tf.float32, name='lstm_284_input'), name='lstm_284_input', description=\"created by layer 'lstm_284_input'\"), but it was called on an input with incompatible shape (None, 2, 1).\n"
     ]
    },
    {
     "name": "stderr",
     "output_type": "stream",
     "text": [
      "WARNING:tensorflow:Model was constructed with shape (None, 1, 1) for input KerasTensor(type_spec=TensorSpec(shape=(None, 1, 1), dtype=tf.float32, name='lstm_284_input'), name='lstm_284_input', description=\"created by layer 'lstm_284_input'\"), but it was called on an input with incompatible shape (None, 2, 1).\n"
     ]
    },
    {
     "name": "stdout",
     "output_type": "stream",
     "text": [
      "Epoch 00148: early stopping\n",
      "WARNING:tensorflow:Model was constructed with shape (None, 1, 1) for input KerasTensor(type_spec=TensorSpec(shape=(None, 1, 1), dtype=tf.float32, name='lstm_286_input'), name='lstm_286_input', description=\"created by layer 'lstm_286_input'\"), but it was called on an input with incompatible shape (None, 2, 1).\n"
     ]
    },
    {
     "name": "stderr",
     "output_type": "stream",
     "text": [
      "WARNING:tensorflow:Model was constructed with shape (None, 1, 1) for input KerasTensor(type_spec=TensorSpec(shape=(None, 1, 1), dtype=tf.float32, name='lstm_286_input'), name='lstm_286_input', description=\"created by layer 'lstm_286_input'\"), but it was called on an input with incompatible shape (None, 2, 1).\n"
     ]
    },
    {
     "name": "stdout",
     "output_type": "stream",
     "text": [
      "Epoch 00118: early stopping\n",
      "WARNING:tensorflow:Model was constructed with shape (None, 1, 1) for input KerasTensor(type_spec=TensorSpec(shape=(None, 1, 1), dtype=tf.float32, name='lstm_288_input'), name='lstm_288_input', description=\"created by layer 'lstm_288_input'\"), but it was called on an input with incompatible shape (None, 2, 1).\n"
     ]
    },
    {
     "name": "stderr",
     "output_type": "stream",
     "text": [
      "WARNING:tensorflow:Model was constructed with shape (None, 1, 1) for input KerasTensor(type_spec=TensorSpec(shape=(None, 1, 1), dtype=tf.float32, name='lstm_288_input'), name='lstm_288_input', description=\"created by layer 'lstm_288_input'\"), but it was called on an input with incompatible shape (None, 2, 1).\n"
     ]
    },
    {
     "name": "stdout",
     "output_type": "stream",
     "text": [
      "Epoch 00354: early stopping\n",
      "WARNING:tensorflow:Model was constructed with shape (None, 1, 1) for input KerasTensor(type_spec=TensorSpec(shape=(None, 1, 1), dtype=tf.float32, name='lstm_290_input'), name='lstm_290_input', description=\"created by layer 'lstm_290_input'\"), but it was called on an input with incompatible shape (None, 2, 1).\n"
     ]
    },
    {
     "name": "stderr",
     "output_type": "stream",
     "text": [
      "WARNING:tensorflow:Model was constructed with shape (None, 1, 1) for input KerasTensor(type_spec=TensorSpec(shape=(None, 1, 1), dtype=tf.float32, name='lstm_290_input'), name='lstm_290_input', description=\"created by layer 'lstm_290_input'\"), but it was called on an input with incompatible shape (None, 2, 1).\n"
     ]
    },
    {
     "name": "stdout",
     "output_type": "stream",
     "text": [
      "Epoch 00165: early stopping\n",
      "WARNING:tensorflow:Model was constructed with shape (None, 1, 1) for input KerasTensor(type_spec=TensorSpec(shape=(None, 1, 1), dtype=tf.float32, name='lstm_292_input'), name='lstm_292_input', description=\"created by layer 'lstm_292_input'\"), but it was called on an input with incompatible shape (None, 2, 1).\n"
     ]
    },
    {
     "name": "stderr",
     "output_type": "stream",
     "text": [
      "WARNING:tensorflow:Model was constructed with shape (None, 1, 1) for input KerasTensor(type_spec=TensorSpec(shape=(None, 1, 1), dtype=tf.float32, name='lstm_292_input'), name='lstm_292_input', description=\"created by layer 'lstm_292_input'\"), but it was called on an input with incompatible shape (None, 2, 1).\n"
     ]
    },
    {
     "name": "stdout",
     "output_type": "stream",
     "text": [
      "Epoch 00180: early stopping\n",
      "WARNING:tensorflow:Model was constructed with shape (None, 1, 1) for input KerasTensor(type_spec=TensorSpec(shape=(None, 1, 1), dtype=tf.float32, name='lstm_294_input'), name='lstm_294_input', description=\"created by layer 'lstm_294_input'\"), but it was called on an input with incompatible shape (None, 2, 1).\n"
     ]
    },
    {
     "name": "stderr",
     "output_type": "stream",
     "text": [
      "WARNING:tensorflow:Model was constructed with shape (None, 1, 1) for input KerasTensor(type_spec=TensorSpec(shape=(None, 1, 1), dtype=tf.float32, name='lstm_294_input'), name='lstm_294_input', description=\"created by layer 'lstm_294_input'\"), but it was called on an input with incompatible shape (None, 2, 1).\n"
     ]
    },
    {
     "name": "stdout",
     "output_type": "stream",
     "text": [
      "Epoch 00158: early stopping\n",
      "WARNING:tensorflow:Model was constructed with shape (None, 1, 1) for input KerasTensor(type_spec=TensorSpec(shape=(None, 1, 1), dtype=tf.float32, name='lstm_296_input'), name='lstm_296_input', description=\"created by layer 'lstm_296_input'\"), but it was called on an input with incompatible shape (None, 2, 1).\n"
     ]
    },
    {
     "name": "stderr",
     "output_type": "stream",
     "text": [
      "WARNING:tensorflow:Model was constructed with shape (None, 1, 1) for input KerasTensor(type_spec=TensorSpec(shape=(None, 1, 1), dtype=tf.float32, name='lstm_296_input'), name='lstm_296_input', description=\"created by layer 'lstm_296_input'\"), but it was called on an input with incompatible shape (None, 2, 1).\n"
     ]
    },
    {
     "name": "stdout",
     "output_type": "stream",
     "text": [
      "Epoch 00124: early stopping\n",
      "WARNING:tensorflow:Model was constructed with shape (None, 1, 1) for input KerasTensor(type_spec=TensorSpec(shape=(None, 1, 1), dtype=tf.float32, name='lstm_298_input'), name='lstm_298_input', description=\"created by layer 'lstm_298_input'\"), but it was called on an input with incompatible shape (None, 2, 1).\n"
     ]
    },
    {
     "name": "stderr",
     "output_type": "stream",
     "text": [
      "WARNING:tensorflow:Model was constructed with shape (None, 1, 1) for input KerasTensor(type_spec=TensorSpec(shape=(None, 1, 1), dtype=tf.float32, name='lstm_298_input'), name='lstm_298_input', description=\"created by layer 'lstm_298_input'\"), but it was called on an input with incompatible shape (None, 2, 1).\n"
     ]
    },
    {
     "name": "stdout",
     "output_type": "stream",
     "text": [
      "Epoch 00120: early stopping\n",
      "WARNING:tensorflow:Model was constructed with shape (None, 1, 1) for input KerasTensor(type_spec=TensorSpec(shape=(None, 1, 1), dtype=tf.float32, name='lstm_300_input'), name='lstm_300_input', description=\"created by layer 'lstm_300_input'\"), but it was called on an input with incompatible shape (None, 2, 1).\n"
     ]
    },
    {
     "name": "stderr",
     "output_type": "stream",
     "text": [
      "WARNING:tensorflow:Model was constructed with shape (None, 1, 1) for input KerasTensor(type_spec=TensorSpec(shape=(None, 1, 1), dtype=tf.float32, name='lstm_300_input'), name='lstm_300_input', description=\"created by layer 'lstm_300_input'\"), but it was called on an input with incompatible shape (None, 2, 1).\n"
     ]
    },
    {
     "name": "stdout",
     "output_type": "stream",
     "text": [
      "Epoch 00140: early stopping\n",
      "WARNING:tensorflow:Model was constructed with shape (None, 1, 1) for input KerasTensor(type_spec=TensorSpec(shape=(None, 1, 1), dtype=tf.float32, name='lstm_302_input'), name='lstm_302_input', description=\"created by layer 'lstm_302_input'\"), but it was called on an input with incompatible shape (None, 2, 1).\n"
     ]
    },
    {
     "name": "stderr",
     "output_type": "stream",
     "text": [
      "WARNING:tensorflow:Model was constructed with shape (None, 1, 1) for input KerasTensor(type_spec=TensorSpec(shape=(None, 1, 1), dtype=tf.float32, name='lstm_302_input'), name='lstm_302_input', description=\"created by layer 'lstm_302_input'\"), but it was called on an input with incompatible shape (None, 2, 1).\n"
     ]
    },
    {
     "name": "stdout",
     "output_type": "stream",
     "text": [
      "Epoch 00174: early stopping\n",
      "WARNING:tensorflow:Model was constructed with shape (None, 1, 1) for input KerasTensor(type_spec=TensorSpec(shape=(None, 1, 1), dtype=tf.float32, name='lstm_304_input'), name='lstm_304_input', description=\"created by layer 'lstm_304_input'\"), but it was called on an input with incompatible shape (None, 2, 1).\n"
     ]
    },
    {
     "name": "stderr",
     "output_type": "stream",
     "text": [
      "WARNING:tensorflow:Model was constructed with shape (None, 1, 1) for input KerasTensor(type_spec=TensorSpec(shape=(None, 1, 1), dtype=tf.float32, name='lstm_304_input'), name='lstm_304_input', description=\"created by layer 'lstm_304_input'\"), but it was called on an input with incompatible shape (None, 2, 1).\n"
     ]
    },
    {
     "name": "stdout",
     "output_type": "stream",
     "text": [
      "Epoch 00121: early stopping\n",
      "WARNING:tensorflow:Model was constructed with shape (None, 1, 1) for input KerasTensor(type_spec=TensorSpec(shape=(None, 1, 1), dtype=tf.float32, name='lstm_306_input'), name='lstm_306_input', description=\"created by layer 'lstm_306_input'\"), but it was called on an input with incompatible shape (None, 2, 1).\n"
     ]
    },
    {
     "name": "stderr",
     "output_type": "stream",
     "text": [
      "WARNING:tensorflow:Model was constructed with shape (None, 1, 1) for input KerasTensor(type_spec=TensorSpec(shape=(None, 1, 1), dtype=tf.float32, name='lstm_306_input'), name='lstm_306_input', description=\"created by layer 'lstm_306_input'\"), but it was called on an input with incompatible shape (None, 2, 1).\n"
     ]
    },
    {
     "name": "stdout",
     "output_type": "stream",
     "text": [
      "Epoch 00293: early stopping\n",
      "WARNING:tensorflow:Model was constructed with shape (None, 1, 1) for input KerasTensor(type_spec=TensorSpec(shape=(None, 1, 1), dtype=tf.float32, name='lstm_308_input'), name='lstm_308_input', description=\"created by layer 'lstm_308_input'\"), but it was called on an input with incompatible shape (None, 2, 1).\n"
     ]
    },
    {
     "name": "stderr",
     "output_type": "stream",
     "text": [
      "WARNING:tensorflow:Model was constructed with shape (None, 1, 1) for input KerasTensor(type_spec=TensorSpec(shape=(None, 1, 1), dtype=tf.float32, name='lstm_308_input'), name='lstm_308_input', description=\"created by layer 'lstm_308_input'\"), but it was called on an input with incompatible shape (None, 2, 1).\n"
     ]
    },
    {
     "name": "stdout",
     "output_type": "stream",
     "text": [
      "Epoch 00174: early stopping\n",
      "WARNING:tensorflow:Model was constructed with shape (None, 1, 1) for input KerasTensor(type_spec=TensorSpec(shape=(None, 1, 1), dtype=tf.float32, name='lstm_310_input'), name='lstm_310_input', description=\"created by layer 'lstm_310_input'\"), but it was called on an input with incompatible shape (None, 2, 1).\n"
     ]
    },
    {
     "name": "stderr",
     "output_type": "stream",
     "text": [
      "WARNING:tensorflow:Model was constructed with shape (None, 1, 1) for input KerasTensor(type_spec=TensorSpec(shape=(None, 1, 1), dtype=tf.float32, name='lstm_310_input'), name='lstm_310_input', description=\"created by layer 'lstm_310_input'\"), but it was called on an input with incompatible shape (None, 2, 1).\n"
     ]
    },
    {
     "name": "stdout",
     "output_type": "stream",
     "text": [
      "Epoch 00162: early stopping\n",
      "WARNING:tensorflow:Model was constructed with shape (None, 1, 1) for input KerasTensor(type_spec=TensorSpec(shape=(None, 1, 1), dtype=tf.float32, name='lstm_312_input'), name='lstm_312_input', description=\"created by layer 'lstm_312_input'\"), but it was called on an input with incompatible shape (None, 2, 1).\n"
     ]
    },
    {
     "name": "stderr",
     "output_type": "stream",
     "text": [
      "WARNING:tensorflow:Model was constructed with shape (None, 1, 1) for input KerasTensor(type_spec=TensorSpec(shape=(None, 1, 1), dtype=tf.float32, name='lstm_312_input'), name='lstm_312_input', description=\"created by layer 'lstm_312_input'\"), but it was called on an input with incompatible shape (None, 2, 1).\n"
     ]
    },
    {
     "name": "stdout",
     "output_type": "stream",
     "text": [
      "Epoch 00153: early stopping\n",
      "WARNING:tensorflow:Model was constructed with shape (None, 1, 1) for input KerasTensor(type_spec=TensorSpec(shape=(None, 1, 1), dtype=tf.float32, name='lstm_314_input'), name='lstm_314_input', description=\"created by layer 'lstm_314_input'\"), but it was called on an input with incompatible shape (None, 2, 1).\n"
     ]
    },
    {
     "name": "stderr",
     "output_type": "stream",
     "text": [
      "WARNING:tensorflow:Model was constructed with shape (None, 1, 1) for input KerasTensor(type_spec=TensorSpec(shape=(None, 1, 1), dtype=tf.float32, name='lstm_314_input'), name='lstm_314_input', description=\"created by layer 'lstm_314_input'\"), but it was called on an input with incompatible shape (None, 2, 1).\n"
     ]
    },
    {
     "name": "stdout",
     "output_type": "stream",
     "text": [
      "Epoch 00120: early stopping\n",
      "WARNING:tensorflow:Model was constructed with shape (None, 1, 1) for input KerasTensor(type_spec=TensorSpec(shape=(None, 1, 1), dtype=tf.float32, name='lstm_316_input'), name='lstm_316_input', description=\"created by layer 'lstm_316_input'\"), but it was called on an input with incompatible shape (None, 2, 1).\n"
     ]
    },
    {
     "name": "stderr",
     "output_type": "stream",
     "text": [
      "WARNING:tensorflow:Model was constructed with shape (None, 1, 1) for input KerasTensor(type_spec=TensorSpec(shape=(None, 1, 1), dtype=tf.float32, name='lstm_316_input'), name='lstm_316_input', description=\"created by layer 'lstm_316_input'\"), but it was called on an input with incompatible shape (None, 2, 1).\n"
     ]
    },
    {
     "name": "stdout",
     "output_type": "stream",
     "text": [
      "Epoch 00156: early stopping\n",
      "WARNING:tensorflow:Model was constructed with shape (None, 1, 1) for input KerasTensor(type_spec=TensorSpec(shape=(None, 1, 1), dtype=tf.float32, name='lstm_318_input'), name='lstm_318_input', description=\"created by layer 'lstm_318_input'\"), but it was called on an input with incompatible shape (None, 2, 1).\n"
     ]
    },
    {
     "name": "stderr",
     "output_type": "stream",
     "text": [
      "WARNING:tensorflow:Model was constructed with shape (None, 1, 1) for input KerasTensor(type_spec=TensorSpec(shape=(None, 1, 1), dtype=tf.float32, name='lstm_318_input'), name='lstm_318_input', description=\"created by layer 'lstm_318_input'\"), but it was called on an input with incompatible shape (None, 2, 1).\n"
     ]
    },
    {
     "name": "stdout",
     "output_type": "stream",
     "text": [
      "Epoch 00198: early stopping\n",
      "WARNING:tensorflow:Model was constructed with shape (None, 1, 1) for input KerasTensor(type_spec=TensorSpec(shape=(None, 1, 1), dtype=tf.float32, name='lstm_320_input'), name='lstm_320_input', description=\"created by layer 'lstm_320_input'\"), but it was called on an input with incompatible shape (None, 2, 1).\n"
     ]
    },
    {
     "name": "stderr",
     "output_type": "stream",
     "text": [
      "WARNING:tensorflow:Model was constructed with shape (None, 1, 1) for input KerasTensor(type_spec=TensorSpec(shape=(None, 1, 1), dtype=tf.float32, name='lstm_320_input'), name='lstm_320_input', description=\"created by layer 'lstm_320_input'\"), but it was called on an input with incompatible shape (None, 2, 1).\n"
     ]
    },
    {
     "name": "stdout",
     "output_type": "stream",
     "text": [
      "Epoch 00203: early stopping\n",
      "WARNING:tensorflow:Model was constructed with shape (None, 1, 1) for input KerasTensor(type_spec=TensorSpec(shape=(None, 1, 1), dtype=tf.float32, name='lstm_322_input'), name='lstm_322_input', description=\"created by layer 'lstm_322_input'\"), but it was called on an input with incompatible shape (None, 2, 1).\n"
     ]
    },
    {
     "name": "stderr",
     "output_type": "stream",
     "text": [
      "WARNING:tensorflow:Model was constructed with shape (None, 1, 1) for input KerasTensor(type_spec=TensorSpec(shape=(None, 1, 1), dtype=tf.float32, name='lstm_322_input'), name='lstm_322_input', description=\"created by layer 'lstm_322_input'\"), but it was called on an input with incompatible shape (None, 2, 1).\n"
     ]
    },
    {
     "name": "stdout",
     "output_type": "stream",
     "text": [
      "Epoch 00130: early stopping\n",
      "WARNING:tensorflow:Model was constructed with shape (None, 1, 1) for input KerasTensor(type_spec=TensorSpec(shape=(None, 1, 1), dtype=tf.float32, name='lstm_324_input'), name='lstm_324_input', description=\"created by layer 'lstm_324_input'\"), but it was called on an input with incompatible shape (None, 2, 1).\n"
     ]
    },
    {
     "name": "stderr",
     "output_type": "stream",
     "text": [
      "WARNING:tensorflow:Model was constructed with shape (None, 1, 1) for input KerasTensor(type_spec=TensorSpec(shape=(None, 1, 1), dtype=tf.float32, name='lstm_324_input'), name='lstm_324_input', description=\"created by layer 'lstm_324_input'\"), but it was called on an input with incompatible shape (None, 2, 1).\n"
     ]
    },
    {
     "name": "stdout",
     "output_type": "stream",
     "text": [
      "Epoch 00182: early stopping\n",
      "WARNING:tensorflow:Model was constructed with shape (None, 1, 1) for input KerasTensor(type_spec=TensorSpec(shape=(None, 1, 1), dtype=tf.float32, name='lstm_326_input'), name='lstm_326_input', description=\"created by layer 'lstm_326_input'\"), but it was called on an input with incompatible shape (None, 2, 1).\n"
     ]
    },
    {
     "name": "stderr",
     "output_type": "stream",
     "text": [
      "WARNING:tensorflow:Model was constructed with shape (None, 1, 1) for input KerasTensor(type_spec=TensorSpec(shape=(None, 1, 1), dtype=tf.float32, name='lstm_326_input'), name='lstm_326_input', description=\"created by layer 'lstm_326_input'\"), but it was called on an input with incompatible shape (None, 2, 1).\n"
     ]
    },
    {
     "name": "stdout",
     "output_type": "stream",
     "text": [
      "Epoch 00105: early stopping\n",
      "WARNING:tensorflow:Model was constructed with shape (None, 1, 1) for input KerasTensor(type_spec=TensorSpec(shape=(None, 1, 1), dtype=tf.float32, name='lstm_328_input'), name='lstm_328_input', description=\"created by layer 'lstm_328_input'\"), but it was called on an input with incompatible shape (None, 2, 1).\n"
     ]
    },
    {
     "name": "stderr",
     "output_type": "stream",
     "text": [
      "WARNING:tensorflow:Model was constructed with shape (None, 1, 1) for input KerasTensor(type_spec=TensorSpec(shape=(None, 1, 1), dtype=tf.float32, name='lstm_328_input'), name='lstm_328_input', description=\"created by layer 'lstm_328_input'\"), but it was called on an input with incompatible shape (None, 2, 1).\n"
     ]
    },
    {
     "name": "stdout",
     "output_type": "stream",
     "text": [
      "Epoch 00157: early stopping\n",
      "WARNING:tensorflow:Model was constructed with shape (None, 1, 1) for input KerasTensor(type_spec=TensorSpec(shape=(None, 1, 1), dtype=tf.float32, name='lstm_330_input'), name='lstm_330_input', description=\"created by layer 'lstm_330_input'\"), but it was called on an input with incompatible shape (None, 2, 1).\n"
     ]
    },
    {
     "name": "stderr",
     "output_type": "stream",
     "text": [
      "WARNING:tensorflow:Model was constructed with shape (None, 1, 1) for input KerasTensor(type_spec=TensorSpec(shape=(None, 1, 1), dtype=tf.float32, name='lstm_330_input'), name='lstm_330_input', description=\"created by layer 'lstm_330_input'\"), but it was called on an input with incompatible shape (None, 2, 1).\n"
     ]
    },
    {
     "name": "stdout",
     "output_type": "stream",
     "text": [
      "Epoch 00235: early stopping\n",
      "WARNING:tensorflow:Model was constructed with shape (None, 1, 1) for input KerasTensor(type_spec=TensorSpec(shape=(None, 1, 1), dtype=tf.float32, name='lstm_332_input'), name='lstm_332_input', description=\"created by layer 'lstm_332_input'\"), but it was called on an input with incompatible shape (None, 2, 1).\n"
     ]
    },
    {
     "name": "stderr",
     "output_type": "stream",
     "text": [
      "WARNING:tensorflow:Model was constructed with shape (None, 1, 1) for input KerasTensor(type_spec=TensorSpec(shape=(None, 1, 1), dtype=tf.float32, name='lstm_332_input'), name='lstm_332_input', description=\"created by layer 'lstm_332_input'\"), but it was called on an input with incompatible shape (None, 2, 1).\n"
     ]
    },
    {
     "name": "stdout",
     "output_type": "stream",
     "text": [
      "Epoch 00164: early stopping\n",
      "WARNING:tensorflow:Model was constructed with shape (None, 1, 1) for input KerasTensor(type_spec=TensorSpec(shape=(None, 1, 1), dtype=tf.float32, name='lstm_334_input'), name='lstm_334_input', description=\"created by layer 'lstm_334_input'\"), but it was called on an input with incompatible shape (None, 2, 1).\n"
     ]
    },
    {
     "name": "stderr",
     "output_type": "stream",
     "text": [
      "WARNING:tensorflow:Model was constructed with shape (None, 1, 1) for input KerasTensor(type_spec=TensorSpec(shape=(None, 1, 1), dtype=tf.float32, name='lstm_334_input'), name='lstm_334_input', description=\"created by layer 'lstm_334_input'\"), but it was called on an input with incompatible shape (None, 2, 1).\n"
     ]
    },
    {
     "name": "stdout",
     "output_type": "stream",
     "text": [
      "Epoch 00156: early stopping\n",
      "WARNING:tensorflow:Model was constructed with shape (None, 1, 1) for input KerasTensor(type_spec=TensorSpec(shape=(None, 1, 1), dtype=tf.float32, name='lstm_336_input'), name='lstm_336_input', description=\"created by layer 'lstm_336_input'\"), but it was called on an input with incompatible shape (None, 2, 1).\n"
     ]
    },
    {
     "name": "stderr",
     "output_type": "stream",
     "text": [
      "WARNING:tensorflow:Model was constructed with shape (None, 1, 1) for input KerasTensor(type_spec=TensorSpec(shape=(None, 1, 1), dtype=tf.float32, name='lstm_336_input'), name='lstm_336_input', description=\"created by layer 'lstm_336_input'\"), but it was called on an input with incompatible shape (None, 2, 1).\n"
     ]
    },
    {
     "name": "stdout",
     "output_type": "stream",
     "text": [
      "Epoch 00150: early stopping\n",
      "WARNING:tensorflow:Model was constructed with shape (None, 1, 1) for input KerasTensor(type_spec=TensorSpec(shape=(None, 1, 1), dtype=tf.float32, name='lstm_338_input'), name='lstm_338_input', description=\"created by layer 'lstm_338_input'\"), but it was called on an input with incompatible shape (None, 2, 1).\n"
     ]
    },
    {
     "name": "stderr",
     "output_type": "stream",
     "text": [
      "WARNING:tensorflow:Model was constructed with shape (None, 1, 1) for input KerasTensor(type_spec=TensorSpec(shape=(None, 1, 1), dtype=tf.float32, name='lstm_338_input'), name='lstm_338_input', description=\"created by layer 'lstm_338_input'\"), but it was called on an input with incompatible shape (None, 2, 1).\n"
     ]
    },
    {
     "data": {
      "text/html": [
       "<div>\n",
       "<style scoped>\n",
       "    .dataframe tbody tr th:only-of-type {\n",
       "        vertical-align: middle;\n",
       "    }\n",
       "\n",
       "    .dataframe tbody tr th {\n",
       "        vertical-align: top;\n",
       "    }\n",
       "\n",
       "    .dataframe thead th {\n",
       "        text-align: right;\n",
       "    }\n",
       "</style>\n",
       "<table border=\"1\" class=\"dataframe\">\n",
       "  <thead>\n",
       "    <tr style=\"text-align: right;\">\n",
       "      <th></th>\n",
       "      <th>7dayrollingavg_newlyconfirmed</th>\n",
       "      <th>7dayrollingavg_newdeath</th>\n",
       "      <th>hospitalized_covid_patients</th>\n",
       "      <th>all_hospital_beds</th>\n",
       "      <th>icu_available_beds</th>\n",
       "      <th>Prediction</th>\n",
       "      <th>County</th>\n",
       "    </tr>\n",
       "  </thead>\n",
       "  <tbody>\n",
       "    <tr>\n",
       "      <th>2019-12-25</th>\n",
       "      <td>NaN</td>\n",
       "      <td>NaN</td>\n",
       "      <td>NaN</td>\n",
       "      <td>NaN</td>\n",
       "      <td>NaN</td>\n",
       "      <td>NaN</td>\n",
       "      <td>NaN</td>\n",
       "    </tr>\n",
       "    <tr>\n",
       "      <th>2020-03-29</th>\n",
       "      <td>1.153915</td>\n",
       "      <td>0.042738</td>\n",
       "      <td>127.0</td>\n",
       "      <td>2725.0</td>\n",
       "      <td>119.0</td>\n",
       "      <td>NaN</td>\n",
       "      <td>Alameda</td>\n",
       "    </tr>\n",
       "    <tr>\n",
       "      <th>2020-03-30</th>\n",
       "      <td>1.384698</td>\n",
       "      <td>0.051285</td>\n",
       "      <td>148.0</td>\n",
       "      <td>3283.0</td>\n",
       "      <td>146.0</td>\n",
       "      <td>NaN</td>\n",
       "      <td>Alameda</td>\n",
       "    </tr>\n",
       "    <tr>\n",
       "      <th>2020-03-31</th>\n",
       "      <td>1.478721</td>\n",
       "      <td>0.042738</td>\n",
       "      <td>150.0</td>\n",
       "      <td>1857.0</td>\n",
       "      <td>77.0</td>\n",
       "      <td>NaN</td>\n",
       "      <td>Alameda</td>\n",
       "    </tr>\n",
       "    <tr>\n",
       "      <th>2020-04-01</th>\n",
       "      <td>1.307770</td>\n",
       "      <td>0.042738</td>\n",
       "      <td>128.0</td>\n",
       "      <td>2456.0</td>\n",
       "      <td>106.0</td>\n",
       "      <td>NaN</td>\n",
       "      <td>Alameda</td>\n",
       "    </tr>\n",
       "  </tbody>\n",
       "</table>\n",
       "</div>"
      ],
      "text/plain": [
       "            7dayrollingavg_newlyconfirmed  7dayrollingavg_newdeath  \\\n",
       "2019-12-25                            NaN                      NaN   \n",
       "2020-03-29                       1.153915                 0.042738   \n",
       "2020-03-30                       1.384698                 0.051285   \n",
       "2020-03-31                       1.478721                 0.042738   \n",
       "2020-04-01                       1.307770                 0.042738   \n",
       "\n",
       "            hospitalized_covid_patients  all_hospital_beds  \\\n",
       "2019-12-25                          NaN                NaN   \n",
       "2020-03-29                        127.0             2725.0   \n",
       "2020-03-30                        148.0             3283.0   \n",
       "2020-03-31                        150.0             1857.0   \n",
       "2020-04-01                        128.0             2456.0   \n",
       "\n",
       "            icu_available_beds  Prediction   County  \n",
       "2019-12-25                 NaN         NaN      NaN  \n",
       "2020-03-29               119.0         NaN  Alameda  \n",
       "2020-03-30               146.0         NaN  Alameda  \n",
       "2020-03-31                77.0         NaN  Alameda  \n",
       "2020-04-01               106.0         NaN  Alameda  "
      ]
     },
     "execution_count": 57,
     "metadata": {},
     "output_type": "execute_result"
    }
   ],
   "source": [
    "# generate predictions for all 58 counties\n",
    "todays_date = datetime.datetime.now().date()\n",
    "index = pd.date_range(todays_date-datetime.timedelta(400), periods = 1, freq = 'D')\n",
    "pred_df = pd.DataFrame(index = index, columns = df_test.columns)\n",
    "\n",
    "for i in county_df.index.get_level_values('county').unique():\n",
    "    model_df = county_df.loc[i]\n",
    "    prediction_df, model = pred_model(model_df)\n",
    "    model.save(f'./county_models/{i}.h5', save_format='h5')\n",
    "    prediction_df['County'] = i\n",
    "    pred_df = pred_df.append(prediction_df)\n",
    "    \n",
    "pred_df.head()"
   ]
  },
  {
   "cell_type": "code",
   "execution_count": 47,
   "metadata": {},
   "outputs": [
    {
     "data": {
      "text/html": [
       "<div>\n",
       "<style scoped>\n",
       "    .dataframe tbody tr th:only-of-type {\n",
       "        vertical-align: middle;\n",
       "    }\n",
       "\n",
       "    .dataframe tbody tr th {\n",
       "        vertical-align: top;\n",
       "    }\n",
       "\n",
       "    .dataframe thead th {\n",
       "        text-align: right;\n",
       "    }\n",
       "</style>\n",
       "<table border=\"1\" class=\"dataframe\">\n",
       "  <thead>\n",
       "    <tr style=\"text-align: right;\">\n",
       "      <th></th>\n",
       "      <th>7dayrollingavg_newlyconfirmed</th>\n",
       "      <th>7dayrollingavg_newdeath</th>\n",
       "      <th>hospitalized_covid_patients</th>\n",
       "      <th>all_hospital_beds</th>\n",
       "      <th>icu_available_beds</th>\n",
       "      <th>Prediction</th>\n",
       "      <th>County</th>\n",
       "    </tr>\n",
       "  </thead>\n",
       "  <tbody>\n",
       "    <tr>\n",
       "      <th>2021-02-10</th>\n",
       "      <td>NaN</td>\n",
       "      <td>NaN</td>\n",
       "      <td>NaN</td>\n",
       "      <td>NaN</td>\n",
       "      <td>NaN</td>\n",
       "      <td>30.755768</td>\n",
       "      <td>Yuba</td>\n",
       "    </tr>\n",
       "    <tr>\n",
       "      <th>2021-02-11</th>\n",
       "      <td>NaN</td>\n",
       "      <td>NaN</td>\n",
       "      <td>NaN</td>\n",
       "      <td>NaN</td>\n",
       "      <td>NaN</td>\n",
       "      <td>30.755768</td>\n",
       "      <td>Yuba</td>\n",
       "    </tr>\n",
       "    <tr>\n",
       "      <th>2021-02-12</th>\n",
       "      <td>NaN</td>\n",
       "      <td>NaN</td>\n",
       "      <td>NaN</td>\n",
       "      <td>NaN</td>\n",
       "      <td>NaN</td>\n",
       "      <td>30.756201</td>\n",
       "      <td>Yuba</td>\n",
       "    </tr>\n",
       "    <tr>\n",
       "      <th>2021-02-13</th>\n",
       "      <td>NaN</td>\n",
       "      <td>NaN</td>\n",
       "      <td>NaN</td>\n",
       "      <td>NaN</td>\n",
       "      <td>NaN</td>\n",
       "      <td>30.756201</td>\n",
       "      <td>Yuba</td>\n",
       "    </tr>\n",
       "    <tr>\n",
       "      <th>2021-02-14</th>\n",
       "      <td>NaN</td>\n",
       "      <td>NaN</td>\n",
       "      <td>NaN</td>\n",
       "      <td>NaN</td>\n",
       "      <td>NaN</td>\n",
       "      <td>30.756201</td>\n",
       "      <td>Yuba</td>\n",
       "    </tr>\n",
       "  </tbody>\n",
       "</table>\n",
       "</div>"
      ],
      "text/plain": [
       "            7dayrollingavg_newlyconfirmed  7dayrollingavg_newdeath  \\\n",
       "2021-02-10                            NaN                      NaN   \n",
       "2021-02-11                            NaN                      NaN   \n",
       "2021-02-12                            NaN                      NaN   \n",
       "2021-02-13                            NaN                      NaN   \n",
       "2021-02-14                            NaN                      NaN   \n",
       "\n",
       "            hospitalized_covid_patients  all_hospital_beds  \\\n",
       "2021-02-10                          NaN                NaN   \n",
       "2021-02-11                          NaN                NaN   \n",
       "2021-02-12                          NaN                NaN   \n",
       "2021-02-13                          NaN                NaN   \n",
       "2021-02-14                          NaN                NaN   \n",
       "\n",
       "            icu_available_beds  Prediction County  \n",
       "2021-02-10                 NaN   30.755768   Yuba  \n",
       "2021-02-11                 NaN   30.755768   Yuba  \n",
       "2021-02-12                 NaN   30.756201   Yuba  \n",
       "2021-02-13                 NaN   30.756201   Yuba  \n",
       "2021-02-14                 NaN   30.756201   Yuba  "
      ]
     },
     "execution_count": 47,
     "metadata": {},
     "output_type": "execute_result"
    }
   ],
   "source": [
    "pred_df.tail()"
   ]
  },
  {
   "cell_type": "code",
   "execution_count": 48,
   "metadata": {},
   "outputs": [],
   "source": [
    "pred_df.drop(index = pred_df.index[0], axis = 0, inplace = True)"
   ]
  },
  {
   "cell_type": "code",
   "execution_count": 49,
   "metadata": {},
   "outputs": [],
   "source": [
    "pred_df['7dayrollingavg_newlyconfirmed'].fillna(pred_df['Prediction'], inplace = True)"
   ]
  },
  {
   "cell_type": "code",
   "execution_count": 50,
   "metadata": {},
   "outputs": [
    {
     "data": {
      "text/html": [
       "<div>\n",
       "<style scoped>\n",
       "    .dataframe tbody tr th:only-of-type {\n",
       "        vertical-align: middle;\n",
       "    }\n",
       "\n",
       "    .dataframe tbody tr th {\n",
       "        vertical-align: top;\n",
       "    }\n",
       "\n",
       "    .dataframe thead th {\n",
       "        text-align: right;\n",
       "    }\n",
       "</style>\n",
       "<table border=\"1\" class=\"dataframe\">\n",
       "  <thead>\n",
       "    <tr style=\"text-align: right;\">\n",
       "      <th></th>\n",
       "      <th>7dayrollingavg_newlyconfirmed</th>\n",
       "      <th>7dayrollingavg_newdeath</th>\n",
       "      <th>hospitalized_covid_patients</th>\n",
       "      <th>all_hospital_beds</th>\n",
       "      <th>icu_available_beds</th>\n",
       "      <th>Prediction</th>\n",
       "      <th>County</th>\n",
       "    </tr>\n",
       "  </thead>\n",
       "  <tbody>\n",
       "    <tr>\n",
       "      <th>2020-03-29</th>\n",
       "      <td>1.153915</td>\n",
       "      <td>0.042738</td>\n",
       "      <td>127.0</td>\n",
       "      <td>2725.0</td>\n",
       "      <td>119.0</td>\n",
       "      <td>NaN</td>\n",
       "      <td>Alameda</td>\n",
       "    </tr>\n",
       "    <tr>\n",
       "      <th>2020-03-30</th>\n",
       "      <td>1.384698</td>\n",
       "      <td>0.051285</td>\n",
       "      <td>148.0</td>\n",
       "      <td>3283.0</td>\n",
       "      <td>146.0</td>\n",
       "      <td>NaN</td>\n",
       "      <td>Alameda</td>\n",
       "    </tr>\n",
       "    <tr>\n",
       "      <th>2020-03-31</th>\n",
       "      <td>1.478721</td>\n",
       "      <td>0.042738</td>\n",
       "      <td>150.0</td>\n",
       "      <td>1857.0</td>\n",
       "      <td>77.0</td>\n",
       "      <td>NaN</td>\n",
       "      <td>Alameda</td>\n",
       "    </tr>\n",
       "    <tr>\n",
       "      <th>2020-04-01</th>\n",
       "      <td>1.307770</td>\n",
       "      <td>0.042738</td>\n",
       "      <td>128.0</td>\n",
       "      <td>2456.0</td>\n",
       "      <td>106.0</td>\n",
       "      <td>NaN</td>\n",
       "      <td>Alameda</td>\n",
       "    </tr>\n",
       "    <tr>\n",
       "      <th>2020-04-02</th>\n",
       "      <td>1.478721</td>\n",
       "      <td>0.051285</td>\n",
       "      <td>133.0</td>\n",
       "      <td>2580.0</td>\n",
       "      <td>112.0</td>\n",
       "      <td>NaN</td>\n",
       "      <td>Alameda</td>\n",
       "    </tr>\n",
       "  </tbody>\n",
       "</table>\n",
       "</div>"
      ],
      "text/plain": [
       "            7dayrollingavg_newlyconfirmed  7dayrollingavg_newdeath  \\\n",
       "2020-03-29                       1.153915                 0.042738   \n",
       "2020-03-30                       1.384698                 0.051285   \n",
       "2020-03-31                       1.478721                 0.042738   \n",
       "2020-04-01                       1.307770                 0.042738   \n",
       "2020-04-02                       1.478721                 0.051285   \n",
       "\n",
       "            hospitalized_covid_patients  all_hospital_beds  \\\n",
       "2020-03-29                        127.0             2725.0   \n",
       "2020-03-30                        148.0             3283.0   \n",
       "2020-03-31                        150.0             1857.0   \n",
       "2020-04-01                        128.0             2456.0   \n",
       "2020-04-02                        133.0             2580.0   \n",
       "\n",
       "            icu_available_beds  Prediction   County  \n",
       "2020-03-29               119.0         NaN  Alameda  \n",
       "2020-03-30               146.0         NaN  Alameda  \n",
       "2020-03-31                77.0         NaN  Alameda  \n",
       "2020-04-01               106.0         NaN  Alameda  \n",
       "2020-04-02               112.0         NaN  Alameda  "
      ]
     },
     "execution_count": 50,
     "metadata": {},
     "output_type": "execute_result"
    }
   ],
   "source": [
    "pred_df.head()"
   ]
  },
  {
   "cell_type": "code",
   "execution_count": 51,
   "metadata": {},
   "outputs": [
    {
     "data": {
      "text/html": [
       "<div>\n",
       "<style scoped>\n",
       "    .dataframe tbody tr th:only-of-type {\n",
       "        vertical-align: middle;\n",
       "    }\n",
       "\n",
       "    .dataframe tbody tr th {\n",
       "        vertical-align: top;\n",
       "    }\n",
       "\n",
       "    .dataframe thead th {\n",
       "        text-align: right;\n",
       "    }\n",
       "</style>\n",
       "<table border=\"1\" class=\"dataframe\">\n",
       "  <thead>\n",
       "    <tr style=\"text-align: right;\">\n",
       "      <th></th>\n",
       "      <th>7dayrollingavg_newlyconfirmed</th>\n",
       "      <th>7dayrollingavg_newdeath</th>\n",
       "      <th>hospitalized_covid_patients</th>\n",
       "      <th>all_hospital_beds</th>\n",
       "      <th>icu_available_beds</th>\n",
       "      <th>Prediction</th>\n",
       "      <th>County</th>\n",
       "    </tr>\n",
       "  </thead>\n",
       "  <tbody>\n",
       "    <tr>\n",
       "      <th>2021-01-23</th>\n",
       "      <td>23.578626</td>\n",
       "      <td>0.388926</td>\n",
       "      <td>201.0</td>\n",
       "      <td>2133.0</td>\n",
       "      <td>49.0</td>\n",
       "      <td>NaN</td>\n",
       "      <td>San Francisco</td>\n",
       "    </tr>\n",
       "    <tr>\n",
       "      <th>2021-01-24</th>\n",
       "      <td>23.011443</td>\n",
       "      <td>0.632004</td>\n",
       "      <td>197.0</td>\n",
       "      <td>2103.0</td>\n",
       "      <td>57.0</td>\n",
       "      <td>NaN</td>\n",
       "      <td>San Francisco</td>\n",
       "    </tr>\n",
       "    <tr>\n",
       "      <th>2021-01-25</th>\n",
       "      <td>11.260606</td>\n",
       "      <td>NaN</td>\n",
       "      <td>NaN</td>\n",
       "      <td>NaN</td>\n",
       "      <td>NaN</td>\n",
       "      <td>11.260606</td>\n",
       "      <td>San Francisco</td>\n",
       "    </tr>\n",
       "    <tr>\n",
       "      <th>2021-01-26</th>\n",
       "      <td>23.028988</td>\n",
       "      <td>NaN</td>\n",
       "      <td>NaN</td>\n",
       "      <td>NaN</td>\n",
       "      <td>NaN</td>\n",
       "      <td>23.028988</td>\n",
       "      <td>San Francisco</td>\n",
       "    </tr>\n",
       "    <tr>\n",
       "      <th>2021-01-27</th>\n",
       "      <td>25.084200</td>\n",
       "      <td>NaN</td>\n",
       "      <td>NaN</td>\n",
       "      <td>NaN</td>\n",
       "      <td>NaN</td>\n",
       "      <td>25.084200</td>\n",
       "      <td>San Francisco</td>\n",
       "    </tr>\n",
       "    <tr>\n",
       "      <th>2021-01-28</th>\n",
       "      <td>25.530523</td>\n",
       "      <td>NaN</td>\n",
       "      <td>NaN</td>\n",
       "      <td>NaN</td>\n",
       "      <td>NaN</td>\n",
       "      <td>25.530523</td>\n",
       "      <td>San Francisco</td>\n",
       "    </tr>\n",
       "    <tr>\n",
       "      <th>2021-01-29</th>\n",
       "      <td>25.666498</td>\n",
       "      <td>NaN</td>\n",
       "      <td>NaN</td>\n",
       "      <td>NaN</td>\n",
       "      <td>NaN</td>\n",
       "      <td>25.666498</td>\n",
       "      <td>San Francisco</td>\n",
       "    </tr>\n",
       "    <tr>\n",
       "      <th>2021-01-30</th>\n",
       "      <td>25.718714</td>\n",
       "      <td>NaN</td>\n",
       "      <td>NaN</td>\n",
       "      <td>NaN</td>\n",
       "      <td>NaN</td>\n",
       "      <td>25.718714</td>\n",
       "      <td>San Francisco</td>\n",
       "    </tr>\n",
       "    <tr>\n",
       "      <th>2021-01-31</th>\n",
       "      <td>25.743866</td>\n",
       "      <td>NaN</td>\n",
       "      <td>NaN</td>\n",
       "      <td>NaN</td>\n",
       "      <td>NaN</td>\n",
       "      <td>25.743866</td>\n",
       "      <td>San Francisco</td>\n",
       "    </tr>\n",
       "    <tr>\n",
       "      <th>2021-02-01</th>\n",
       "      <td>25.756575</td>\n",
       "      <td>NaN</td>\n",
       "      <td>NaN</td>\n",
       "      <td>NaN</td>\n",
       "      <td>NaN</td>\n",
       "      <td>25.756575</td>\n",
       "      <td>San Francisco</td>\n",
       "    </tr>\n",
       "    <tr>\n",
       "      <th>2021-02-02</th>\n",
       "      <td>25.763844</td>\n",
       "      <td>NaN</td>\n",
       "      <td>NaN</td>\n",
       "      <td>NaN</td>\n",
       "      <td>NaN</td>\n",
       "      <td>25.763844</td>\n",
       "      <td>San Francisco</td>\n",
       "    </tr>\n",
       "    <tr>\n",
       "      <th>2021-02-03</th>\n",
       "      <td>25.769083</td>\n",
       "      <td>NaN</td>\n",
       "      <td>NaN</td>\n",
       "      <td>NaN</td>\n",
       "      <td>NaN</td>\n",
       "      <td>25.769083</td>\n",
       "      <td>San Francisco</td>\n",
       "    </tr>\n",
       "    <tr>\n",
       "      <th>2021-02-04</th>\n",
       "      <td>25.772825</td>\n",
       "      <td>NaN</td>\n",
       "      <td>NaN</td>\n",
       "      <td>NaN</td>\n",
       "      <td>NaN</td>\n",
       "      <td>25.772825</td>\n",
       "      <td>San Francisco</td>\n",
       "    </tr>\n",
       "    <tr>\n",
       "      <th>2021-02-05</th>\n",
       "      <td>25.774925</td>\n",
       "      <td>NaN</td>\n",
       "      <td>NaN</td>\n",
       "      <td>NaN</td>\n",
       "      <td>NaN</td>\n",
       "      <td>25.774925</td>\n",
       "      <td>San Francisco</td>\n",
       "    </tr>\n",
       "    <tr>\n",
       "      <th>2021-02-06</th>\n",
       "      <td>25.776987</td>\n",
       "      <td>NaN</td>\n",
       "      <td>NaN</td>\n",
       "      <td>NaN</td>\n",
       "      <td>NaN</td>\n",
       "      <td>25.776987</td>\n",
       "      <td>San Francisco</td>\n",
       "    </tr>\n",
       "    <tr>\n",
       "      <th>2021-02-07</th>\n",
       "      <td>25.778002</td>\n",
       "      <td>NaN</td>\n",
       "      <td>NaN</td>\n",
       "      <td>NaN</td>\n",
       "      <td>NaN</td>\n",
       "      <td>25.778002</td>\n",
       "      <td>San Francisco</td>\n",
       "    </tr>\n",
       "    <tr>\n",
       "      <th>2021-02-08</th>\n",
       "      <td>25.779310</td>\n",
       "      <td>NaN</td>\n",
       "      <td>NaN</td>\n",
       "      <td>NaN</td>\n",
       "      <td>NaN</td>\n",
       "      <td>25.779310</td>\n",
       "      <td>San Francisco</td>\n",
       "    </tr>\n",
       "    <tr>\n",
       "      <th>2021-02-09</th>\n",
       "      <td>25.779610</td>\n",
       "      <td>NaN</td>\n",
       "      <td>NaN</td>\n",
       "      <td>NaN</td>\n",
       "      <td>NaN</td>\n",
       "      <td>25.779610</td>\n",
       "      <td>San Francisco</td>\n",
       "    </tr>\n",
       "    <tr>\n",
       "      <th>2021-02-10</th>\n",
       "      <td>25.780226</td>\n",
       "      <td>NaN</td>\n",
       "      <td>NaN</td>\n",
       "      <td>NaN</td>\n",
       "      <td>NaN</td>\n",
       "      <td>25.780226</td>\n",
       "      <td>San Francisco</td>\n",
       "    </tr>\n",
       "    <tr>\n",
       "      <th>2021-02-11</th>\n",
       "      <td>25.782005</td>\n",
       "      <td>NaN</td>\n",
       "      <td>NaN</td>\n",
       "      <td>NaN</td>\n",
       "      <td>NaN</td>\n",
       "      <td>25.782005</td>\n",
       "      <td>San Francisco</td>\n",
       "    </tr>\n",
       "    <tr>\n",
       "      <th>2021-02-12</th>\n",
       "      <td>25.782131</td>\n",
       "      <td>NaN</td>\n",
       "      <td>NaN</td>\n",
       "      <td>NaN</td>\n",
       "      <td>NaN</td>\n",
       "      <td>25.782131</td>\n",
       "      <td>San Francisco</td>\n",
       "    </tr>\n",
       "    <tr>\n",
       "      <th>2021-02-13</th>\n",
       "      <td>25.782131</td>\n",
       "      <td>NaN</td>\n",
       "      <td>NaN</td>\n",
       "      <td>NaN</td>\n",
       "      <td>NaN</td>\n",
       "      <td>25.782131</td>\n",
       "      <td>San Francisco</td>\n",
       "    </tr>\n",
       "    <tr>\n",
       "      <th>2021-02-14</th>\n",
       "      <td>25.782480</td>\n",
       "      <td>NaN</td>\n",
       "      <td>NaN</td>\n",
       "      <td>NaN</td>\n",
       "      <td>NaN</td>\n",
       "      <td>25.782480</td>\n",
       "      <td>San Francisco</td>\n",
       "    </tr>\n",
       "  </tbody>\n",
       "</table>\n",
       "</div>"
      ],
      "text/plain": [
       "            7dayrollingavg_newlyconfirmed  7dayrollingavg_newdeath  \\\n",
       "2021-01-23                      23.578626                 0.388926   \n",
       "2021-01-24                      23.011443                 0.632004   \n",
       "2021-01-25                      11.260606                      NaN   \n",
       "2021-01-26                      23.028988                      NaN   \n",
       "2021-01-27                      25.084200                      NaN   \n",
       "2021-01-28                      25.530523                      NaN   \n",
       "2021-01-29                      25.666498                      NaN   \n",
       "2021-01-30                      25.718714                      NaN   \n",
       "2021-01-31                      25.743866                      NaN   \n",
       "2021-02-01                      25.756575                      NaN   \n",
       "2021-02-02                      25.763844                      NaN   \n",
       "2021-02-03                      25.769083                      NaN   \n",
       "2021-02-04                      25.772825                      NaN   \n",
       "2021-02-05                      25.774925                      NaN   \n",
       "2021-02-06                      25.776987                      NaN   \n",
       "2021-02-07                      25.778002                      NaN   \n",
       "2021-02-08                      25.779310                      NaN   \n",
       "2021-02-09                      25.779610                      NaN   \n",
       "2021-02-10                      25.780226                      NaN   \n",
       "2021-02-11                      25.782005                      NaN   \n",
       "2021-02-12                      25.782131                      NaN   \n",
       "2021-02-13                      25.782131                      NaN   \n",
       "2021-02-14                      25.782480                      NaN   \n",
       "\n",
       "            hospitalized_covid_patients  all_hospital_beds  \\\n",
       "2021-01-23                        201.0             2133.0   \n",
       "2021-01-24                        197.0             2103.0   \n",
       "2021-01-25                          NaN                NaN   \n",
       "2021-01-26                          NaN                NaN   \n",
       "2021-01-27                          NaN                NaN   \n",
       "2021-01-28                          NaN                NaN   \n",
       "2021-01-29                          NaN                NaN   \n",
       "2021-01-30                          NaN                NaN   \n",
       "2021-01-31                          NaN                NaN   \n",
       "2021-02-01                          NaN                NaN   \n",
       "2021-02-02                          NaN                NaN   \n",
       "2021-02-03                          NaN                NaN   \n",
       "2021-02-04                          NaN                NaN   \n",
       "2021-02-05                          NaN                NaN   \n",
       "2021-02-06                          NaN                NaN   \n",
       "2021-02-07                          NaN                NaN   \n",
       "2021-02-08                          NaN                NaN   \n",
       "2021-02-09                          NaN                NaN   \n",
       "2021-02-10                          NaN                NaN   \n",
       "2021-02-11                          NaN                NaN   \n",
       "2021-02-12                          NaN                NaN   \n",
       "2021-02-13                          NaN                NaN   \n",
       "2021-02-14                          NaN                NaN   \n",
       "\n",
       "            icu_available_beds  Prediction         County  \n",
       "2021-01-23                49.0         NaN  San Francisco  \n",
       "2021-01-24                57.0         NaN  San Francisco  \n",
       "2021-01-25                 NaN   11.260606  San Francisco  \n",
       "2021-01-26                 NaN   23.028988  San Francisco  \n",
       "2021-01-27                 NaN   25.084200  San Francisco  \n",
       "2021-01-28                 NaN   25.530523  San Francisco  \n",
       "2021-01-29                 NaN   25.666498  San Francisco  \n",
       "2021-01-30                 NaN   25.718714  San Francisco  \n",
       "2021-01-31                 NaN   25.743866  San Francisco  \n",
       "2021-02-01                 NaN   25.756575  San Francisco  \n",
       "2021-02-02                 NaN   25.763844  San Francisco  \n",
       "2021-02-03                 NaN   25.769083  San Francisco  \n",
       "2021-02-04                 NaN   25.772825  San Francisco  \n",
       "2021-02-05                 NaN   25.774925  San Francisco  \n",
       "2021-02-06                 NaN   25.776987  San Francisco  \n",
       "2021-02-07                 NaN   25.778002  San Francisco  \n",
       "2021-02-08                 NaN   25.779310  San Francisco  \n",
       "2021-02-09                 NaN   25.779610  San Francisco  \n",
       "2021-02-10                 NaN   25.780226  San Francisco  \n",
       "2021-02-11                 NaN   25.782005  San Francisco  \n",
       "2021-02-12                 NaN   25.782131  San Francisco  \n",
       "2021-02-13                 NaN   25.782131  San Francisco  \n",
       "2021-02-14                 NaN   25.782480  San Francisco  "
      ]
     },
     "execution_count": 51,
     "metadata": {},
     "output_type": "execute_result"
    }
   ],
   "source": [
    "pred_df[pred_df['County'] == 'San Francisco'][300:340]"
   ]
  },
  {
   "cell_type": "code",
   "execution_count": 52,
   "metadata": {},
   "outputs": [
    {
     "data": {
      "text/html": [
       "<div>\n",
       "<style scoped>\n",
       "    .dataframe tbody tr th:only-of-type {\n",
       "        vertical-align: middle;\n",
       "    }\n",
       "\n",
       "    .dataframe tbody tr th {\n",
       "        vertical-align: top;\n",
       "    }\n",
       "\n",
       "    .dataframe thead th {\n",
       "        text-align: right;\n",
       "    }\n",
       "</style>\n",
       "<table border=\"1\" class=\"dataframe\">\n",
       "  <thead>\n",
       "    <tr style=\"text-align: right;\">\n",
       "      <th></th>\n",
       "      <th>7dayrollingavg_newlyconfirmed</th>\n",
       "      <th>County</th>\n",
       "    </tr>\n",
       "  </thead>\n",
       "  <tbody>\n",
       "    <tr>\n",
       "      <th>2020-03-29</th>\n",
       "      <td>1.153915</td>\n",
       "      <td>Alameda</td>\n",
       "    </tr>\n",
       "    <tr>\n",
       "      <th>2020-03-30</th>\n",
       "      <td>1.384698</td>\n",
       "      <td>Alameda</td>\n",
       "    </tr>\n",
       "    <tr>\n",
       "      <th>2020-03-31</th>\n",
       "      <td>1.478721</td>\n",
       "      <td>Alameda</td>\n",
       "    </tr>\n",
       "    <tr>\n",
       "      <th>2020-04-01</th>\n",
       "      <td>1.307770</td>\n",
       "      <td>Alameda</td>\n",
       "    </tr>\n",
       "    <tr>\n",
       "      <th>2020-04-02</th>\n",
       "      <td>1.478721</td>\n",
       "      <td>Alameda</td>\n",
       "    </tr>\n",
       "  </tbody>\n",
       "</table>\n",
       "</div>"
      ],
      "text/plain": [
       "            7dayrollingavg_newlyconfirmed   County\n",
       "2020-03-29                       1.153915  Alameda\n",
       "2020-03-30                       1.384698  Alameda\n",
       "2020-03-31                       1.478721  Alameda\n",
       "2020-04-01                       1.307770  Alameda\n",
       "2020-04-02                       1.478721  Alameda"
      ]
     },
     "execution_count": 52,
     "metadata": {},
     "output_type": "execute_result"
    }
   ],
   "source": [
    "export_df = pred_df[['7dayrollingavg_newlyconfirmed', 'County']]\n",
    "export_df.head()"
   ]
  },
  {
   "cell_type": "code",
   "execution_count": 53,
   "metadata": {},
   "outputs": [],
   "source": [
    "export_df.to_csv('../clean_data/predictions.csv')"
   ]
  },
  {
   "cell_type": "code",
   "execution_count": 54,
   "metadata": {},
   "outputs": [
    {
     "name": "stderr",
     "output_type": "stream",
     "text": [
      "WARNING:absl:Importing a function (__inference_dense_175_layer_call_and_return_conditional_losses_962330) with ops with custom gradients. Will likely fail if a gradient is requested.\n",
      "WARNING:absl:Importing a function (__inference_dense_175_layer_call_and_return_conditional_losses_968494) with ops with custom gradients. Will likely fail if a gradient is requested.\n",
      "WARNING:absl:Importing a function (__inference_dense_174_layer_call_and_return_conditional_losses_968410) with ops with custom gradients. Will likely fail if a gradient is requested.\n",
      "WARNING:absl:Importing a function (__inference_dense_174_layer_call_and_return_conditional_losses_962242) with ops with custom gradients. Will likely fail if a gradient is requested.\n",
      "WARNING:absl:Importing a function (__inference_sequential_58_layer_call_and_return_conditional_losses_964642) with ops with custom gradients. Will likely fail if a gradient is requested.\n",
      "WARNING:absl:Importing a function (__inference_sequential_58_layer_call_and_return_conditional_losses_964642) with ops with custom gradients. Will likely fail if a gradient is requested.\n",
      "WARNING:absl:Importing a function (__inference_sequential_58_layer_call_and_return_conditional_losses_963661) with ops with custom gradients. Will likely fail if a gradient is requested.\n",
      "WARNING:absl:Importing a function (__inference_sequential_58_layer_call_and_return_conditional_losses_963661) with ops with custom gradients. Will likely fail if a gradient is requested.\n",
      "WARNING:absl:Importing a function (__inference__wrapped_model_956750) with ops with custom gradients. Will likely fail if a gradient is requested.\n",
      "WARNING:absl:Importing a function (__inference__wrapped_model_956750) with ops with custom gradients. Will likely fail if a gradient is requested.\n"
     ]
    }
   ],
   "source": [
    "new_model = load_model('./county_models/Alameda/')"
   ]
  },
  {
   "cell_type": "code",
   "execution_count": 55,
   "metadata": {},
   "outputs": [
    {
     "name": "stdout",
     "output_type": "stream",
     "text": [
      "WARNING:tensorflow:Model was constructed with shape (None, 1, 1) for input KerasTensor(type_spec=TensorSpec(shape=(None, 1, 1), dtype=tf.float32, name='lstm_116_input'), name='lstm_116_input', description=\"created by layer 'lstm_116_input'\"), but it was called on an input with incompatible shape (None, 2, 1).\n"
     ]
    },
    {
     "name": "stderr",
     "output_type": "stream",
     "text": [
      "WARNING:tensorflow:Model was constructed with shape (None, 1, 1) for input KerasTensor(type_spec=TensorSpec(shape=(None, 1, 1), dtype=tf.float32, name='lstm_116_input'), name='lstm_116_input', description=\"created by layer 'lstm_116_input'\"), but it was called on an input with incompatible shape (None, 2, 1).\n"
     ]
    }
   ],
   "source": [
    "future_pred_count = 1\n",
    "future = []\n",
    "batch = X_test_sc[-future_pred_count:].reshape((1, future_pred_count, 1))\n",
    "new_model.predict(batch)[0].shape\n",
    "\n",
    "for i in range(22):\n",
    "    pred = new_model.predict(batch)[0]\n",
    "    future.append(pred)\n",
    "    batch = np.append(batch[:, 0:, :], [[pred[i]]] , axis = 1)\n",
    "        \n",
    "dates = [la_df.index[-1] + pd.tseries.offsets.DateOffset(days = x) for x in range(0, 22)]\n",
    "future_date = pd.DataFrame(index = dates[1:], columns = X.columns)\n",
    "future_date.head()\n",
    "    \n",
    "df_predict = pd.DataFrame(future[20], index = future_date[-21:].index, columns = ['Prediction'])\n",
    "df_test = pd.concat([la_df, df_predict], axis = 1)"
   ]
  },
  {
   "cell_type": "code",
   "execution_count": 56,
   "metadata": {},
   "outputs": [
    {
     "data": {
      "text/html": [
       "<div>\n",
       "<style scoped>\n",
       "    .dataframe tbody tr th:only-of-type {\n",
       "        vertical-align: middle;\n",
       "    }\n",
       "\n",
       "    .dataframe tbody tr th {\n",
       "        vertical-align: top;\n",
       "    }\n",
       "\n",
       "    .dataframe thead th {\n",
       "        text-align: right;\n",
       "    }\n",
       "</style>\n",
       "<table border=\"1\" class=\"dataframe\">\n",
       "  <thead>\n",
       "    <tr style=\"text-align: right;\">\n",
       "      <th></th>\n",
       "      <th>7dayrollingavg_newlyconfirmed</th>\n",
       "      <th>7dayrollingavg_newdeath</th>\n",
       "      <th>hospitalized_covid_patients</th>\n",
       "      <th>all_hospital_beds</th>\n",
       "      <th>icu_available_beds</th>\n",
       "      <th>Prediction</th>\n",
       "    </tr>\n",
       "  </thead>\n",
       "  <tbody>\n",
       "    <tr>\n",
       "      <th>2020-03-29</th>\n",
       "      <td>2.468916</td>\n",
       "      <td>0.048382</td>\n",
       "      <td>1621.0</td>\n",
       "      <td>7394.0</td>\n",
       "      <td>345.0</td>\n",
       "      <td>NaN</td>\n",
       "    </tr>\n",
       "    <tr>\n",
       "      <th>2020-03-30</th>\n",
       "      <td>2.957007</td>\n",
       "      <td>0.056920</td>\n",
       "      <td>1878.0</td>\n",
       "      <td>9688.0</td>\n",
       "      <td>456.0</td>\n",
       "      <td>NaN</td>\n",
       "    </tr>\n",
       "    <tr>\n",
       "      <th>2020-03-31</th>\n",
       "      <td>3.369679</td>\n",
       "      <td>0.059766</td>\n",
       "      <td>1952.0</td>\n",
       "      <td>9460.0</td>\n",
       "      <td>445.0</td>\n",
       "      <td>NaN</td>\n",
       "    </tr>\n",
       "    <tr>\n",
       "      <th>2020-04-01</th>\n",
       "      <td>3.951689</td>\n",
       "      <td>0.079688</td>\n",
       "      <td>2071.0</td>\n",
       "      <td>10431.0</td>\n",
       "      <td>492.0</td>\n",
       "      <td>NaN</td>\n",
       "    </tr>\n",
       "    <tr>\n",
       "      <th>2020-04-02</th>\n",
       "      <td>4.219214</td>\n",
       "      <td>0.086803</td>\n",
       "      <td>2088.0</td>\n",
       "      <td>10349.0</td>\n",
       "      <td>488.0</td>\n",
       "      <td>NaN</td>\n",
       "    </tr>\n",
       "    <tr>\n",
       "      <th>...</th>\n",
       "      <td>...</td>\n",
       "      <td>...</td>\n",
       "      <td>...</td>\n",
       "      <td>...</td>\n",
       "      <td>...</td>\n",
       "      <td>...</td>\n",
       "    </tr>\n",
       "    <tr>\n",
       "      <th>2021-02-10</th>\n",
       "      <td>NaN</td>\n",
       "      <td>NaN</td>\n",
       "      <td>NaN</td>\n",
       "      <td>NaN</td>\n",
       "      <td>NaN</td>\n",
       "      <td>25.962629</td>\n",
       "    </tr>\n",
       "    <tr>\n",
       "      <th>2021-02-11</th>\n",
       "      <td>NaN</td>\n",
       "      <td>NaN</td>\n",
       "      <td>NaN</td>\n",
       "      <td>NaN</td>\n",
       "      <td>NaN</td>\n",
       "      <td>25.962629</td>\n",
       "    </tr>\n",
       "    <tr>\n",
       "      <th>2021-02-12</th>\n",
       "      <td>NaN</td>\n",
       "      <td>NaN</td>\n",
       "      <td>NaN</td>\n",
       "      <td>NaN</td>\n",
       "      <td>NaN</td>\n",
       "      <td>25.962629</td>\n",
       "    </tr>\n",
       "    <tr>\n",
       "      <th>2021-02-13</th>\n",
       "      <td>NaN</td>\n",
       "      <td>NaN</td>\n",
       "      <td>NaN</td>\n",
       "      <td>NaN</td>\n",
       "      <td>NaN</td>\n",
       "      <td>25.962629</td>\n",
       "    </tr>\n",
       "    <tr>\n",
       "      <th>2021-02-14</th>\n",
       "      <td>NaN</td>\n",
       "      <td>NaN</td>\n",
       "      <td>NaN</td>\n",
       "      <td>NaN</td>\n",
       "      <td>NaN</td>\n",
       "      <td>25.962629</td>\n",
       "    </tr>\n",
       "  </tbody>\n",
       "</table>\n",
       "<p>323 rows × 6 columns</p>\n",
       "</div>"
      ],
      "text/plain": [
       "            7dayrollingavg_newlyconfirmed  7dayrollingavg_newdeath  \\\n",
       "2020-03-29                       2.468916                 0.048382   \n",
       "2020-03-30                       2.957007                 0.056920   \n",
       "2020-03-31                       3.369679                 0.059766   \n",
       "2020-04-01                       3.951689                 0.079688   \n",
       "2020-04-02                       4.219214                 0.086803   \n",
       "...                                   ...                      ...   \n",
       "2021-02-10                            NaN                      NaN   \n",
       "2021-02-11                            NaN                      NaN   \n",
       "2021-02-12                            NaN                      NaN   \n",
       "2021-02-13                            NaN                      NaN   \n",
       "2021-02-14                            NaN                      NaN   \n",
       "\n",
       "            hospitalized_covid_patients  all_hospital_beds  \\\n",
       "2020-03-29                       1621.0             7394.0   \n",
       "2020-03-30                       1878.0             9688.0   \n",
       "2020-03-31                       1952.0             9460.0   \n",
       "2020-04-01                       2071.0            10431.0   \n",
       "2020-04-02                       2088.0            10349.0   \n",
       "...                                 ...                ...   \n",
       "2021-02-10                          NaN                NaN   \n",
       "2021-02-11                          NaN                NaN   \n",
       "2021-02-12                          NaN                NaN   \n",
       "2021-02-13                          NaN                NaN   \n",
       "2021-02-14                          NaN                NaN   \n",
       "\n",
       "            icu_available_beds  Prediction  \n",
       "2020-03-29               345.0         NaN  \n",
       "2020-03-30               456.0         NaN  \n",
       "2020-03-31               445.0         NaN  \n",
       "2020-04-01               492.0         NaN  \n",
       "2020-04-02               488.0         NaN  \n",
       "...                        ...         ...  \n",
       "2021-02-10                 NaN   25.962629  \n",
       "2021-02-11                 NaN   25.962629  \n",
       "2021-02-12                 NaN   25.962629  \n",
       "2021-02-13                 NaN   25.962629  \n",
       "2021-02-14                 NaN   25.962629  \n",
       "\n",
       "[323 rows x 6 columns]"
      ]
     },
     "execution_count": 56,
     "metadata": {},
     "output_type": "execute_result"
    }
   ],
   "source": [
    "df_test"
   ]
  }
 ],
 "metadata": {
  "kernelspec": {
   "display_name": "dsi_venv",
   "language": "python",
   "name": "dsi_venv"
  },
  "language_info": {
   "codemirror_mode": {
    "name": "ipython",
    "version": 3
   },
   "file_extension": ".py",
   "mimetype": "text/x-python",
   "name": "python",
   "nbconvert_exporter": "python",
   "pygments_lexer": "ipython3",
   "version": "3.8.5"
  }
 },
 "nbformat": 4,
 "nbformat_minor": 4
}

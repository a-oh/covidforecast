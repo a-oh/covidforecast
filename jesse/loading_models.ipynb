{
 "cells": [
  {
   "cell_type": "code",
   "execution_count": 1,
   "metadata": {},
   "outputs": [],
   "source": [
    "# loading tensorflow model"
   ]
  },
  {
   "cell_type": "code",
   "execution_count": 3,
   "metadata": {},
   "outputs": [],
   "source": [
    "# import libraries\n",
    "import datetime\n",
    "\n",
    "import pandas as pd\n",
    "import numpy as np\n",
    "import matplotlib.pyplot as plt\n",
    "import seaborn as sns\n",
    "import tensorflow as tf\n",
    "\n",
    "from sklearn.preprocessing import StandardScaler, MinMaxScaler\n",
    "from sklearn.experimental import enable_halving_search_cv\n",
    "from sklearn.model_selection import train_test_split, HalvingRandomSearchCV\n",
    "\n",
    "from tensorflow.keras.models import Sequential, load_model\n",
    "from tensorflow.keras.layers import Dense, Dropout, GRU, LSTM\n",
    "from tensorflow.keras.optimizers import Adam\n",
    "from tensorflow.keras.regularizers import l2\n",
    "from tensorflow.keras.preprocessing.sequence import TimeseriesGenerator\n",
    "from tensorflow.keras.callbacks import EarlyStopping\n",
    "\n",
    "gpus = tf.config.experimental.list_physical_devices('GPU')\n",
    "tf.config.experimental.set_memory_growth(gpus[0], True)"
   ]
  },
  {
   "cell_type": "code",
   "execution_count": 43,
   "metadata": {},
   "outputs": [],
   "source": [
    "counties_df = pd.read_csv('../clean_data/counties_models.csv')"
   ]
  },
  {
   "cell_type": "code",
   "execution_count": 44,
   "metadata": {},
   "outputs": [
    {
     "data": {
      "text/html": [
       "<div>\n",
       "<style scoped>\n",
       "    .dataframe tbody tr th:only-of-type {\n",
       "        vertical-align: middle;\n",
       "    }\n",
       "\n",
       "    .dataframe tbody tr th {\n",
       "        vertical-align: top;\n",
       "    }\n",
       "\n",
       "    .dataframe thead th {\n",
       "        text-align: right;\n",
       "    }\n",
       "</style>\n",
       "<table border=\"1\" class=\"dataframe\">\n",
       "  <thead>\n",
       "    <tr style=\"text-align: right;\">\n",
       "      <th></th>\n",
       "      <th>county</th>\n",
       "      <th>date</th>\n",
       "      <th>7dayrollingavg_newlyconfirmed</th>\n",
       "      <th>7dayrollingavg_newdeath</th>\n",
       "      <th>hospitalized_covid_patients</th>\n",
       "      <th>all_hospital_beds</th>\n",
       "      <th>icu_available_beds</th>\n",
       "    </tr>\n",
       "  </thead>\n",
       "  <tbody>\n",
       "    <tr>\n",
       "      <th>0</th>\n",
       "      <td>Alameda</td>\n",
       "      <td>2020-03-29</td>\n",
       "      <td>1.153915</td>\n",
       "      <td>0.042738</td>\n",
       "      <td>127.0</td>\n",
       "      <td>2725.0</td>\n",
       "      <td>119.0</td>\n",
       "    </tr>\n",
       "    <tr>\n",
       "      <th>1</th>\n",
       "      <td>Alameda</td>\n",
       "      <td>2020-03-30</td>\n",
       "      <td>1.384698</td>\n",
       "      <td>0.051285</td>\n",
       "      <td>148.0</td>\n",
       "      <td>3283.0</td>\n",
       "      <td>146.0</td>\n",
       "    </tr>\n",
       "    <tr>\n",
       "      <th>2</th>\n",
       "      <td>Alameda</td>\n",
       "      <td>2020-03-31</td>\n",
       "      <td>1.478721</td>\n",
       "      <td>0.042738</td>\n",
       "      <td>150.0</td>\n",
       "      <td>1857.0</td>\n",
       "      <td>77.0</td>\n",
       "    </tr>\n",
       "    <tr>\n",
       "      <th>3</th>\n",
       "      <td>Alameda</td>\n",
       "      <td>2020-04-01</td>\n",
       "      <td>1.307770</td>\n",
       "      <td>0.042738</td>\n",
       "      <td>128.0</td>\n",
       "      <td>2456.0</td>\n",
       "      <td>106.0</td>\n",
       "    </tr>\n",
       "    <tr>\n",
       "      <th>4</th>\n",
       "      <td>Alameda</td>\n",
       "      <td>2020-04-02</td>\n",
       "      <td>1.478721</td>\n",
       "      <td>0.051285</td>\n",
       "      <td>133.0</td>\n",
       "      <td>2580.0</td>\n",
       "      <td>112.0</td>\n",
       "    </tr>\n",
       "  </tbody>\n",
       "</table>\n",
       "</div>"
      ],
      "text/plain": [
       "    county        date  7dayrollingavg_newlyconfirmed  \\\n",
       "0  Alameda  2020-03-29                       1.153915   \n",
       "1  Alameda  2020-03-30                       1.384698   \n",
       "2  Alameda  2020-03-31                       1.478721   \n",
       "3  Alameda  2020-04-01                       1.307770   \n",
       "4  Alameda  2020-04-02                       1.478721   \n",
       "\n",
       "   7dayrollingavg_newdeath  hospitalized_covid_patients  all_hospital_beds  \\\n",
       "0                 0.042738                        127.0             2725.0   \n",
       "1                 0.051285                        148.0             3283.0   \n",
       "2                 0.042738                        150.0             1857.0   \n",
       "3                 0.042738                        128.0             2456.0   \n",
       "4                 0.051285                        133.0             2580.0   \n",
       "\n",
       "   icu_available_beds  \n",
       "0               119.0  \n",
       "1               146.0  \n",
       "2                77.0  \n",
       "3               106.0  \n",
       "4               112.0  "
      ]
     },
     "execution_count": 44,
     "metadata": {},
     "output_type": "execute_result"
    }
   ],
   "source": [
    "counties_df.head()"
   ]
  },
  {
   "cell_type": "code",
   "execution_count": 45,
   "metadata": {},
   "outputs": [],
   "source": [
    "counties_df['date'] = pd.to_datetime(counties_df['date'])"
   ]
  },
  {
   "cell_type": "code",
   "execution_count": 46,
   "metadata": {},
   "outputs": [
    {
     "data": {
      "text/html": [
       "<div>\n",
       "<style scoped>\n",
       "    .dataframe tbody tr th:only-of-type {\n",
       "        vertical-align: middle;\n",
       "    }\n",
       "\n",
       "    .dataframe tbody tr th {\n",
       "        vertical-align: top;\n",
       "    }\n",
       "\n",
       "    .dataframe thead th {\n",
       "        text-align: right;\n",
       "    }\n",
       "</style>\n",
       "<table border=\"1\" class=\"dataframe\">\n",
       "  <thead>\n",
       "    <tr style=\"text-align: right;\">\n",
       "      <th></th>\n",
       "      <th></th>\n",
       "      <th>7dayrollingavg_newlyconfirmed</th>\n",
       "      <th>7dayrollingavg_newdeath</th>\n",
       "      <th>hospitalized_covid_patients</th>\n",
       "      <th>all_hospital_beds</th>\n",
       "      <th>icu_available_beds</th>\n",
       "    </tr>\n",
       "    <tr>\n",
       "      <th>county</th>\n",
       "      <th>date</th>\n",
       "      <th></th>\n",
       "      <th></th>\n",
       "      <th></th>\n",
       "      <th></th>\n",
       "      <th></th>\n",
       "    </tr>\n",
       "  </thead>\n",
       "  <tbody>\n",
       "    <tr>\n",
       "      <th rowspan=\"5\" valign=\"top\">Alameda</th>\n",
       "      <th>2020-03-29</th>\n",
       "      <td>1.153915</td>\n",
       "      <td>0.042738</td>\n",
       "      <td>127.0</td>\n",
       "      <td>2725.0</td>\n",
       "      <td>119.0</td>\n",
       "    </tr>\n",
       "    <tr>\n",
       "      <th>2020-03-30</th>\n",
       "      <td>1.384698</td>\n",
       "      <td>0.051285</td>\n",
       "      <td>148.0</td>\n",
       "      <td>3283.0</td>\n",
       "      <td>146.0</td>\n",
       "    </tr>\n",
       "    <tr>\n",
       "      <th>2020-03-31</th>\n",
       "      <td>1.478721</td>\n",
       "      <td>0.042738</td>\n",
       "      <td>150.0</td>\n",
       "      <td>1857.0</td>\n",
       "      <td>77.0</td>\n",
       "    </tr>\n",
       "    <tr>\n",
       "      <th>2020-04-01</th>\n",
       "      <td>1.307770</td>\n",
       "      <td>0.042738</td>\n",
       "      <td>128.0</td>\n",
       "      <td>2456.0</td>\n",
       "      <td>106.0</td>\n",
       "    </tr>\n",
       "    <tr>\n",
       "      <th>2020-04-02</th>\n",
       "      <td>1.478721</td>\n",
       "      <td>0.051285</td>\n",
       "      <td>133.0</td>\n",
       "      <td>2580.0</td>\n",
       "      <td>112.0</td>\n",
       "    </tr>\n",
       "  </tbody>\n",
       "</table>\n",
       "</div>"
      ],
      "text/plain": [
       "                    7dayrollingavg_newlyconfirmed  7dayrollingavg_newdeath  \\\n",
       "county  date                                                                 \n",
       "Alameda 2020-03-29                       1.153915                 0.042738   \n",
       "        2020-03-30                       1.384698                 0.051285   \n",
       "        2020-03-31                       1.478721                 0.042738   \n",
       "        2020-04-01                       1.307770                 0.042738   \n",
       "        2020-04-02                       1.478721                 0.051285   \n",
       "\n",
       "                    hospitalized_covid_patients  all_hospital_beds  \\\n",
       "county  date                                                         \n",
       "Alameda 2020-03-29                        127.0             2725.0   \n",
       "        2020-03-30                        148.0             3283.0   \n",
       "        2020-03-31                        150.0             1857.0   \n",
       "        2020-04-01                        128.0             2456.0   \n",
       "        2020-04-02                        133.0             2580.0   \n",
       "\n",
       "                    icu_available_beds  \n",
       "county  date                            \n",
       "Alameda 2020-03-29               119.0  \n",
       "        2020-03-30               146.0  \n",
       "        2020-03-31                77.0  \n",
       "        2020-04-01               106.0  \n",
       "        2020-04-02               112.0  "
      ]
     },
     "execution_count": 46,
     "metadata": {},
     "output_type": "execute_result"
    }
   ],
   "source": [
    "counties_df.set_index(['county', 'date'], inplace = True)\n",
    "counties_df.head()"
   ]
  },
  {
   "cell_type": "code",
   "execution_count": 47,
   "metadata": {},
   "outputs": [],
   "source": [
    "county_select = 'Los Angeles'"
   ]
  },
  {
   "cell_type": "code",
   "execution_count": 48,
   "metadata": {},
   "outputs": [],
   "source": [
    "selected_df = counties_df.loc[county_select]\n",
    "features = ['hospitalized_covid_patients']\n",
    "X = selected_df[features]\n",
    "y = selected_df[['7dayrollingavg_newlyconfirmed']].values"
   ]
  },
  {
   "cell_type": "code",
   "execution_count": 49,
   "metadata": {},
   "outputs": [],
   "source": [
    "# Train/Test Split\n",
    "X_train, X_test, y_train, y_test = train_test_split(X, y, shuffle = False, test_size = 0.15)"
   ]
  },
  {
   "cell_type": "code",
   "execution_count": 50,
   "metadata": {},
   "outputs": [],
   "source": [
    "# scale our data\n",
    "mms = MinMaxScaler()\n",
    "X_train_sc = mms.fit_transform(X_train)\n",
    "X_test_sc = mms.transform(X_test)"
   ]
  },
  {
   "cell_type": "code",
   "execution_count": 62,
   "metadata": {},
   "outputs": [],
   "source": [
    "new_model = load_model('county_models/Alameda.h5')"
   ]
  },
  {
   "cell_type": "code",
   "execution_count": 63,
   "metadata": {},
   "outputs": [
    {
     "name": "stdout",
     "output_type": "stream",
     "text": [
      "WARNING:tensorflow:Model was constructed with shape (None, 1, 1) for input KerasTensor(type_spec=TensorSpec(shape=(None, 1, 1), dtype=tf.float32, name='lstm_228_input'), name='lstm_228_input', description=\"created by layer 'lstm_228_input'\"), but it was called on an input with incompatible shape (None, 2, 1).\n"
     ]
    },
    {
     "name": "stderr",
     "output_type": "stream",
     "text": [
      "WARNING:tensorflow:Model was constructed with shape (None, 1, 1) for input KerasTensor(type_spec=TensorSpec(shape=(None, 1, 1), dtype=tf.float32, name='lstm_228_input'), name='lstm_228_input', description=\"created by layer 'lstm_228_input'\"), but it was called on an input with incompatible shape (None, 2, 1).\n"
     ]
    }
   ],
   "source": [
    "# generate predictions\n",
    "future_pred_count = 1\n",
    "future = []\n",
    "batch = X_test_sc[-future_pred_count:].reshape((1, future_pred_count, 1))\n",
    "new_model.predict(batch)[0].shape\n",
    "\n",
    "for i in range(22):\n",
    "    pred = new_model.predict(batch)[0]\n",
    "    future.append(pred)\n",
    "    batch = np.append(batch[:, 0:, :], [[pred[i]]] , axis = 1)"
   ]
  },
  {
   "cell_type": "code",
   "execution_count": 64,
   "metadata": {},
   "outputs": [
    {
     "data": {
      "text/plain": [
       "DatetimeIndex(['2020-03-29', '2020-03-30', '2020-03-31', '2020-04-01',\n",
       "               '2020-04-02', '2020-04-03', '2020-04-04', '2020-04-05',\n",
       "               '2020-04-06', '2020-04-07',\n",
       "               ...\n",
       "               '2021-01-15', '2021-01-16', '2021-01-17', '2021-01-18',\n",
       "               '2021-01-19', '2021-01-20', '2021-01-21', '2021-01-22',\n",
       "               '2021-01-23', '2021-01-24'],\n",
       "              dtype='datetime64[ns]', name='date', length=302, freq=None)"
      ]
     },
     "execution_count": 64,
     "metadata": {},
     "output_type": "execute_result"
    }
   ],
   "source": [
    "selected_df.index"
   ]
  },
  {
   "cell_type": "code",
   "execution_count": 65,
   "metadata": {},
   "outputs": [
    {
     "data": {
      "text/html": [
       "<div>\n",
       "<style scoped>\n",
       "    .dataframe tbody tr th:only-of-type {\n",
       "        vertical-align: middle;\n",
       "    }\n",
       "\n",
       "    .dataframe tbody tr th {\n",
       "        vertical-align: top;\n",
       "    }\n",
       "\n",
       "    .dataframe thead th {\n",
       "        text-align: right;\n",
       "    }\n",
       "</style>\n",
       "<table border=\"1\" class=\"dataframe\">\n",
       "  <thead>\n",
       "    <tr style=\"text-align: right;\">\n",
       "      <th></th>\n",
       "      <th>hospitalized_covid_patients</th>\n",
       "    </tr>\n",
       "  </thead>\n",
       "  <tbody>\n",
       "    <tr>\n",
       "      <th>2021-02-11</th>\n",
       "      <td>NaN</td>\n",
       "    </tr>\n",
       "    <tr>\n",
       "      <th>2021-02-12</th>\n",
       "      <td>NaN</td>\n",
       "    </tr>\n",
       "    <tr>\n",
       "      <th>2021-02-13</th>\n",
       "      <td>NaN</td>\n",
       "    </tr>\n",
       "    <tr>\n",
       "      <th>2021-02-14</th>\n",
       "      <td>NaN</td>\n",
       "    </tr>\n",
       "    <tr>\n",
       "      <th>2021-02-15</th>\n",
       "      <td>NaN</td>\n",
       "    </tr>\n",
       "  </tbody>\n",
       "</table>\n",
       "</div>"
      ],
      "text/plain": [
       "           hospitalized_covid_patients\n",
       "2021-02-11                         NaN\n",
       "2021-02-12                         NaN\n",
       "2021-02-13                         NaN\n",
       "2021-02-14                         NaN\n",
       "2021-02-15                         NaN"
      ]
     },
     "execution_count": 65,
     "metadata": {},
     "output_type": "execute_result"
    }
   ],
   "source": [
    "dates = [selected_df.index[-1] + pd.tseries.offsets.DateOffset(days = x) for x in range(0, 23)]\n",
    "future_date = pd.DataFrame(index = dates[1:], columns = X.columns)\n",
    "future_date.tail()"
   ]
  },
  {
   "cell_type": "code",
   "execution_count": 66,
   "metadata": {},
   "outputs": [
    {
     "data": {
      "text/html": [
       "<div>\n",
       "<style scoped>\n",
       "    .dataframe tbody tr th:only-of-type {\n",
       "        vertical-align: middle;\n",
       "    }\n",
       "\n",
       "    .dataframe tbody tr th {\n",
       "        vertical-align: top;\n",
       "    }\n",
       "\n",
       "    .dataframe thead th {\n",
       "        text-align: right;\n",
       "    }\n",
       "</style>\n",
       "<table border=\"1\" class=\"dataframe\">\n",
       "  <thead>\n",
       "    <tr style=\"text-align: right;\">\n",
       "      <th></th>\n",
       "      <th>Prediction</th>\n",
       "    </tr>\n",
       "  </thead>\n",
       "  <tbody>\n",
       "    <tr>\n",
       "      <th>2021-01-25</th>\n",
       "      <td>17.314999</td>\n",
       "    </tr>\n",
       "    <tr>\n",
       "      <th>2021-01-26</th>\n",
       "      <td>21.175776</td>\n",
       "    </tr>\n",
       "    <tr>\n",
       "      <th>2021-01-27</th>\n",
       "      <td>21.845348</td>\n",
       "    </tr>\n",
       "    <tr>\n",
       "      <th>2021-01-28</th>\n",
       "      <td>22.023079</td>\n",
       "    </tr>\n",
       "    <tr>\n",
       "      <th>2021-01-29</th>\n",
       "      <td>22.084812</td>\n",
       "    </tr>\n",
       "  </tbody>\n",
       "</table>\n",
       "</div>"
      ],
      "text/plain": [
       "            Prediction\n",
       "2021-01-25   17.314999\n",
       "2021-01-26   21.175776\n",
       "2021-01-27   21.845348\n",
       "2021-01-28   22.023079\n",
       "2021-01-29   22.084812"
      ]
     },
     "execution_count": 66,
     "metadata": {},
     "output_type": "execute_result"
    }
   ],
   "source": [
    "df_predict = pd.DataFrame(future[21], index = future_date[-22:].index, columns = ['Prediction'])\n",
    "df_predict.head()"
   ]
  }
 ],
 "metadata": {
  "kernelspec": {
   "display_name": "dsi_venv",
   "language": "python",
   "name": "dsi_venv"
  },
  "language_info": {
   "codemirror_mode": {
    "name": "ipython",
    "version": 3
   },
   "file_extension": ".py",
   "mimetype": "text/x-python",
   "name": "python",
   "nbconvert_exporter": "python",
   "pygments_lexer": "ipython3",
   "version": "3.8.5"
  }
 },
 "nbformat": 4,
 "nbformat_minor": 4
}

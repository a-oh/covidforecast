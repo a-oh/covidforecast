{
 "cells": [
  {
   "cell_type": "code",
   "execution_count": 2,
   "metadata": {},
   "outputs": [],
   "source": [
    "import numpy as np\n",
    "import pandas as pd\n",
    "import matplotlib.pyplot as plt\n",
    "import seaborn as sns\n",
    "import matplotlib.image as mpimg\n",
    "import geopandas as gpd"
   ]
  },
  {
   "cell_type": "code",
   "execution_count": 3,
   "metadata": {},
   "outputs": [],
   "source": [
    "# importing the county cases mask data\n",
    "data_mask = pd.read_csv('../clean_data/cases_with_mask_use.csv')"
   ]
  },
  {
   "cell_type": "code",
   "execution_count": 4,
   "metadata": {},
   "outputs": [],
   "source": [
    "# importing the hospital by county data\n",
    "data_hosp = pd.read_csv('../clean_data/hospitals_by_county.csv')"
   ]
  },
  {
   "cell_type": "code",
   "execution_count": 5,
   "metadata": {},
   "outputs": [],
   "source": [
    "data_county_pop = data_mask[['county', 'date' , 'population']]"
   ]
  },
  {
   "cell_type": "code",
   "execution_count": 6,
   "metadata": {},
   "outputs": [],
   "source": [
    "# merge the hospital county and county population data together."
   ]
  },
  {
   "cell_type": "code",
   "execution_count": 7,
   "metadata": {},
   "outputs": [],
   "source": [
    "# lets rename column name for todays_date\n",
    "\n",
    "data_hosp.rename(columns = {'todays_date':'date'},inplace = True)"
   ]
  },
  {
   "cell_type": "code",
   "execution_count": 8,
   "metadata": {},
   "outputs": [],
   "source": [
    "# Merge DataFrames\n",
    "df= pd.merge(data_hosp, data_county_pop , on = [ 'county' , 'date'], how = 'left')\n"
   ]
  },
  {
   "cell_type": "code",
   "execution_count": 163,
   "metadata": {},
   "outputs": [
    {
     "data": {
      "text/plain": [
       "array(['Kings', 'Yolo', 'San Diego', 'Modoc', 'Mono', 'Mendocino',\n",
       "       'Riverside', 'Stanislaus', 'Lassen', 'San Luis Obispo',\n",
       "       'San Bernardino', 'Merced', 'Shasta', 'San Mateo', 'Marin',\n",
       "       'Glenn', 'Fresno', 'Napa', 'Los Angeles', 'Trinity', 'San Benito',\n",
       "       'San Francisco', 'Santa Clara', 'Butte', 'Colusa', 'Monterey',\n",
       "       'Madera', 'Plumas', 'Tehama', 'Solano', 'Tuolumne', 'Santa Cruz',\n",
       "       'Contra Costa', 'Del Norte', 'Placer', 'Siskiyou', 'Alameda',\n",
       "       'Orange', 'San Joaquin', 'Amador', 'Santa Barbara', 'Ventura',\n",
       "       'Tulare', 'Humboldt', 'Sonoma', 'Calaveras', 'El Dorado', 'Sutter',\n",
       "       'Sacramento', 'Nevada', 'Inyo', 'Lake', 'Kern', 'Imperial', 'Yuba',\n",
       "       'Mariposa'], dtype=object)"
      ]
     },
     "execution_count": 163,
     "metadata": {},
     "output_type": "execute_result"
    }
   ],
   "source": [
    "df.county.unique()"
   ]
  },
  {
   "cell_type": "code",
   "execution_count": 9,
   "metadata": {},
   "outputs": [
    {
     "data": {
      "text/plain": [
       "county                                   0\n",
       "date                                     0\n",
       "hospitalized_covid_confirmed_patients    0\n",
       "hospitalized_suspected_covid_patients    0\n",
       "hospitalized_covid_patients              0\n",
       "all_hospital_beds                        0\n",
       "icu_covid_confirmed_patients             0\n",
       "icu_suspected_covid_patients             0\n",
       "icu_available_beds                       0\n",
       "population                               6\n",
       "dtype: int64"
      ]
     },
     "execution_count": 9,
     "metadata": {},
     "output_type": "execute_result"
    }
   ],
   "source": [
    "# check if there are any null columns\n",
    "df.isna().sum()"
   ]
  },
  {
   "cell_type": "code",
   "execution_count": 10,
   "metadata": {},
   "outputs": [
    {
     "data": {
      "text/html": [
       "<div>\n",
       "<style scoped>\n",
       "    .dataframe tbody tr th:only-of-type {\n",
       "        vertical-align: middle;\n",
       "    }\n",
       "\n",
       "    .dataframe tbody tr th {\n",
       "        vertical-align: top;\n",
       "    }\n",
       "\n",
       "    .dataframe thead th {\n",
       "        text-align: right;\n",
       "    }\n",
       "</style>\n",
       "<table border=\"1\" class=\"dataframe\">\n",
       "  <thead>\n",
       "    <tr style=\"text-align: right;\">\n",
       "      <th></th>\n",
       "      <th>county</th>\n",
       "      <th>date</th>\n",
       "      <th>hospitalized_covid_confirmed_patients</th>\n",
       "      <th>hospitalized_suspected_covid_patients</th>\n",
       "      <th>hospitalized_covid_patients</th>\n",
       "      <th>all_hospital_beds</th>\n",
       "      <th>icu_covid_confirmed_patients</th>\n",
       "      <th>icu_suspected_covid_patients</th>\n",
       "      <th>icu_available_beds</th>\n",
       "      <th>population</th>\n",
       "    </tr>\n",
       "  </thead>\n",
       "  <tbody>\n",
       "    <tr>\n",
       "      <th>3</th>\n",
       "      <td>Modoc</td>\n",
       "      <td>2020-03-29</td>\n",
       "      <td>0.0</td>\n",
       "      <td>0.0</td>\n",
       "      <td>0.0</td>\n",
       "      <td>11.0</td>\n",
       "      <td>0.0</td>\n",
       "      <td>0.0</td>\n",
       "      <td>0.0</td>\n",
       "      <td>NaN</td>\n",
       "    </tr>\n",
       "    <tr>\n",
       "      <th>66</th>\n",
       "      <td>Modoc</td>\n",
       "      <td>2020-03-30</td>\n",
       "      <td>0.0</td>\n",
       "      <td>31.0</td>\n",
       "      <td>31.0</td>\n",
       "      <td>11.0</td>\n",
       "      <td>0.0</td>\n",
       "      <td>0.0</td>\n",
       "      <td>0.0</td>\n",
       "      <td>NaN</td>\n",
       "    </tr>\n",
       "    <tr>\n",
       "      <th>89</th>\n",
       "      <td>Lake</td>\n",
       "      <td>2020-03-30</td>\n",
       "      <td>0.0</td>\n",
       "      <td>1.0</td>\n",
       "      <td>1.0</td>\n",
       "      <td>313.0</td>\n",
       "      <td>0.0</td>\n",
       "      <td>1.0</td>\n",
       "      <td>3.0</td>\n",
       "      <td>NaN</td>\n",
       "    </tr>\n",
       "    <tr>\n",
       "      <th>111</th>\n",
       "      <td>Modoc</td>\n",
       "      <td>2020-03-31</td>\n",
       "      <td>0.0</td>\n",
       "      <td>19.0</td>\n",
       "      <td>19.0</td>\n",
       "      <td>11.0</td>\n",
       "      <td>0.0</td>\n",
       "      <td>0.0</td>\n",
       "      <td>0.0</td>\n",
       "      <td>NaN</td>\n",
       "    </tr>\n",
       "    <tr>\n",
       "      <th>206</th>\n",
       "      <td>Modoc</td>\n",
       "      <td>2020-04-01</td>\n",
       "      <td>0.0</td>\n",
       "      <td>1.0</td>\n",
       "      <td>1.0</td>\n",
       "      <td>11.0</td>\n",
       "      <td>0.0</td>\n",
       "      <td>0.0</td>\n",
       "      <td>0.0</td>\n",
       "      <td>NaN</td>\n",
       "    </tr>\n",
       "    <tr>\n",
       "      <th>240</th>\n",
       "      <td>Modoc</td>\n",
       "      <td>2020-04-02</td>\n",
       "      <td>0.0</td>\n",
       "      <td>1.0</td>\n",
       "      <td>1.0</td>\n",
       "      <td>11.0</td>\n",
       "      <td>0.0</td>\n",
       "      <td>0.0</td>\n",
       "      <td>0.0</td>\n",
       "      <td>NaN</td>\n",
       "    </tr>\n",
       "  </tbody>\n",
       "</table>\n",
       "</div>"
      ],
      "text/plain": [
       "    county        date  hospitalized_covid_confirmed_patients  \\\n",
       "3    Modoc  2020-03-29                                    0.0   \n",
       "66   Modoc  2020-03-30                                    0.0   \n",
       "89    Lake  2020-03-30                                    0.0   \n",
       "111  Modoc  2020-03-31                                    0.0   \n",
       "206  Modoc  2020-04-01                                    0.0   \n",
       "240  Modoc  2020-04-02                                    0.0   \n",
       "\n",
       "     hospitalized_suspected_covid_patients  hospitalized_covid_patients  \\\n",
       "3                                      0.0                          0.0   \n",
       "66                                    31.0                         31.0   \n",
       "89                                     1.0                          1.0   \n",
       "111                                   19.0                         19.0   \n",
       "206                                    1.0                          1.0   \n",
       "240                                    1.0                          1.0   \n",
       "\n",
       "     all_hospital_beds  icu_covid_confirmed_patients  \\\n",
       "3                 11.0                           0.0   \n",
       "66                11.0                           0.0   \n",
       "89               313.0                           0.0   \n",
       "111               11.0                           0.0   \n",
       "206               11.0                           0.0   \n",
       "240               11.0                           0.0   \n",
       "\n",
       "     icu_suspected_covid_patients  icu_available_beds  population  \n",
       "3                             0.0                 0.0         NaN  \n",
       "66                            0.0                 0.0         NaN  \n",
       "89                            1.0                 3.0         NaN  \n",
       "111                           0.0                 0.0         NaN  \n",
       "206                           0.0                 0.0         NaN  \n",
       "240                           0.0                 0.0         NaN  "
      ]
     },
     "execution_count": 10,
     "metadata": {},
     "output_type": "execute_result"
    }
   ],
   "source": [
    "# check out which rows have NULL for population\n",
    "df[df['population'].isna()]"
   ]
  },
  {
   "cell_type": "code",
   "execution_count": 11,
   "metadata": {},
   "outputs": [],
   "source": [
    "# replace nulls with population values for those counties\n",
    "df.loc[df['county']== 'Modoc','population']= 8841.0\n",
    "df.loc[df['county']== 'Lake','population']= 64386.0"
   ]
  },
  {
   "cell_type": "code",
   "execution_count": 12,
   "metadata": {},
   "outputs": [],
   "source": [
    "# create a data frame for the columns we need\n",
    "df_raw = df[['county','date','hospitalized_covid_patients','population']]"
   ]
  },
  {
   "cell_type": "markdown",
   "metadata": {},
   "source": [
    "#### Using Geopandas for plotting"
   ]
  },
  {
   "cell_type": "code",
   "execution_count": 14,
   "metadata": {},
   "outputs": [],
   "source": [
    "df_raw.to_csv('../clean_data/hospitals_by_county_with_pop.csv', index=False)"
   ]
  },
  {
   "cell_type": "code",
   "execution_count": 15,
   "metadata": {},
   "outputs": [],
   "source": [
    "# set the filepath and load in a shapefile\n",
    "map_df = gpd.read_file('../data/CA_Counties/CA_Counties_TIGER2016.shp')"
   ]
  },
  {
   "cell_type": "code",
   "execution_count": 16,
   "metadata": {},
   "outputs": [
    {
     "data": {
      "image/png": "[encoded data removed]",
      "text/plain": [
       "<Figure size 432x288 with 1 Axes>"
      ]
     },
     "metadata": {
      "needs_background": "light"
     },
     "output_type": "display_data"
    }
   ],
   "source": [
    "map_df.plot();"
   ]
  },
  {
   "cell_type": "code",
   "execution_count": 17,
   "metadata": {},
   "outputs": [],
   "source": [
    "# join the geodataframe with the cleaned up csv dataframe\n",
    "merged = map_df.set_index('NAME').join(df_raw.set_index('county'))"
   ]
  },
  {
   "cell_type": "code",
   "execution_count": 18,
   "metadata": {
    "scrolled": true
   },
   "outputs": [],
   "source": [
    "merged['percent_covid_pop'] = (merged['hospitalized_covid_patients'] )*100 /  (pd.to_numeric(merged['population'], downcast=\"float\"))"
   ]
  },
  {
   "cell_type": "code",
   "execution_count": 19,
   "metadata": {},
   "outputs": [
    {
     "data": {
      "text/plain": [
       "STATEFP                            0\n",
       "COUNTYFP                           0\n",
       "COUNTYNS                           0\n",
       "GEOID                              0\n",
       "NAMELSAD                           0\n",
       "LSAD                               0\n",
       "CLASSFP                            0\n",
       "MTFCC                              0\n",
       "CSAFP                           6983\n",
       "CBSAFP                          3200\n",
       "METDIVFP                       14258\n",
       "FUNCSTAT                           0\n",
       "ALAND                              0\n",
       "AWATER                             0\n",
       "INTPTLAT                           0\n",
       "INTPTLON                           0\n",
       "geometry                           0\n",
       "date                               2\n",
       "hospitalized_covid_patients        2\n",
       "population                         2\n",
       "percent_covid_pop                  2\n",
       "dtype: int64"
      ]
     },
     "execution_count": 19,
     "metadata": {},
     "output_type": "execute_result"
    }
   ],
   "source": [
    "# check if there are any null columns\n",
    "merged.isna().sum()"
   ]
  },
  {
   "cell_type": "code",
   "execution_count": 20,
   "metadata": {},
   "outputs": [
    {
     "data": {
      "text/plain": [
       "count    16293.000000\n",
       "mean         0.011752\n",
       "std          0.027148\n",
       "min          0.000000\n",
       "25%          0.002074\n",
       "50%          0.006899\n",
       "75%          0.013802\n",
       "max          0.986751\n",
       "Name: percent_covid_pop, dtype: float64"
      ]
     },
     "execution_count": 20,
     "metadata": {},
     "output_type": "execute_result"
    }
   ],
   "source": [
    "merged[\"percent_covid_pop\"].describe()"
   ]
  },
  {
   "cell_type": "code",
   "execution_count": 21,
   "metadata": {},
   "outputs": [
    {
     "name": "stderr",
     "output_type": "stream",
     "text": [
      "/home/jesse/anaconda3/envs/geopandas/lib/python3.8/site-packages/pandas/core/arraylike.py:274: RuntimeWarning: divide by zero encountered in log\n",
      "  result = getattr(ufunc, method)(*inputs, **kwargs)\n"
     ]
    }
   ],
   "source": [
    "# Since the range of percent_covid_pop is huge, lets convert it into a log scale\n",
    "\n",
    "merged['percent_covid_pop_log'] = np.log(merged['percent_covid_pop']) "
   ]
  },
  {
   "cell_type": "code",
   "execution_count": 22,
   "metadata": {},
   "outputs": [],
   "source": [
    "merged.loc[merged['percent_covid_pop']== 0.0,'percent_covid_pop_log']= 0.0"
   ]
  },
  {
   "cell_type": "code",
   "execution_count": 23,
   "metadata": {},
   "outputs": [],
   "source": [
    "#merged.drop(merged[merged['percent_covid_pop'] == 0.0].index, inplace = True) "
   ]
  },
  {
   "cell_type": "code",
   "execution_count": 24,
   "metadata": {},
   "outputs": [
    {
     "data": {
      "text/plain": [
       "count    16293.000000\n",
       "mean        -3.846514\n",
       "std          2.052781\n",
       "min         -7.948424\n",
       "25%         -5.163687\n",
       "50%         -4.466804\n",
       "75%         -3.343647\n",
       "max          0.000000\n",
       "Name: percent_covid_pop_log, dtype: float64"
      ]
     },
     "execution_count": 24,
     "metadata": {},
     "output_type": "execute_result"
    }
   ],
   "source": [
    "merged[\"percent_covid_pop_log\"].describe()"
   ]
  },
  {
   "cell_type": "code",
   "execution_count": 25,
   "metadata": {},
   "outputs": [
    {
     "data": {
      "image/png": "[encoded data removed]",
      "text/plain": [
       "<Figure size 1440x864 with 2 Axes>"
      ]
     },
     "metadata": {
      "needs_background": "light"
     },
     "output_type": "display_data"
    }
   ],
   "source": [
    "# set a variable that will call whatever column we want to visualise on the map\n",
    "variable = 'percent_covid_pop_log'\n",
    "\n",
    "# set the range for the choropleth\n",
    "vmin, vmax = 0 , 1\n",
    "\n",
    "# create figure and axes for Matplotlib\n",
    "fig, ax = plt.subplots(1, figsize=(20, 12))\n",
    "\n",
    "# create map\n",
    "merged.plot(column=variable, cmap='brg', linewidth=0.8, ax=ax, edgecolor='0.8')\n",
    "\n",
    "# Now we can customise and add annotations\n",
    "\n",
    "# remove the axis\n",
    "ax.axis('off')\n",
    "\n",
    "# add a title\n",
    "ax.set_title('Covid density by population', \\\n",
    "              fontdict={'fontsize': '25',\n",
    "                        'fontweight' : '3'})\n",
    "\n",
    "# create an annotation for the  data source\n",
    "ax.annotate('CA Covid number 2020',\n",
    "           xy=(0.1, 0.1), xycoords='figure fraction',\n",
    "           horizontalalignment='left', verticalalignment='top',\n",
    "           fontsize=10, color='#555555')\n",
    "\n",
    "# Create colorbar as a legend\n",
    "sm = plt.cm.ScalarMappable(cmap='brg', norm=plt.Normalize(vmin=vmin, vmax=vmax))\n",
    "sm._A = []\n",
    "cbar = fig.colorbar(sm)\n",
    "\n",
    "# this will save the figure as a high-res png. you can also save as svg\n",
    "fig.savefig('testmap.png', dpi=500)"
   ]
  },
  {
   "cell_type": "code",
   "execution_count": 26,
   "metadata": {},
   "outputs": [
    {
     "ename": "SyntaxError",
     "evalue": "invalid syntax (<ipython-input-26-d7a3ae872aac>, line 1)",
     "output_type": "error",
     "traceback": [
      "\u001b[0;36m  File \u001b[0;32m\"<ipython-input-26-d7a3ae872aac>\"\u001b[0;36m, line \u001b[0;32m1\u001b[0m\n\u001b[0;31m    merged.groupby(by = 'county').['percent_covid_pop'].max()\u001b[0m\n\u001b[0m                                  ^\u001b[0m\n\u001b[0;31mSyntaxError\u001b[0m\u001b[0;31m:\u001b[0m invalid syntax\n"
     ]
    }
   ],
   "source": [
    "merged.groupby(by = 'county').['percent_covid_pop'].max()"
   ]
  },
  {
   "cell_type": "code",
   "execution_count": null,
   "metadata": {},
   "outputs": [],
   "source": [
    "merged.sort_values(by='percent_covid_pop', ascending=False)"
   ]
  },
  {
   "cell_type": "code",
   "execution_count": 159,
   "metadata": {},
   "outputs": [
    {
     "data": {
      "text/html": [
       "<div>\n",
       "<style scoped>\n",
       "    .dataframe tbody tr th:only-of-type {\n",
       "        vertical-align: middle;\n",
       "    }\n",
       "\n",
       "    .dataframe tbody tr th {\n",
       "        vertical-align: top;\n",
       "    }\n",
       "\n",
       "    .dataframe thead th {\n",
       "        text-align: right;\n",
       "    }\n",
       "</style>\n",
       "<table border=\"1\" class=\"dataframe\">\n",
       "  <thead>\n",
       "    <tr style=\"text-align: right;\">\n",
       "      <th></th>\n",
       "      <th>STATEFP</th>\n",
       "      <th>COUNTYFP</th>\n",
       "      <th>COUNTYNS</th>\n",
       "      <th>GEOID</th>\n",
       "      <th>NAMELSAD</th>\n",
       "      <th>LSAD</th>\n",
       "      <th>CLASSFP</th>\n",
       "      <th>MTFCC</th>\n",
       "      <th>CSAFP</th>\n",
       "      <th>CBSAFP</th>\n",
       "      <th>...</th>\n",
       "      <th>ALAND</th>\n",
       "      <th>AWATER</th>\n",
       "      <th>INTPTLAT</th>\n",
       "      <th>INTPTLON</th>\n",
       "      <th>geometry</th>\n",
       "      <th>date</th>\n",
       "      <th>hospitalized_covid_patients</th>\n",
       "      <th>population</th>\n",
       "      <th>percent_covid_pop</th>\n",
       "      <th>percent_covid_pop_log</th>\n",
       "    </tr>\n",
       "  </thead>\n",
       "  <tbody>\n",
       "  </tbody>\n",
       "</table>\n",
       "<p>0 rows × 22 columns</p>\n",
       "</div>"
      ],
      "text/plain": [
       "Empty GeoDataFrame\n",
       "Columns: [STATEFP, COUNTYFP, COUNTYNS, GEOID, NAMELSAD, LSAD, CLASSFP, MTFCC, CSAFP, CBSAFP, METDIVFP, FUNCSTAT, ALAND, AWATER, INTPTLAT, INTPTLON, geometry, date, hospitalized_covid_patients, population, percent_covid_pop, percent_covid_pop_log]\n",
       "Index: []\n",
       "\n",
       "[0 rows x 22 columns]"
      ]
     },
     "execution_count": 159,
     "metadata": {},
     "output_type": "execute_result"
    }
   ],
   "source": [
    "merged[merged['NAMELSAD' ] == 'Alpine']"
   ]
  },
  {
   "cell_type": "code",
   "execution_count": null,
   "metadata": {},
   "outputs": [],
   "source": []
  }
 ],
 "metadata": {
  "kernelspec": {
   "display_name": "geopandas",
   "language": "python",
   "name": "geopandas"
  },
  "language_info": {
   "codemirror_mode": {
    "name": "ipython",
    "version": 3
   },
   "file_extension": ".py",
   "mimetype": "text/x-python",
   "name": "python",
   "nbconvert_exporter": "python",
   "pygments_lexer": "ipython3",
   "version": "3.8.2"
  }
 },
 "nbformat": 4,
 "nbformat_minor": 4
}

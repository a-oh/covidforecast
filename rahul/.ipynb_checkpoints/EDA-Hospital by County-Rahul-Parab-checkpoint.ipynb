{
 "cells": [
  {
   "cell_type": "code",
   "execution_count": 2,
   "metadata": {},
   "outputs": [],
   "source": [
    "import numpy as np\n",
    "import pandas as pd\n",
    "import matplotlib.pyplot as plt\n",
    "import seaborn as sns\n",
    "import matplotlib.image as mpimg\n",
    "import geopandas as gpd"
   ]
  },
  {
   "cell_type": "code",
   "execution_count": 19,
   "metadata": {},
   "outputs": [],
   "source": [
    "# importing the county cases mask data\n",
    "data_mask = pd.read_csv('/Users/rahulparab/dsi/08-week/COVID-19-vaccinations/clean_data/cases_with_mask_use.csv')"
   ]
  },
  {
   "cell_type": "code",
   "execution_count": 20,
   "metadata": {},
   "outputs": [],
   "source": [
    "# importing the hospital by county data\n",
    "data_hosp = pd.read_csv('/Users/rahulparab/dsi/08-week/COVID-19-vaccinations/clean_data/hospitals_by_county.csv')"
   ]
  },
  {
   "cell_type": "code",
   "execution_count": 23,
   "metadata": {},
   "outputs": [],
   "source": [
    "data_county_pop = data_mask[['county', 'date' , 'population']]"
   ]
  },
  {
   "cell_type": "code",
   "execution_count": 6,
   "metadata": {},
   "outputs": [],
   "source": [
    "# merge the hospital county and county population data together."
   ]
  },
  {
   "cell_type": "code",
   "execution_count": 21,
   "metadata": {},
   "outputs": [],
   "source": [
    "# lets rename column name for todays_date\n",
    "\n",
    "data_hosp.rename(columns = {'todays_date':'date'},inplace = True)"
   ]
  },
  {
   "cell_type": "code",
   "execution_count": 24,
   "metadata": {},
   "outputs": [],
   "source": [
    "# Merge DataFrames\n",
    "df= pd.merge(data_hosp, data_county_pop , on = [ 'county' , 'date'], how = 'left')\n"
   ]
  },
  {
   "cell_type": "code",
   "execution_count": 86,
   "metadata": {},
   "outputs": [
    {
     "data": {
      "text/plain": [
       "county                                   0\n",
       "date                                     0\n",
       "hospitalized_covid_confirmed_patients    0\n",
       "hospitalized_suspected_covid_patients    0\n",
       "hospitalized_covid_patients              0\n",
       "all_hospital_beds                        0\n",
       "icu_covid_confirmed_patients             0\n",
       "icu_suspected_covid_patients             0\n",
       "icu_available_beds                       0\n",
       "population                               0\n",
       "dtype: int64"
      ]
     },
     "execution_count": 86,
     "metadata": {},
     "output_type": "execute_result"
    }
   ],
   "source": [
    "# check if there are any null columns\n",
    "df.isna().sum()"
   ]
  },
  {
   "cell_type": "code",
   "execution_count": 46,
   "metadata": {},
   "outputs": [
    {
     "data": {
      "text/html": [
       "<div>\n",
       "<style scoped>\n",
       "    .dataframe tbody tr th:only-of-type {\n",
       "        vertical-align: middle;\n",
       "    }\n",
       "\n",
       "    .dataframe tbody tr th {\n",
       "        vertical-align: top;\n",
       "    }\n",
       "\n",
       "    .dataframe thead th {\n",
       "        text-align: right;\n",
       "    }\n",
       "</style>\n",
       "<table border=\"1\" class=\"dataframe\">\n",
       "  <thead>\n",
       "    <tr style=\"text-align: right;\">\n",
       "      <th></th>\n",
       "      <th>county</th>\n",
       "      <th>date</th>\n",
       "      <th>hospitalized_covid_confirmed_patients</th>\n",
       "      <th>hospitalized_suspected_covid_patients</th>\n",
       "      <th>hospitalized_covid_patients</th>\n",
       "      <th>all_hospital_beds</th>\n",
       "      <th>icu_covid_confirmed_patients</th>\n",
       "      <th>icu_suspected_covid_patients</th>\n",
       "      <th>icu_available_beds</th>\n",
       "      <th>population</th>\n",
       "    </tr>\n",
       "  </thead>\n",
       "  <tbody>\n",
       "    <tr>\n",
       "      <th>3</th>\n",
       "      <td>Modoc</td>\n",
       "      <td>2020-03-29</td>\n",
       "      <td>0.0</td>\n",
       "      <td>0.0</td>\n",
       "      <td>0.0</td>\n",
       "      <td>11.0</td>\n",
       "      <td>0.0</td>\n",
       "      <td>0.0</td>\n",
       "      <td>0.0</td>\n",
       "      <td>NaN</td>\n",
       "    </tr>\n",
       "    <tr>\n",
       "      <th>66</th>\n",
       "      <td>Modoc</td>\n",
       "      <td>2020-03-30</td>\n",
       "      <td>0.0</td>\n",
       "      <td>31.0</td>\n",
       "      <td>31.0</td>\n",
       "      <td>11.0</td>\n",
       "      <td>0.0</td>\n",
       "      <td>0.0</td>\n",
       "      <td>0.0</td>\n",
       "      <td>NaN</td>\n",
       "    </tr>\n",
       "    <tr>\n",
       "      <th>89</th>\n",
       "      <td>Lake</td>\n",
       "      <td>2020-03-30</td>\n",
       "      <td>0.0</td>\n",
       "      <td>1.0</td>\n",
       "      <td>1.0</td>\n",
       "      <td>313.0</td>\n",
       "      <td>0.0</td>\n",
       "      <td>1.0</td>\n",
       "      <td>3.0</td>\n",
       "      <td>NaN</td>\n",
       "    </tr>\n",
       "    <tr>\n",
       "      <th>111</th>\n",
       "      <td>Modoc</td>\n",
       "      <td>2020-03-31</td>\n",
       "      <td>0.0</td>\n",
       "      <td>19.0</td>\n",
       "      <td>19.0</td>\n",
       "      <td>11.0</td>\n",
       "      <td>0.0</td>\n",
       "      <td>0.0</td>\n",
       "      <td>0.0</td>\n",
       "      <td>NaN</td>\n",
       "    </tr>\n",
       "    <tr>\n",
       "      <th>206</th>\n",
       "      <td>Modoc</td>\n",
       "      <td>2020-04-01</td>\n",
       "      <td>0.0</td>\n",
       "      <td>1.0</td>\n",
       "      <td>1.0</td>\n",
       "      <td>11.0</td>\n",
       "      <td>0.0</td>\n",
       "      <td>0.0</td>\n",
       "      <td>0.0</td>\n",
       "      <td>NaN</td>\n",
       "    </tr>\n",
       "    <tr>\n",
       "      <th>240</th>\n",
       "      <td>Modoc</td>\n",
       "      <td>2020-04-02</td>\n",
       "      <td>0.0</td>\n",
       "      <td>1.0</td>\n",
       "      <td>1.0</td>\n",
       "      <td>11.0</td>\n",
       "      <td>0.0</td>\n",
       "      <td>0.0</td>\n",
       "      <td>0.0</td>\n",
       "      <td>NaN</td>\n",
       "    </tr>\n",
       "  </tbody>\n",
       "</table>\n",
       "</div>"
      ],
      "text/plain": [
       "    county        date  hospitalized_covid_confirmed_patients  \\\n",
       "3    Modoc  2020-03-29                                    0.0   \n",
       "66   Modoc  2020-03-30                                    0.0   \n",
       "89    Lake  2020-03-30                                    0.0   \n",
       "111  Modoc  2020-03-31                                    0.0   \n",
       "206  Modoc  2020-04-01                                    0.0   \n",
       "240  Modoc  2020-04-02                                    0.0   \n",
       "\n",
       "     hospitalized_suspected_covid_patients  hospitalized_covid_patients  \\\n",
       "3                                      0.0                          0.0   \n",
       "66                                    31.0                         31.0   \n",
       "89                                     1.0                          1.0   \n",
       "111                                   19.0                         19.0   \n",
       "206                                    1.0                          1.0   \n",
       "240                                    1.0                          1.0   \n",
       "\n",
       "     all_hospital_beds  icu_covid_confirmed_patients  \\\n",
       "3                 11.0                           0.0   \n",
       "66                11.0                           0.0   \n",
       "89               313.0                           0.0   \n",
       "111               11.0                           0.0   \n",
       "206               11.0                           0.0   \n",
       "240               11.0                           0.0   \n",
       "\n",
       "     icu_suspected_covid_patients  icu_available_beds  population  \n",
       "3                             0.0                 0.0         NaN  \n",
       "66                            0.0                 0.0         NaN  \n",
       "89                            1.0                 3.0         NaN  \n",
       "111                           0.0                 0.0         NaN  \n",
       "206                           0.0                 0.0         NaN  \n",
       "240                           0.0                 0.0         NaN  "
      ]
     },
     "execution_count": 46,
     "metadata": {},
     "output_type": "execute_result"
    }
   ],
   "source": [
    "# check out which rows have NULL for population\n",
    "df[df['population'].isna()]"
   ]
  },
  {
   "cell_type": "code",
   "execution_count": 85,
   "metadata": {},
   "outputs": [],
   "source": [
    "# replace nulls with population values for those counties\n",
    "df.loc[df['county']== 'Modoc','population']= 8841.0\n",
    "df.loc[df['county']== 'Lake','population']= 64386.0"
   ]
  },
  {
   "cell_type": "code",
   "execution_count": 125,
   "metadata": {},
   "outputs": [],
   "source": [
    "# create a data frame for the columns we need\n",
    "df_raw = df[['county','date','hospitalized_covid_patients','population']]"
   ]
  },
  {
   "cell_type": "markdown",
   "metadata": {},
   "source": [
    "#### Using Geopandas for plotting"
   ]
  },
  {
   "cell_type": "code",
   "execution_count": 89,
   "metadata": {},
   "outputs": [],
   "source": [
    "df_raw.to_csv('/Users/rahulparab/dsi/08-week/COVID-19-vaccinations/clean_data/hospitals_by_county_with_pop.csv', index=False)"
   ]
  },
  {
   "cell_type": "code",
   "execution_count": 126,
   "metadata": {},
   "outputs": [
    {
     "data": {
      "text/html": [
       "<div>\n",
       "<style scoped>\n",
       "    .dataframe tbody tr th:only-of-type {\n",
       "        vertical-align: middle;\n",
       "    }\n",
       "\n",
       "    .dataframe tbody tr th {\n",
       "        vertical-align: top;\n",
       "    }\n",
       "\n",
       "    .dataframe thead th {\n",
       "        text-align: right;\n",
       "    }\n",
       "</style>\n",
       "<table border=\"1\" class=\"dataframe\">\n",
       "  <thead>\n",
       "    <tr style=\"text-align: right;\">\n",
       "      <th></th>\n",
       "      <th>STATEFP</th>\n",
       "      <th>COUNTYFP</th>\n",
       "      <th>COUNTYNS</th>\n",
       "      <th>GEOID</th>\n",
       "      <th>NAME</th>\n",
       "      <th>NAMELSAD</th>\n",
       "      <th>LSAD</th>\n",
       "      <th>CLASSFP</th>\n",
       "      <th>MTFCC</th>\n",
       "      <th>CSAFP</th>\n",
       "      <th>CBSAFP</th>\n",
       "      <th>METDIVFP</th>\n",
       "      <th>FUNCSTAT</th>\n",
       "      <th>ALAND</th>\n",
       "      <th>AWATER</th>\n",
       "      <th>INTPTLAT</th>\n",
       "      <th>INTPTLON</th>\n",
       "      <th>geometry</th>\n",
       "    </tr>\n",
       "  </thead>\n",
       "  <tbody>\n",
       "    <tr>\n",
       "      <th>0</th>\n",
       "      <td>06</td>\n",
       "      <td>091</td>\n",
       "      <td>00277310</td>\n",
       "      <td>06091</td>\n",
       "      <td>Sierra</td>\n",
       "      <td>Sierra County</td>\n",
       "      <td>06</td>\n",
       "      <td>H1</td>\n",
       "      <td>G4020</td>\n",
       "      <td>None</td>\n",
       "      <td>None</td>\n",
       "      <td>None</td>\n",
       "      <td>A</td>\n",
       "      <td>2468694587</td>\n",
       "      <td>23299110</td>\n",
       "      <td>+39.5769252</td>\n",
       "      <td>-120.5219926</td>\n",
       "      <td>POLYGON ((-13431319.751 4821511.426, -13431312...</td>\n",
       "    </tr>\n",
       "    <tr>\n",
       "      <th>1</th>\n",
       "      <td>06</td>\n",
       "      <td>067</td>\n",
       "      <td>00277298</td>\n",
       "      <td>06067</td>\n",
       "      <td>Sacramento</td>\n",
       "      <td>Sacramento County</td>\n",
       "      <td>06</td>\n",
       "      <td>H1</td>\n",
       "      <td>G4020</td>\n",
       "      <td>472</td>\n",
       "      <td>40900</td>\n",
       "      <td>None</td>\n",
       "      <td>A</td>\n",
       "      <td>2499183617</td>\n",
       "      <td>76073827</td>\n",
       "      <td>+38.4500114</td>\n",
       "      <td>-121.3404409</td>\n",
       "      <td>POLYGON ((-13490651.476 4680831.603, -13490511...</td>\n",
       "    </tr>\n",
       "    <tr>\n",
       "      <th>2</th>\n",
       "      <td>06</td>\n",
       "      <td>083</td>\n",
       "      <td>00277306</td>\n",
       "      <td>06083</td>\n",
       "      <td>Santa Barbara</td>\n",
       "      <td>Santa Barbara County</td>\n",
       "      <td>06</td>\n",
       "      <td>H1</td>\n",
       "      <td>G4020</td>\n",
       "      <td>None</td>\n",
       "      <td>42200</td>\n",
       "      <td>None</td>\n",
       "      <td>A</td>\n",
       "      <td>7084000598</td>\n",
       "      <td>2729814515</td>\n",
       "      <td>+34.5370572</td>\n",
       "      <td>-120.0399729</td>\n",
       "      <td>MULTIPOLYGON (((-13423116.772 4042044.149, -13...</td>\n",
       "    </tr>\n",
       "    <tr>\n",
       "      <th>3</th>\n",
       "      <td>06</td>\n",
       "      <td>009</td>\n",
       "      <td>01675885</td>\n",
       "      <td>06009</td>\n",
       "      <td>Calaveras</td>\n",
       "      <td>Calaveras County</td>\n",
       "      <td>06</td>\n",
       "      <td>H1</td>\n",
       "      <td>G4020</td>\n",
       "      <td>None</td>\n",
       "      <td>None</td>\n",
       "      <td>None</td>\n",
       "      <td>A</td>\n",
       "      <td>2641820834</td>\n",
       "      <td>43806026</td>\n",
       "      <td>+38.1838996</td>\n",
       "      <td>-120.5614415</td>\n",
       "      <td>POLYGON ((-13428575.483 4627725.228, -13428534...</td>\n",
       "    </tr>\n",
       "    <tr>\n",
       "      <th>4</th>\n",
       "      <td>06</td>\n",
       "      <td>111</td>\n",
       "      <td>00277320</td>\n",
       "      <td>06111</td>\n",
       "      <td>Ventura</td>\n",
       "      <td>Ventura County</td>\n",
       "      <td>06</td>\n",
       "      <td>H1</td>\n",
       "      <td>G4020</td>\n",
       "      <td>348</td>\n",
       "      <td>37100</td>\n",
       "      <td>None</td>\n",
       "      <td>A</td>\n",
       "      <td>4773390489</td>\n",
       "      <td>945942791</td>\n",
       "      <td>+34.3587415</td>\n",
       "      <td>-119.1331432</td>\n",
       "      <td>MULTIPOLYGON (((-13317853.594 3931602.414, -13...</td>\n",
       "    </tr>\n",
       "  </tbody>\n",
       "</table>\n",
       "</div>"
      ],
      "text/plain": [
       "  STATEFP COUNTYFP  COUNTYNS  GEOID           NAME              NAMELSAD LSAD  \\\n",
       "0      06      091  00277310  06091         Sierra         Sierra County   06   \n",
       "1      06      067  00277298  06067     Sacramento     Sacramento County   06   \n",
       "2      06      083  00277306  06083  Santa Barbara  Santa Barbara County   06   \n",
       "3      06      009  01675885  06009      Calaveras      Calaveras County   06   \n",
       "4      06      111  00277320  06111        Ventura        Ventura County   06   \n",
       "\n",
       "  CLASSFP  MTFCC CSAFP CBSAFP METDIVFP FUNCSTAT       ALAND      AWATER  \\\n",
       "0      H1  G4020  None   None     None        A  2468694587    23299110   \n",
       "1      H1  G4020   472  40900     None        A  2499183617    76073827   \n",
       "2      H1  G4020  None  42200     None        A  7084000598  2729814515   \n",
       "3      H1  G4020  None   None     None        A  2641820834    43806026   \n",
       "4      H1  G4020   348  37100     None        A  4773390489   945942791   \n",
       "\n",
       "      INTPTLAT      INTPTLON  \\\n",
       "0  +39.5769252  -120.5219926   \n",
       "1  +38.4500114  -121.3404409   \n",
       "2  +34.5370572  -120.0399729   \n",
       "3  +38.1838996  -120.5614415   \n",
       "4  +34.3587415  -119.1331432   \n",
       "\n",
       "                                            geometry  \n",
       "0  POLYGON ((-13431319.751 4821511.426, -13431312...  \n",
       "1  POLYGON ((-13490651.476 4680831.603, -13490511...  \n",
       "2  MULTIPOLYGON (((-13423116.772 4042044.149, -13...  \n",
       "3  POLYGON ((-13428575.483 4627725.228, -13428534...  \n",
       "4  MULTIPOLYGON (((-13317853.594 3931602.414, -13...  "
      ]
     },
     "execution_count": 126,
     "metadata": {},
     "output_type": "execute_result"
    }
   ],
   "source": [
    "# set the filepath and load in a shapefile\n",
    "map_df = gpd.read_file('/Users/rahulparab/dsi/08-week/COVID-19-vaccinations/data/CA_Counties/CA_Counties_TIGER2016.shp')"
   ]
  },
  {
   "cell_type": "code",
   "execution_count": 91,
   "metadata": {},
   "outputs": [
    {
     "data": {
      "image/png": "[encoded data removed]",
      "text/plain": [
       "<Figure size 432x288 with 1 Axes>"
      ]
     },
     "metadata": {
      "needs_background": "light"
     },
     "output_type": "display_data"
    }
   ],
   "source": [
    "map_df.plot();"
   ]
  },
  {
   "cell_type": "code",
   "execution_count": 127,
   "metadata": {},
   "outputs": [],
   "source": [
    "# join the geodataframe with the cleaned up csv dataframe\n",
    "merged = map_df.set_index('NAME').join(df_raw.set_index('county'))"
   ]
  },
  {
   "cell_type": "code",
   "execution_count": 128,
   "metadata": {
    "scrolled": true
   },
   "outputs": [],
   "source": [
    "merged['percent_covid_pop'] = (merged['hospitalized_covid_patients'] )*100 /  (pd.to_numeric(merged['population'], downcast=\"float\"))"
   ]
  },
  {
   "cell_type": "code",
   "execution_count": 129,
   "metadata": {},
   "outputs": [
    {
     "data": {
      "text/plain": [
       "count    16293.000000\n",
       "mean         0.011752\n",
       "std          0.027148\n",
       "min          0.000000\n",
       "25%          0.002074\n",
       "50%          0.006899\n",
       "75%          0.013802\n",
       "max          0.986751\n",
       "Name: percent_covid_pop, dtype: float64"
      ]
     },
     "execution_count": 129,
     "metadata": {},
     "output_type": "execute_result"
    }
   ],
   "source": [
    "merged[\"percent_covid_pop\"].describe()"
   ]
  },
  {
   "cell_type": "code",
   "execution_count": 130,
   "metadata": {},
   "outputs": [
    {
     "name": "stderr",
     "output_type": "stream",
     "text": [
      "/opt/anaconda3/lib/python3.8/site-packages/pandas/core/series.py:726: RuntimeWarning: divide by zero encountered in log\n",
      "  result = getattr(ufunc, method)(*inputs, **kwargs)\n"
     ]
    }
   ],
   "source": [
    "# Since the range of percent_covid_pop is huge, lets convert it into a log scale\n",
    "\n",
    "merged['percent_covid_pop_log'] = np.log(merged['percent_covid_pop']) "
   ]
  },
  {
   "cell_type": "code",
   "execution_count": 132,
   "metadata": {},
   "outputs": [],
   "source": [
    "merged.loc[merged['percent_covid_pop']== 0.0,'percent_covid_pop_log']= 0.0"
   ]
  },
  {
   "cell_type": "code",
   "execution_count": 122,
   "metadata": {},
   "outputs": [],
   "source": [
    "#merged.drop(merged[merged['percent_covid_pop'] == 0.0].index, inplace = True) "
   ]
  },
  {
   "cell_type": "code",
   "execution_count": 133,
   "metadata": {},
   "outputs": [
    {
     "data": {
      "text/plain": [
       "count    16293.000000\n",
       "mean        -3.846514\n",
       "std          2.052781\n",
       "min         -7.948424\n",
       "25%         -5.163687\n",
       "50%         -4.466804\n",
       "75%         -3.343647\n",
       "max          0.000000\n",
       "Name: percent_covid_pop_log, dtype: float64"
      ]
     },
     "execution_count": 133,
     "metadata": {},
     "output_type": "execute_result"
    }
   ],
   "source": [
    "merged[\"percent_covid_pop_log\"].describe()"
   ]
  },
  {
   "cell_type": "code",
   "execution_count": 134,
   "metadata": {},
   "outputs": [
    {
     "data": {
      "image/png": "[encoded data removed]",
      "text/plain": [
       "<Figure size 720x432 with 2 Axes>"
      ]
     },
     "metadata": {
      "needs_background": "light"
     },
     "output_type": "display_data"
    }
   ],
   "source": [
    "# set a variable that will call whatever column we want to visualise on the map\n",
    "variable = 'percent_covid_pop_log'\n",
    "\n",
    "# set the range for the choropleth\n",
    "vmin, vmax = 0 , 1\n",
    "\n",
    "# create figure and axes for Matplotlib\n",
    "fig, ax = plt.subplots(1, figsize=(10, 6))\n",
    "\n",
    "# create map\n",
    "merged.plot(column=variable, cmap='Blues', linewidth=0.8, ax=ax, edgecolor='0.8')\n",
    "\n",
    "# Now we can customise and add annotations\n",
    "\n",
    "# remove the axis\n",
    "ax.axis('off')\n",
    "\n",
    "# add a title\n",
    "ax.set_title('Covid density by population', \\\n",
    "              fontdict={'fontsize': '25',\n",
    "                        'fontweight' : '3'})\n",
    "\n",
    "# create an annotation for the  data source\n",
    "ax.annotate('CA Covid number 2020',\n",
    "           xy=(0.1, 0.1), xycoords='figure fraction',\n",
    "           horizontalalignment='left', verticalalignment='top',\n",
    "           fontsize=10, color='#555555')\n",
    "\n",
    "# Create colorbar as a legend\n",
    "sm = plt.cm.ScalarMappable(cmap='Blues', norm=plt.Normalize(vmin=vmin, vmax=vmax))\n",
    "sm._A = []\n",
    "cbar = fig.colorbar(sm)\n",
    "\n",
    "# this will save the figure as a high-res png. you can also save as svg\n",
    "fig.savefig('testmap.png', dpi=500)"
   ]
  },
  {
   "cell_type": "code",
   "execution_count": null,
   "metadata": {},
   "outputs": [],
   "source": []
  }
 ],
 "metadata": {
  "kernelspec": {
   "display_name": "Python 3",
   "language": "python",
   "name": "python3"
  },
  "language_info": {
   "codemirror_mode": {
    "name": "ipython",
    "version": 3
   },
   "file_extension": ".py",
   "mimetype": "text/x-python",
   "name": "python",
   "nbconvert_exporter": "python",
   "pygments_lexer": "ipython3",
   "version": "3.8.3"
  }
 },
 "nbformat": 4,
 "nbformat_minor": 4
}

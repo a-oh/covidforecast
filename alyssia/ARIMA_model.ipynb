{
 "cells": [
  {
   "cell_type": "markdown",
   "metadata": {},
   "source": [
    "# ARIMA modeling \n",
    "*by Alyssia Oh*"
   ]
  },
  {
   "cell_type": "code",
   "execution_count": 4,
   "metadata": {
    "ExecuteTime": {
     "end_time": "2021-01-28T21:45:40.519673Z",
     "start_time": "2021-01-28T21:45:40.514352Z"
    },
    "run_control": {
     "marked": true
    }
   },
   "outputs": [],
   "source": [
    "# import libraries\n",
    "import datetime\n",
    "\n",
    "import pandas as pd\n",
    "import numpy as np\n",
    "import matplotlib.pyplot as plt\n",
    "\n",
    "from sklearn.preprocessing import StandardScaler, MinMaxScaler\n",
    "from sklearn.metrics import r2_score, mean_squared_error\n",
    "from sklearn.model_selection import train_test_split, TimeSeriesSplit\n",
    "\n",
    "import warnings\n",
    "warnings.filterwarnings('ignore')"
   ]
  },
  {
   "cell_type": "code",
   "execution_count": 15,
   "metadata": {
    "ExecuteTime": {
     "end_time": "2021-01-28T21:46:10.974586Z",
     "start_time": "2021-01-28T21:46:10.567598Z"
    },
    "run_control": {
     "marked": true
    }
   },
   "outputs": [],
   "source": [
    "import itertools\n",
    "import statsmodels.api as sm\n",
    "from statsmodels.tsa.arima_model import ARIMA"
   ]
  },
  {
   "cell_type": "code",
   "execution_count": 21,
   "metadata": {
    "ExecuteTime": {
     "end_time": "2021-01-28T21:49:12.540630Z",
     "start_time": "2021-01-28T21:49:05.651299Z"
    },
    "scrolled": true
   },
   "outputs": [
    {
     "name": "stdout",
     "output_type": "stream",
     "text": [
      "Collecting pmdarima\n",
      "  Downloading pmdarima-1.8.0-cp38-cp38-macosx_10_15_x86_64.whl (610 kB)\n",
      "\u001b[K     |████████████████████████████████| 610 kB 7.5 MB/s eta 0:00:01\n",
      "\u001b[?25hRequirement already satisfied: numpy>=1.17.3 in /Users/alyssiaoh/opt/anaconda3/lib/python3.8/site-packages (from pmdarima) (1.19.2)\n",
      "Requirement already satisfied: scikit-learn>=0.22 in /Users/alyssiaoh/opt/anaconda3/lib/python3.8/site-packages (from pmdarima) (0.23.2)\n",
      "Requirement already satisfied: setuptools!=50.0.0,>=38.6.0 in /Users/alyssiaoh/opt/anaconda3/lib/python3.8/site-packages (from pmdarima) (50.3.1.post20201107)\n",
      "Collecting Cython<0.29.18,>=0.29\n",
      "  Downloading Cython-0.29.17-cp38-cp38-macosx_10_9_x86_64.whl (2.0 MB)\n",
      "\u001b[K     |████████████████████████████████| 2.0 MB 86.2 MB/s eta 0:00:01\n",
      "\u001b[?25hRequirement already satisfied: pandas>=0.19 in /Users/alyssiaoh/opt/anaconda3/lib/python3.8/site-packages (from pmdarima) (1.1.3)\n",
      "Requirement already satisfied: scipy>=1.3.2 in /Users/alyssiaoh/opt/anaconda3/lib/python3.8/site-packages (from pmdarima) (1.5.2)\n",
      "Collecting statsmodels!=0.12.0,>=0.11\n",
      "  Downloading statsmodels-0.12.1-cp38-cp38-macosx_10_13_x86_64.whl (9.6 MB)\n",
      "\u001b[K     |████████████████████████████████| 9.6 MB 80.1 MB/s eta 0:00:01\n",
      "\u001b[?25hRequirement already satisfied: urllib3 in /Users/alyssiaoh/opt/anaconda3/lib/python3.8/site-packages (from pmdarima) (1.25.11)\n",
      "Requirement already satisfied: joblib>=0.11 in /Users/alyssiaoh/opt/anaconda3/lib/python3.8/site-packages (from pmdarima) (0.17.0)\n",
      "Requirement already satisfied: threadpoolctl>=2.0.0 in /Users/alyssiaoh/opt/anaconda3/lib/python3.8/site-packages (from scikit-learn>=0.22->pmdarima) (2.1.0)\n",
      "Requirement already satisfied: pytz>=2017.2 in /Users/alyssiaoh/opt/anaconda3/lib/python3.8/site-packages (from pandas>=0.19->pmdarima) (2020.1)\n",
      "Requirement already satisfied: python-dateutil>=2.7.3 in /Users/alyssiaoh/opt/anaconda3/lib/python3.8/site-packages (from pandas>=0.19->pmdarima) (2.8.1)\n",
      "Requirement already satisfied: patsy>=0.5 in /Users/alyssiaoh/opt/anaconda3/lib/python3.8/site-packages (from statsmodels!=0.12.0,>=0.11->pmdarima) (0.5.1)\n",
      "Requirement already satisfied: six>=1.5 in /Users/alyssiaoh/opt/anaconda3/lib/python3.8/site-packages (from python-dateutil>=2.7.3->pandas>=0.19->pmdarima) (1.15.0)\n",
      "Installing collected packages: Cython, statsmodels, pmdarima\n",
      "  Attempting uninstall: Cython\n",
      "    Found existing installation: Cython 0.29.21\n",
      "    Uninstalling Cython-0.29.21:\n",
      "      Successfully uninstalled Cython-0.29.21\n",
      "  Attempting uninstall: statsmodels\n",
      "    Found existing installation: statsmodels 0.12.0\n",
      "    Uninstalling statsmodels-0.12.0:\n",
      "      Successfully uninstalled statsmodels-0.12.0\n",
      "Successfully installed Cython-0.29.17 pmdarima-1.8.0 statsmodels-0.12.1\n",
      "Note: you may need to restart the kernel to use updated packages.\n"
     ]
    }
   ],
   "source": [
    "# for the analysis, install pmdarima package\n",
    "%pip install pmdarima"
   ]
  },
  {
   "cell_type": "code",
   "execution_count": 22,
   "metadata": {
    "ExecuteTime": {
     "end_time": "2021-01-28T21:49:18.047633Z",
     "start_time": "2021-01-28T21:49:17.559301Z"
    },
    "run_control": {
     "marked": true
    }
   },
   "outputs": [],
   "source": [
    "import pmdarima as pm"
   ]
  },
  {
   "cell_type": "code",
   "execution_count": 5,
   "metadata": {
    "ExecuteTime": {
     "end_time": "2021-01-28T21:45:40.652297Z",
     "start_time": "2021-01-28T21:45:40.576576Z"
    },
    "run_control": {
     "marked": true
    }
   },
   "outputs": [
    {
     "data": {
      "text/html": [
       "<div>\n",
       "<style scoped>\n",
       "    .dataframe tbody tr th:only-of-type {\n",
       "        vertical-align: middle;\n",
       "    }\n",
       "\n",
       "    .dataframe tbody tr th {\n",
       "        vertical-align: top;\n",
       "    }\n",
       "\n",
       "    .dataframe thead th {\n",
       "        text-align: right;\n",
       "    }\n",
       "</style>\n",
       "<table border=\"1\" class=\"dataframe\">\n",
       "  <thead>\n",
       "    <tr style=\"text-align: right;\">\n",
       "      <th></th>\n",
       "      <th>county</th>\n",
       "      <th>totalcountconfirmed</th>\n",
       "      <th>totalcountdeaths</th>\n",
       "      <th>newcountconfirmed</th>\n",
       "      <th>newcountdeaths</th>\n",
       "      <th>date</th>\n",
       "      <th>NEVER</th>\n",
       "      <th>RARELY</th>\n",
       "      <th>SOMETIMES</th>\n",
       "      <th>FREQUENTLY</th>\n",
       "      <th>ALWAYS</th>\n",
       "      <th>population</th>\n",
       "      <th>confirmedper100k</th>\n",
       "      <th>newlyconfirmedper100k</th>\n",
       "      <th>deathper100k</th>\n",
       "      <th>newdeath100k</th>\n",
       "      <th>7dayrollingavg_newlyconfirmed</th>\n",
       "      <th>7dayrollingavg_newdeath</th>\n",
       "      <th>7dayrollingavg_newlyconfirmed_rawnumber</th>\n",
       "      <th>7dayrollingavg_newdeath_rawnumber</th>\n",
       "    </tr>\n",
       "  </thead>\n",
       "  <tbody>\n",
       "    <tr>\n",
       "      <th>0</th>\n",
       "      <td>Alameda</td>\n",
       "      <td>29.0</td>\n",
       "      <td>0.0</td>\n",
       "      <td>29</td>\n",
       "      <td>0</td>\n",
       "      <td>2020-03-18</td>\n",
       "      <td>0.019</td>\n",
       "      <td>0.008</td>\n",
       "      <td>0.055</td>\n",
       "      <td>0.123</td>\n",
       "      <td>0.795</td>\n",
       "      <td>1671329</td>\n",
       "      <td>1.735146</td>\n",
       "      <td>1.735146</td>\n",
       "      <td>0.000000</td>\n",
       "      <td>0.000000</td>\n",
       "      <td>NaN</td>\n",
       "      <td>NaN</td>\n",
       "      <td>NaN</td>\n",
       "      <td>NaN</td>\n",
       "    </tr>\n",
       "    <tr>\n",
       "      <th>1</th>\n",
       "      <td>Alameda</td>\n",
       "      <td>36.0</td>\n",
       "      <td>0.0</td>\n",
       "      <td>7</td>\n",
       "      <td>0</td>\n",
       "      <td>2020-03-19</td>\n",
       "      <td>0.019</td>\n",
       "      <td>0.008</td>\n",
       "      <td>0.055</td>\n",
       "      <td>0.123</td>\n",
       "      <td>0.795</td>\n",
       "      <td>1671329</td>\n",
       "      <td>2.153974</td>\n",
       "      <td>0.418828</td>\n",
       "      <td>0.000000</td>\n",
       "      <td>0.000000</td>\n",
       "      <td>NaN</td>\n",
       "      <td>NaN</td>\n",
       "      <td>NaN</td>\n",
       "      <td>NaN</td>\n",
       "    </tr>\n",
       "    <tr>\n",
       "      <th>2</th>\n",
       "      <td>Alameda</td>\n",
       "      <td>42.0</td>\n",
       "      <td>0.0</td>\n",
       "      <td>6</td>\n",
       "      <td>0</td>\n",
       "      <td>2020-03-20</td>\n",
       "      <td>0.019</td>\n",
       "      <td>0.008</td>\n",
       "      <td>0.055</td>\n",
       "      <td>0.123</td>\n",
       "      <td>0.795</td>\n",
       "      <td>1671329</td>\n",
       "      <td>2.512970</td>\n",
       "      <td>0.358996</td>\n",
       "      <td>0.000000</td>\n",
       "      <td>0.000000</td>\n",
       "      <td>NaN</td>\n",
       "      <td>NaN</td>\n",
       "      <td>NaN</td>\n",
       "      <td>NaN</td>\n",
       "    </tr>\n",
       "    <tr>\n",
       "      <th>3</th>\n",
       "      <td>Alameda</td>\n",
       "      <td>62.0</td>\n",
       "      <td>0.0</td>\n",
       "      <td>20</td>\n",
       "      <td>0</td>\n",
       "      <td>2020-03-21</td>\n",
       "      <td>0.019</td>\n",
       "      <td>0.008</td>\n",
       "      <td>0.055</td>\n",
       "      <td>0.123</td>\n",
       "      <td>0.795</td>\n",
       "      <td>1671329</td>\n",
       "      <td>3.709623</td>\n",
       "      <td>1.196652</td>\n",
       "      <td>0.000000</td>\n",
       "      <td>0.000000</td>\n",
       "      <td>NaN</td>\n",
       "      <td>NaN</td>\n",
       "      <td>NaN</td>\n",
       "      <td>NaN</td>\n",
       "    </tr>\n",
       "    <tr>\n",
       "      <th>4</th>\n",
       "      <td>Alameda</td>\n",
       "      <td>72.0</td>\n",
       "      <td>1.0</td>\n",
       "      <td>10</td>\n",
       "      <td>1</td>\n",
       "      <td>2020-03-22</td>\n",
       "      <td>0.019</td>\n",
       "      <td>0.008</td>\n",
       "      <td>0.055</td>\n",
       "      <td>0.123</td>\n",
       "      <td>0.795</td>\n",
       "      <td>1671329</td>\n",
       "      <td>4.307949</td>\n",
       "      <td>0.598326</td>\n",
       "      <td>0.059833</td>\n",
       "      <td>0.059833</td>\n",
       "      <td>NaN</td>\n",
       "      <td>NaN</td>\n",
       "      <td>NaN</td>\n",
       "      <td>NaN</td>\n",
       "    </tr>\n",
       "  </tbody>\n",
       "</table>\n",
       "</div>"
      ],
      "text/plain": [
       "    county  totalcountconfirmed  totalcountdeaths  newcountconfirmed  \\\n",
       "0  Alameda                 29.0               0.0                 29   \n",
       "1  Alameda                 36.0               0.0                  7   \n",
       "2  Alameda                 42.0               0.0                  6   \n",
       "3  Alameda                 62.0               0.0                 20   \n",
       "4  Alameda                 72.0               1.0                 10   \n",
       "\n",
       "   newcountdeaths        date  NEVER  RARELY  SOMETIMES  FREQUENTLY  ALWAYS  \\\n",
       "0               0  2020-03-18  0.019   0.008      0.055       0.123   0.795   \n",
       "1               0  2020-03-19  0.019   0.008      0.055       0.123   0.795   \n",
       "2               0  2020-03-20  0.019   0.008      0.055       0.123   0.795   \n",
       "3               0  2020-03-21  0.019   0.008      0.055       0.123   0.795   \n",
       "4               1  2020-03-22  0.019   0.008      0.055       0.123   0.795   \n",
       "\n",
       "   population  confirmedper100k  newlyconfirmedper100k  deathper100k  \\\n",
       "0     1671329          1.735146               1.735146      0.000000   \n",
       "1     1671329          2.153974               0.418828      0.000000   \n",
       "2     1671329          2.512970               0.358996      0.000000   \n",
       "3     1671329          3.709623               1.196652      0.000000   \n",
       "4     1671329          4.307949               0.598326      0.059833   \n",
       "\n",
       "   newdeath100k  7dayrollingavg_newlyconfirmed  7dayrollingavg_newdeath  \\\n",
       "0      0.000000                            NaN                      NaN   \n",
       "1      0.000000                            NaN                      NaN   \n",
       "2      0.000000                            NaN                      NaN   \n",
       "3      0.000000                            NaN                      NaN   \n",
       "4      0.059833                            NaN                      NaN   \n",
       "\n",
       "   7dayrollingavg_newlyconfirmed_rawnumber  7dayrollingavg_newdeath_rawnumber  \n",
       "0                                      NaN                                NaN  \n",
       "1                                      NaN                                NaN  \n",
       "2                                      NaN                                NaN  \n",
       "3                                      NaN                                NaN  \n",
       "4                                      NaN                                NaN  "
      ]
     },
     "execution_count": 5,
     "metadata": {},
     "output_type": "execute_result"
    }
   ],
   "source": [
    "# import datasets\n",
    "cases_df = pd.read_csv('../clean_data/Cases_Normalized_per_100k.csv')\n",
    "cases_df.head()"
   ]
  },
  {
   "cell_type": "code",
   "execution_count": 80,
   "metadata": {
    "ExecuteTime": {
     "end_time": "2021-01-28T20:01:49.362784Z",
     "start_time": "2021-01-28T20:01:49.003450Z"
    }
   },
   "outputs": [
    {
     "data": {
      "text/html": [
       "<div>\n",
       "<style scoped>\n",
       "    .dataframe tbody tr th:only-of-type {\n",
       "        vertical-align: middle;\n",
       "    }\n",
       "\n",
       "    .dataframe tbody tr th {\n",
       "        vertical-align: top;\n",
       "    }\n",
       "\n",
       "    .dataframe thead th {\n",
       "        text-align: right;\n",
       "    }\n",
       "</style>\n",
       "<table border=\"1\" class=\"dataframe\">\n",
       "  <thead>\n",
       "    <tr style=\"text-align: right;\">\n",
       "      <th></th>\n",
       "      <th>totalcountconfirmed</th>\n",
       "      <th>totalcountdeaths</th>\n",
       "      <th>newcountconfirmed</th>\n",
       "      <th>newcountdeaths</th>\n",
       "      <th>NEVER</th>\n",
       "      <th>RARELY</th>\n",
       "      <th>SOMETIMES</th>\n",
       "      <th>FREQUENTLY</th>\n",
       "      <th>ALWAYS</th>\n",
       "      <th>population</th>\n",
       "      <th>confirmedper100k</th>\n",
       "      <th>newlyconfirmedper100k</th>\n",
       "      <th>deathper100k</th>\n",
       "      <th>newdeath100k</th>\n",
       "      <th>7dayrollingavg_newlyconfirmed</th>\n",
       "      <th>7dayrollingavg_newdeath</th>\n",
       "      <th>7dayrollingavg_newlyconfirmed_rawnumber</th>\n",
       "      <th>7dayrollingavg_newdeath_rawnumber</th>\n",
       "    </tr>\n",
       "  </thead>\n",
       "  <tbody>\n",
       "    <tr>\n",
       "      <th>count</th>\n",
       "      <td>1.812400e+04</td>\n",
       "      <td>18124.000000</td>\n",
       "      <td>18124.000000</td>\n",
       "      <td>18124.000000</td>\n",
       "      <td>18124.000000</td>\n",
       "      <td>18124.000000</td>\n",
       "      <td>18124.000000</td>\n",
       "      <td>18124.000000</td>\n",
       "      <td>18124.000000</td>\n",
       "      <td>1.812400e+04</td>\n",
       "      <td>18124.000000</td>\n",
       "      <td>18124.000000</td>\n",
       "      <td>18124.000000</td>\n",
       "      <td>18124.000000</td>\n",
       "      <td>17776.000000</td>\n",
       "      <td>1.777600e+04</td>\n",
       "      <td>17776.000000</td>\n",
       "      <td>17776.000000</td>\n",
       "    </tr>\n",
       "    <tr>\n",
       "      <th>mean</th>\n",
       "      <td>1.327444e+04</td>\n",
       "      <td>210.774443</td>\n",
       "      <td>173.013187</td>\n",
       "      <td>2.048003</td>\n",
       "      <td>0.032279</td>\n",
       "      <td>0.030699</td>\n",
       "      <td>0.063650</td>\n",
       "      <td>0.158545</td>\n",
       "      <td>0.714792</td>\n",
       "      <td>6.823606e+05</td>\n",
       "      <td>1542.530785</td>\n",
       "      <td>20.284986</td>\n",
       "      <td>19.606417</td>\n",
       "      <td>0.210988</td>\n",
       "      <td>20.232502</td>\n",
       "      <td>2.081917e-01</td>\n",
       "      <td>172.290086</td>\n",
       "      <td>2.001583</td>\n",
       "    </tr>\n",
       "    <tr>\n",
       "      <th>std</th>\n",
       "      <td>5.201773e+04</td>\n",
       "      <td>852.430551</td>\n",
       "      <td>814.985729</td>\n",
       "      <td>11.017366</td>\n",
       "      <td>0.028533</td>\n",
       "      <td>0.026178</td>\n",
       "      <td>0.033898</td>\n",
       "      <td>0.040410</td>\n",
       "      <td>0.092762</td>\n",
       "      <td>1.456208e+06</td>\n",
       "      <td>2084.332897</td>\n",
       "      <td>43.944282</td>\n",
       "      <td>28.624650</td>\n",
       "      <td>0.831238</td>\n",
       "      <td>31.417552</td>\n",
       "      <td>4.040341e-01</td>\n",
       "      <td>775.800926</td>\n",
       "      <td>9.438015</td>\n",
       "    </tr>\n",
       "    <tr>\n",
       "      <th>min</th>\n",
       "      <td>0.000000e+00</td>\n",
       "      <td>0.000000</td>\n",
       "      <td>-1157.000000</td>\n",
       "      <td>-16.000000</td>\n",
       "      <td>0.001000</td>\n",
       "      <td>0.000000</td>\n",
       "      <td>0.004000</td>\n",
       "      <td>0.058000</td>\n",
       "      <td>0.482000</td>\n",
       "      <td>1.129000e+03</td>\n",
       "      <td>0.000000</td>\n",
       "      <td>-74.546183</td>\n",
       "      <td>0.000000</td>\n",
       "      <td>-5.543545</td>\n",
       "      <td>-6.977150</td>\n",
       "      <td>-7.919349e-01</td>\n",
       "      <td>-1.142857</td>\n",
       "      <td>-1.428571</td>\n",
       "    </tr>\n",
       "    <tr>\n",
       "      <th>25%</th>\n",
       "      <td>9.400000e+01</td>\n",
       "      <td>1.000000</td>\n",
       "      <td>1.000000</td>\n",
       "      <td>0.000000</td>\n",
       "      <td>0.015000</td>\n",
       "      <td>0.013000</td>\n",
       "      <td>0.040000</td>\n",
       "      <td>0.134000</td>\n",
       "      <td>0.661000</td>\n",
       "      <td>4.590500e+04</td>\n",
       "      <td>99.646385</td>\n",
       "      <td>0.606875</td>\n",
       "      <td>1.002456</td>\n",
       "      <td>0.000000</td>\n",
       "      <td>2.049615</td>\n",
       "      <td>1.522592e-15</td>\n",
       "      <td>2.000000</td>\n",
       "      <td>0.000000</td>\n",
       "    </tr>\n",
       "    <tr>\n",
       "      <th>50%</th>\n",
       "      <td>1.044000e+03</td>\n",
       "      <td>15.000000</td>\n",
       "      <td>14.000000</td>\n",
       "      <td>0.000000</td>\n",
       "      <td>0.023000</td>\n",
       "      <td>0.023000</td>\n",
       "      <td>0.058000</td>\n",
       "      <td>0.156000</td>\n",
       "      <td>0.737000</td>\n",
       "      <td>1.928430e+05</td>\n",
       "      <td>711.532789</td>\n",
       "      <td>6.700781</td>\n",
       "      <td>8.138623</td>\n",
       "      <td>0.000000</td>\n",
       "      <td>8.310360</td>\n",
       "      <td>5.983262e-02</td>\n",
       "      <td>18.285714</td>\n",
       "      <td>0.142857</td>\n",
       "    </tr>\n",
       "    <tr>\n",
       "      <th>75%</th>\n",
       "      <td>8.147250e+03</td>\n",
       "      <td>114.000000</td>\n",
       "      <td>85.000000</td>\n",
       "      <td>0.000000</td>\n",
       "      <td>0.043000</td>\n",
       "      <td>0.043000</td>\n",
       "      <td>0.084000</td>\n",
       "      <td>0.186000</td>\n",
       "      <td>0.786000</td>\n",
       "      <td>7.621480e+05</td>\n",
       "      <td>2248.121154</td>\n",
       "      <td>22.165620</td>\n",
       "      <td>27.829294</td>\n",
       "      <td>0.000000</td>\n",
       "      <td>24.251025</td>\n",
       "      <td>2.301092e-01</td>\n",
       "      <td>89.464286</td>\n",
       "      <td>1.000000</td>\n",
       "    </tr>\n",
       "    <tr>\n",
       "      <th>max</th>\n",
       "      <td>1.048757e+06</td>\n",
       "      <td>15260.000000</td>\n",
       "      <td>28549.000000</td>\n",
       "      <td>318.000000</td>\n",
       "      <td>0.140000</td>\n",
       "      <td>0.135000</td>\n",
       "      <td>0.162000</td>\n",
       "      <td>0.276000</td>\n",
       "      <td>0.889000</td>\n",
       "      <td>1.003911e+07</td>\n",
       "      <td>15791.711641</td>\n",
       "      <td>1860.053144</td>\n",
       "      <td>272.052534</td>\n",
       "      <td>27.717723</td>\n",
       "      <td>566.793296</td>\n",
       "      <td>6.335479e+00</td>\n",
       "      <td>15711.142857</td>\n",
       "      <td>241.285714</td>\n",
       "    </tr>\n",
       "  </tbody>\n",
       "</table>\n",
       "</div>"
      ],
      "text/plain": [
       "       totalcountconfirmed  totalcountdeaths  newcountconfirmed  \\\n",
       "count         1.812400e+04      18124.000000       18124.000000   \n",
       "mean          1.327444e+04        210.774443         173.013187   \n",
       "std           5.201773e+04        852.430551         814.985729   \n",
       "min           0.000000e+00          0.000000       -1157.000000   \n",
       "25%           9.400000e+01          1.000000           1.000000   \n",
       "50%           1.044000e+03         15.000000          14.000000   \n",
       "75%           8.147250e+03        114.000000          85.000000   \n",
       "max           1.048757e+06      15260.000000       28549.000000   \n",
       "\n",
       "       newcountdeaths         NEVER        RARELY     SOMETIMES    FREQUENTLY  \\\n",
       "count    18124.000000  18124.000000  18124.000000  18124.000000  18124.000000   \n",
       "mean         2.048003      0.032279      0.030699      0.063650      0.158545   \n",
       "std         11.017366      0.028533      0.026178      0.033898      0.040410   \n",
       "min        -16.000000      0.001000      0.000000      0.004000      0.058000   \n",
       "25%          0.000000      0.015000      0.013000      0.040000      0.134000   \n",
       "50%          0.000000      0.023000      0.023000      0.058000      0.156000   \n",
       "75%          0.000000      0.043000      0.043000      0.084000      0.186000   \n",
       "max        318.000000      0.140000      0.135000      0.162000      0.276000   \n",
       "\n",
       "             ALWAYS    population  confirmedper100k  newlyconfirmedper100k  \\\n",
       "count  18124.000000  1.812400e+04      18124.000000           18124.000000   \n",
       "mean       0.714792  6.823606e+05       1542.530785              20.284986   \n",
       "std        0.092762  1.456208e+06       2084.332897              43.944282   \n",
       "min        0.482000  1.129000e+03          0.000000             -74.546183   \n",
       "25%        0.661000  4.590500e+04         99.646385               0.606875   \n",
       "50%        0.737000  1.928430e+05        711.532789               6.700781   \n",
       "75%        0.786000  7.621480e+05       2248.121154              22.165620   \n",
       "max        0.889000  1.003911e+07      15791.711641            1860.053144   \n",
       "\n",
       "       deathper100k  newdeath100k  7dayrollingavg_newlyconfirmed  \\\n",
       "count  18124.000000  18124.000000                   17776.000000   \n",
       "mean      19.606417      0.210988                      20.232502   \n",
       "std       28.624650      0.831238                      31.417552   \n",
       "min        0.000000     -5.543545                      -6.977150   \n",
       "25%        1.002456      0.000000                       2.049615   \n",
       "50%        8.138623      0.000000                       8.310360   \n",
       "75%       27.829294      0.000000                      24.251025   \n",
       "max      272.052534     27.717723                     566.793296   \n",
       "\n",
       "       7dayrollingavg_newdeath  7dayrollingavg_newlyconfirmed_rawnumber  \\\n",
       "count             1.777600e+04                             17776.000000   \n",
       "mean              2.081917e-01                               172.290086   \n",
       "std               4.040341e-01                               775.800926   \n",
       "min              -7.919349e-01                                -1.142857   \n",
       "25%               1.522592e-15                                 2.000000   \n",
       "50%               5.983262e-02                                18.285714   \n",
       "75%               2.301092e-01                                89.464286   \n",
       "max               6.335479e+00                             15711.142857   \n",
       "\n",
       "       7dayrollingavg_newdeath_rawnumber  \n",
       "count                       17776.000000  \n",
       "mean                            2.001583  \n",
       "std                             9.438015  \n",
       "min                            -1.428571  \n",
       "25%                             0.000000  \n",
       "50%                             0.142857  \n",
       "75%                             1.000000  \n",
       "max                           241.285714  "
      ]
     },
     "execution_count": 80,
     "metadata": {},
     "output_type": "execute_result"
    }
   ],
   "source": [
    "cases_df.describe()"
   ]
  },
  {
   "cell_type": "code",
   "execution_count": 6,
   "metadata": {
    "ExecuteTime": {
     "end_time": "2021-01-28T21:45:40.711269Z",
     "start_time": "2021-01-28T21:45:40.686578Z"
    },
    "run_control": {
     "marked": true
    }
   },
   "outputs": [],
   "source": [
    "# convert date to datetime\n",
    "cases_df['date'] = pd.to_datetime(cases_df['date'])"
   ]
  },
  {
   "cell_type": "code",
   "execution_count": 7,
   "metadata": {
    "ExecuteTime": {
     "end_time": "2021-01-28T21:45:40.754452Z",
     "start_time": "2021-01-28T21:45:40.738442Z"
    },
    "run_control": {
     "marked": true
    }
   },
   "outputs": [
    {
     "data": {
      "text/html": [
       "<div>\n",
       "<style scoped>\n",
       "    .dataframe tbody tr th:only-of-type {\n",
       "        vertical-align: middle;\n",
       "    }\n",
       "\n",
       "    .dataframe tbody tr th {\n",
       "        vertical-align: top;\n",
       "    }\n",
       "\n",
       "    .dataframe thead th {\n",
       "        text-align: right;\n",
       "    }\n",
       "</style>\n",
       "<table border=\"1\" class=\"dataframe\">\n",
       "  <thead>\n",
       "    <tr style=\"text-align: right;\">\n",
       "      <th></th>\n",
       "      <th>county</th>\n",
       "      <th>date</th>\n",
       "      <th>7dayrollingavg_newlyconfirmed</th>\n",
       "      <th>7dayrollingavg_newdeath</th>\n",
       "    </tr>\n",
       "  </thead>\n",
       "  <tbody>\n",
       "    <tr>\n",
       "      <th>0</th>\n",
       "      <td>Alameda</td>\n",
       "      <td>2020-03-18</td>\n",
       "      <td>NaN</td>\n",
       "      <td>NaN</td>\n",
       "    </tr>\n",
       "    <tr>\n",
       "      <th>1</th>\n",
       "      <td>Alameda</td>\n",
       "      <td>2020-03-19</td>\n",
       "      <td>NaN</td>\n",
       "      <td>NaN</td>\n",
       "    </tr>\n",
       "    <tr>\n",
       "      <th>2</th>\n",
       "      <td>Alameda</td>\n",
       "      <td>2020-03-20</td>\n",
       "      <td>NaN</td>\n",
       "      <td>NaN</td>\n",
       "    </tr>\n",
       "    <tr>\n",
       "      <th>3</th>\n",
       "      <td>Alameda</td>\n",
       "      <td>2020-03-21</td>\n",
       "      <td>NaN</td>\n",
       "      <td>NaN</td>\n",
       "    </tr>\n",
       "    <tr>\n",
       "      <th>4</th>\n",
       "      <td>Alameda</td>\n",
       "      <td>2020-03-22</td>\n",
       "      <td>NaN</td>\n",
       "      <td>NaN</td>\n",
       "    </tr>\n",
       "  </tbody>\n",
       "</table>\n",
       "</div>"
      ],
      "text/plain": [
       "    county       date  7dayrollingavg_newlyconfirmed  7dayrollingavg_newdeath\n",
       "0  Alameda 2020-03-18                            NaN                      NaN\n",
       "1  Alameda 2020-03-19                            NaN                      NaN\n",
       "2  Alameda 2020-03-20                            NaN                      NaN\n",
       "3  Alameda 2020-03-21                            NaN                      NaN\n",
       "4  Alameda 2020-03-22                            NaN                      NaN"
      ]
     },
     "execution_count": 7,
     "metadata": {},
     "output_type": "execute_result"
    }
   ],
   "source": [
    "# drop no longer needed columns\n",
    "cases_df.drop(['totalcountconfirmed', 'totalcountdeaths', 'newcountconfirmed',\n",
    "              'newcountdeaths', 'NEVER', 'RARELY', 'SOMETIMES', 'FREQUENTLY', \n",
    "              'ALWAYS', 'deathper100k', 'newdeath100k', 'confirmedper100k', 'population',\n",
    "               'newlyconfirmedper100k' ,'7dayrollingavg_newlyconfirmed_rawnumber', '7dayrollingavg_newdeath_rawnumber'], \n",
    "             axis = 1, inplace = True)\n",
    "cases_df.head()"
   ]
  },
  {
   "cell_type": "code",
   "execution_count": 8,
   "metadata": {
    "ExecuteTime": {
     "end_time": "2021-01-28T21:45:40.804135Z",
     "start_time": "2021-01-28T21:45:40.776066Z"
    },
    "run_control": {
     "marked": true
    }
   },
   "outputs": [
    {
     "data": {
      "text/html": [
       "<div>\n",
       "<style scoped>\n",
       "    .dataframe tbody tr th:only-of-type {\n",
       "        vertical-align: middle;\n",
       "    }\n",
       "\n",
       "    .dataframe tbody tr th {\n",
       "        vertical-align: top;\n",
       "    }\n",
       "\n",
       "    .dataframe thead th {\n",
       "        text-align: right;\n",
       "    }\n",
       "</style>\n",
       "<table border=\"1\" class=\"dataframe\">\n",
       "  <thead>\n",
       "    <tr style=\"text-align: right;\">\n",
       "      <th></th>\n",
       "      <th>county</th>\n",
       "      <th>todays_date</th>\n",
       "      <th>hospitalized_covid_confirmed_patients</th>\n",
       "      <th>hospitalized_suspected_covid_patients</th>\n",
       "      <th>hospitalized_covid_patients</th>\n",
       "      <th>all_hospital_beds</th>\n",
       "      <th>icu_covid_confirmed_patients</th>\n",
       "      <th>icu_suspected_covid_patients</th>\n",
       "      <th>icu_available_beds</th>\n",
       "    </tr>\n",
       "  </thead>\n",
       "  <tbody>\n",
       "    <tr>\n",
       "      <th>0</th>\n",
       "      <td>Plumas</td>\n",
       "      <td>2020-03-29</td>\n",
       "      <td>0.0</td>\n",
       "      <td>1.0</td>\n",
       "      <td>1.0</td>\n",
       "      <td>NaN</td>\n",
       "      <td>0.0</td>\n",
       "      <td>1.0</td>\n",
       "      <td>NaN</td>\n",
       "    </tr>\n",
       "    <tr>\n",
       "      <th>1</th>\n",
       "      <td>Tehama</td>\n",
       "      <td>2020-03-29</td>\n",
       "      <td>0.0</td>\n",
       "      <td>0.0</td>\n",
       "      <td>0.0</td>\n",
       "      <td>308.0</td>\n",
       "      <td>0.0</td>\n",
       "      <td>0.0</td>\n",
       "      <td>2.0</td>\n",
       "    </tr>\n",
       "    <tr>\n",
       "      <th>2</th>\n",
       "      <td>Glenn</td>\n",
       "      <td>2020-03-29</td>\n",
       "      <td>0.0</td>\n",
       "      <td>0.0</td>\n",
       "      <td>0.0</td>\n",
       "      <td>NaN</td>\n",
       "      <td>NaN</td>\n",
       "      <td>NaN</td>\n",
       "      <td>NaN</td>\n",
       "    </tr>\n",
       "    <tr>\n",
       "      <th>3</th>\n",
       "      <td>Mono</td>\n",
       "      <td>2020-03-29</td>\n",
       "      <td>0.0</td>\n",
       "      <td>1.0</td>\n",
       "      <td>1.0</td>\n",
       "      <td>308.0</td>\n",
       "      <td>0.0</td>\n",
       "      <td>0.0</td>\n",
       "      <td>2.0</td>\n",
       "    </tr>\n",
       "    <tr>\n",
       "      <th>4</th>\n",
       "      <td>Marin</td>\n",
       "      <td>2020-03-29</td>\n",
       "      <td>7.0</td>\n",
       "      <td>13.0</td>\n",
       "      <td>20.0</td>\n",
       "      <td>493.0</td>\n",
       "      <td>2.0</td>\n",
       "      <td>6.0</td>\n",
       "      <td>11.0</td>\n",
       "    </tr>\n",
       "  </tbody>\n",
       "</table>\n",
       "</div>"
      ],
      "text/plain": [
       "   county todays_date  hospitalized_covid_confirmed_patients  \\\n",
       "0  Plumas  2020-03-29                                    0.0   \n",
       "1  Tehama  2020-03-29                                    0.0   \n",
       "2   Glenn  2020-03-29                                    0.0   \n",
       "3    Mono  2020-03-29                                    0.0   \n",
       "4   Marin  2020-03-29                                    7.0   \n",
       "\n",
       "   hospitalized_suspected_covid_patients  hospitalized_covid_patients  \\\n",
       "0                                    1.0                          1.0   \n",
       "1                                    0.0                          0.0   \n",
       "2                                    0.0                          0.0   \n",
       "3                                    1.0                          1.0   \n",
       "4                                   13.0                         20.0   \n",
       "\n",
       "   all_hospital_beds  icu_covid_confirmed_patients  \\\n",
       "0                NaN                           0.0   \n",
       "1              308.0                           0.0   \n",
       "2                NaN                           NaN   \n",
       "3              308.0                           0.0   \n",
       "4              493.0                           2.0   \n",
       "\n",
       "   icu_suspected_covid_patients  icu_available_beds  \n",
       "0                           1.0                 NaN  \n",
       "1                           0.0                 2.0  \n",
       "2                           NaN                 NaN  \n",
       "3                           0.0                 2.0  \n",
       "4                           6.0                11.0  "
      ]
     },
     "execution_count": 8,
     "metadata": {},
     "output_type": "execute_result"
    }
   ],
   "source": [
    "hospitals_df = pd.read_csv('../clean_data/hospitals_by_county.csv')\n",
    "hospitals_df.head()"
   ]
  },
  {
   "cell_type": "code",
   "execution_count": 9,
   "metadata": {
    "ExecuteTime": {
     "end_time": "2021-01-28T21:45:40.832270Z",
     "start_time": "2021-01-28T21:45:40.827379Z"
    },
    "run_control": {
     "marked": true
    }
   },
   "outputs": [],
   "source": [
    "hospitals_df['todays_date'] = pd.to_datetime(hospitals_df['todays_date'])"
   ]
  },
  {
   "cell_type": "code",
   "execution_count": 10,
   "metadata": {
    "ExecuteTime": {
     "end_time": "2021-01-28T21:45:40.893181Z",
     "start_time": "2021-01-28T21:45:40.884853Z"
    },
    "run_control": {
     "marked": true
    }
   },
   "outputs": [
    {
     "data": {
      "text/html": [
       "<div>\n",
       "<style scoped>\n",
       "    .dataframe tbody tr th:only-of-type {\n",
       "        vertical-align: middle;\n",
       "    }\n",
       "\n",
       "    .dataframe tbody tr th {\n",
       "        vertical-align: top;\n",
       "    }\n",
       "\n",
       "    .dataframe thead th {\n",
       "        text-align: right;\n",
       "    }\n",
       "</style>\n",
       "<table border=\"1\" class=\"dataframe\">\n",
       "  <thead>\n",
       "    <tr style=\"text-align: right;\">\n",
       "      <th></th>\n",
       "      <th>county</th>\n",
       "      <th>todays_date</th>\n",
       "      <th>hospitalized_covid_patients</th>\n",
       "      <th>all_hospital_beds</th>\n",
       "      <th>icu_available_beds</th>\n",
       "    </tr>\n",
       "  </thead>\n",
       "  <tbody>\n",
       "    <tr>\n",
       "      <th>0</th>\n",
       "      <td>Plumas</td>\n",
       "      <td>2020-03-29</td>\n",
       "      <td>1.0</td>\n",
       "      <td>NaN</td>\n",
       "      <td>NaN</td>\n",
       "    </tr>\n",
       "    <tr>\n",
       "      <th>1</th>\n",
       "      <td>Tehama</td>\n",
       "      <td>2020-03-29</td>\n",
       "      <td>0.0</td>\n",
       "      <td>308.0</td>\n",
       "      <td>2.0</td>\n",
       "    </tr>\n",
       "    <tr>\n",
       "      <th>2</th>\n",
       "      <td>Glenn</td>\n",
       "      <td>2020-03-29</td>\n",
       "      <td>0.0</td>\n",
       "      <td>NaN</td>\n",
       "      <td>NaN</td>\n",
       "    </tr>\n",
       "    <tr>\n",
       "      <th>3</th>\n",
       "      <td>Mono</td>\n",
       "      <td>2020-03-29</td>\n",
       "      <td>1.0</td>\n",
       "      <td>308.0</td>\n",
       "      <td>2.0</td>\n",
       "    </tr>\n",
       "    <tr>\n",
       "      <th>4</th>\n",
       "      <td>Marin</td>\n",
       "      <td>2020-03-29</td>\n",
       "      <td>20.0</td>\n",
       "      <td>493.0</td>\n",
       "      <td>11.0</td>\n",
       "    </tr>\n",
       "  </tbody>\n",
       "</table>\n",
       "</div>"
      ],
      "text/plain": [
       "   county todays_date  hospitalized_covid_patients  all_hospital_beds  \\\n",
       "0  Plumas  2020-03-29                          1.0                NaN   \n",
       "1  Tehama  2020-03-29                          0.0              308.0   \n",
       "2   Glenn  2020-03-29                          0.0                NaN   \n",
       "3    Mono  2020-03-29                          1.0              308.0   \n",
       "4   Marin  2020-03-29                         20.0              493.0   \n",
       "\n",
       "   icu_available_beds  \n",
       "0                 NaN  \n",
       "1                 2.0  \n",
       "2                 NaN  \n",
       "3                 2.0  \n",
       "4                11.0  "
      ]
     },
     "execution_count": 10,
     "metadata": {},
     "output_type": "execute_result"
    }
   ],
   "source": [
    "hospitals_df.drop(['hospitalized_covid_confirmed_patients', 'hospitalized_suspected_covid_patients', \n",
    "                   'icu_covid_confirmed_patients', 'icu_suspected_covid_patients'],\n",
    "                 axis = 1, inplace = True)\n",
    "hospitals_df.head()"
   ]
  },
  {
   "cell_type": "code",
   "execution_count": 11,
   "metadata": {
    "ExecuteTime": {
     "end_time": "2021-01-28T21:45:40.940986Z",
     "start_time": "2021-01-28T21:45:40.923443Z"
    },
    "run_control": {
     "marked": true
    }
   },
   "outputs": [
    {
     "data": {
      "text/html": [
       "<div>\n",
       "<style scoped>\n",
       "    .dataframe tbody tr th:only-of-type {\n",
       "        vertical-align: middle;\n",
       "    }\n",
       "\n",
       "    .dataframe tbody tr th {\n",
       "        vertical-align: top;\n",
       "    }\n",
       "\n",
       "    .dataframe thead th {\n",
       "        text-align: right;\n",
       "    }\n",
       "</style>\n",
       "<table border=\"1\" class=\"dataframe\">\n",
       "  <thead>\n",
       "    <tr style=\"text-align: right;\">\n",
       "      <th></th>\n",
       "      <th>county</th>\n",
       "      <th>date</th>\n",
       "      <th>7dayrollingavg_newlyconfirmed</th>\n",
       "      <th>7dayrollingavg_newdeath</th>\n",
       "      <th>todays_date</th>\n",
       "      <th>hospitalized_covid_patients</th>\n",
       "      <th>all_hospital_beds</th>\n",
       "      <th>icu_available_beds</th>\n",
       "    </tr>\n",
       "  </thead>\n",
       "  <tbody>\n",
       "    <tr>\n",
       "      <th>0</th>\n",
       "      <td>Alameda</td>\n",
       "      <td>2020-03-29</td>\n",
       "      <td>1.153915</td>\n",
       "      <td>0.042738</td>\n",
       "      <td>2020-03-29</td>\n",
       "      <td>127.0</td>\n",
       "      <td>2725.0</td>\n",
       "      <td>119.0</td>\n",
       "    </tr>\n",
       "    <tr>\n",
       "      <th>1</th>\n",
       "      <td>Alameda</td>\n",
       "      <td>2020-03-30</td>\n",
       "      <td>1.384698</td>\n",
       "      <td>0.051285</td>\n",
       "      <td>2020-03-30</td>\n",
       "      <td>148.0</td>\n",
       "      <td>3283.0</td>\n",
       "      <td>146.0</td>\n",
       "    </tr>\n",
       "    <tr>\n",
       "      <th>2</th>\n",
       "      <td>Alameda</td>\n",
       "      <td>2020-03-31</td>\n",
       "      <td>1.478721</td>\n",
       "      <td>0.042738</td>\n",
       "      <td>2020-03-31</td>\n",
       "      <td>150.0</td>\n",
       "      <td>1857.0</td>\n",
       "      <td>77.0</td>\n",
       "    </tr>\n",
       "    <tr>\n",
       "      <th>3</th>\n",
       "      <td>Alameda</td>\n",
       "      <td>2020-04-01</td>\n",
       "      <td>1.307770</td>\n",
       "      <td>0.042738</td>\n",
       "      <td>2020-04-01</td>\n",
       "      <td>128.0</td>\n",
       "      <td>2456.0</td>\n",
       "      <td>106.0</td>\n",
       "    </tr>\n",
       "    <tr>\n",
       "      <th>4</th>\n",
       "      <td>Alameda</td>\n",
       "      <td>2020-04-02</td>\n",
       "      <td>1.478721</td>\n",
       "      <td>0.051285</td>\n",
       "      <td>2020-04-02</td>\n",
       "      <td>133.0</td>\n",
       "      <td>2580.0</td>\n",
       "      <td>112.0</td>\n",
       "    </tr>\n",
       "  </tbody>\n",
       "</table>\n",
       "</div>"
      ],
      "text/plain": [
       "    county       date  7dayrollingavg_newlyconfirmed  7dayrollingavg_newdeath  \\\n",
       "0  Alameda 2020-03-29                       1.153915                 0.042738   \n",
       "1  Alameda 2020-03-30                       1.384698                 0.051285   \n",
       "2  Alameda 2020-03-31                       1.478721                 0.042738   \n",
       "3  Alameda 2020-04-01                       1.307770                 0.042738   \n",
       "4  Alameda 2020-04-02                       1.478721                 0.051285   \n",
       "\n",
       "  todays_date  hospitalized_covid_patients  all_hospital_beds  \\\n",
       "0  2020-03-29                        127.0             2725.0   \n",
       "1  2020-03-30                        148.0             3283.0   \n",
       "2  2020-03-31                        150.0             1857.0   \n",
       "3  2020-04-01                        128.0             2456.0   \n",
       "4  2020-04-02                        133.0             2580.0   \n",
       "\n",
       "   icu_available_beds  \n",
       "0               119.0  \n",
       "1               146.0  \n",
       "2                77.0  \n",
       "3               106.0  \n",
       "4               112.0  "
      ]
     },
     "execution_count": 11,
     "metadata": {},
     "output_type": "execute_result"
    }
   ],
   "source": [
    "cases_hosp_df = cases_df.merge(hospitals_df, how = 'inner', left_on = ['county','date'], right_on = ['county', 'todays_date'])\n",
    "cases_hosp_df.head()"
   ]
  },
  {
   "cell_type": "code",
   "execution_count": 12,
   "metadata": {
    "ExecuteTime": {
     "end_time": "2021-01-28T21:45:40.990592Z",
     "start_time": "2021-01-28T21:45:40.981745Z"
    },
    "run_control": {
     "marked": true
    }
   },
   "outputs": [],
   "source": [
    "# do a group by so we can create predictions per county\n",
    "county_df = cases_hosp_df.groupby(['county', 'date']).mean()"
   ]
  },
  {
   "cell_type": "code",
   "execution_count": 88,
   "metadata": {
    "ExecuteTime": {
     "end_time": "2021-01-28T20:02:02.232959Z",
     "start_time": "2021-01-28T20:02:02.223337Z"
    }
   },
   "outputs": [
    {
     "data": {
      "text/plain": [
       "'Alameda'"
      ]
     },
     "execution_count": 88,
     "metadata": {},
     "output_type": "execute_result"
    }
   ],
   "source": [
    "county_df.index.get_level_values('county').unique()[0]"
   ]
  },
  {
   "cell_type": "code",
   "execution_count": 89,
   "metadata": {
    "ExecuteTime": {
     "end_time": "2021-01-28T20:02:03.710519Z",
     "start_time": "2021-01-28T20:02:03.685252Z"
    }
   },
   "outputs": [
    {
     "data": {
      "text/html": [
       "<div>\n",
       "<style scoped>\n",
       "    .dataframe tbody tr th:only-of-type {\n",
       "        vertical-align: middle;\n",
       "    }\n",
       "\n",
       "    .dataframe tbody tr th {\n",
       "        vertical-align: top;\n",
       "    }\n",
       "\n",
       "    .dataframe thead th {\n",
       "        text-align: right;\n",
       "    }\n",
       "</style>\n",
       "<table border=\"1\" class=\"dataframe\">\n",
       "  <thead>\n",
       "    <tr style=\"text-align: right;\">\n",
       "      <th></th>\n",
       "      <th>7dayrollingavg_newlyconfirmed</th>\n",
       "      <th>7dayrollingavg_newdeath</th>\n",
       "      <th>hospitalized_covid_patients</th>\n",
       "      <th>all_hospital_beds</th>\n",
       "      <th>icu_available_beds</th>\n",
       "    </tr>\n",
       "    <tr>\n",
       "      <th>date</th>\n",
       "      <th></th>\n",
       "      <th></th>\n",
       "      <th></th>\n",
       "      <th></th>\n",
       "      <th></th>\n",
       "    </tr>\n",
       "  </thead>\n",
       "  <tbody>\n",
       "    <tr>\n",
       "      <th>2020-03-29</th>\n",
       "      <td>2.468916</td>\n",
       "      <td>0.048382</td>\n",
       "      <td>1621.0</td>\n",
       "      <td>7394.0</td>\n",
       "      <td>345.0</td>\n",
       "    </tr>\n",
       "    <tr>\n",
       "      <th>2020-03-30</th>\n",
       "      <td>2.957007</td>\n",
       "      <td>0.056920</td>\n",
       "      <td>1878.0</td>\n",
       "      <td>9688.0</td>\n",
       "      <td>456.0</td>\n",
       "    </tr>\n",
       "    <tr>\n",
       "      <th>2020-03-31</th>\n",
       "      <td>3.369679</td>\n",
       "      <td>0.059766</td>\n",
       "      <td>1952.0</td>\n",
       "      <td>9460.0</td>\n",
       "      <td>445.0</td>\n",
       "    </tr>\n",
       "    <tr>\n",
       "      <th>2020-04-01</th>\n",
       "      <td>3.951689</td>\n",
       "      <td>0.079688</td>\n",
       "      <td>2071.0</td>\n",
       "      <td>10431.0</td>\n",
       "      <td>492.0</td>\n",
       "    </tr>\n",
       "    <tr>\n",
       "      <th>2020-04-02</th>\n",
       "      <td>4.219214</td>\n",
       "      <td>0.086803</td>\n",
       "      <td>2088.0</td>\n",
       "      <td>10349.0</td>\n",
       "      <td>488.0</td>\n",
       "    </tr>\n",
       "    <tr>\n",
       "      <th>...</th>\n",
       "      <td>...</td>\n",
       "      <td>...</td>\n",
       "      <td>...</td>\n",
       "      <td>...</td>\n",
       "      <td>...</td>\n",
       "    </tr>\n",
       "    <tr>\n",
       "      <th>2021-01-20</th>\n",
       "      <td>110.458032</td>\n",
       "      <td>2.033476</td>\n",
       "      <td>7413.0</td>\n",
       "      <td>19392.0</td>\n",
       "      <td>236.0</td>\n",
       "    </tr>\n",
       "    <tr>\n",
       "      <th>2021-01-21</th>\n",
       "      <td>97.337912</td>\n",
       "      <td>2.002170</td>\n",
       "      <td>7226.0</td>\n",
       "      <td>19411.0</td>\n",
       "      <td>274.0</td>\n",
       "    </tr>\n",
       "    <tr>\n",
       "      <th>2021-01-22</th>\n",
       "      <td>88.508157</td>\n",
       "      <td>1.999324</td>\n",
       "      <td>7014.0</td>\n",
       "      <td>19377.0</td>\n",
       "      <td>281.0</td>\n",
       "    </tr>\n",
       "    <tr>\n",
       "      <th>2021-01-23</th>\n",
       "      <td>82.928548</td>\n",
       "      <td>2.022092</td>\n",
       "      <td>6793.0</td>\n",
       "      <td>19334.0</td>\n",
       "      <td>299.0</td>\n",
       "    </tr>\n",
       "    <tr>\n",
       "      <th>2021-01-24</th>\n",
       "      <td>79.302728</td>\n",
       "      <td>2.009285</td>\n",
       "      <td>6606.0</td>\n",
       "      <td>19292.0</td>\n",
       "      <td>295.0</td>\n",
       "    </tr>\n",
       "  </tbody>\n",
       "</table>\n",
       "<p>302 rows × 5 columns</p>\n",
       "</div>"
      ],
      "text/plain": [
       "            7dayrollingavg_newlyconfirmed  7dayrollingavg_newdeath  \\\n",
       "date                                                                 \n",
       "2020-03-29                       2.468916                 0.048382   \n",
       "2020-03-30                       2.957007                 0.056920   \n",
       "2020-03-31                       3.369679                 0.059766   \n",
       "2020-04-01                       3.951689                 0.079688   \n",
       "2020-04-02                       4.219214                 0.086803   \n",
       "...                                   ...                      ...   \n",
       "2021-01-20                     110.458032                 2.033476   \n",
       "2021-01-21                      97.337912                 2.002170   \n",
       "2021-01-22                      88.508157                 1.999324   \n",
       "2021-01-23                      82.928548                 2.022092   \n",
       "2021-01-24                      79.302728                 2.009285   \n",
       "\n",
       "            hospitalized_covid_patients  all_hospital_beds  icu_available_beds  \n",
       "date                                                                            \n",
       "2020-03-29                       1621.0             7394.0               345.0  \n",
       "2020-03-30                       1878.0             9688.0               456.0  \n",
       "2020-03-31                       1952.0             9460.0               445.0  \n",
       "2020-04-01                       2071.0            10431.0               492.0  \n",
       "2020-04-02                       2088.0            10349.0               488.0  \n",
       "...                                 ...                ...                 ...  \n",
       "2021-01-20                       7413.0            19392.0               236.0  \n",
       "2021-01-21                       7226.0            19411.0               274.0  \n",
       "2021-01-22                       7014.0            19377.0               281.0  \n",
       "2021-01-23                       6793.0            19334.0               299.0  \n",
       "2021-01-24                       6606.0            19292.0               295.0  \n",
       "\n",
       "[302 rows x 5 columns]"
      ]
     },
     "execution_count": 89,
     "metadata": {},
     "output_type": "execute_result"
    }
   ],
   "source": [
    "# start by analyzing LA County\n",
    "county_df.loc['Los Angeles']"
   ]
  },
  {
   "cell_type": "markdown",
   "metadata": {},
   "source": [
    "## Pilot modeling using Los Angeles"
   ]
  },
  {
   "cell_type": "code",
   "execution_count": 90,
   "metadata": {
    "ExecuteTime": {
     "end_time": "2021-01-28T20:02:07.419079Z",
     "start_time": "2021-01-28T20:02:07.395409Z"
    }
   },
   "outputs": [
    {
     "data": {
      "text/html": [
       "<div>\n",
       "<style scoped>\n",
       "    .dataframe tbody tr th:only-of-type {\n",
       "        vertical-align: middle;\n",
       "    }\n",
       "\n",
       "    .dataframe tbody tr th {\n",
       "        vertical-align: top;\n",
       "    }\n",
       "\n",
       "    .dataframe thead th {\n",
       "        text-align: right;\n",
       "    }\n",
       "</style>\n",
       "<table border=\"1\" class=\"dataframe\">\n",
       "  <thead>\n",
       "    <tr style=\"text-align: right;\">\n",
       "      <th></th>\n",
       "      <th>7dayrollingavg_newlyconfirmed</th>\n",
       "      <th>7dayrollingavg_newdeath</th>\n",
       "      <th>hospitalized_covid_patients</th>\n",
       "      <th>all_hospital_beds</th>\n",
       "      <th>icu_available_beds</th>\n",
       "    </tr>\n",
       "    <tr>\n",
       "      <th>date</th>\n",
       "      <th></th>\n",
       "      <th></th>\n",
       "      <th></th>\n",
       "      <th></th>\n",
       "      <th></th>\n",
       "    </tr>\n",
       "  </thead>\n",
       "  <tbody>\n",
       "    <tr>\n",
       "      <th>2020-03-29</th>\n",
       "      <td>2.468916</td>\n",
       "      <td>0.048382</td>\n",
       "      <td>1621.0</td>\n",
       "      <td>7394.0</td>\n",
       "      <td>345.0</td>\n",
       "    </tr>\n",
       "    <tr>\n",
       "      <th>2020-03-30</th>\n",
       "      <td>2.957007</td>\n",
       "      <td>0.056920</td>\n",
       "      <td>1878.0</td>\n",
       "      <td>9688.0</td>\n",
       "      <td>456.0</td>\n",
       "    </tr>\n",
       "    <tr>\n",
       "      <th>2020-03-31</th>\n",
       "      <td>3.369679</td>\n",
       "      <td>0.059766</td>\n",
       "      <td>1952.0</td>\n",
       "      <td>9460.0</td>\n",
       "      <td>445.0</td>\n",
       "    </tr>\n",
       "    <tr>\n",
       "      <th>2020-04-01</th>\n",
       "      <td>3.951689</td>\n",
       "      <td>0.079688</td>\n",
       "      <td>2071.0</td>\n",
       "      <td>10431.0</td>\n",
       "      <td>492.0</td>\n",
       "    </tr>\n",
       "    <tr>\n",
       "      <th>2020-04-02</th>\n",
       "      <td>4.219214</td>\n",
       "      <td>0.086803</td>\n",
       "      <td>2088.0</td>\n",
       "      <td>10349.0</td>\n",
       "      <td>488.0</td>\n",
       "    </tr>\n",
       "    <tr>\n",
       "      <th>...</th>\n",
       "      <td>...</td>\n",
       "      <td>...</td>\n",
       "      <td>...</td>\n",
       "      <td>...</td>\n",
       "      <td>...</td>\n",
       "    </tr>\n",
       "    <tr>\n",
       "      <th>2021-01-20</th>\n",
       "      <td>110.458032</td>\n",
       "      <td>2.033476</td>\n",
       "      <td>7413.0</td>\n",
       "      <td>19392.0</td>\n",
       "      <td>236.0</td>\n",
       "    </tr>\n",
       "    <tr>\n",
       "      <th>2021-01-21</th>\n",
       "      <td>97.337912</td>\n",
       "      <td>2.002170</td>\n",
       "      <td>7226.0</td>\n",
       "      <td>19411.0</td>\n",
       "      <td>274.0</td>\n",
       "    </tr>\n",
       "    <tr>\n",
       "      <th>2021-01-22</th>\n",
       "      <td>88.508157</td>\n",
       "      <td>1.999324</td>\n",
       "      <td>7014.0</td>\n",
       "      <td>19377.0</td>\n",
       "      <td>281.0</td>\n",
       "    </tr>\n",
       "    <tr>\n",
       "      <th>2021-01-23</th>\n",
       "      <td>82.928548</td>\n",
       "      <td>2.022092</td>\n",
       "      <td>6793.0</td>\n",
       "      <td>19334.0</td>\n",
       "      <td>299.0</td>\n",
       "    </tr>\n",
       "    <tr>\n",
       "      <th>2021-01-24</th>\n",
       "      <td>79.302728</td>\n",
       "      <td>2.009285</td>\n",
       "      <td>6606.0</td>\n",
       "      <td>19292.0</td>\n",
       "      <td>295.0</td>\n",
       "    </tr>\n",
       "  </tbody>\n",
       "</table>\n",
       "<p>302 rows × 5 columns</p>\n",
       "</div>"
      ],
      "text/plain": [
       "            7dayrollingavg_newlyconfirmed  7dayrollingavg_newdeath  \\\n",
       "date                                                                 \n",
       "2020-03-29                       2.468916                 0.048382   \n",
       "2020-03-30                       2.957007                 0.056920   \n",
       "2020-03-31                       3.369679                 0.059766   \n",
       "2020-04-01                       3.951689                 0.079688   \n",
       "2020-04-02                       4.219214                 0.086803   \n",
       "...                                   ...                      ...   \n",
       "2021-01-20                     110.458032                 2.033476   \n",
       "2021-01-21                      97.337912                 2.002170   \n",
       "2021-01-22                      88.508157                 1.999324   \n",
       "2021-01-23                      82.928548                 2.022092   \n",
       "2021-01-24                      79.302728                 2.009285   \n",
       "\n",
       "            hospitalized_covid_patients  all_hospital_beds  icu_available_beds  \n",
       "date                                                                            \n",
       "2020-03-29                       1621.0             7394.0               345.0  \n",
       "2020-03-30                       1878.0             9688.0               456.0  \n",
       "2020-03-31                       1952.0             9460.0               445.0  \n",
       "2020-04-01                       2071.0            10431.0               492.0  \n",
       "2020-04-02                       2088.0            10349.0               488.0  \n",
       "...                                 ...                ...                 ...  \n",
       "2021-01-20                       7413.0            19392.0               236.0  \n",
       "2021-01-21                       7226.0            19411.0               274.0  \n",
       "2021-01-22                       7014.0            19377.0               281.0  \n",
       "2021-01-23                       6793.0            19334.0               299.0  \n",
       "2021-01-24                       6606.0            19292.0               295.0  \n",
       "\n",
       "[302 rows x 5 columns]"
      ]
     },
     "execution_count": 90,
     "metadata": {},
     "output_type": "execute_result"
    }
   ],
   "source": [
    "# start by analyzing LA County\n",
    "county_df.loc['Los Angeles']"
   ]
  },
  {
   "cell_type": "code",
   "execution_count": 13,
   "metadata": {
    "ExecuteTime": {
     "end_time": "2021-01-28T21:45:54.919220Z",
     "start_time": "2021-01-28T21:45:54.907653Z"
    }
   },
   "outputs": [],
   "source": [
    "la_df = county_df.loc['Los Angeles'].tail(110)\n",
    "features = ['hospitalized_covid_patients', '7dayrollingavg_newdeath', 'all_hospital_beds', 'icu_available_beds']\n",
    "X = la_df[features]\n",
    "y = la_df[['7dayrollingavg_newlyconfirmed']]"
   ]
  },
  {
   "cell_type": "code",
   "execution_count": 16,
   "metadata": {
    "ExecuteTime": {
     "end_time": "2021-01-28T21:47:13.086851Z",
     "start_time": "2021-01-28T21:47:13.051485Z"
    }
   },
   "outputs": [
    {
     "data": {
      "text/html": [
       "<div>\n",
       "<style scoped>\n",
       "    .dataframe tbody tr th:only-of-type {\n",
       "        vertical-align: middle;\n",
       "    }\n",
       "\n",
       "    .dataframe tbody tr th {\n",
       "        vertical-align: top;\n",
       "    }\n",
       "\n",
       "    .dataframe thead th {\n",
       "        text-align: right;\n",
       "    }\n",
       "</style>\n",
       "<table border=\"1\" class=\"dataframe\">\n",
       "  <thead>\n",
       "    <tr style=\"text-align: right;\">\n",
       "      <th></th>\n",
       "      <th>hospitalized_covid_patients</th>\n",
       "      <th>7dayrollingavg_newdeath</th>\n",
       "      <th>all_hospital_beds</th>\n",
       "      <th>icu_available_beds</th>\n",
       "    </tr>\n",
       "    <tr>\n",
       "      <th>date</th>\n",
       "      <th></th>\n",
       "      <th></th>\n",
       "      <th></th>\n",
       "      <th></th>\n",
       "    </tr>\n",
       "  </thead>\n",
       "  <tbody>\n",
       "    <tr>\n",
       "      <th>2021-01-02</th>\n",
       "      <td>7971.0</td>\n",
       "      <td>1.770220</td>\n",
       "      <td>20244.0</td>\n",
       "      <td>327.0</td>\n",
       "    </tr>\n",
       "    <tr>\n",
       "      <th>2021-01-03</th>\n",
       "      <td>8203.0</td>\n",
       "      <td>1.837101</td>\n",
       "      <td>20328.0</td>\n",
       "      <td>326.0</td>\n",
       "    </tr>\n",
       "    <tr>\n",
       "      <th>2021-01-04</th>\n",
       "      <td>8318.0</td>\n",
       "      <td>1.842793</td>\n",
       "      <td>20371.0</td>\n",
       "      <td>338.0</td>\n",
       "    </tr>\n",
       "    <tr>\n",
       "      <th>2021-01-05</th>\n",
       "      <td>8422.0</td>\n",
       "      <td>1.834255</td>\n",
       "      <td>20495.0</td>\n",
       "      <td>313.0</td>\n",
       "    </tr>\n",
       "    <tr>\n",
       "      <th>2021-01-06</th>\n",
       "      <td>8385.0</td>\n",
       "      <td>1.810064</td>\n",
       "      <td>20435.0</td>\n",
       "      <td>328.0</td>\n",
       "    </tr>\n",
       "  </tbody>\n",
       "</table>\n",
       "</div>"
      ],
      "text/plain": [
       "            hospitalized_covid_patients  7dayrollingavg_newdeath  \\\n",
       "date                                                               \n",
       "2021-01-02                       7971.0                 1.770220   \n",
       "2021-01-03                       8203.0                 1.837101   \n",
       "2021-01-04                       8318.0                 1.842793   \n",
       "2021-01-05                       8422.0                 1.834255   \n",
       "2021-01-06                       8385.0                 1.810064   \n",
       "\n",
       "            all_hospital_beds  icu_available_beds  \n",
       "date                                               \n",
       "2021-01-02            20244.0               327.0  \n",
       "2021-01-03            20328.0               326.0  \n",
       "2021-01-04            20371.0               338.0  \n",
       "2021-01-05            20495.0               313.0  \n",
       "2021-01-06            20435.0               328.0  "
      ]
     },
     "execution_count": 16,
     "metadata": {},
     "output_type": "execute_result"
    }
   ],
   "source": [
    "\n",
    "X_train = X.iloc[:92]\n",
    "X_test = X.iloc[92:]\n",
    "y_train = y.iloc[:92]\n",
    "y_test = y.iloc[92:]\n",
    "X_train.tail()"
   ]
  },
  {
   "cell_type": "code",
   "execution_count": 24,
   "metadata": {
    "ExecuteTime": {
     "end_time": "2021-01-28T21:57:53.558866Z",
     "start_time": "2021-01-28T21:57:52.455606Z"
    }
   },
   "outputs": [
    {
     "name": "stdout",
     "output_type": "stream",
     "text": [
      "Performing stepwise search to minimize aic\n",
      " ARIMA(1,2,1)(0,0,0)[0] intercept   : AIC=575.359, Time=0.05 sec\n",
      " ARIMA(0,2,0)(0,0,0)[0] intercept   : AIC=649.159, Time=0.02 sec\n",
      " ARIMA(1,2,0)(0,0,0)[0] intercept   : AIC=611.739, Time=0.03 sec\n",
      " ARIMA(0,2,1)(0,0,0)[0] intercept   : AIC=inf, Time=0.05 sec\n",
      " ARIMA(0,2,0)(0,0,0)[0]             : AIC=647.160, Time=0.01 sec\n",
      " ARIMA(2,2,1)(0,0,0)[0] intercept   : AIC=576.989, Time=0.04 sec\n",
      " ARIMA(1,2,2)(0,0,0)[0] intercept   : AIC=576.229, Time=0.06 sec\n",
      " ARIMA(0,2,2)(0,0,0)[0] intercept   : AIC=574.601, Time=0.07 sec\n",
      " ARIMA(0,2,3)(0,0,0)[0] intercept   : AIC=576.291, Time=0.05 sec\n",
      " ARIMA(1,2,3)(0,0,0)[0] intercept   : AIC=577.940, Time=0.08 sec\n",
      " ARIMA(0,2,2)(0,0,0)[0]             : AIC=572.608, Time=0.03 sec\n",
      " ARIMA(0,2,1)(0,0,0)[0]             : AIC=575.638, Time=0.37 sec\n",
      " ARIMA(1,2,2)(0,0,0)[0]             : AIC=574.247, Time=0.04 sec\n",
      " ARIMA(0,2,3)(0,0,0)[0]             : AIC=574.308, Time=0.03 sec\n",
      " ARIMA(1,2,1)(0,0,0)[0]             : AIC=573.362, Time=0.02 sec\n",
      " ARIMA(1,2,3)(0,0,0)[0]             : AIC=575.941, Time=0.06 sec\n",
      "\n",
      "Best model:  ARIMA(0,2,2)(0,0,0)[0]          \n",
      "Total fit time: 1.066 seconds\n"
     ]
    },
    {
     "data": {
      "text/html": [
       "<table class=\"simpletable\">\n",
       "<caption>SARIMAX Results</caption>\n",
       "<tr>\n",
       "  <th>Dep. Variable:</th>           <td>y</td>        <th>  No. Observations:  </th>    <td>92</td>   \n",
       "</tr>\n",
       "<tr>\n",
       "  <th>Model:</th>           <td>SARIMAX(0, 2, 2)</td> <th>  Log Likelihood     </th> <td>-283.304</td>\n",
       "</tr>\n",
       "<tr>\n",
       "  <th>Date:</th>            <td>Thu, 28 Jan 2021</td> <th>  AIC                </th>  <td>572.608</td>\n",
       "</tr>\n",
       "<tr>\n",
       "  <th>Time:</th>                <td>13:57:53</td>     <th>  BIC                </th>  <td>580.108</td>\n",
       "</tr>\n",
       "<tr>\n",
       "  <th>Sample:</th>                  <td>0</td>        <th>  HQIC               </th>  <td>575.632</td>\n",
       "</tr>\n",
       "<tr>\n",
       "  <th></th>                       <td> - 92</td>      <th>                     </th>     <td> </td>   \n",
       "</tr>\n",
       "<tr>\n",
       "  <th>Covariance Type:</th>        <td>opg</td>       <th>                     </th>     <td> </td>   \n",
       "</tr>\n",
       "</table>\n",
       "<table class=\"simpletable\">\n",
       "<tr>\n",
       "     <td></td>       <th>coef</th>     <th>std err</th>      <th>z</th>      <th>P>|z|</th>  <th>[0.025</th>    <th>0.975]</th>  \n",
       "</tr>\n",
       "<tr>\n",
       "  <th>ma.L1</th>  <td>   -1.1881</td> <td>    0.052</td> <td>  -22.821</td> <td> 0.000</td> <td>   -1.290</td> <td>   -1.086</td>\n",
       "</tr>\n",
       "<tr>\n",
       "  <th>ma.L2</th>  <td>    0.2782</td> <td>    0.064</td> <td>    4.331</td> <td> 0.000</td> <td>    0.152</td> <td>    0.404</td>\n",
       "</tr>\n",
       "<tr>\n",
       "  <th>sigma2</th> <td>   30.9945</td> <td>    2.022</td> <td>   15.330</td> <td> 0.000</td> <td>   27.032</td> <td>   34.957</td>\n",
       "</tr>\n",
       "</table>\n",
       "<table class=\"simpletable\">\n",
       "<tr>\n",
       "  <th>Ljung-Box (L1) (Q):</th>     <td>0.00</td>  <th>  Jarque-Bera (JB):  </th> <td>298.43</td>\n",
       "</tr>\n",
       "<tr>\n",
       "  <th>Prob(Q):</th>                <td>0.97</td>  <th>  Prob(JB):          </th>  <td>0.00</td> \n",
       "</tr>\n",
       "<tr>\n",
       "  <th>Heteroskedasticity (H):</th> <td>34.47</td> <th>  Skew:              </th>  <td>0.23</td> \n",
       "</tr>\n",
       "<tr>\n",
       "  <th>Prob(H) (two-sided):</th>    <td>0.00</td>  <th>  Kurtosis:          </th>  <td>11.91</td>\n",
       "</tr>\n",
       "</table><br/><br/>Warnings:<br/>[1] Covariance matrix calculated using the outer product of gradients (complex-step)."
      ],
      "text/plain": [
       "<class 'statsmodels.iolib.summary.Summary'>\n",
       "\"\"\"\n",
       "                               SARIMAX Results                                \n",
       "==============================================================================\n",
       "Dep. Variable:                      y   No. Observations:                   92\n",
       "Model:               SARIMAX(0, 2, 2)   Log Likelihood                -283.304\n",
       "Date:                Thu, 28 Jan 2021   AIC                            572.608\n",
       "Time:                        13:57:53   BIC                            580.108\n",
       "Sample:                             0   HQIC                           575.632\n",
       "                                 - 92                                         \n",
       "Covariance Type:                  opg                                         \n",
       "==============================================================================\n",
       "                 coef    std err          z      P>|z|      [0.025      0.975]\n",
       "------------------------------------------------------------------------------\n",
       "ma.L1         -1.1881      0.052    -22.821      0.000      -1.290      -1.086\n",
       "ma.L2          0.2782      0.064      4.331      0.000       0.152       0.404\n",
       "sigma2        30.9945      2.022     15.330      0.000      27.032      34.957\n",
       "===================================================================================\n",
       "Ljung-Box (L1) (Q):                   0.00   Jarque-Bera (JB):               298.43\n",
       "Prob(Q):                              0.97   Prob(JB):                         0.00\n",
       "Heteroskedasticity (H):              34.47   Skew:                             0.23\n",
       "Prob(H) (two-sided):                  0.00   Kurtosis:                        11.91\n",
       "===================================================================================\n",
       "\n",
       "Warnings:\n",
       "[1] Covariance matrix calculated using the outer product of gradients (complex-step).\n",
       "\"\"\""
      ]
     },
     "execution_count": 24,
     "metadata": {},
     "output_type": "execute_result"
    }
   ],
   "source": [
    "# ARIMA modeling has been adapted from\n",
    "# ARIMA Model – Complete Guide to Time Series Forecasting in Python by Selva Prabhakaran \n",
    "# https://www.machinelearningplus.com/time-series/arima-model-time-series-forecasting-python/\n",
    "\n",
    "# for the ARIMA model that does not consider seasonality, auto-arima function scans p,d,q values \n",
    "# to find the combination with the lowest AIC\n",
    "# (when incorporating seasonality, it did not do as well as the manual grid search)\n",
    "\n",
    "\n",
    "smodel = pm.auto_arima(y_train, start_p=1, start_q=1,\n",
    "                         test='adf',\n",
    "                         max_p=3, max_q=3, m=12,\n",
    "                         start_P=0, seasonal=False,\n",
    "                         d=None, D=None, trace=True,\n",
    "                         error_action='ignore',  \n",
    "                         suppress_warnings=True, \n",
    "                         stepwise=True)\n",
    "\n",
    "smodel.summary()"
   ]
  },
  {
   "cell_type": "code",
   "execution_count": 36,
   "metadata": {
    "ExecuteTime": {
     "end_time": "2021-01-28T22:06:00.670554Z",
     "start_time": "2021-01-28T22:05:59.876060Z"
    },
    "scrolled": true
   },
   "outputs": [
    {
     "data": {
      "image/png": "[encoded data removed]",
      "text/plain": [
       "<Figure size 1152x576 with 4 Axes>"
      ]
     },
     "metadata": {
      "needs_background": "light"
     },
     "output_type": "display_data"
    }
   ],
   "source": [
    "smodel.plot_diagnostics(figsize=(16, 8))\n",
    "plt.show()"
   ]
  },
  {
   "cell_type": "markdown",
   "metadata": {},
   "source": [
    "- **standardized residual**: The residual errors seem to fluctuate around a mean of zero and one, although the later third's fluctuation increases to three or four \n",
    "\n",
    "- **histogram**: the overall shape follows normal distribution, but heavily centralized \n",
    "\n",
    "- **normal Q-Q**: All the dots should fall in line with the red line. There is a greater variation in the sample Q than theoretical Q \n",
    "\n",
    "- **correlogram**: the residual errors are not autocorrelated, indicating there is no pattern in the residual errors which are not explained in the model"
   ]
  },
  {
   "cell_type": "markdown",
   "metadata": {},
   "source": [
    "### model validation using test data"
   ]
  },
  {
   "cell_type": "code",
   "execution_count": 71,
   "metadata": {
    "ExecuteTime": {
     "end_time": "2021-01-29T01:37:19.575361Z",
     "start_time": "2021-01-29T01:37:19.359728Z"
    },
    "run_control": {
     "marked": true
    },
    "scrolled": false
   },
   "outputs": [
    {
     "name": "stdout",
     "output_type": "stream",
     "text": [
      "                                    ARIMA Model Results                                     \n",
      "============================================================================================\n",
      "Dep. Variable:     D2.7dayrollingavg_newlyconfirmed   No. Observations:                   90\n",
      "Model:                               ARIMA(0, 2, 2)   Log Likelihood                -283.300\n",
      "Method:                                     css-mle   S.D. of innovations              5.567\n",
      "Date:                              Thu, 28 Jan 2021   AIC                            574.601\n",
      "Time:                                      17:37:19   BIC                            584.600\n",
      "Sample:                                  10-09-2020   HQIC                           578.633\n",
      "                                       - 01-06-2021                                         \n",
      "==========================================================================================================\n",
      "                                             coef    std err          z      P>|z|      [0.025      0.975]\n",
      "----------------------------------------------------------------------------------------------------------\n",
      "const                                     -0.0050      0.059     -0.085      0.932      -0.121       0.111\n",
      "ma.L1.D2.7dayrollingavg_newlyconfirmed    -1.1886      0.110    -10.791      0.000      -1.405      -0.973\n",
      "ma.L2.D2.7dayrollingavg_newlyconfirmed     0.2793      0.118      2.377      0.017       0.049       0.510\n",
      "                                    Roots                                    \n",
      "=============================================================================\n",
      "                  Real          Imaginary           Modulus         Frequency\n",
      "-----------------------------------------------------------------------------\n",
      "MA.1            1.1545           +0.0000j            1.1545            0.0000\n",
      "MA.2            3.1012           +0.0000j            3.1012            0.0000\n",
      "-----------------------------------------------------------------------------\n"
     ]
    },
    {
     "data": {
      "image/png": "[encoded data removed]",
      "text/plain": [
       "<Figure size 1008x360 with 1 Axes>"
      ]
     },
     "metadata": {
      "needs_background": "light"
     },
     "output_type": "display_data"
    }
   ],
   "source": [
    "# the train data stops at 2021-1-6, \n",
    "# and now we use the test data that starts on 2021-1-7 to see how the model does compared to the actual data\n",
    "\n",
    "\n",
    "\n",
    "warnings.filterwarnings(\"ignore\") \n",
    "\n",
    "\n",
    "model = ARIMA(y_train, order=smodel.order)  \n",
    "fitted = model.fit(disp=-1)  \n",
    "print(fitted.summary())\n",
    "#Forecast\n",
    "fc, se, conf = fitted.forecast(18, alpha=0.05)  \n",
    "\n",
    "# Make as pandas series\n",
    "fc_series = pd.Series(fc, index=y_test.index)\n",
    "lower_series = pd.Series(conf[:, 0], index=y_test.index)\n",
    "upper_series = pd.Series(conf[:, 1], index=y_test.index)\n",
    "\n",
    "# Plot\n",
    "plt.figure(figsize=(14,5))\n",
    "plt.plot(y_train, label='training')\n",
    "plt.plot(y_test, label='actual')\n",
    "plt.plot(fc_series, label='forecast')\n",
    "plt.fill_between(lower_series.index, lower_series, upper_series, \n",
    "                 color='k', alpha=.15)\n",
    "plt.title('Forecast vs Actuals')\n",
    "plt.legend()\n",
    "plt.savefig('../images/arima_la_county.png');"
   ]
  },
  {
   "cell_type": "code",
   "execution_count": 35,
   "metadata": {
    "ExecuteTime": {
     "end_time": "2021-01-28T22:04:18.985229Z",
     "start_time": "2021-01-28T22:04:18.974714Z"
    }
   },
   "outputs": [
    {
     "name": "stdout",
     "output_type": "stream",
     "text": [
      "MSE of our forecast is: 524.1627103872607\n",
      "RMSE of our forecast is: 22.894600026802408\n"
     ]
    }
   ],
   "source": [
    "\n",
    "\n",
    "print('MSE of our forecast is:', mean_squared_error(y_test, fc_series, squared=True))\n",
    "print('RMSE of our forecast is:', mean_squared_error(y_test, fc_series, squared=False))"
   ]
  },
  {
   "cell_type": "markdown",
   "metadata": {},
   "source": [
    "the model is not able to predict trend changes, so the difference between our forecast and the actual data widens as time goes on. However, RMSE of 22.89 is better than SARIMAX model \n",
    "\n"
   ]
  },
  {
   "cell_type": "markdown",
   "metadata": {},
   "source": [
    "### model using all data points"
   ]
  },
  {
   "cell_type": "code",
   "execution_count": 38,
   "metadata": {
    "ExecuteTime": {
     "end_time": "2021-01-28T22:12:10.804991Z",
     "start_time": "2021-01-28T22:12:10.184265Z"
    },
    "run_control": {
     "marked": true
    },
    "scrolled": true
   },
   "outputs": [
    {
     "name": "stdout",
     "output_type": "stream",
     "text": [
      "Performing stepwise search to minimize aic\n",
      " ARIMA(1,2,1)(0,0,0)[0] intercept   : AIC=684.987, Time=0.04 sec\n",
      " ARIMA(0,2,0)(0,0,0)[0] intercept   : AIC=761.359, Time=0.01 sec\n",
      " ARIMA(1,2,0)(0,0,0)[0] intercept   : AIC=718.901, Time=0.03 sec\n",
      " ARIMA(0,2,1)(0,0,0)[0] intercept   : AIC=686.186, Time=0.02 sec\n",
      " ARIMA(0,2,0)(0,0,0)[0]             : AIC=759.361, Time=0.01 sec\n",
      " ARIMA(2,2,1)(0,0,0)[0] intercept   : AIC=686.897, Time=0.04 sec\n",
      " ARIMA(1,2,2)(0,0,0)[0] intercept   : AIC=686.522, Time=0.06 sec\n",
      " ARIMA(0,2,2)(0,0,0)[0] intercept   : AIC=684.739, Time=0.04 sec\n",
      " ARIMA(0,2,3)(0,0,0)[0] intercept   : AIC=686.600, Time=0.05 sec\n",
      " ARIMA(1,2,3)(0,0,0)[0] intercept   : AIC=687.512, Time=0.09 sec\n",
      " ARIMA(0,2,2)(0,0,0)[0]             : AIC=683.386, Time=0.02 sec\n",
      " ARIMA(0,2,1)(0,0,0)[0]             : AIC=684.809, Time=0.01 sec\n",
      " ARIMA(1,2,2)(0,0,0)[0]             : AIC=685.147, Time=0.03 sec\n",
      " ARIMA(0,2,3)(0,0,0)[0]             : AIC=685.232, Time=0.03 sec\n",
      " ARIMA(1,2,1)(0,0,0)[0]             : AIC=683.639, Time=0.02 sec\n",
      " ARIMA(1,2,3)(0,0,0)[0]             : AIC=686.161, Time=0.07 sec\n",
      "\n",
      "Best model:  ARIMA(0,2,2)(0,0,0)[0]          \n",
      "Total fit time: 0.598 seconds\n"
     ]
    },
    {
     "data": {
      "text/html": [
       "<table class=\"simpletable\">\n",
       "<caption>SARIMAX Results</caption>\n",
       "<tr>\n",
       "  <th>Dep. Variable:</th>           <td>y</td>        <th>  No. Observations:  </th>    <td>110</td>  \n",
       "</tr>\n",
       "<tr>\n",
       "  <th>Model:</th>           <td>SARIMAX(0, 2, 2)</td> <th>  Log Likelihood     </th> <td>-338.693</td>\n",
       "</tr>\n",
       "<tr>\n",
       "  <th>Date:</th>            <td>Thu, 28 Jan 2021</td> <th>  AIC                </th>  <td>683.386</td>\n",
       "</tr>\n",
       "<tr>\n",
       "  <th>Time:</th>                <td>14:12:10</td>     <th>  BIC                </th>  <td>691.432</td>\n",
       "</tr>\n",
       "<tr>\n",
       "  <th>Sample:</th>                  <td>0</td>        <th>  HQIC               </th>  <td>686.648</td>\n",
       "</tr>\n",
       "<tr>\n",
       "  <th></th>                      <td> - 110</td>      <th>                     </th>     <td> </td>   \n",
       "</tr>\n",
       "<tr>\n",
       "  <th>Covariance Type:</th>        <td>opg</td>       <th>                     </th>     <td> </td>   \n",
       "</tr>\n",
       "</table>\n",
       "<table class=\"simpletable\">\n",
       "<tr>\n",
       "     <td></td>       <th>coef</th>     <th>std err</th>      <th>z</th>      <th>P>|z|</th>  <th>[0.025</th>    <th>0.975]</th>  \n",
       "</tr>\n",
       "<tr>\n",
       "  <th>ma.L1</th>  <td>   -1.0460</td> <td>    0.050</td> <td>  -21.016</td> <td> 0.000</td> <td>   -1.144</td> <td>   -0.948</td>\n",
       "</tr>\n",
       "<tr>\n",
       "  <th>ma.L2</th>  <td>    0.1922</td> <td>    0.065</td> <td>    2.938</td> <td> 0.003</td> <td>    0.064</td> <td>    0.320</td>\n",
       "</tr>\n",
       "<tr>\n",
       "  <th>sigma2</th> <td>   30.5668</td> <td>    1.908</td> <td>   16.017</td> <td> 0.000</td> <td>   26.827</td> <td>   34.307</td>\n",
       "</tr>\n",
       "</table>\n",
       "<table class=\"simpletable\">\n",
       "<tr>\n",
       "  <th>Ljung-Box (L1) (Q):</th>     <td>0.01</td>  <th>  Jarque-Bera (JB):  </th> <td>353.54</td>\n",
       "</tr>\n",
       "<tr>\n",
       "  <th>Prob(Q):</th>                <td>0.93</td>  <th>  Prob(JB):          </th>  <td>0.00</td> \n",
       "</tr>\n",
       "<tr>\n",
       "  <th>Heteroskedasticity (H):</th> <td>40.14</td> <th>  Skew:              </th>  <td>0.76</td> \n",
       "</tr>\n",
       "<tr>\n",
       "  <th>Prob(H) (two-sided):</th>    <td>0.00</td>  <th>  Kurtosis:          </th>  <td>11.73</td>\n",
       "</tr>\n",
       "</table><br/><br/>Warnings:<br/>[1] Covariance matrix calculated using the outer product of gradients (complex-step)."
      ],
      "text/plain": [
       "<class 'statsmodels.iolib.summary.Summary'>\n",
       "\"\"\"\n",
       "                               SARIMAX Results                                \n",
       "==============================================================================\n",
       "Dep. Variable:                      y   No. Observations:                  110\n",
       "Model:               SARIMAX(0, 2, 2)   Log Likelihood                -338.693\n",
       "Date:                Thu, 28 Jan 2021   AIC                            683.386\n",
       "Time:                        14:12:10   BIC                            691.432\n",
       "Sample:                             0   HQIC                           686.648\n",
       "                                - 110                                         \n",
       "Covariance Type:                  opg                                         \n",
       "==============================================================================\n",
       "                 coef    std err          z      P>|z|      [0.025      0.975]\n",
       "------------------------------------------------------------------------------\n",
       "ma.L1         -1.0460      0.050    -21.016      0.000      -1.144      -0.948\n",
       "ma.L2          0.1922      0.065      2.938      0.003       0.064       0.320\n",
       "sigma2        30.5668      1.908     16.017      0.000      26.827      34.307\n",
       "===================================================================================\n",
       "Ljung-Box (L1) (Q):                   0.01   Jarque-Bera (JB):               353.54\n",
       "Prob(Q):                              0.93   Prob(JB):                         0.00\n",
       "Heteroskedasticity (H):              40.14   Skew:                             0.76\n",
       "Prob(H) (two-sided):                  0.00   Kurtosis:                        11.73\n",
       "===================================================================================\n",
       "\n",
       "Warnings:\n",
       "[1] Covariance matrix calculated using the outer product of gradients (complex-step).\n",
       "\"\"\""
      ]
     },
     "execution_count": 38,
     "metadata": {},
     "output_type": "execute_result"
    }
   ],
   "source": [
    "smodel = pm.auto_arima(y, start_p=1, start_q=1,\n",
    "                         test='adf',\n",
    "                         max_p=3, max_q=3, m=12,\n",
    "                         start_P=0, seasonal=False,\n",
    "                         d=None, D=None, trace=True,\n",
    "                         error_action='ignore',  \n",
    "                         suppress_warnings=True, \n",
    "                         stepwise=True)\n",
    "\n",
    "smodel.summary()"
   ]
  },
  {
   "cell_type": "markdown",
   "metadata": {},
   "source": [
    "- the auto-ARIMA function predicts the best parameter to be (0,2,2), which will be used for the actual forecast model"
   ]
  },
  {
   "cell_type": "code",
   "execution_count": 78,
   "metadata": {
    "ExecuteTime": {
     "end_time": "2021-01-29T02:02:37.535342Z",
     "start_time": "2021-01-29T02:02:37.362511Z"
    },
    "scrolled": false
   },
   "outputs": [
    {
     "data": {
      "image/png": "[encoded data removed]",
      "text/plain": [
       "<Figure size 1008x360 with 1 Axes>"
      ]
     },
     "metadata": {
      "needs_background": "light"
     },
     "output_type": "display_data"
    }
   ],
   "source": [
    "# Forecast\n",
    "n_periods = 3\n",
    "fitted, confint = smodel.predict(n_periods=n_periods, return_conf_int=True)\n",
    "index_of_fc = pd.date_range(y.index[-1], periods=n_periods, freq='W')\n",
    "\n",
    "# make series for plotting purpose\n",
    "fitted_series = pd.Series(fitted, index=index_of_fc)\n",
    "lower_series = pd.Series(confint[:, 0], index=index_of_fc)\n",
    "upper_series = pd.Series(confint[:, 1], index=index_of_fc)\n",
    "\n",
    "# Plot\n",
    "\n",
    "fig = plt.figure(figsize=(14, 5))\n",
    "\n",
    "plt.plot(y, label=\"Actual\")\n",
    "plt.plot(fitted_series, color='orange', label='Forecast')\n",
    "plt.fill_between(lower_series.index,\n",
    "                 lower_series,\n",
    "                 upper_series,\n",
    "                 color='k', alpha=.1)\n",
    "\n",
    "plt.title('Final Forecast')\n",
    "plt.legend()\n",
    "plt.show()"
   ]
  },
  {
   "cell_type": "markdown",
   "metadata": {},
   "source": [
    "- because of the daily fluctuation, we are using 7-day rolling average for predictions\n",
    "- for ARIMA, frequency has been chosen to be WEEKS not DAYS due to this reason "
   ]
  },
  {
   "cell_type": "markdown",
   "metadata": {},
   "source": [
    "# Modeling for 7 Counties Highest New Cases/100k \n",
    "- These 7 counties have 500+ daily newly confirmed cases per 100k (7 day average) with an increasing trend\n",
    "- we will model these counties for predictions "
   ]
  },
  {
   "cell_type": "code",
   "execution_count": 72,
   "metadata": {
    "ExecuteTime": {
     "end_time": "2021-01-29T01:54:38.009108Z",
     "start_time": "2021-01-29T01:54:37.961079Z"
    },
    "run_control": {
     "marked": true
    }
   },
   "outputs": [],
   "source": [
    "hotspot_counties = ['Tehama', 'Riverside', 'Colusa', 'Merced', 'Santa Barbara', 'Inyo', 'Tulare']\n",
    "\n",
    "features = ['hospitalized_covid_patients', '7dayrollingavg_newdeath', 'all_hospital_beds', 'icu_available_beds']\n",
    "\n",
    "\n",
    "## Tehama County\n",
    "\n",
    "Tehama = county_df.loc['Tehama'].tail(110)\n",
    "Riverside = county_df.loc['Riverside'].tail(110)\n",
    "Colusa = county_df.loc['Colusa'].tail(110)\n",
    "Merced = county_df.loc['Merced'].tail(110)\n",
    "Santa_Barbara = county_df.loc['Santa Barbara'].tail(110)\n",
    "Inyo = county_df.loc['Inyo'].tail(110)\n",
    "Tulare = county_df.loc['Tulare'].tail(110)"
   ]
  },
  {
   "cell_type": "code",
   "execution_count": 85,
   "metadata": {
    "ExecuteTime": {
     "end_time": "2021-01-29T02:07:08.382275Z",
     "start_time": "2021-01-29T02:07:08.356260Z"
    },
    "run_control": {
     "marked": true
    }
   },
   "outputs": [],
   "source": [
    "# build a function to incorporate everything \n",
    "warnings.filterwarnings(\"ignore\") \n",
    "def arima_model (countydf):\n",
    "    X = countydf[features]\n",
    "    y = countydf[['7dayrollingavg_newlyconfirmed']]   \n",
    "    X_train = X.iloc[:92]\n",
    "    X_test = X.iloc[92:]\n",
    "    y_train = y.iloc[:92]\n",
    "    y_test = y.iloc[92:]\n",
    "    \n",
    "    smodel = pm.auto_arima(y_train, start_p=1, start_q=1,\n",
    "                         test='adf',\n",
    "                         max_p=3, max_q=3, m=12,\n",
    "                         start_P=0, seasonal=False,\n",
    "                         d=None, D=None, trace=True,\n",
    "                         error_action='ignore',  \n",
    "                         suppress_warnings=True, \n",
    "                         stepwise=True)\n",
    "\n",
    "    print(smodel.summary())\n",
    "\n",
    "    model = ARIMA(y_train, order=smodel.order)  \n",
    "    fitted = model.fit(disp=-1)  \n",
    "    print(fitted.summary())\n",
    "    # Forecast\n",
    "    fc, se, conf = fitted.forecast(18, alpha=0.05)  # 95% conf\n",
    "\n",
    "    # Make as pandas series\n",
    "    fc_series = pd.Series(fc, index=y_test.index)\n",
    "    lower_series = pd.Series(conf[:, 0], index=y_test.index)\n",
    "    upper_series = pd.Series(conf[:, 1], index=y_test.index)\n",
    "\n",
    "    # Plot\n",
    "    plt.figure(figsize=(14,5))\n",
    "    plt.plot(y_train, label='training')\n",
    "    plt.plot(y_test, label='actual')\n",
    "    plt.plot(fc_series, label='forecast')\n",
    "    plt.fill_between(lower_series.index, lower_series, upper_series, \n",
    "                     color='k', alpha=.15)\n",
    "    plt.title('Forecast vs Actuals')\n",
    "    plt.legend()\n",
    "    plt.show()\n",
    "\n",
    "\n",
    "\n",
    "    print('MSE of our forecast is:', mean_squared_error(y_test, fc_series, squared=True))\n",
    "    print('RMSE of our forecast is:', mean_squared_error(y_test, fc_series, squared=False))\n",
    "\n",
    "\n",
    "    \n",
    "    # use the whole dataset to make actual predictions\n",
    "    \n",
    "    smodel = pm.auto_arima(y, start_p=1, start_q=1,\n",
    "                             test='adf',\n",
    "                             max_p=3, max_q=3, m=12,\n",
    "                             start_P=0, seasonal=False,\n",
    "                             d=None, D=None, trace=True,\n",
    "                             error_action='ignore',  \n",
    "                             suppress_warnings=True, \n",
    "                             stepwise=True)\n",
    "\n",
    "    print(smodel.summary())\n",
    "\n",
    "\n",
    "    # Forecast\n",
    "    n_periods = 3\n",
    "    fitted, confint = smodel.predict(n_periods=n_periods, return_conf_int=True)\n",
    "    index_of_fc = pd.date_range(y.index[-1], periods=n_periods, freq='W')\n",
    "\n",
    "    # make series for plotting purpose\n",
    "    fitted_series = pd.Series(fitted, index=index_of_fc)\n",
    "    lower_series = pd.Series(confint[:, 0], index=index_of_fc)\n",
    "    upper_series = pd.Series(confint[:, 1], index=index_of_fc)\n",
    "\n",
    "    # Plot\n",
    "\n",
    "    fig = plt.figure(figsize=(14, 5))\n",
    "\n",
    "    plt.plot(y, label=\"Actual\")\n",
    "    plt.plot(fitted_series, color='orange', label='Forecast')\n",
    "    plt.fill_between(lower_series.index,\n",
    "                     lower_series,\n",
    "                     upper_series,\n",
    "                     color='k', alpha=.1)\n",
    "\n",
    "    plt.title('Final Forecast')\n",
    "    plt.legend()\n",
    "    plt.show()\n",
    "    print(fitted_series)\n",
    "    return "
   ]
  },
  {
   "cell_type": "markdown",
   "metadata": {},
   "source": [
    "## Tehama County"
   ]
  },
  {
   "cell_type": "code",
   "execution_count": 86,
   "metadata": {
    "ExecuteTime": {
     "end_time": "2021-01-29T02:07:14.488880Z",
     "start_time": "2021-01-29T02:07:12.789868Z"
    },
    "scrolled": false
   },
   "outputs": [
    {
     "name": "stdout",
     "output_type": "stream",
     "text": [
      "Performing stepwise search to minimize aic\n",
      " ARIMA(1,2,1)(0,0,0)[0] intercept   : AIC=inf, Time=0.12 sec\n",
      " ARIMA(0,2,0)(0,0,0)[0] intercept   : AIC=596.915, Time=0.01 sec\n",
      " ARIMA(1,2,0)(0,0,0)[0] intercept   : AIC=567.628, Time=0.02 sec\n",
      " ARIMA(0,2,1)(0,0,0)[0] intercept   : AIC=inf, Time=0.05 sec\n",
      " ARIMA(0,2,0)(0,0,0)[0]             : AIC=594.944, Time=0.01 sec\n",
      " ARIMA(2,2,0)(0,0,0)[0] intercept   : AIC=554.762, Time=0.02 sec\n",
      " ARIMA(3,2,0)(0,0,0)[0] intercept   : AIC=547.391, Time=0.05 sec\n",
      " ARIMA(3,2,1)(0,0,0)[0] intercept   : AIC=543.793, Time=0.05 sec\n",
      " ARIMA(2,2,1)(0,0,0)[0] intercept   : AIC=inf, Time=0.09 sec\n",
      " ARIMA(3,2,2)(0,0,0)[0] intercept   : AIC=inf, Time=0.15 sec\n",
      " ARIMA(2,2,2)(0,0,0)[0] intercept   : AIC=inf, Time=0.09 sec\n",
      " ARIMA(3,2,1)(0,0,0)[0]             : AIC=542.016, Time=0.03 sec\n",
      " ARIMA(2,2,1)(0,0,0)[0]             : AIC=inf, Time=0.07 sec\n",
      " ARIMA(3,2,0)(0,0,0)[0]             : AIC=545.566, Time=0.02 sec\n",
      " ARIMA(3,2,2)(0,0,0)[0]             : AIC=inf, Time=0.13 sec\n",
      " ARIMA(2,2,0)(0,0,0)[0]             : AIC=552.906, Time=0.02 sec\n",
      " ARIMA(2,2,2)(0,0,0)[0]             : AIC=inf, Time=0.07 sec\n",
      "\n",
      "Best model:  ARIMA(3,2,1)(0,0,0)[0]          \n",
      "Total fit time: 1.004 seconds\n",
      "                               SARIMAX Results                                \n",
      "==============================================================================\n",
      "Dep. Variable:                      y   No. Observations:                   92\n",
      "Model:               SARIMAX(3, 2, 1)   Log Likelihood                -266.008\n",
      "Date:                Thu, 28 Jan 2021   AIC                            542.016\n",
      "Time:                        18:07:13   BIC                            554.515\n",
      "Sample:                             0   HQIC                           547.056\n",
      "                                 - 92                                         \n",
      "Covariance Type:                  opg                                         \n",
      "==============================================================================\n",
      "                 coef    std err          z      P>|z|      [0.025      0.975]\n",
      "------------------------------------------------------------------------------\n",
      "ar.L1         -0.4776      0.325     -1.472      0.141      -1.114       0.159\n",
      "ar.L2         -0.3546      0.216     -1.638      0.101      -0.779       0.070\n",
      "ar.L3         -0.1883      0.184     -1.024      0.306      -0.549       0.172\n",
      "ma.L1         -0.5083      0.262     -1.937      0.053      -1.023       0.006\n",
      "sigma2        21.3068      3.318      6.422      0.000      14.804      27.809\n",
      "===================================================================================\n",
      "Ljung-Box (L1) (Q):                   0.06   Jarque-Bera (JB):                 2.71\n",
      "Prob(Q):                              0.80   Prob(JB):                         0.26\n",
      "Heteroskedasticity (H):               7.35   Skew:                            -0.42\n",
      "Prob(H) (two-sided):                  0.00   Kurtosis:                         3.17\n",
      "===================================================================================\n",
      "\n",
      "Warnings:\n",
      "[1] Covariance matrix calculated using the outer product of gradients (complex-step).\n",
      "                                    ARIMA Model Results                                     \n",
      "============================================================================================\n",
      "Dep. Variable:     D2.7dayrollingavg_newlyconfirmed   No. Observations:                   90\n",
      "Model:                               ARIMA(3, 2, 1)   Log Likelihood                -265.896\n",
      "Method:                                     css-mle   S.D. of innovations              4.610\n",
      "Date:                              Thu, 28 Jan 2021   AIC                            543.793\n",
      "Time:                                      18:07:13   BIC                            558.792\n",
      "Sample:                                  10-09-2020   HQIC                           549.841\n",
      "                                       - 01-06-2021                                         \n",
      "==========================================================================================================\n",
      "                                             coef    std err          z      P>|z|      [0.025      0.975]\n",
      "----------------------------------------------------------------------------------------------------------\n",
      "const                                      0.0570      0.121      0.471      0.638      -0.180       0.294\n",
      "ar.L1.D2.7dayrollingavg_newlyconfirmed    -0.4783      0.204     -2.342      0.019      -0.879      -0.078\n",
      "ar.L2.D2.7dayrollingavg_newlyconfirmed    -0.3548      0.185     -1.914      0.056      -0.718       0.009\n",
      "ar.L3.D2.7dayrollingavg_newlyconfirmed    -0.1883      0.143     -1.313      0.189      -0.469       0.093\n",
      "ma.L1.D2.7dayrollingavg_newlyconfirmed    -0.5090      0.194     -2.624      0.009      -0.889      -0.129\n",
      "                                    Roots                                    \n",
      "=============================================================================\n",
      "                  Real          Imaginary           Modulus         Frequency\n",
      "-----------------------------------------------------------------------------\n",
      "AR.1            0.0410           -1.6429j            1.6434           -0.2460\n",
      "AR.2            0.0410           +1.6429j            1.6434            0.2460\n",
      "AR.3           -1.9658           -0.0000j            1.9658           -0.5000\n",
      "MA.1            1.9647           +0.0000j            1.9647            0.0000\n",
      "-----------------------------------------------------------------------------\n"
     ]
    },
    {
     "data": {
      "image/png": "[encoded data removed]",
      "text/plain": [
       "<Figure size 1008x360 with 1 Axes>"
      ]
     },
     "metadata": {
      "needs_background": "light"
     },
     "output_type": "display_data"
    },
    {
     "name": "stdout",
     "output_type": "stream",
     "text": [
      "MSE of our forecast is: 3665.4503594085277\n",
      "RMSE of our forecast is: 60.54296292227964\n",
      "Performing stepwise search to minimize aic\n",
      " ARIMA(1,1,1)(0,0,0)[0] intercept   : AIC=653.938, Time=0.03 sec\n",
      " ARIMA(0,1,0)(0,0,0)[0] intercept   : AIC=654.595, Time=0.01 sec\n",
      " ARIMA(1,1,0)(0,0,0)[0] intercept   : AIC=652.013, Time=0.02 sec\n",
      " ARIMA(0,1,1)(0,0,0)[0] intercept   : AIC=652.508, Time=0.02 sec\n",
      " ARIMA(0,1,0)(0,0,0)[0]             : AIC=653.046, Time=0.01 sec\n",
      " ARIMA(2,1,0)(0,0,0)[0] intercept   : AIC=653.909, Time=0.02 sec\n",
      " ARIMA(2,1,1)(0,0,0)[0] intercept   : AIC=655.115, Time=0.06 sec\n",
      " ARIMA(1,1,0)(0,0,0)[0]             : AIC=650.691, Time=0.01 sec\n",
      " ARIMA(2,1,0)(0,0,0)[0]             : AIC=652.523, Time=0.01 sec\n",
      " ARIMA(1,1,1)(0,0,0)[0]             : AIC=652.574, Time=0.02 sec\n",
      " ARIMA(0,1,1)(0,0,0)[0]             : AIC=651.216, Time=0.01 sec\n",
      " ARIMA(2,1,1)(0,0,0)[0]             : AIC=653.454, Time=0.04 sec\n",
      "\n",
      "Best model:  ARIMA(1,1,0)(0,0,0)[0]          \n",
      "Total fit time: 0.249 seconds\n",
      "                               SARIMAX Results                                \n",
      "==============================================================================\n",
      "Dep. Variable:                      y   No. Observations:                  110\n",
      "Model:               SARIMAX(1, 1, 0)   Log Likelihood                -323.346\n",
      "Date:                Thu, 28 Jan 2021   AIC                            650.691\n",
      "Time:                        18:07:14   BIC                            656.074\n",
      "Sample:                             0   HQIC                           652.874\n",
      "                                - 110                                         \n",
      "Covariance Type:                  opg                                         \n",
      "==============================================================================\n",
      "                 coef    std err          z      P>|z|      [0.025      0.975]\n",
      "------------------------------------------------------------------------------\n",
      "ar.L1         -0.1970      0.093     -2.118      0.034      -0.379      -0.015\n",
      "sigma2        22.0807      2.690      8.210      0.000      16.809      27.352\n",
      "===================================================================================\n",
      "Ljung-Box (L1) (Q):                   0.00   Jarque-Bera (JB):                 1.64\n",
      "Prob(Q):                              0.99   Prob(JB):                         0.44\n",
      "Heteroskedasticity (H):               6.74   Skew:                            -0.14\n",
      "Prob(H) (two-sided):                  0.00   Kurtosis:                         3.54\n",
      "===================================================================================\n",
      "\n",
      "Warnings:\n",
      "[1] Covariance matrix calculated using the outer product of gradients (complex-step).\n"
     ]
    },
    {
     "data": {
      "image/png": "[encoded data removed]",
      "text/plain": [
       "<Figure size 1008x360 with 1 Axes>"
      ]
     },
     "metadata": {
      "needs_background": "light"
     },
     "output_type": "display_data"
    },
    {
     "name": "stdout",
     "output_type": "stream",
     "text": [
      "2021-01-24    49.300240\n",
      "2021-01-31    49.317279\n",
      "2021-02-07    49.313922\n",
      "Freq: W-SUN, dtype: float64\n"
     ]
    }
   ],
   "source": [
    "arima_model(Tehama)"
   ]
  },
  {
   "cell_type": "markdown",
   "metadata": {},
   "source": [
    "## Riverside County"
   ]
  },
  {
   "cell_type": "code",
   "execution_count": 87,
   "metadata": {
    "ExecuteTime": {
     "end_time": "2021-01-29T02:07:31.022679Z",
     "start_time": "2021-01-29T02:07:30.155849Z"
    },
    "scrolled": false
   },
   "outputs": [
    {
     "name": "stdout",
     "output_type": "stream",
     "text": [
      "Performing stepwise search to minimize aic\n",
      " ARIMA(1,1,1)(0,0,0)[0] intercept   : AIC=563.188, Time=0.03 sec\n",
      " ARIMA(0,1,0)(0,0,0)[0] intercept   : AIC=581.413, Time=0.01 sec\n",
      " ARIMA(1,1,0)(0,0,0)[0] intercept   : AIC=561.905, Time=0.02 sec\n",
      " ARIMA(0,1,1)(0,0,0)[0] intercept   : AIC=564.721, Time=0.02 sec\n",
      " ARIMA(0,1,0)(0,0,0)[0]             : AIC=584.545, Time=0.01 sec\n",
      " ARIMA(2,1,0)(0,0,0)[0] intercept   : AIC=562.932, Time=0.03 sec\n",
      " ARIMA(2,1,1)(0,0,0)[0] intercept   : AIC=564.921, Time=0.04 sec\n",
      " ARIMA(1,1,0)(0,0,0)[0]             : AIC=561.854, Time=0.01 sec\n",
      " ARIMA(2,1,0)(0,0,0)[0]             : AIC=563.251, Time=0.01 sec\n",
      " ARIMA(1,1,1)(0,0,0)[0]             : AIC=563.352, Time=0.02 sec\n",
      " ARIMA(0,1,1)(0,0,0)[0]             : AIC=566.089, Time=0.01 sec\n",
      " ARIMA(2,1,1)(0,0,0)[0]             : AIC=565.251, Time=0.02 sec\n",
      "\n",
      "Best model:  ARIMA(1,1,0)(0,0,0)[0]          \n",
      "Total fit time: 0.248 seconds\n",
      "                               SARIMAX Results                                \n",
      "==============================================================================\n",
      "Dep. Variable:                      y   No. Observations:                   92\n",
      "Model:               SARIMAX(1, 1, 0)   Log Likelihood                -278.927\n",
      "Date:                Thu, 28 Jan 2021   AIC                            561.854\n",
      "Time:                        18:07:30   BIC                            566.875\n",
      "Sample:                             0   HQIC                           563.880\n",
      "                                 - 92                                         \n",
      "Covariance Type:                  opg                                         \n",
      "==============================================================================\n",
      "                 coef    std err          z      P>|z|      [0.025      0.975]\n",
      "------------------------------------------------------------------------------\n",
      "ar.L1          0.4864      0.069      7.084      0.000       0.352       0.621\n",
      "sigma2        26.8271      2.167     12.381      0.000      22.580      31.074\n",
      "===================================================================================\n",
      "Ljung-Box (L1) (Q):                   0.07   Jarque-Bera (JB):               225.20\n",
      "Prob(Q):                              0.80   Prob(JB):                         0.00\n",
      "Heteroskedasticity (H):              56.29   Skew:                            -0.61\n",
      "Prob(H) (two-sided):                  0.00   Kurtosis:                        10.61\n",
      "===================================================================================\n",
      "\n",
      "Warnings:\n",
      "[1] Covariance matrix calculated using the outer product of gradients (complex-step).\n",
      "                                    ARIMA Model Results                                    \n",
      "===========================================================================================\n",
      "Dep. Variable:     D.7dayrollingavg_newlyconfirmed   No. Observations:                   91\n",
      "Model:                              ARIMA(1, 1, 0)   Log Likelihood                -277.953\n",
      "Method:                                    css-mle   S.D. of innovations              5.125\n",
      "Date:                             Thu, 28 Jan 2021   AIC                            561.905\n",
      "Time:                                     18:07:30   BIC                            569.438\n",
      "Sample:                                 10-08-2020   HQIC                           564.944\n",
      "                                      - 01-06-2021                                         \n",
      "=========================================================================================================\n",
      "                                            coef    std err          z      P>|z|      [0.025      0.975]\n",
      "---------------------------------------------------------------------------------------------------------\n",
      "const                                     1.4125      0.981      1.440      0.150      -0.510       3.335\n",
      "ar.L1.D.7dayrollingavg_newlyconfirmed     0.4571      0.092      4.943      0.000       0.276       0.638\n",
      "                                    Roots                                    \n",
      "=============================================================================\n",
      "                  Real          Imaginary           Modulus         Frequency\n",
      "-----------------------------------------------------------------------------\n",
      "AR.1            2.1877           +0.0000j            2.1877            0.0000\n",
      "-----------------------------------------------------------------------------\n"
     ]
    },
    {
     "data": {
      "image/png": "[encoded data removed]",
      "text/plain": [
       "<Figure size 1008x360 with 1 Axes>"
      ]
     },
     "metadata": {
      "needs_background": "light"
     },
     "output_type": "display_data"
    },
    {
     "name": "stdout",
     "output_type": "stream",
     "text": [
      "MSE of our forecast is: 1428.9248011926402\n",
      "RMSE of our forecast is: 37.80112169225458\n",
      "Performing stepwise search to minimize aic\n",
      " ARIMA(1,1,1)(0,0,0)[0] intercept   : AIC=681.099, Time=0.03 sec\n",
      " ARIMA(0,1,0)(0,0,0)[0] intercept   : AIC=704.927, Time=0.01 sec\n",
      " ARIMA(1,1,0)(0,0,0)[0] intercept   : AIC=679.688, Time=0.02 sec\n",
      " ARIMA(0,1,1)(0,0,0)[0] intercept   : AIC=683.758, Time=0.02 sec\n",
      " ARIMA(0,1,0)(0,0,0)[0]             : AIC=704.297, Time=0.01 sec\n",
      " ARIMA(2,1,0)(0,0,0)[0] intercept   : AIC=680.932, Time=0.03 sec\n",
      " ARIMA(2,1,1)(0,0,0)[0] intercept   : AIC=682.930, Time=0.04 sec\n",
      " ARIMA(1,1,0)(0,0,0)[0]             : AIC=678.200, Time=0.01 sec\n",
      " ARIMA(2,1,0)(0,0,0)[0]             : AIC=679.573, Time=0.01 sec\n",
      " ARIMA(1,1,1)(0,0,0)[0]             : AIC=679.689, Time=0.02 sec\n",
      " ARIMA(0,1,1)(0,0,0)[0]             : AIC=682.697, Time=0.01 sec\n",
      " ARIMA(2,1,1)(0,0,0)[0]             : AIC=681.573, Time=0.02 sec\n",
      "\n",
      "Best model:  ARIMA(1,1,0)(0,0,0)[0]          \n",
      "Total fit time: 0.237 seconds\n",
      "                               SARIMAX Results                                \n",
      "==============================================================================\n",
      "Dep. Variable:                      y   No. Observations:                  110\n",
      "Model:               SARIMAX(1, 1, 0)   Log Likelihood                -337.100\n",
      "Date:                Thu, 28 Jan 2021   AIC                            678.200\n",
      "Time:                        18:07:30   BIC                            683.583\n",
      "Sample:                             0   HQIC                           680.383\n",
      "                                - 110                                         \n",
      "Covariance Type:                  opg                                         \n",
      "==============================================================================\n",
      "                 coef    std err          z      P>|z|      [0.025      0.975]\n",
      "------------------------------------------------------------------------------\n",
      "ar.L1          0.4745      0.061      7.716      0.000       0.354       0.595\n",
      "sigma2        28.3635      2.259     12.558      0.000      23.937      32.790\n",
      "===================================================================================\n",
      "Ljung-Box (L1) (Q):                   0.14   Jarque-Bera (JB):               132.89\n",
      "Prob(Q):                              0.71   Prob(JB):                         0.00\n",
      "Heteroskedasticity (H):              35.46   Skew:                            -0.47\n",
      "Prob(H) (two-sided):                  0.00   Kurtosis:                         8.33\n",
      "===================================================================================\n",
      "\n",
      "Warnings:\n",
      "[1] Covariance matrix calculated using the outer product of gradients (complex-step).\n"
     ]
    },
    {
     "data": {
      "image/png": "[encoded data removed]",
      "text/plain": [
       "<Figure size 1008x360 with 1 Axes>"
      ]
     },
     "metadata": {
      "needs_background": "light"
     },
     "output_type": "display_data"
    },
    {
     "name": "stdout",
     "output_type": "stream",
     "text": [
      "2021-01-24    85.122324\n",
      "2021-01-31    85.561050\n",
      "2021-02-07    85.769222\n",
      "Freq: W-SUN, dtype: float64\n"
     ]
    }
   ],
   "source": [
    "## Riverside County\n",
    "\n",
    "arima_model(Riverside)"
   ]
  },
  {
   "cell_type": "markdown",
   "metadata": {},
   "source": [
    "## Colusa County"
   ]
  },
  {
   "cell_type": "code",
   "execution_count": 88,
   "metadata": {
    "ExecuteTime": {
     "end_time": "2021-01-29T02:07:50.641514Z",
     "start_time": "2021-01-29T02:07:50.039767Z"
    },
    "scrolled": false
   },
   "outputs": [
    {
     "name": "stdout",
     "output_type": "stream",
     "text": [
      "Performing stepwise search to minimize aic\n",
      " ARIMA(1,1,1)(0,0,0)[0] intercept   : AIC=637.091, Time=0.06 sec\n",
      " ARIMA(0,1,0)(0,0,0)[0] intercept   : AIC=635.615, Time=0.01 sec\n",
      " ARIMA(1,1,0)(0,0,0)[0] intercept   : AIC=637.548, Time=0.01 sec\n",
      " ARIMA(0,1,1)(0,0,0)[0] intercept   : AIC=637.493, Time=0.03 sec\n",
      " ARIMA(0,1,0)(0,0,0)[0]             : AIC=634.508, Time=0.01 sec\n",
      "\n",
      "Best model:  ARIMA(0,1,0)(0,0,0)[0]          \n",
      "Total fit time: 0.131 seconds\n",
      "                               SARIMAX Results                                \n",
      "==============================================================================\n",
      "Dep. Variable:                      y   No. Observations:                   92\n",
      "Model:               SARIMAX(0, 1, 0)   Log Likelihood                -316.254\n",
      "Date:                Thu, 28 Jan 2021   AIC                            634.508\n",
      "Time:                        18:07:50   BIC                            637.019\n",
      "Sample:                             0   HQIC                           635.521\n",
      "                                 - 92                                         \n",
      "Covariance Type:                  opg                                         \n",
      "==============================================================================\n",
      "                 coef    std err          z      P>|z|      [0.025      0.975]\n",
      "------------------------------------------------------------------------------\n",
      "sigma2        61.1152      3.985     15.337      0.000      53.305      68.925\n",
      "===================================================================================\n",
      "Ljung-Box (L1) (Q):                   0.07   Jarque-Bera (JB):               314.85\n",
      "Prob(Q):                              0.79   Prob(JB):                         0.00\n",
      "Heteroskedasticity (H):              44.51   Skew:                            -0.99\n",
      "Prob(H) (two-sided):                  0.00   Kurtosis:                        11.90\n",
      "===================================================================================\n",
      "\n",
      "Warnings:\n",
      "[1] Covariance matrix calculated using the outer product of gradients (complex-step).\n",
      "                                    ARIMA Model Results                                    \n",
      "===========================================================================================\n",
      "Dep. Variable:     D.7dayrollingavg_newlyconfirmed   No. Observations:                   91\n",
      "Model:                              ARIMA(0, 1, 0)   Log Likelihood                -315.808\n",
      "Method:                                        css   S.D. of innovations              7.779\n",
      "Date:                             Thu, 28 Jan 2021   AIC                            635.615\n",
      "Time:                                     18:07:50   BIC                            640.637\n",
      "Sample:                                 10-08-2020   HQIC                           637.641\n",
      "                                      - 01-06-2021                                         \n",
      "==============================================================================\n",
      "                 coef    std err          z      P>|z|      [0.025      0.975]\n",
      "------------------------------------------------------------------------------\n",
      "const          0.7723      0.815      0.947      0.344      -0.826       2.371\n",
      "==============================================================================\n"
     ]
    },
    {
     "data": {
      "image/png": "[encoded data removed]",
      "text/plain": [
       "<Figure size 1008x360 with 1 Axes>"
      ]
     },
     "metadata": {
      "needs_background": "light"
     },
     "output_type": "display_data"
    },
    {
     "name": "stdout",
     "output_type": "stream",
     "text": [
      "MSE of our forecast is: 165.25195474667112\n",
      "RMSE of our forecast is: 12.855036162791263\n",
      "Performing stepwise search to minimize aic\n",
      " ARIMA(1,1,1)(0,0,0)[0] intercept   : AIC=769.384, Time=0.04 sec\n",
      " ARIMA(0,1,0)(0,0,0)[0] intercept   : AIC=768.846, Time=0.01 sec\n",
      " ARIMA(1,1,0)(0,0,0)[0] intercept   : AIC=770.750, Time=0.02 sec\n",
      " ARIMA(0,1,1)(0,0,0)[0] intercept   : AIC=770.645, Time=0.02 sec\n",
      " ARIMA(0,1,0)(0,0,0)[0]             : AIC=767.414, Time=0.01 sec\n",
      "\n",
      "Best model:  ARIMA(0,1,0)(0,0,0)[0]          \n",
      "Total fit time: 0.112 seconds\n",
      "                               SARIMAX Results                                \n",
      "==============================================================================\n",
      "Dep. Variable:                      y   No. Observations:                  110\n",
      "Model:               SARIMAX(0, 1, 0)   Log Likelihood                -382.707\n",
      "Date:                Thu, 28 Jan 2021   AIC                            767.414\n",
      "Time:                        18:07:50   BIC                            770.105\n",
      "Sample:                             0   HQIC                           768.505\n",
      "                                - 110                                         \n",
      "Covariance Type:                  opg                                         \n",
      "==============================================================================\n",
      "                 coef    std err          z      P>|z|      [0.025      0.975]\n",
      "------------------------------------------------------------------------------\n",
      "sigma2        65.6456      4.422     14.846      0.000      56.979      74.312\n",
      "===================================================================================\n",
      "Ljung-Box (L1) (Q):                   0.10   Jarque-Bera (JB):               204.30\n",
      "Prob(Q):                              0.75   Prob(JB):                         0.00\n",
      "Heteroskedasticity (H):              24.38   Skew:                            -0.96\n",
      "Prob(H) (two-sided):                  0.00   Kurtosis:                         9.43\n",
      "===================================================================================\n",
      "\n",
      "Warnings:\n",
      "[1] Covariance matrix calculated using the outer product of gradients (complex-step).\n"
     ]
    },
    {
     "data": {
      "image/png": "[encoded data removed]",
      "text/plain": [
       "<Figure size 1008x360 with 1 Axes>"
      ]
     },
     "metadata": {
      "needs_background": "light"
     },
     "output_type": "display_data"
    },
    {
     "name": "stdout",
     "output_type": "stream",
     "text": [
      "2021-01-24    66.96325\n",
      "2021-01-31    66.96325\n",
      "2021-02-07    66.96325\n",
      "Freq: W-SUN, dtype: float64\n"
     ]
    }
   ],
   "source": [
    "## Colusa County\n",
    "\n",
    "arima_model(Colusa)"
   ]
  },
  {
   "cell_type": "markdown",
   "metadata": {},
   "source": [
    "## Merced County"
   ]
  },
  {
   "cell_type": "code",
   "execution_count": 89,
   "metadata": {
    "ExecuteTime": {
     "end_time": "2021-01-29T02:07:59.318330Z",
     "start_time": "2021-01-29T02:07:56.716769Z"
    },
    "scrolled": false
   },
   "outputs": [
    {
     "name": "stdout",
     "output_type": "stream",
     "text": [
      "Performing stepwise search to minimize aic\n",
      " ARIMA(1,2,1)(0,0,0)[0] intercept   : AIC=inf, Time=0.23 sec\n",
      " ARIMA(0,2,0)(0,0,0)[0] intercept   : AIC=558.921, Time=0.01 sec\n",
      " ARIMA(1,2,0)(0,0,0)[0] intercept   : AIC=530.665, Time=0.02 sec\n",
      " ARIMA(0,2,1)(0,0,0)[0] intercept   : AIC=inf, Time=0.04 sec\n",
      " ARIMA(0,2,0)(0,0,0)[0]             : AIC=556.940, Time=0.01 sec\n",
      " ARIMA(2,2,0)(0,0,0)[0] intercept   : AIC=531.169, Time=0.03 sec\n",
      " ARIMA(2,2,1)(0,0,0)[0] intercept   : AIC=inf, Time=0.10 sec\n",
      " ARIMA(1,2,0)(0,0,0)[0]             : AIC=528.698, Time=0.01 sec\n",
      " ARIMA(2,2,0)(0,0,0)[0]             : AIC=529.206, Time=0.01 sec\n",
      " ARIMA(1,2,1)(0,0,0)[0]             : AIC=inf, Time=0.05 sec\n",
      " ARIMA(0,2,1)(0,0,0)[0]             : AIC=515.151, Time=0.02 sec\n",
      " ARIMA(0,2,2)(0,0,0)[0]             : AIC=inf, Time=0.04 sec\n",
      " ARIMA(1,2,2)(0,0,0)[0]             : AIC=510.706, Time=0.04 sec\n",
      " ARIMA(2,2,2)(0,0,0)[0]             : AIC=inf, Time=0.10 sec\n",
      " ARIMA(1,2,3)(0,0,0)[0]             : AIC=inf, Time=0.10 sec\n",
      " ARIMA(0,2,3)(0,0,0)[0]             : AIC=inf, Time=0.08 sec\n",
      " ARIMA(2,2,1)(0,0,0)[0]             : AIC=inf, Time=0.07 sec\n",
      " ARIMA(2,2,3)(0,0,0)[0]             : AIC=inf, Time=0.16 sec\n",
      " ARIMA(1,2,2)(0,0,0)[0] intercept   : AIC=512.639, Time=0.05 sec\n",
      "\n",
      "Best model:  ARIMA(1,2,2)(0,0,0)[0]          \n",
      "Total fit time: 1.174 seconds\n",
      "                               SARIMAX Results                                \n",
      "==============================================================================\n",
      "Dep. Variable:                      y   No. Observations:                   92\n",
      "Model:               SARIMAX(1, 2, 2)   Log Likelihood                -251.353\n",
      "Date:                Thu, 28 Jan 2021   AIC                            510.706\n",
      "Time:                        18:07:57   BIC                            520.705\n",
      "Sample:                             0   HQIC                           514.738\n",
      "                                 - 92                                         \n",
      "Covariance Type:                  opg                                         \n",
      "==============================================================================\n",
      "                 coef    std err          z      P>|z|      [0.025      0.975]\n",
      "------------------------------------------------------------------------------\n",
      "ar.L1         -0.9857      0.051    -19.470      0.000      -1.085      -0.886\n",
      "ma.L1          0.1689      0.094      1.789      0.074      -0.016       0.354\n",
      "ma.L2         -0.7044      0.105     -6.734      0.000      -0.909      -0.499\n",
      "sigma2        15.3459      1.557      9.853      0.000      12.293      18.398\n",
      "===================================================================================\n",
      "Ljung-Box (L1) (Q):                   1.64   Jarque-Bera (JB):               270.31\n",
      "Prob(Q):                              0.20   Prob(JB):                         0.00\n",
      "Heteroskedasticity (H):              28.81   Skew:                             0.99\n",
      "Prob(H) (two-sided):                  0.00   Kurtosis:                        11.26\n",
      "===================================================================================\n",
      "\n",
      "Warnings:\n",
      "[1] Covariance matrix calculated using the outer product of gradients (complex-step).\n",
      "                                    ARIMA Model Results                                     \n",
      "============================================================================================\n",
      "Dep. Variable:     D2.7dayrollingavg_newlyconfirmed   No. Observations:                   90\n",
      "Model:                               ARIMA(1, 2, 2)   Log Likelihood                -264.421\n",
      "Method:                                     css-mle   S.D. of innovations              3.857\n",
      "Date:                              Thu, 28 Jan 2021   AIC                            538.842\n",
      "Time:                                      18:07:57   BIC                            551.341\n",
      "Sample:                                  10-09-2020   HQIC                           543.883\n",
      "                                       - 01-06-2021                                         \n",
      "==========================================================================================================\n",
      "                                             coef    std err          z      P>|z|      [0.025      0.975]\n",
      "----------------------------------------------------------------------------------------------------------\n",
      "const                                      0.0107        nan        nan        nan         nan         nan\n",
      "ar.L1.D2.7dayrollingavg_newlyconfirmed    -1.0000        nan        nan        nan         nan         nan\n",
      "ma.L1.D2.7dayrollingavg_newlyconfirmed    -0.0455      0.105     -0.436      0.663      -0.250       0.159\n",
      "ma.L2.D2.7dayrollingavg_newlyconfirmed    -0.9545      0.096     -9.919      0.000      -1.143      -0.766\n",
      "                                    Roots                                    \n",
      "=============================================================================\n",
      "                  Real          Imaginary           Modulus         Frequency\n",
      "-----------------------------------------------------------------------------\n",
      "AR.1           -1.0000           +0.0000j            1.0000            0.5000\n",
      "MA.1            1.0000           +0.0000j            1.0000            0.0000\n",
      "MA.2           -1.0477           +0.0000j            1.0477            0.5000\n",
      "-----------------------------------------------------------------------------\n"
     ]
    },
    {
     "data": {
      "image/png": "[encoded data removed]",
      "text/plain": [
       "<Figure size 1008x360 with 1 Axes>"
      ]
     },
     "metadata": {
      "needs_background": "light"
     },
     "output_type": "display_data"
    },
    {
     "name": "stdout",
     "output_type": "stream",
     "text": [
      "MSE of our forecast is: 442.36892619948713\n",
      "RMSE of our forecast is: 21.03256822643129\n",
      "Performing stepwise search to minimize aic\n",
      " ARIMA(1,2,1)(0,0,0)[0] intercept   : AIC=629.203, Time=0.03 sec\n",
      " ARIMA(0,2,0)(0,0,0)[0] intercept   : AIC=672.651, Time=0.01 sec\n",
      " ARIMA(1,2,0)(0,0,0)[0] intercept   : AIC=644.454, Time=0.01 sec\n",
      " ARIMA(0,2,1)(0,0,0)[0] intercept   : AIC=627.248, Time=0.02 sec\n",
      " ARIMA(0,2,0)(0,0,0)[0]             : AIC=670.655, Time=0.01 sec\n",
      " ARIMA(0,2,2)(0,0,0)[0] intercept   : AIC=629.204, Time=0.03 sec\n",
      " ARIMA(1,2,2)(0,0,0)[0] intercept   : AIC=623.932, Time=0.05 sec\n",
      " ARIMA(2,2,2)(0,0,0)[0] intercept   : AIC=inf, Time=0.15 sec\n",
      " ARIMA(1,2,3)(0,0,0)[0] intercept   : AIC=622.200, Time=0.06 sec\n",
      " ARIMA(0,2,3)(0,0,0)[0] intercept   : AIC=631.199, Time=0.04 sec\n",
      " ARIMA(2,2,3)(0,0,0)[0] intercept   : AIC=616.204, Time=0.11 sec\n",
      " ARIMA(3,2,3)(0,0,0)[0] intercept   : AIC=621.181, Time=0.11 sec\n",
      " ARIMA(3,2,2)(0,0,0)[0] intercept   : AIC=620.843, Time=0.07 sec\n",
      " ARIMA(2,2,3)(0,0,0)[0]             : AIC=614.441, Time=0.08 sec\n",
      " ARIMA(1,2,3)(0,0,0)[0]             : AIC=620.531, Time=0.04 sec\n",
      " ARIMA(2,2,2)(0,0,0)[0]             : AIC=621.766, Time=0.04 sec\n",
      " ARIMA(3,2,3)(0,0,0)[0]             : AIC=619.251, Time=0.09 sec\n",
      " ARIMA(1,2,2)(0,0,0)[0]             : AIC=622.167, Time=0.04 sec\n",
      " ARIMA(3,2,2)(0,0,0)[0]             : AIC=618.995, Time=0.05 sec\n",
      "\n",
      "Best model:  ARIMA(2,2,3)(0,0,0)[0]          \n",
      "Total fit time: 1.052 seconds\n",
      "                               SARIMAX Results                                \n",
      "==============================================================================\n",
      "Dep. Variable:                      y   No. Observations:                  110\n",
      "Model:               SARIMAX(2, 2, 3)   Log Likelihood                -301.221\n",
      "Date:                Thu, 28 Jan 2021   AIC                            614.441\n",
      "Time:                        18:07:59   BIC                            630.534\n",
      "Sample:                             0   HQIC                           620.966\n",
      "                                - 110                                         \n",
      "Covariance Type:                  opg                                         \n",
      "==============================================================================\n",
      "                 coef    std err          z      P>|z|      [0.025      0.975]\n",
      "------------------------------------------------------------------------------\n",
      "ar.L1         -1.4544      0.123    -11.791      0.000      -1.696      -1.213\n",
      "ar.L2         -0.5738      0.131     -4.384      0.000      -0.830      -0.317\n",
      "ma.L1          0.9417      0.109      8.630      0.000       0.728       1.156\n",
      "ma.L2         -0.4469      0.106     -4.201      0.000      -0.655      -0.238\n",
      "ma.L3         -0.7491      0.072    -10.474      0.000      -0.889      -0.609\n",
      "sigma2        15.0685      1.562      9.647      0.000      12.007      18.130\n",
      "===================================================================================\n",
      "Ljung-Box (L1) (Q):                   0.20   Jarque-Bera (JB):               200.18\n",
      "Prob(Q):                              0.66   Prob(JB):                         0.00\n",
      "Heteroskedasticity (H):              17.18   Skew:                             0.94\n",
      "Prob(H) (two-sided):                  0.00   Kurtosis:                         9.40\n",
      "===================================================================================\n",
      "\n",
      "Warnings:\n",
      "[1] Covariance matrix calculated using the outer product of gradients (complex-step).\n"
     ]
    },
    {
     "data": {
      "image/png": "[encoded data removed]",
      "text/plain": [
       "<Figure size 1008x360 with 1 Axes>"
      ]
     },
     "metadata": {
      "needs_background": "light"
     },
     "output_type": "display_data"
    },
    {
     "name": "stdout",
     "output_type": "stream",
     "text": [
      "2021-01-24    63.227179\n",
      "2021-01-31    57.500112\n",
      "2021-02-07    52.784661\n",
      "Freq: W-SUN, dtype: float64\n"
     ]
    }
   ],
   "source": [
    "## Merced County## Merced County\n",
    "\n",
    "arima_model(Merced)"
   ]
  },
  {
   "cell_type": "markdown",
   "metadata": {},
   "source": [
    "## Santa Barbara County"
   ]
  },
  {
   "cell_type": "code",
   "execution_count": 90,
   "metadata": {
    "ExecuteTime": {
     "end_time": "2021-01-29T02:08:06.544610Z",
     "start_time": "2021-01-29T02:08:04.672637Z"
    },
    "scrolled": false
   },
   "outputs": [
    {
     "name": "stdout",
     "output_type": "stream",
     "text": [
      "Performing stepwise search to minimize aic\n",
      " ARIMA(1,2,1)(0,0,0)[0] intercept   : AIC=inf, Time=0.13 sec\n",
      " ARIMA(0,2,0)(0,0,0)[0] intercept   : AIC=468.053, Time=0.01 sec\n",
      " ARIMA(1,2,0)(0,0,0)[0] intercept   : AIC=415.870, Time=0.01 sec\n",
      " ARIMA(0,2,1)(0,0,0)[0] intercept   : AIC=inf, Time=0.05 sec\n",
      " ARIMA(0,2,0)(0,0,0)[0]             : AIC=466.084, Time=0.01 sec\n",
      " ARIMA(2,2,0)(0,0,0)[0] intercept   : AIC=397.520, Time=0.02 sec\n",
      " ARIMA(3,2,0)(0,0,0)[0] intercept   : AIC=391.290, Time=0.03 sec\n",
      " ARIMA(3,2,1)(0,0,0)[0] intercept   : AIC=387.236, Time=0.04 sec\n",
      " ARIMA(2,2,1)(0,0,0)[0] intercept   : AIC=385.448, Time=0.04 sec\n",
      " ARIMA(2,2,2)(0,0,0)[0] intercept   : AIC=387.307, Time=0.07 sec\n",
      " ARIMA(1,2,2)(0,0,0)[0] intercept   : AIC=385.307, Time=0.04 sec\n",
      " ARIMA(0,2,2)(0,0,0)[0] intercept   : AIC=383.646, Time=0.03 sec\n",
      " ARIMA(0,2,3)(0,0,0)[0] intercept   : AIC=385.289, Time=0.04 sec\n",
      " ARIMA(1,2,3)(0,0,0)[0] intercept   : AIC=inf, Time=0.15 sec\n",
      " ARIMA(0,2,2)(0,0,0)[0]             : AIC=382.768, Time=0.02 sec\n",
      " ARIMA(0,2,1)(0,0,0)[0]             : AIC=392.091, Time=0.02 sec\n",
      " ARIMA(1,2,2)(0,0,0)[0]             : AIC=384.519, Time=0.02 sec\n",
      " ARIMA(0,2,3)(0,0,0)[0]             : AIC=384.521, Time=0.02 sec\n",
      " ARIMA(1,2,1)(0,0,0)[0]             : AIC=383.493, Time=0.02 sec\n",
      " ARIMA(1,2,3)(0,0,0)[0]             : AIC=inf, Time=0.12 sec\n",
      "\n",
      "Best model:  ARIMA(0,2,2)(0,0,0)[0]          \n",
      "Total fit time: 0.902 seconds\n",
      "                               SARIMAX Results                                \n",
      "==============================================================================\n",
      "Dep. Variable:                      y   No. Observations:                   92\n",
      "Model:               SARIMAX(0, 2, 2)   Log Likelihood                -188.384\n",
      "Date:                Thu, 28 Jan 2021   AIC                            382.768\n",
      "Time:                        18:08:05   BIC                            390.267\n",
      "Sample:                             0   HQIC                           385.792\n",
      "                                 - 92                                         \n",
      "Covariance Type:                  opg                                         \n",
      "==============================================================================\n",
      "                 coef    std err          z      P>|z|      [0.025      0.975]\n",
      "------------------------------------------------------------------------------\n",
      "ma.L1         -1.1835      0.081    -14.665      0.000      -1.342      -1.025\n",
      "ma.L2          0.4027      0.079      5.104      0.000       0.248       0.557\n",
      "sigma2         3.7836      0.390      9.709      0.000       3.020       4.547\n",
      "===================================================================================\n",
      "Ljung-Box (L1) (Q):                   0.19   Jarque-Bera (JB):                36.09\n",
      "Prob(Q):                              0.67   Prob(JB):                         0.00\n",
      "Heteroskedasticity (H):              43.23   Skew:                            -0.49\n",
      "Prob(H) (two-sided):                  0.00   Kurtosis:                         5.94\n",
      "===================================================================================\n",
      "\n",
      "Warnings:\n",
      "[1] Covariance matrix calculated using the outer product of gradients (complex-step).\n",
      "                                    ARIMA Model Results                                     \n",
      "============================================================================================\n",
      "Dep. Variable:     D2.7dayrollingavg_newlyconfirmed   No. Observations:                   90\n",
      "Model:                               ARIMA(0, 2, 2)   Log Likelihood                -187.823\n",
      "Method:                                     css-mle   S.D. of innovations              1.933\n",
      "Date:                              Thu, 28 Jan 2021   AIC                            383.646\n",
      "Time:                                      18:08:05   BIC                            393.646\n",
      "Sample:                                  10-09-2020   HQIC                           387.679\n",
      "                                       - 01-06-2021                                         \n",
      "==========================================================================================================\n",
      "                                             coef    std err          z      P>|z|      [0.025      0.975]\n",
      "----------------------------------------------------------------------------------------------------------\n",
      "const                                      0.0465      0.043      1.077      0.281      -0.038       0.131\n",
      "ma.L1.D2.7dayrollingavg_newlyconfirmed    -1.1933      0.094    -12.696      0.000      -1.378      -1.009\n",
      "ma.L2.D2.7dayrollingavg_newlyconfirmed     0.3991      0.098      4.083      0.000       0.208       0.591\n",
      "                                    Roots                                    \n",
      "=============================================================================\n",
      "                  Real          Imaginary           Modulus         Frequency\n",
      "-----------------------------------------------------------------------------\n",
      "MA.1            1.4950           -0.5202j            1.5829           -0.0533\n",
      "MA.2            1.4950           +0.5202j            1.5829            0.0533\n",
      "-----------------------------------------------------------------------------\n"
     ]
    },
    {
     "data": {
      "image/png": "[encoded data removed]",
      "text/plain": [
       "<Figure size 1008x360 with 1 Axes>"
      ]
     },
     "metadata": {
      "needs_background": "light"
     },
     "output_type": "display_data"
    },
    {
     "name": "stdout",
     "output_type": "stream",
     "text": [
      "MSE of our forecast is: 1681.254168784089\n",
      "RMSE of our forecast is: 41.00309950216067\n",
      "Performing stepwise search to minimize aic\n",
      " ARIMA(1,2,1)(0,0,0)[0] intercept   : AIC=522.577, Time=0.04 sec\n",
      " ARIMA(0,2,0)(0,0,0)[0] intercept   : AIC=605.575, Time=0.01 sec\n",
      " ARIMA(1,2,0)(0,0,0)[0] intercept   : AIC=552.531, Time=0.01 sec\n",
      " ARIMA(0,2,1)(0,0,0)[0] intercept   : AIC=534.631, Time=0.02 sec\n",
      " ARIMA(0,2,0)(0,0,0)[0]             : AIC=603.598, Time=0.01 sec\n",
      " ARIMA(2,2,1)(0,0,0)[0] intercept   : AIC=519.406, Time=0.03 sec\n",
      " ARIMA(2,2,0)(0,0,0)[0] intercept   : AIC=527.126, Time=0.02 sec\n",
      " ARIMA(3,2,1)(0,0,0)[0] intercept   : AIC=519.648, Time=0.04 sec\n",
      " ARIMA(2,2,2)(0,0,0)[0] intercept   : AIC=515.341, Time=0.06 sec\n",
      " ARIMA(1,2,2)(0,0,0)[0] intercept   : AIC=514.728, Time=0.06 sec\n",
      " ARIMA(0,2,2)(0,0,0)[0] intercept   : AIC=512.848, Time=0.02 sec\n",
      " ARIMA(0,2,3)(0,0,0)[0] intercept   : AIC=514.677, Time=0.04 sec\n",
      " ARIMA(1,2,3)(0,0,0)[0] intercept   : AIC=515.725, Time=0.07 sec\n",
      " ARIMA(0,2,2)(0,0,0)[0]             : AIC=510.890, Time=0.01 sec\n",
      " ARIMA(0,2,1)(0,0,0)[0]             : AIC=532.750, Time=0.02 sec\n",
      " ARIMA(1,2,2)(0,0,0)[0]             : AIC=512.777, Time=0.06 sec\n",
      " ARIMA(0,2,3)(0,0,0)[0]             : AIC=512.730, Time=0.03 sec\n",
      " ARIMA(1,2,1)(0,0,0)[0]             : AIC=520.749, Time=0.02 sec\n",
      " ARIMA(1,2,3)(0,0,0)[0]             : AIC=513.778, Time=0.06 sec\n",
      "\n",
      "Best model:  ARIMA(0,2,2)(0,0,0)[0]          \n",
      "Total fit time: 0.641 seconds\n",
      "                               SARIMAX Results                                \n",
      "==============================================================================\n",
      "Dep. Variable:                      y   No. Observations:                  110\n",
      "Model:               SARIMAX(0, 2, 2)   Log Likelihood                -252.445\n",
      "Date:                Thu, 28 Jan 2021   AIC                            510.890\n",
      "Time:                        18:08:06   BIC                            518.936\n",
      "Sample:                             0   HQIC                           514.153\n",
      "                                - 110                                         \n",
      "Covariance Type:                  opg                                         \n",
      "==============================================================================\n",
      "                 coef    std err          z      P>|z|      [0.025      0.975]\n",
      "------------------------------------------------------------------------------\n",
      "ma.L1         -1.1742      0.081    -14.522      0.000      -1.333      -1.016\n",
      "ma.L2          0.5692      0.070      8.082      0.000       0.431       0.707\n",
      "sigma2         6.1853      0.601     10.294      0.000       5.008       7.363\n",
      "===================================================================================\n",
      "Ljung-Box (L1) (Q):                   0.12   Jarque-Bera (JB):                23.76\n",
      "Prob(Q):                              0.73   Prob(JB):                         0.00\n",
      "Heteroskedasticity (H):              69.68   Skew:                            -0.23\n",
      "Prob(H) (two-sided):                  0.00   Kurtosis:                         5.25\n",
      "===================================================================================\n",
      "\n",
      "Warnings:\n",
      "[1] Covariance matrix calculated using the outer product of gradients (complex-step).\n"
     ]
    },
    {
     "data": {
      "image/png": "[encoded data removed]",
      "text/plain": [
       "<Figure size 1008x360 with 1 Axes>"
      ]
     },
     "metadata": {
      "needs_background": "light"
     },
     "output_type": "display_data"
    },
    {
     "name": "stdout",
     "output_type": "stream",
     "text": [
      "2021-01-24    67.848888\n",
      "2021-01-31    65.751343\n",
      "2021-02-07    63.653798\n",
      "Freq: W-SUN, dtype: float64\n"
     ]
    }
   ],
   "source": [
    "## Santa Barbara County## Santa Barbara County\n",
    "\n",
    "arima_model(Santa_Barbara)"
   ]
  },
  {
   "cell_type": "markdown",
   "metadata": {},
   "source": [
    "## Inyo County"
   ]
  },
  {
   "cell_type": "code",
   "execution_count": 91,
   "metadata": {
    "ExecuteTime": {
     "end_time": "2021-01-29T02:08:12.620043Z",
     "start_time": "2021-01-29T02:08:12.088593Z"
    },
    "scrolled": false
   },
   "outputs": [
    {
     "name": "stdout",
     "output_type": "stream",
     "text": [
      "Performing stepwise search to minimize aic\n",
      " ARIMA(1,1,1)(0,0,0)[0] intercept   : AIC=602.481, Time=0.05 sec\n",
      " ARIMA(0,1,0)(0,0,0)[0] intercept   : AIC=601.693, Time=0.01 sec\n",
      " ARIMA(1,1,0)(0,0,0)[0] intercept   : AIC=602.401, Time=0.02 sec\n",
      " ARIMA(0,1,1)(0,0,0)[0] intercept   : AIC=601.458, Time=0.02 sec\n",
      " ARIMA(0,1,0)(0,0,0)[0]             : AIC=600.089, Time=0.01 sec\n",
      "\n",
      "Best model:  ARIMA(0,1,0)(0,0,0)[0]          \n",
      "Total fit time: 0.125 seconds\n",
      "                               SARIMAX Results                                \n",
      "==============================================================================\n",
      "Dep. Variable:                      y   No. Observations:                   92\n",
      "Model:               SARIMAX(0, 1, 0)   Log Likelihood                -299.044\n",
      "Date:                Thu, 28 Jan 2021   AIC                            600.089\n",
      "Time:                        18:08:12   BIC                            602.600\n",
      "Sample:                             0   HQIC                           601.102\n",
      "                                 - 92                                         \n",
      "Covariance Type:                  opg                                         \n",
      "==============================================================================\n",
      "                 coef    std err          z      P>|z|      [0.025      0.975]\n",
      "------------------------------------------------------------------------------\n",
      "sigma2        41.8683      3.065     13.658      0.000      35.860      47.877\n",
      "===================================================================================\n",
      "Ljung-Box (L1) (Q):                   1.34   Jarque-Bera (JB):               179.24\n",
      "Prob(Q):                              0.25   Prob(JB):                         0.00\n",
      "Heteroskedasticity (H):              16.87   Skew:                            -1.07\n",
      "Prob(H) (two-sided):                  0.00   Kurtosis:                         9.54\n",
      "===================================================================================\n",
      "\n",
      "Warnings:\n",
      "[1] Covariance matrix calculated using the outer product of gradients (complex-step).\n",
      "                                    ARIMA Model Results                                    \n",
      "===========================================================================================\n",
      "Dep. Variable:     D.7dayrollingavg_newlyconfirmed   No. Observations:                   91\n",
      "Model:                              ARIMA(0, 1, 0)   Log Likelihood                -298.846\n",
      "Method:                                        css   S.D. of innovations              6.456\n",
      "Date:                             Thu, 28 Jan 2021   AIC                            601.693\n",
      "Time:                                     18:08:12   BIC                            606.714\n",
      "Sample:                                 10-08-2020   HQIC                           603.719\n",
      "                                      - 01-06-2021                                         \n",
      "==============================================================================\n",
      "                 coef    std err          z      P>|z|      [0.025      0.975]\n",
      "------------------------------------------------------------------------------\n",
      "const          0.4264      0.677      0.630      0.529      -0.900       1.753\n",
      "==============================================================================\n"
     ]
    },
    {
     "data": {
      "image/png": "[encoded data removed]",
      "text/plain": [
       "<Figure size 1008x360 with 1 Axes>"
      ]
     },
     "metadata": {
      "needs_background": "light"
     },
     "output_type": "display_data"
    },
    {
     "name": "stdout",
     "output_type": "stream",
     "text": [
      "MSE of our forecast is: 2714.2434887620243\n",
      "RMSE of our forecast is: 52.09840197896692\n",
      "Performing stepwise search to minimize aic\n",
      " ARIMA(1,1,1)(0,0,0)[0] intercept   : AIC=773.685, Time=0.05 sec\n",
      " ARIMA(0,1,0)(0,0,0)[0] intercept   : AIC=769.830, Time=0.01 sec\n",
      " ARIMA(1,1,0)(0,0,0)[0] intercept   : AIC=771.685, Time=0.02 sec\n",
      " ARIMA(0,1,1)(0,0,0)[0] intercept   : AIC=771.685, Time=0.02 sec\n",
      " ARIMA(0,1,0)(0,0,0)[0]             : AIC=769.363, Time=0.01 sec\n",
      "\n",
      "Best model:  ARIMA(0,1,0)(0,0,0)[0]          \n",
      "Total fit time: 0.099 seconds\n",
      "                               SARIMAX Results                                \n",
      "==============================================================================\n",
      "Dep. Variable:                      y   No. Observations:                  110\n",
      "Model:               SARIMAX(0, 1, 0)   Log Likelihood                -383.682\n",
      "Date:                Thu, 28 Jan 2021   AIC                            769.363\n",
      "Time:                        18:08:12   BIC                            772.055\n",
      "Sample:                             0   HQIC                           770.455\n",
      "                                - 110                                         \n",
      "Covariance Type:                  opg                                         \n",
      "==============================================================================\n",
      "                 coef    std err          z      P>|z|      [0.025      0.975]\n",
      "------------------------------------------------------------------------------\n",
      "sigma2        66.8301      4.246     15.741      0.000      58.509      75.151\n",
      "===================================================================================\n",
      "Ljung-Box (L1) (Q):                   0.15   Jarque-Bera (JB):               229.10\n",
      "Prob(Q):                              0.70   Prob(JB):                         0.00\n",
      "Heteroskedasticity (H):              29.53   Skew:                             0.69\n",
      "Prob(H) (two-sided):                  0.00   Kurtosis:                         9.97\n",
      "===================================================================================\n",
      "\n",
      "Warnings:\n",
      "[1] Covariance matrix calculated using the outer product of gradients (complex-step).\n"
     ]
    },
    {
     "data": {
      "image/png": "[encoded data removed]",
      "text/plain": [
       "<Figure size 1008x360 with 1 Axes>"
      ]
     },
     "metadata": {
      "needs_background": "light"
     },
     "output_type": "display_data"
    },
    {
     "name": "stdout",
     "output_type": "stream",
     "text": [
      "2021-01-24    113.246696\n",
      "2021-01-31    113.246696\n",
      "2021-02-07    113.246696\n",
      "Freq: W-SUN, dtype: float64\n"
     ]
    }
   ],
   "source": [
    "## Inyo County## Tulare County## Inyo County\n",
    "\n",
    "arima_model(Inyo)"
   ]
  },
  {
   "cell_type": "markdown",
   "metadata": {},
   "source": [
    "## Tulare County"
   ]
  },
  {
   "cell_type": "code",
   "execution_count": 92,
   "metadata": {
    "ExecuteTime": {
     "end_time": "2021-01-29T02:08:19.721008Z",
     "start_time": "2021-01-29T02:08:18.335390Z"
    },
    "scrolled": false
   },
   "outputs": [
    {
     "name": "stdout",
     "output_type": "stream",
     "text": [
      "Performing stepwise search to minimize aic\n",
      " ARIMA(1,2,1)(0,0,0)[0] intercept   : AIC=inf, Time=0.10 sec\n",
      " ARIMA(0,2,0)(0,0,0)[0] intercept   : AIC=556.066, Time=0.01 sec\n",
      " ARIMA(1,2,0)(0,0,0)[0] intercept   : AIC=551.819, Time=0.01 sec\n",
      " ARIMA(0,2,1)(0,0,0)[0] intercept   : AIC=523.460, Time=0.02 sec\n",
      " ARIMA(0,2,0)(0,0,0)[0]             : AIC=554.066, Time=0.01 sec\n",
      " ARIMA(0,2,2)(0,0,0)[0] intercept   : AIC=inf, Time=0.08 sec\n",
      " ARIMA(1,2,2)(0,0,0)[0] intercept   : AIC=inf, Time=0.08 sec\n",
      " ARIMA(0,2,1)(0,0,0)[0]             : AIC=521.514, Time=0.01 sec\n",
      " ARIMA(1,2,1)(0,0,0)[0]             : AIC=inf, Time=0.06 sec\n",
      " ARIMA(0,2,2)(0,0,0)[0]             : AIC=inf, Time=0.05 sec\n",
      " ARIMA(1,2,0)(0,0,0)[0]             : AIC=549.819, Time=0.01 sec\n",
      " ARIMA(1,2,2)(0,0,0)[0]             : AIC=inf, Time=0.07 sec\n",
      "\n",
      "Best model:  ARIMA(0,2,1)(0,0,0)[0]          \n",
      "Total fit time: 0.530 seconds\n",
      "                               SARIMAX Results                                \n",
      "==============================================================================\n",
      "Dep. Variable:                      y   No. Observations:                   92\n",
      "Model:               SARIMAX(0, 2, 1)   Log Likelihood                -258.757\n",
      "Date:                Thu, 28 Jan 2021   AIC                            521.514\n",
      "Time:                        18:08:18   BIC                            526.513\n",
      "Sample:                             0   HQIC                           523.530\n",
      "                                 - 92                                         \n",
      "Covariance Type:                  opg                                         \n",
      "==============================================================================\n",
      "                 coef    std err          z      P>|z|      [0.025      0.975]\n",
      "------------------------------------------------------------------------------\n",
      "ma.L1         -0.9102      0.043    -21.190      0.000      -0.994      -0.826\n",
      "sigma2        18.0411      0.987     18.271      0.000      16.106      19.976\n",
      "===================================================================================\n",
      "Ljung-Box (L1) (Q):                   3.08   Jarque-Bera (JB):               911.76\n",
      "Prob(Q):                              0.08   Prob(JB):                         0.00\n",
      "Heteroskedasticity (H):              91.09   Skew:                            -2.27\n",
      "Prob(H) (two-sided):                  0.00   Kurtosis:                        17.92\n",
      "===================================================================================\n",
      "\n",
      "Warnings:\n",
      "[1] Covariance matrix calculated using the outer product of gradients (complex-step).\n",
      "                                    ARIMA Model Results                                     \n",
      "============================================================================================\n",
      "Dep. Variable:     D2.7dayrollingavg_newlyconfirmed   No. Observations:                   90\n",
      "Model:                               ARIMA(0, 2, 1)   Log Likelihood                -258.752\n",
      "Method:                                     css-mle   S.D. of innovations              4.183\n",
      "Date:                              Thu, 28 Jan 2021   AIC                            523.504\n",
      "Time:                                      18:08:18   BIC                            531.004\n",
      "Sample:                                  10-09-2020   HQIC                           526.529\n",
      "                                       - 01-06-2021                                         \n",
      "==========================================================================================================\n",
      "                                             coef    std err          z      P>|z|      [0.025      0.975]\n",
      "----------------------------------------------------------------------------------------------------------\n",
      "const                                      0.0141      0.017      0.844      0.399      -0.019       0.047\n",
      "ma.L1.D2.7dayrollingavg_newlyconfirmed    -1.0000      0.070    -14.304      0.000      -1.137      -0.863\n",
      "                                    Roots                                    \n",
      "=============================================================================\n",
      "                  Real          Imaginary           Modulus         Frequency\n",
      "-----------------------------------------------------------------------------\n",
      "MA.1            1.0000           +0.0000j            1.0000            0.0000\n",
      "-----------------------------------------------------------------------------\n"
     ]
    },
    {
     "data": {
      "image/png": "[encoded data removed]",
      "text/plain": [
       "<Figure size 1008x360 with 1 Axes>"
      ]
     },
     "metadata": {
      "needs_background": "light"
     },
     "output_type": "display_data"
    },
    {
     "name": "stdout",
     "output_type": "stream",
     "text": [
      "MSE of our forecast is: 894.2127464877462\n",
      "RMSE of our forecast is: 29.90339021729386\n",
      "Performing stepwise search to minimize aic\n",
      " ARIMA(1,2,1)(0,0,0)[0] intercept   : AIC=622.065, Time=0.04 sec\n",
      " ARIMA(0,2,0)(0,0,0)[0] intercept   : AIC=663.692, Time=0.01 sec\n",
      " ARIMA(1,2,0)(0,0,0)[0] intercept   : AIC=656.375, Time=0.01 sec\n",
      " ARIMA(0,2,1)(0,0,0)[0] intercept   : AIC=623.564, Time=0.02 sec\n",
      " ARIMA(0,2,0)(0,0,0)[0]             : AIC=661.693, Time=0.01 sec\n",
      " ARIMA(2,2,1)(0,0,0)[0] intercept   : AIC=inf, Time=0.04 sec\n",
      " ARIMA(1,2,2)(0,0,0)[0] intercept   : AIC=621.872, Time=0.05 sec\n",
      " ARIMA(0,2,2)(0,0,0)[0] intercept   : AIC=620.253, Time=0.04 sec\n",
      " ARIMA(0,2,3)(0,0,0)[0] intercept   : AIC=621.252, Time=0.05 sec\n",
      " ARIMA(1,2,3)(0,0,0)[0] intercept   : AIC=621.584, Time=0.08 sec\n",
      " ARIMA(0,2,2)(0,0,0)[0]             : AIC=618.544, Time=0.03 sec\n",
      " ARIMA(0,2,1)(0,0,0)[0]             : AIC=621.842, Time=0.01 sec\n",
      " ARIMA(1,2,2)(0,0,0)[0]             : AIC=620.161, Time=0.04 sec\n",
      " ARIMA(0,2,3)(0,0,0)[0]             : AIC=619.513, Time=0.03 sec\n",
      " ARIMA(1,2,1)(0,0,0)[0]             : AIC=620.366, Time=0.02 sec\n",
      " ARIMA(1,2,3)(0,0,0)[0]             : AIC=619.728, Time=0.05 sec\n",
      "\n",
      "Best model:  ARIMA(0,2,2)(0,0,0)[0]          \n",
      "Total fit time: 0.548 seconds\n",
      "                               SARIMAX Results                                \n",
      "==============================================================================\n",
      "Dep. Variable:                      y   No. Observations:                  110\n",
      "Model:               SARIMAX(0, 2, 2)   Log Likelihood                -306.272\n",
      "Date:                Thu, 28 Jan 2021   AIC                            618.544\n",
      "Time:                        18:08:19   BIC                            626.591\n",
      "Sample:                             0   HQIC                           621.807\n",
      "                                - 110                                         \n",
      "Covariance Type:                  opg                                         \n",
      "==============================================================================\n",
      "                 coef    std err          z      P>|z|      [0.025      0.975]\n",
      "------------------------------------------------------------------------------\n",
      "ma.L1         -0.6490      0.136     -4.758      0.000      -0.916      -0.382\n",
      "ma.L2         -0.2626      0.159     -1.647      0.100      -0.575       0.050\n",
      "sigma2        16.7551      0.971     17.254      0.000      14.852      18.658\n",
      "===================================================================================\n",
      "Ljung-Box (L1) (Q):                   0.10   Jarque-Bera (JB):               995.29\n",
      "Prob(Q):                              0.76   Prob(JB):                         0.00\n",
      "Heteroskedasticity (H):              38.99   Skew:                            -2.15\n",
      "Prob(H) (two-sided):                  0.00   Kurtosis:                        17.24\n",
      "===================================================================================\n",
      "\n",
      "Warnings:\n",
      "[1] Covariance matrix calculated using the outer product of gradients (complex-step).\n"
     ]
    },
    {
     "data": {
      "image/png": "[encoded data removed]",
      "text/plain": [
       "<Figure size 1008x360 with 1 Axes>"
      ]
     },
     "metadata": {
      "needs_background": "light"
     },
     "output_type": "display_data"
    },
    {
     "name": "stdout",
     "output_type": "stream",
     "text": [
      "2021-01-24    60.375035\n",
      "2021-01-31    58.793374\n",
      "2021-02-07    57.211712\n",
      "Freq: W-SUN, dtype: float64\n"
     ]
    }
   ],
   "source": [
    "## Tulare County\n",
    "\n",
    "arima_model(Tulare)"
   ]
  },
  {
   "cell_type": "code",
   "execution_count": null,
   "metadata": {},
   "outputs": [],
   "source": []
  },
  {
   "cell_type": "code",
   "execution_count": null,
   "metadata": {},
   "outputs": [],
   "source": []
  }
 ],
 "metadata": {
  "kernelspec": {
   "display_name": "Python 3",
   "language": "python",
   "name": "python3"
  },
  "language_info": {
   "codemirror_mode": {
    "name": "ipython",
    "version": 3
   },
   "file_extension": ".py",
   "mimetype": "text/x-python",
   "name": "python",
   "nbconvert_exporter": "python",
   "pygments_lexer": "ipython3",
   "version": "3.8.5"
  },
  "toc": {
   "base_numbering": 1,
   "nav_menu": {},
   "number_sections": true,
   "sideBar": true,
   "skip_h1_title": false,
   "title_cell": "Table of Contents",
   "title_sidebar": "Contents",
   "toc_cell": false,
   "toc_position": {
    "height": "calc(100% - 180px)",
    "left": "10px",
    "top": "150px",
    "width": "306.391px"
   },
   "toc_section_display": true,
   "toc_window_display": true
  },
  "varInspector": {
   "cols": {
    "lenName": 16,
    "lenType": 16,
    "lenVar": 40
   },
   "kernels_config": {
    "python": {
     "delete_cmd_postfix": "",
     "delete_cmd_prefix": "del ",
     "library": "var_list.py",
     "varRefreshCmd": "print(var_dic_list())"
    },
    "r": {
     "delete_cmd_postfix": ") ",
     "delete_cmd_prefix": "rm(",
     "library": "var_list.r",
     "varRefreshCmd": "cat(var_dic_list()) "
    }
   },
   "types_to_exclude": [
    "module",
    "function",
    "builtin_function_or_method",
    "instance",
    "_Feature"
   ],
   "window_display": false
  }
 },
 "nbformat": 4,
 "nbformat_minor": 4
}

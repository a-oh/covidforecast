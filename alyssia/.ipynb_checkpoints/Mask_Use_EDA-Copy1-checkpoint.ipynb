{
 "cells": [
  {
   "cell_type": "markdown",
   "metadata": {},
   "source": [
    "# Exploratory Data Analysis - read dataframes"
   ]
  },
  {
   "cell_type": "code",
   "execution_count": 1,
   "metadata": {
    "ExecuteTime": {
     "end_time": "2021-01-19T05:14:35.088562Z",
     "start_time": "2021-01-19T05:14:22.079275Z"
    }
   },
   "outputs": [],
   "source": [
    "# imports\n",
    "\n",
    "import numpy as np\n",
    "import pandas as pd\n",
    "import time\n",
    "import matplotlib.pyplot as plt\n",
    "import seaborn as sns\n",
    "\n",
    "\n",
    "\n",
    "%matplotlib inline"
   ]
  },
  {
   "cell_type": "markdown",
   "metadata": {},
   "source": [
    "     "
   ]
  },
  {
   "cell_type": "code",
   "execution_count": 52,
   "metadata": {
    "ExecuteTime": {
     "end_time": "2021-01-19T05:55:14.646840Z",
     "start_time": "2021-01-19T05:55:14.613534Z"
    },
    "run_control": {
     "marked": true
    }
   },
   "outputs": [],
   "source": [
    "# read the CSV files\n",
    "\n",
    "df = pd.read_csv('cases_with_mask_use.csv')\n"
   ]
  },
  {
   "cell_type": "markdown",
   "metadata": {},
   "source": [
    "## mask.csv basic inspection"
   ]
  },
  {
   "cell_type": "code",
   "execution_count": 53,
   "metadata": {
    "ExecuteTime": {
     "end_time": "2021-01-19T05:55:18.458105Z",
     "start_time": "2021-01-19T05:55:18.452211Z"
    }
   },
   "outputs": [
    {
     "data": {
      "text/plain": [
       "(17486, 12)"
      ]
     },
     "execution_count": 53,
     "metadata": {},
     "output_type": "execute_result"
    }
   ],
   "source": [
    "# check the size of dataframes  \n",
    "df.shape"
   ]
  },
  {
   "cell_type": "code",
   "execution_count": 66,
   "metadata": {
    "ExecuteTime": {
     "end_time": "2021-01-19T06:00:48.271477Z",
     "start_time": "2021-01-19T06:00:48.246764Z"
    }
   },
   "outputs": [
    {
     "data": {
      "text/html": [
       "<div>\n",
       "<style scoped>\n",
       "    .dataframe tbody tr th:only-of-type {\n",
       "        vertical-align: middle;\n",
       "    }\n",
       "\n",
       "    .dataframe tbody tr th {\n",
       "        vertical-align: top;\n",
       "    }\n",
       "\n",
       "    .dataframe thead th {\n",
       "        text-align: right;\n",
       "    }\n",
       "</style>\n",
       "<table border=\"1\" class=\"dataframe\">\n",
       "  <thead>\n",
       "    <tr style=\"text-align: right;\">\n",
       "      <th></th>\n",
       "      <th>county</th>\n",
       "      <th>totalcountconfirmed</th>\n",
       "      <th>totalcountdeaths</th>\n",
       "      <th>newcountconfirmed</th>\n",
       "      <th>newcountdeaths</th>\n",
       "      <th>date</th>\n",
       "      <th>NEVER</th>\n",
       "      <th>RARELY</th>\n",
       "      <th>SOMETIMES</th>\n",
       "      <th>FREQUENTLY</th>\n",
       "      <th>ALWAYS</th>\n",
       "      <th>population</th>\n",
       "    </tr>\n",
       "  </thead>\n",
       "  <tbody>\n",
       "    <tr>\n",
       "      <th>0</th>\n",
       "      <td>Santa Clara</td>\n",
       "      <td>151.0</td>\n",
       "      <td>6.0</td>\n",
       "      <td>151</td>\n",
       "      <td>6</td>\n",
       "      <td>2020-03-18</td>\n",
       "      <td>0.015</td>\n",
       "      <td>0.014</td>\n",
       "      <td>0.04</td>\n",
       "      <td>0.168</td>\n",
       "      <td>0.764</td>\n",
       "      <td>1927852</td>\n",
       "    </tr>\n",
       "    <tr>\n",
       "      <th>1</th>\n",
       "      <td>Santa Clara</td>\n",
       "      <td>183.0</td>\n",
       "      <td>8.0</td>\n",
       "      <td>32</td>\n",
       "      <td>2</td>\n",
       "      <td>2020-03-19</td>\n",
       "      <td>0.015</td>\n",
       "      <td>0.014</td>\n",
       "      <td>0.04</td>\n",
       "      <td>0.168</td>\n",
       "      <td>0.764</td>\n",
       "      <td>1927852</td>\n",
       "    </tr>\n",
       "    <tr>\n",
       "      <th>2</th>\n",
       "      <td>Santa Clara</td>\n",
       "      <td>246.0</td>\n",
       "      <td>8.0</td>\n",
       "      <td>63</td>\n",
       "      <td>0</td>\n",
       "      <td>2020-03-20</td>\n",
       "      <td>0.015</td>\n",
       "      <td>0.014</td>\n",
       "      <td>0.04</td>\n",
       "      <td>0.168</td>\n",
       "      <td>0.764</td>\n",
       "      <td>1927852</td>\n",
       "    </tr>\n",
       "    <tr>\n",
       "      <th>3</th>\n",
       "      <td>Santa Clara</td>\n",
       "      <td>269.0</td>\n",
       "      <td>10.0</td>\n",
       "      <td>23</td>\n",
       "      <td>2</td>\n",
       "      <td>2020-03-21</td>\n",
       "      <td>0.015</td>\n",
       "      <td>0.014</td>\n",
       "      <td>0.04</td>\n",
       "      <td>0.168</td>\n",
       "      <td>0.764</td>\n",
       "      <td>1927852</td>\n",
       "    </tr>\n",
       "    <tr>\n",
       "      <th>4</th>\n",
       "      <td>Santa Clara</td>\n",
       "      <td>284.0</td>\n",
       "      <td>13.0</td>\n",
       "      <td>15</td>\n",
       "      <td>3</td>\n",
       "      <td>2020-03-22</td>\n",
       "      <td>0.015</td>\n",
       "      <td>0.014</td>\n",
       "      <td>0.04</td>\n",
       "      <td>0.168</td>\n",
       "      <td>0.764</td>\n",
       "      <td>1927852</td>\n",
       "    </tr>\n",
       "    <tr>\n",
       "      <th>5</th>\n",
       "      <td>Santa Clara</td>\n",
       "      <td>336.0</td>\n",
       "      <td>13.0</td>\n",
       "      <td>52</td>\n",
       "      <td>0</td>\n",
       "      <td>2020-03-23</td>\n",
       "      <td>0.015</td>\n",
       "      <td>0.014</td>\n",
       "      <td>0.04</td>\n",
       "      <td>0.168</td>\n",
       "      <td>0.764</td>\n",
       "      <td>1927852</td>\n",
       "    </tr>\n",
       "    <tr>\n",
       "      <th>6</th>\n",
       "      <td>Santa Clara</td>\n",
       "      <td>389.0</td>\n",
       "      <td>17.0</td>\n",
       "      <td>53</td>\n",
       "      <td>4</td>\n",
       "      <td>2020-03-24</td>\n",
       "      <td>0.015</td>\n",
       "      <td>0.014</td>\n",
       "      <td>0.04</td>\n",
       "      <td>0.168</td>\n",
       "      <td>0.764</td>\n",
       "      <td>1927852</td>\n",
       "    </tr>\n",
       "    <tr>\n",
       "      <th>7</th>\n",
       "      <td>Santa Clara</td>\n",
       "      <td>452.0</td>\n",
       "      <td>20.0</td>\n",
       "      <td>63</td>\n",
       "      <td>3</td>\n",
       "      <td>2020-03-25</td>\n",
       "      <td>0.015</td>\n",
       "      <td>0.014</td>\n",
       "      <td>0.04</td>\n",
       "      <td>0.168</td>\n",
       "      <td>0.764</td>\n",
       "      <td>1927852</td>\n",
       "    </tr>\n",
       "    <tr>\n",
       "      <th>8</th>\n",
       "      <td>Santa Clara</td>\n",
       "      <td>487.0</td>\n",
       "      <td>20.0</td>\n",
       "      <td>35</td>\n",
       "      <td>0</td>\n",
       "      <td>2020-03-26</td>\n",
       "      <td>0.015</td>\n",
       "      <td>0.014</td>\n",
       "      <td>0.04</td>\n",
       "      <td>0.168</td>\n",
       "      <td>0.764</td>\n",
       "      <td>1927852</td>\n",
       "    </tr>\n",
       "    <tr>\n",
       "      <th>9</th>\n",
       "      <td>Santa Clara</td>\n",
       "      <td>557.0</td>\n",
       "      <td>25.0</td>\n",
       "      <td>70</td>\n",
       "      <td>5</td>\n",
       "      <td>2020-03-27</td>\n",
       "      <td>0.015</td>\n",
       "      <td>0.014</td>\n",
       "      <td>0.04</td>\n",
       "      <td>0.168</td>\n",
       "      <td>0.764</td>\n",
       "      <td>1927852</td>\n",
       "    </tr>\n",
       "  </tbody>\n",
       "</table>\n",
       "</div>"
      ],
      "text/plain": [
       "        county  totalcountconfirmed  totalcountdeaths  newcountconfirmed  \\\n",
       "0  Santa Clara                151.0               6.0                151   \n",
       "1  Santa Clara                183.0               8.0                 32   \n",
       "2  Santa Clara                246.0               8.0                 63   \n",
       "3  Santa Clara                269.0              10.0                 23   \n",
       "4  Santa Clara                284.0              13.0                 15   \n",
       "5  Santa Clara                336.0              13.0                 52   \n",
       "6  Santa Clara                389.0              17.0                 53   \n",
       "7  Santa Clara                452.0              20.0                 63   \n",
       "8  Santa Clara                487.0              20.0                 35   \n",
       "9  Santa Clara                557.0              25.0                 70   \n",
       "\n",
       "   newcountdeaths       date  NEVER  RARELY  SOMETIMES  FREQUENTLY  ALWAYS  \\\n",
       "0               6 2020-03-18  0.015   0.014       0.04       0.168   0.764   \n",
       "1               2 2020-03-19  0.015   0.014       0.04       0.168   0.764   \n",
       "2               0 2020-03-20  0.015   0.014       0.04       0.168   0.764   \n",
       "3               2 2020-03-21  0.015   0.014       0.04       0.168   0.764   \n",
       "4               3 2020-03-22  0.015   0.014       0.04       0.168   0.764   \n",
       "5               0 2020-03-23  0.015   0.014       0.04       0.168   0.764   \n",
       "6               4 2020-03-24  0.015   0.014       0.04       0.168   0.764   \n",
       "7               3 2020-03-25  0.015   0.014       0.04       0.168   0.764   \n",
       "8               0 2020-03-26  0.015   0.014       0.04       0.168   0.764   \n",
       "9               5 2020-03-27  0.015   0.014       0.04       0.168   0.764   \n",
       "\n",
       "   population  \n",
       "0     1927852  \n",
       "1     1927852  \n",
       "2     1927852  \n",
       "3     1927852  \n",
       "4     1927852  \n",
       "5     1927852  \n",
       "6     1927852  \n",
       "7     1927852  \n",
       "8     1927852  \n",
       "9     1927852  "
      ]
     },
     "execution_count": 66,
     "metadata": {},
     "output_type": "execute_result"
    }
   ],
   "source": [
    "# check the top 10 lines \n",
    "df.head(10)"
   ]
  },
  {
   "cell_type": "code",
   "execution_count": 13,
   "metadata": {
    "ExecuteTime": {
     "end_time": "2021-01-19T05:23:25.254660Z",
     "start_time": "2021-01-19T05:23:25.238243Z"
    }
   },
   "outputs": [
    {
     "data": {
      "text/plain": [
       "county                 0\n",
       "totalcountconfirmed    0\n",
       "totalcountdeaths       0\n",
       "newcountconfirmed      0\n",
       "newcountdeaths         0\n",
       "date                   0\n",
       "NEVER                  0\n",
       "RARELY                 0\n",
       "SOMETIMES              0\n",
       "FREQUENTLY             0\n",
       "ALWAYS                 0\n",
       "population             0\n",
       "dtype: int64"
      ]
     },
     "execution_count": 13,
     "metadata": {},
     "output_type": "execute_result"
    }
   ],
   "source": [
    "# check how many null values are in each\n",
    "\n",
    "df.isnull().sum()\n"
   ]
  },
  {
   "cell_type": "code",
   "execution_count": 14,
   "metadata": {
    "ExecuteTime": {
     "end_time": "2021-01-19T05:23:28.464541Z",
     "start_time": "2021-01-19T05:23:28.441650Z"
    }
   },
   "outputs": [
    {
     "name": "stdout",
     "output_type": "stream",
     "text": [
      "<class 'pandas.core.frame.DataFrame'>\n",
      "RangeIndex: 17486 entries, 0 to 17485\n",
      "Data columns (total 12 columns):\n",
      " #   Column               Non-Null Count  Dtype  \n",
      "---  ------               --------------  -----  \n",
      " 0   county               17486 non-null  object \n",
      " 1   totalcountconfirmed  17486 non-null  float64\n",
      " 2   totalcountdeaths     17486 non-null  float64\n",
      " 3   newcountconfirmed    17486 non-null  int64  \n",
      " 4   newcountdeaths       17486 non-null  int64  \n",
      " 5   date                 17486 non-null  object \n",
      " 6   NEVER                17486 non-null  float64\n",
      " 7   RARELY               17486 non-null  float64\n",
      " 8   SOMETIMES            17486 non-null  float64\n",
      " 9   FREQUENTLY           17486 non-null  float64\n",
      " 10  ALWAYS               17486 non-null  float64\n",
      " 11  population           17486 non-null  int64  \n",
      "dtypes: float64(7), int64(3), object(2)\n",
      "memory usage: 1.6+ MB\n"
     ]
    }
   ],
   "source": [
    "df.info()"
   ]
  },
  {
   "cell_type": "code",
   "execution_count": 15,
   "metadata": {
    "ExecuteTime": {
     "end_time": "2021-01-19T05:23:32.346105Z",
     "start_time": "2021-01-19T05:23:32.325558Z"
    }
   },
   "outputs": [
    {
     "data": {
      "text/plain": [
       "county                   58\n",
       "totalcountconfirmed    7956\n",
       "totalcountdeaths       1269\n",
       "newcountconfirmed      1313\n",
       "newcountdeaths          108\n",
       "date                    302\n",
       "NEVER                    37\n",
       "RARELY                   38\n",
       "SOMETIMES                46\n",
       "FREQUENTLY               45\n",
       "ALWAYS                   54\n",
       "population               58\n",
       "dtype: int64"
      ]
     },
     "execution_count": 15,
     "metadata": {},
     "output_type": "execute_result"
    }
   ],
   "source": [
    "df.nunique()"
   ]
  },
  {
   "cell_type": "code",
   "execution_count": 16,
   "metadata": {
    "ExecuteTime": {
     "end_time": "2021-01-19T05:23:36.044592Z",
     "start_time": "2021-01-19T05:23:35.993881Z"
    }
   },
   "outputs": [
    {
     "data": {
      "text/html": [
       "<div>\n",
       "<style scoped>\n",
       "    .dataframe tbody tr th:only-of-type {\n",
       "        vertical-align: middle;\n",
       "    }\n",
       "\n",
       "    .dataframe tbody tr th {\n",
       "        vertical-align: top;\n",
       "    }\n",
       "\n",
       "    .dataframe thead th {\n",
       "        text-align: right;\n",
       "    }\n",
       "</style>\n",
       "<table border=\"1\" class=\"dataframe\">\n",
       "  <thead>\n",
       "    <tr style=\"text-align: right;\">\n",
       "      <th></th>\n",
       "      <th>totalcountconfirmed</th>\n",
       "      <th>totalcountdeaths</th>\n",
       "      <th>newcountconfirmed</th>\n",
       "      <th>newcountdeaths</th>\n",
       "      <th>NEVER</th>\n",
       "      <th>RARELY</th>\n",
       "      <th>SOMETIMES</th>\n",
       "      <th>FREQUENTLY</th>\n",
       "      <th>ALWAYS</th>\n",
       "      <th>population</th>\n",
       "    </tr>\n",
       "  </thead>\n",
       "  <tbody>\n",
       "    <tr>\n",
       "      <th>count</th>\n",
       "      <td>17486.000000</td>\n",
       "      <td>17486.000000</td>\n",
       "      <td>17486.000000</td>\n",
       "      <td>17486.000000</td>\n",
       "      <td>17486.000000</td>\n",
       "      <td>17486.000000</td>\n",
       "      <td>17486.000000</td>\n",
       "      <td>17486.000000</td>\n",
       "      <td>17486.000000</td>\n",
       "      <td>1.748600e+04</td>\n",
       "    </tr>\n",
       "    <tr>\n",
       "      <th>mean</th>\n",
       "      <td>11864.667048</td>\n",
       "      <td>196.650292</td>\n",
       "      <td>161.083438</td>\n",
       "      <td>1.810248</td>\n",
       "      <td>0.032278</td>\n",
       "      <td>0.030698</td>\n",
       "      <td>0.063649</td>\n",
       "      <td>0.158543</td>\n",
       "      <td>0.714797</td>\n",
       "      <td>6.824013e+05</td>\n",
       "    </tr>\n",
       "    <tr>\n",
       "      <th>std</th>\n",
       "      <td>45130.684475</td>\n",
       "      <td>784.510735</td>\n",
       "      <td>777.737090</td>\n",
       "      <td>9.369938</td>\n",
       "      <td>0.028532</td>\n",
       "      <td>0.026178</td>\n",
       "      <td>0.033899</td>\n",
       "      <td>0.040410</td>\n",
       "      <td>0.092762</td>\n",
       "      <td>1.456244e+06</td>\n",
       "    </tr>\n",
       "    <tr>\n",
       "      <th>min</th>\n",
       "      <td>0.000000</td>\n",
       "      <td>0.000000</td>\n",
       "      <td>-578.000000</td>\n",
       "      <td>-16.000000</td>\n",
       "      <td>0.001000</td>\n",
       "      <td>0.000000</td>\n",
       "      <td>0.004000</td>\n",
       "      <td>0.058000</td>\n",
       "      <td>0.482000</td>\n",
       "      <td>1.129000e+03</td>\n",
       "    </tr>\n",
       "    <tr>\n",
       "      <th>25%</th>\n",
       "      <td>83.000000</td>\n",
       "      <td>1.000000</td>\n",
       "      <td>1.000000</td>\n",
       "      <td>0.000000</td>\n",
       "      <td>0.015000</td>\n",
       "      <td>0.013000</td>\n",
       "      <td>0.040000</td>\n",
       "      <td>0.134000</td>\n",
       "      <td>0.661000</td>\n",
       "      <td>4.590500e+04</td>\n",
       "    </tr>\n",
       "    <tr>\n",
       "      <th>50%</th>\n",
       "      <td>930.000000</td>\n",
       "      <td>13.000000</td>\n",
       "      <td>13.000000</td>\n",
       "      <td>0.000000</td>\n",
       "      <td>0.023000</td>\n",
       "      <td>0.023000</td>\n",
       "      <td>0.058000</td>\n",
       "      <td>0.156000</td>\n",
       "      <td>0.737000</td>\n",
       "      <td>1.928430e+05</td>\n",
       "    </tr>\n",
       "    <tr>\n",
       "      <th>75%</th>\n",
       "      <td>7530.000000</td>\n",
       "      <td>105.000000</td>\n",
       "      <td>81.000000</td>\n",
       "      <td>0.000000</td>\n",
       "      <td>0.043000</td>\n",
       "      <td>0.043000</td>\n",
       "      <td>0.084000</td>\n",
       "      <td>0.186000</td>\n",
       "      <td>0.786000</td>\n",
       "      <td>7.621480e+05</td>\n",
       "    </tr>\n",
       "    <tr>\n",
       "      <th>max</th>\n",
       "      <td>937985.000000</td>\n",
       "      <td>12955.000000</td>\n",
       "      <td>28549.000000</td>\n",
       "      <td>318.000000</td>\n",
       "      <td>0.140000</td>\n",
       "      <td>0.135000</td>\n",
       "      <td>0.162000</td>\n",
       "      <td>0.276000</td>\n",
       "      <td>0.889000</td>\n",
       "      <td>1.003911e+07</td>\n",
       "    </tr>\n",
       "  </tbody>\n",
       "</table>\n",
       "</div>"
      ],
      "text/plain": [
       "       totalcountconfirmed  totalcountdeaths  newcountconfirmed  \\\n",
       "count         17486.000000      17486.000000       17486.000000   \n",
       "mean          11864.667048        196.650292         161.083438   \n",
       "std           45130.684475        784.510735         777.737090   \n",
       "min               0.000000          0.000000        -578.000000   \n",
       "25%              83.000000          1.000000           1.000000   \n",
       "50%             930.000000         13.000000          13.000000   \n",
       "75%            7530.000000        105.000000          81.000000   \n",
       "max          937985.000000      12955.000000       28549.000000   \n",
       "\n",
       "       newcountdeaths         NEVER        RARELY     SOMETIMES    FREQUENTLY  \\\n",
       "count    17486.000000  17486.000000  17486.000000  17486.000000  17486.000000   \n",
       "mean         1.810248      0.032278      0.030698      0.063649      0.158543   \n",
       "std          9.369938      0.028532      0.026178      0.033899      0.040410   \n",
       "min        -16.000000      0.001000      0.000000      0.004000      0.058000   \n",
       "25%          0.000000      0.015000      0.013000      0.040000      0.134000   \n",
       "50%          0.000000      0.023000      0.023000      0.058000      0.156000   \n",
       "75%          0.000000      0.043000      0.043000      0.084000      0.186000   \n",
       "max        318.000000      0.140000      0.135000      0.162000      0.276000   \n",
       "\n",
       "             ALWAYS    population  \n",
       "count  17486.000000  1.748600e+04  \n",
       "mean       0.714797  6.824013e+05  \n",
       "std        0.092762  1.456244e+06  \n",
       "min        0.482000  1.129000e+03  \n",
       "25%        0.661000  4.590500e+04  \n",
       "50%        0.737000  1.928430e+05  \n",
       "75%        0.786000  7.621480e+05  \n",
       "max        0.889000  1.003911e+07  "
      ]
     },
     "execution_count": 16,
     "metadata": {},
     "output_type": "execute_result"
    }
   ],
   "source": [
    "df.describe()"
   ]
  },
  {
   "cell_type": "code",
   "execution_count": 17,
   "metadata": {
    "ExecuteTime": {
     "end_time": "2021-01-19T05:24:10.891887Z",
     "start_time": "2021-01-19T05:24:10.884974Z"
    }
   },
   "outputs": [
    {
     "data": {
      "text/plain": [
       "Index(['county', 'totalcountconfirmed', 'totalcountdeaths',\n",
       "       'newcountconfirmed', 'newcountdeaths', 'date', 'NEVER', 'RARELY',\n",
       "       'SOMETIMES', 'FREQUENTLY', 'ALWAYS', 'population'],\n",
       "      dtype='object')"
      ]
     },
     "execution_count": 17,
     "metadata": {},
     "output_type": "execute_result"
    }
   ],
   "source": [
    "df.columns"
   ]
  },
  {
   "cell_type": "code",
   "execution_count": 55,
   "metadata": {
    "ExecuteTime": {
     "end_time": "2021-01-19T05:55:29.316737Z",
     "start_time": "2021-01-19T05:55:29.302693Z"
    }
   },
   "outputs": [],
   "source": [
    "df['date'] = pd.to_datetime(df['date'])\n"
   ]
  },
  {
   "cell_type": "code",
   "execution_count": 56,
   "metadata": {
    "ExecuteTime": {
     "end_time": "2021-01-19T05:55:31.713202Z",
     "start_time": "2021-01-19T05:55:31.694252Z"
    }
   },
   "outputs": [
    {
     "name": "stdout",
     "output_type": "stream",
     "text": [
      "<class 'pandas.core.frame.DataFrame'>\n",
      "RangeIndex: 17486 entries, 0 to 17485\n",
      "Data columns (total 12 columns):\n",
      " #   Column               Non-Null Count  Dtype         \n",
      "---  ------               --------------  -----         \n",
      " 0   county               17486 non-null  object        \n",
      " 1   totalcountconfirmed  17486 non-null  float64       \n",
      " 2   totalcountdeaths     17486 non-null  float64       \n",
      " 3   newcountconfirmed    17486 non-null  int64         \n",
      " 4   newcountdeaths       17486 non-null  int64         \n",
      " 5   date                 17486 non-null  datetime64[ns]\n",
      " 6   NEVER                17486 non-null  float64       \n",
      " 7   RARELY               17486 non-null  float64       \n",
      " 8   SOMETIMES            17486 non-null  float64       \n",
      " 9   FREQUENTLY           17486 non-null  float64       \n",
      " 10  ALWAYS               17486 non-null  float64       \n",
      " 11  population           17486 non-null  int64         \n",
      "dtypes: datetime64[ns](1), float64(7), int64(3), object(1)\n",
      "memory usage: 1.6+ MB\n"
     ]
    }
   ],
   "source": [
    "df.info()"
   ]
  },
  {
   "cell_type": "code",
   "execution_count": 29,
   "metadata": {
    "ExecuteTime": {
     "end_time": "2021-01-19T05:36:46.478325Z",
     "start_time": "2021-01-19T05:36:46.447216Z"
    }
   },
   "outputs": [
    {
     "data": {
      "text/plain": [
       "Timestamp('2021-01-13 00:00:00')"
      ]
     },
     "execution_count": 29,
     "metadata": {},
     "output_type": "execute_result"
    }
   ],
   "source": [
    "max(df['date'])"
   ]
  },
  {
   "cell_type": "code",
   "execution_count": 57,
   "metadata": {
    "ExecuteTime": {
     "end_time": "2021-01-19T05:55:59.107206Z",
     "start_time": "2021-01-19T05:55:59.101174Z"
    }
   },
   "outputs": [],
   "source": [
    "df_210113 = df.loc[df['date'] == '2021-01-13 00:00:00']"
   ]
  },
  {
   "cell_type": "code",
   "execution_count": 58,
   "metadata": {
    "ExecuteTime": {
     "end_time": "2021-01-19T05:56:06.420499Z",
     "start_time": "2021-01-19T05:56:06.414628Z"
    }
   },
   "outputs": [
    {
     "data": {
      "text/plain": [
       "(58, 12)"
      ]
     },
     "execution_count": 58,
     "metadata": {},
     "output_type": "execute_result"
    }
   ],
   "source": [
    "df_210113.shape"
   ]
  },
  {
   "cell_type": "code",
   "execution_count": 59,
   "metadata": {
    "ExecuteTime": {
     "end_time": "2021-01-19T05:56:30.802410Z",
     "start_time": "2021-01-19T05:56:30.795486Z"
    }
   },
   "outputs": [
    {
     "name": "stderr",
     "output_type": "stream",
     "text": [
      "/Users/alyssiaoh/opt/anaconda3/lib/python3.8/site-packages/pandas/core/frame.py:4163: SettingWithCopyWarning: \n",
      "A value is trying to be set on a copy of a slice from a DataFrame\n",
      "\n",
      "See the caveats in the documentation: https://pandas.pydata.org/pandas-docs/stable/user_guide/indexing.html#returning-a-view-versus-a-copy\n",
      "  return super().drop(\n"
     ]
    }
   ],
   "source": [
    "df_210113.drop(['newcountconfirmed', 'newcountdeaths'], axis=1, inplace=True)"
   ]
  },
  {
   "cell_type": "code",
   "execution_count": 60,
   "metadata": {
    "ExecuteTime": {
     "end_time": "2021-01-19T05:57:00.797475Z",
     "start_time": "2021-01-19T05:57:00.770252Z"
    }
   },
   "outputs": [
    {
     "name": "stderr",
     "output_type": "stream",
     "text": [
      "<ipython-input-60-fa2f39487ca5>:1: SettingWithCopyWarning: \n",
      "A value is trying to be set on a copy of a slice from a DataFrame.\n",
      "Try using .loc[row_indexer,col_indexer] = value instead\n",
      "\n",
      "See the caveats in the documentation: https://pandas.pydata.org/pandas-docs/stable/user_guide/indexing.html#returning-a-view-versus-a-copy\n",
      "  df_210113['percentconfirmed'] = df_210113['totalcountconfirmed']/df_210113['population']*100\n",
      "<ipython-input-60-fa2f39487ca5>:2: SettingWithCopyWarning: \n",
      "A value is trying to be set on a copy of a slice from a DataFrame.\n",
      "Try using .loc[row_indexer,col_indexer] = value instead\n",
      "\n",
      "See the caveats in the documentation: https://pandas.pydata.org/pandas-docs/stable/user_guide/indexing.html#returning-a-view-versus-a-copy\n",
      "  df_210113['percentdeath'] = df_210113['totalcountdeaths']/df_210113['population']*100\n"
     ]
    },
    {
     "data": {
      "text/html": [
       "<div>\n",
       "<style scoped>\n",
       "    .dataframe tbody tr th:only-of-type {\n",
       "        vertical-align: middle;\n",
       "    }\n",
       "\n",
       "    .dataframe tbody tr th {\n",
       "        vertical-align: top;\n",
       "    }\n",
       "\n",
       "    .dataframe thead th {\n",
       "        text-align: right;\n",
       "    }\n",
       "</style>\n",
       "<table border=\"1\" class=\"dataframe\">\n",
       "  <thead>\n",
       "    <tr style=\"text-align: right;\">\n",
       "      <th></th>\n",
       "      <th>county</th>\n",
       "      <th>totalcountconfirmed</th>\n",
       "      <th>totalcountdeaths</th>\n",
       "      <th>date</th>\n",
       "      <th>NEVER</th>\n",
       "      <th>RARELY</th>\n",
       "      <th>SOMETIMES</th>\n",
       "      <th>FREQUENTLY</th>\n",
       "      <th>ALWAYS</th>\n",
       "      <th>population</th>\n",
       "      <th>percentconfirmed</th>\n",
       "      <th>percentdeath</th>\n",
       "    </tr>\n",
       "  </thead>\n",
       "  <tbody>\n",
       "    <tr>\n",
       "      <th>301</th>\n",
       "      <td>Santa Clara</td>\n",
       "      <td>87187.0</td>\n",
       "      <td>1011.0</td>\n",
       "      <td>2021-01-13</td>\n",
       "      <td>0.015</td>\n",
       "      <td>0.014</td>\n",
       "      <td>0.040</td>\n",
       "      <td>0.168</td>\n",
       "      <td>0.764</td>\n",
       "      <td>1927852</td>\n",
       "      <td>4.522494</td>\n",
       "      <td>0.052442</td>\n",
       "    </tr>\n",
       "    <tr>\n",
       "      <th>603</th>\n",
       "      <td>San Mateo</td>\n",
       "      <td>30195.0</td>\n",
       "      <td>268.0</td>\n",
       "      <td>2021-01-13</td>\n",
       "      <td>0.016</td>\n",
       "      <td>0.013</td>\n",
       "      <td>0.058</td>\n",
       "      <td>0.126</td>\n",
       "      <td>0.786</td>\n",
       "      <td>766573</td>\n",
       "      <td>3.938959</td>\n",
       "      <td>0.034961</td>\n",
       "    </tr>\n",
       "    <tr>\n",
       "      <th>905</th>\n",
       "      <td>Santa Barbara</td>\n",
       "      <td>22714.0</td>\n",
       "      <td>214.0</td>\n",
       "      <td>2021-01-13</td>\n",
       "      <td>0.015</td>\n",
       "      <td>0.020</td>\n",
       "      <td>0.075</td>\n",
       "      <td>0.153</td>\n",
       "      <td>0.737</td>\n",
       "      <td>446499</td>\n",
       "      <td>5.087133</td>\n",
       "      <td>0.047928</td>\n",
       "    </tr>\n",
       "    <tr>\n",
       "      <th>1207</th>\n",
       "      <td>Tuolumne</td>\n",
       "      <td>3196.0</td>\n",
       "      <td>36.0</td>\n",
       "      <td>2021-01-13</td>\n",
       "      <td>0.008</td>\n",
       "      <td>0.043</td>\n",
       "      <td>0.084</td>\n",
       "      <td>0.212</td>\n",
       "      <td>0.653</td>\n",
       "      <td>54478</td>\n",
       "      <td>5.866588</td>\n",
       "      <td>0.066082</td>\n",
       "    </tr>\n",
       "    <tr>\n",
       "      <th>1508</th>\n",
       "      <td>Sierra</td>\n",
       "      <td>33.0</td>\n",
       "      <td>0.0</td>\n",
       "      <td>2021-01-13</td>\n",
       "      <td>0.140</td>\n",
       "      <td>0.053</td>\n",
       "      <td>0.047</td>\n",
       "      <td>0.143</td>\n",
       "      <td>0.617</td>\n",
       "      <td>3005</td>\n",
       "      <td>1.098170</td>\n",
       "      <td>0.000000</td>\n",
       "    </tr>\n",
       "  </tbody>\n",
       "</table>\n",
       "</div>"
      ],
      "text/plain": [
       "             county  totalcountconfirmed  totalcountdeaths       date  NEVER  \\\n",
       "301     Santa Clara              87187.0            1011.0 2021-01-13  0.015   \n",
       "603       San Mateo              30195.0             268.0 2021-01-13  0.016   \n",
       "905   Santa Barbara              22714.0             214.0 2021-01-13  0.015   \n",
       "1207       Tuolumne               3196.0              36.0 2021-01-13  0.008   \n",
       "1508         Sierra                 33.0               0.0 2021-01-13  0.140   \n",
       "\n",
       "      RARELY  SOMETIMES  FREQUENTLY  ALWAYS  population  percentconfirmed  \\\n",
       "301    0.014      0.040       0.168   0.764     1927852          4.522494   \n",
       "603    0.013      0.058       0.126   0.786      766573          3.938959   \n",
       "905    0.020      0.075       0.153   0.737      446499          5.087133   \n",
       "1207   0.043      0.084       0.212   0.653       54478          5.866588   \n",
       "1508   0.053      0.047       0.143   0.617        3005          1.098170   \n",
       "\n",
       "      percentdeath  \n",
       "301       0.052442  \n",
       "603       0.034961  \n",
       "905       0.047928  \n",
       "1207      0.066082  \n",
       "1508      0.000000  "
      ]
     },
     "execution_count": 60,
     "metadata": {},
     "output_type": "execute_result"
    }
   ],
   "source": [
    "df_210113['percentconfirmed'] = df_210113['totalcountconfirmed']/df_210113['population']*100\n",
    "df_210113['percentdeath'] = df_210113['totalcountdeaths']/df_210113['population']*100\n",
    "df_210113.head()"
   ]
  },
  {
   "cell_type": "code",
   "execution_count": 61,
   "metadata": {
    "ExecuteTime": {
     "end_time": "2021-01-19T05:57:42.915420Z",
     "start_time": "2021-01-19T05:57:42.887915Z"
    }
   },
   "outputs": [
    {
     "data": {
      "text/html": [
       "<div>\n",
       "<style scoped>\n",
       "    .dataframe tbody tr th:only-of-type {\n",
       "        vertical-align: middle;\n",
       "    }\n",
       "\n",
       "    .dataframe tbody tr th {\n",
       "        vertical-align: top;\n",
       "    }\n",
       "\n",
       "    .dataframe thead th {\n",
       "        text-align: right;\n",
       "    }\n",
       "</style>\n",
       "<table border=\"1\" class=\"dataframe\">\n",
       "  <thead>\n",
       "    <tr style=\"text-align: right;\">\n",
       "      <th></th>\n",
       "      <th>county</th>\n",
       "      <th>totalcountconfirmed</th>\n",
       "      <th>totalcountdeaths</th>\n",
       "      <th>date</th>\n",
       "      <th>NEVER</th>\n",
       "      <th>RARELY</th>\n",
       "      <th>SOMETIMES</th>\n",
       "      <th>FREQUENTLY</th>\n",
       "      <th>ALWAYS</th>\n",
       "      <th>population</th>\n",
       "      <th>percentconfirmed</th>\n",
       "      <th>percentdeath</th>\n",
       "    </tr>\n",
       "  </thead>\n",
       "  <tbody>\n",
       "    <tr>\n",
       "      <th>8744</th>\n",
       "      <td>Lassen</td>\n",
       "      <td>4663.0</td>\n",
       "      <td>13.0</td>\n",
       "      <td>2021-01-13</td>\n",
       "      <td>0.064</td>\n",
       "      <td>0.068</td>\n",
       "      <td>0.162</td>\n",
       "      <td>0.225</td>\n",
       "      <td>0.482</td>\n",
       "      <td>30573</td>\n",
       "      <td>15.252020</td>\n",
       "      <td>0.042521</td>\n",
       "    </tr>\n",
       "    <tr>\n",
       "      <th>17183</th>\n",
       "      <td>Imperial</td>\n",
       "      <td>24717.0</td>\n",
       "      <td>454.0</td>\n",
       "      <td>2021-01-13</td>\n",
       "      <td>0.001</td>\n",
       "      <td>0.005</td>\n",
       "      <td>0.030</td>\n",
       "      <td>0.128</td>\n",
       "      <td>0.836</td>\n",
       "      <td>181215</td>\n",
       "      <td>13.639599</td>\n",
       "      <td>0.250531</td>\n",
       "    </tr>\n",
       "    <tr>\n",
       "      <th>14163</th>\n",
       "      <td>Kings</td>\n",
       "      <td>18121.0</td>\n",
       "      <td>110.0</td>\n",
       "      <td>2021-01-13</td>\n",
       "      <td>0.075</td>\n",
       "      <td>0.016</td>\n",
       "      <td>0.049</td>\n",
       "      <td>0.094</td>\n",
       "      <td>0.766</td>\n",
       "      <td>152940</td>\n",
       "      <td>11.848437</td>\n",
       "      <td>0.071924</td>\n",
       "    </tr>\n",
       "    <tr>\n",
       "      <th>15673</th>\n",
       "      <td>San Bernardino</td>\n",
       "      <td>240191.0</td>\n",
       "      <td>1551.0</td>\n",
       "      <td>2021-01-13</td>\n",
       "      <td>0.027</td>\n",
       "      <td>0.022</td>\n",
       "      <td>0.048</td>\n",
       "      <td>0.134</td>\n",
       "      <td>0.768</td>\n",
       "      <td>2180085</td>\n",
       "      <td>11.017506</td>\n",
       "      <td>0.071144</td>\n",
       "    </tr>\n",
       "    <tr>\n",
       "      <th>13257</th>\n",
       "      <td>Los Angeles</td>\n",
       "      <td>937985.0</td>\n",
       "      <td>12955.0</td>\n",
       "      <td>2021-01-13</td>\n",
       "      <td>0.021</td>\n",
       "      <td>0.013</td>\n",
       "      <td>0.049</td>\n",
       "      <td>0.131</td>\n",
       "      <td>0.786</td>\n",
       "      <td>10039107</td>\n",
       "      <td>9.343311</td>\n",
       "      <td>0.129045</td>\n",
       "    </tr>\n",
       "    <tr>\n",
       "      <th>14767</th>\n",
       "      <td>Riverside</td>\n",
       "      <td>228192.0</td>\n",
       "      <td>2307.0</td>\n",
       "      <td>2021-01-13</td>\n",
       "      <td>0.026</td>\n",
       "      <td>0.014</td>\n",
       "      <td>0.041</td>\n",
       "      <td>0.116</td>\n",
       "      <td>0.803</td>\n",
       "      <td>2470546</td>\n",
       "      <td>9.236501</td>\n",
       "      <td>0.093380</td>\n",
       "    </tr>\n",
       "    <tr>\n",
       "      <th>14465</th>\n",
       "      <td>Kern</td>\n",
       "      <td>76049.0</td>\n",
       "      <td>550.0</td>\n",
       "      <td>2021-01-13</td>\n",
       "      <td>0.022</td>\n",
       "      <td>0.028</td>\n",
       "      <td>0.105</td>\n",
       "      <td>0.177</td>\n",
       "      <td>0.668</td>\n",
       "      <td>900202</td>\n",
       "      <td>8.447993</td>\n",
       "      <td>0.061097</td>\n",
       "    </tr>\n",
       "    <tr>\n",
       "      <th>9935</th>\n",
       "      <td>Tulare</td>\n",
       "      <td>39129.0</td>\n",
       "      <td>482.0</td>\n",
       "      <td>2021-01-13</td>\n",
       "      <td>0.025</td>\n",
       "      <td>0.039</td>\n",
       "      <td>0.115</td>\n",
       "      <td>0.136</td>\n",
       "      <td>0.685</td>\n",
       "      <td>466195</td>\n",
       "      <td>8.393269</td>\n",
       "      <td>0.103390</td>\n",
       "    </tr>\n",
       "    <tr>\n",
       "      <th>13861</th>\n",
       "      <td>Merced</td>\n",
       "      <td>22497.0</td>\n",
       "      <td>287.0</td>\n",
       "      <td>2021-01-13</td>\n",
       "      <td>0.026</td>\n",
       "      <td>0.036</td>\n",
       "      <td>0.089</td>\n",
       "      <td>0.146</td>\n",
       "      <td>0.703</td>\n",
       "      <td>277680</td>\n",
       "      <td>8.101772</td>\n",
       "      <td>0.103356</td>\n",
       "    </tr>\n",
       "    <tr>\n",
       "      <th>12049</th>\n",
       "      <td>Madera</td>\n",
       "      <td>12570.0</td>\n",
       "      <td>130.0</td>\n",
       "      <td>2021-01-13</td>\n",
       "      <td>0.019</td>\n",
       "      <td>0.059</td>\n",
       "      <td>0.048</td>\n",
       "      <td>0.124</td>\n",
       "      <td>0.751</td>\n",
       "      <td>157327</td>\n",
       "      <td>7.989728</td>\n",
       "      <td>0.082630</td>\n",
       "    </tr>\n",
       "  </tbody>\n",
       "</table>\n",
       "</div>"
      ],
      "text/plain": [
       "               county  totalcountconfirmed  totalcountdeaths       date  \\\n",
       "8744           Lassen               4663.0              13.0 2021-01-13   \n",
       "17183        Imperial              24717.0             454.0 2021-01-13   \n",
       "14163           Kings              18121.0             110.0 2021-01-13   \n",
       "15673  San Bernardino             240191.0            1551.0 2021-01-13   \n",
       "13257     Los Angeles             937985.0           12955.0 2021-01-13   \n",
       "14767       Riverside             228192.0            2307.0 2021-01-13   \n",
       "14465            Kern              76049.0             550.0 2021-01-13   \n",
       "9935           Tulare              39129.0             482.0 2021-01-13   \n",
       "13861          Merced              22497.0             287.0 2021-01-13   \n",
       "12049          Madera              12570.0             130.0 2021-01-13   \n",
       "\n",
       "       NEVER  RARELY  SOMETIMES  FREQUENTLY  ALWAYS  population  \\\n",
       "8744   0.064   0.068      0.162       0.225   0.482       30573   \n",
       "17183  0.001   0.005      0.030       0.128   0.836      181215   \n",
       "14163  0.075   0.016      0.049       0.094   0.766      152940   \n",
       "15673  0.027   0.022      0.048       0.134   0.768     2180085   \n",
       "13257  0.021   0.013      0.049       0.131   0.786    10039107   \n",
       "14767  0.026   0.014      0.041       0.116   0.803     2470546   \n",
       "14465  0.022   0.028      0.105       0.177   0.668      900202   \n",
       "9935   0.025   0.039      0.115       0.136   0.685      466195   \n",
       "13861  0.026   0.036      0.089       0.146   0.703      277680   \n",
       "12049  0.019   0.059      0.048       0.124   0.751      157327   \n",
       "\n",
       "       percentconfirmed  percentdeath  \n",
       "8744          15.252020      0.042521  \n",
       "17183         13.639599      0.250531  \n",
       "14163         11.848437      0.071924  \n",
       "15673         11.017506      0.071144  \n",
       "13257          9.343311      0.129045  \n",
       "14767          9.236501      0.093380  \n",
       "14465          8.447993      0.061097  \n",
       "9935           8.393269      0.103390  \n",
       "13861          8.101772      0.103356  \n",
       "12049          7.989728      0.082630  "
      ]
     },
     "execution_count": 61,
     "metadata": {},
     "output_type": "execute_result"
    }
   ],
   "source": [
    "df_topconfirmed = df_210113.sort_values(by=['percentconfirmed'], ascending=False).head(10)\n",
    "df_topconfirmed"
   ]
  },
  {
   "cell_type": "code",
   "execution_count": 62,
   "metadata": {
    "ExecuteTime": {
     "end_time": "2021-01-19T05:57:54.718829Z",
     "start_time": "2021-01-19T05:57:54.690610Z"
    }
   },
   "outputs": [
    {
     "data": {
      "text/html": [
       "<div>\n",
       "<style scoped>\n",
       "    .dataframe tbody tr th:only-of-type {\n",
       "        vertical-align: middle;\n",
       "    }\n",
       "\n",
       "    .dataframe tbody tr th {\n",
       "        vertical-align: top;\n",
       "    }\n",
       "\n",
       "    .dataframe thead th {\n",
       "        text-align: right;\n",
       "    }\n",
       "</style>\n",
       "<table border=\"1\" class=\"dataframe\">\n",
       "  <thead>\n",
       "    <tr style=\"text-align: right;\">\n",
       "      <th></th>\n",
       "      <th>county</th>\n",
       "      <th>totalcountconfirmed</th>\n",
       "      <th>totalcountdeaths</th>\n",
       "      <th>date</th>\n",
       "      <th>NEVER</th>\n",
       "      <th>RARELY</th>\n",
       "      <th>SOMETIMES</th>\n",
       "      <th>FREQUENTLY</th>\n",
       "      <th>ALWAYS</th>\n",
       "      <th>population</th>\n",
       "      <th>percentconfirmed</th>\n",
       "      <th>percentdeath</th>\n",
       "    </tr>\n",
       "  </thead>\n",
       "  <tbody>\n",
       "    <tr>\n",
       "      <th>17183</th>\n",
       "      <td>Imperial</td>\n",
       "      <td>24717.0</td>\n",
       "      <td>454.0</td>\n",
       "      <td>2021-01-13</td>\n",
       "      <td>0.001</td>\n",
       "      <td>0.005</td>\n",
       "      <td>0.030</td>\n",
       "      <td>0.128</td>\n",
       "      <td>0.836</td>\n",
       "      <td>181215</td>\n",
       "      <td>13.639599</td>\n",
       "      <td>0.250531</td>\n",
       "    </tr>\n",
       "    <tr>\n",
       "      <th>6328</th>\n",
       "      <td>Inyo</td>\n",
       "      <td>785.0</td>\n",
       "      <td>27.0</td>\n",
       "      <td>2021-01-13</td>\n",
       "      <td>0.033</td>\n",
       "      <td>0.011</td>\n",
       "      <td>0.008</td>\n",
       "      <td>0.058</td>\n",
       "      <td>0.889</td>\n",
       "      <td>18039</td>\n",
       "      <td>4.351682</td>\n",
       "      <td>0.149676</td>\n",
       "    </tr>\n",
       "    <tr>\n",
       "      <th>13257</th>\n",
       "      <td>Los Angeles</td>\n",
       "      <td>937985.0</td>\n",
       "      <td>12955.0</td>\n",
       "      <td>2021-01-13</td>\n",
       "      <td>0.021</td>\n",
       "      <td>0.013</td>\n",
       "      <td>0.049</td>\n",
       "      <td>0.131</td>\n",
       "      <td>0.786</td>\n",
       "      <td>10039107</td>\n",
       "      <td>9.343311</td>\n",
       "      <td>0.129045</td>\n",
       "    </tr>\n",
       "    <tr>\n",
       "      <th>15975</th>\n",
       "      <td>Stanislaus</td>\n",
       "      <td>40167.0</td>\n",
       "      <td>709.0</td>\n",
       "      <td>2021-01-13</td>\n",
       "      <td>0.032</td>\n",
       "      <td>0.028</td>\n",
       "      <td>0.062</td>\n",
       "      <td>0.173</td>\n",
       "      <td>0.705</td>\n",
       "      <td>550660</td>\n",
       "      <td>7.294338</td>\n",
       "      <td>0.128755</td>\n",
       "    </tr>\n",
       "    <tr>\n",
       "      <th>9935</th>\n",
       "      <td>Tulare</td>\n",
       "      <td>39129.0</td>\n",
       "      <td>482.0</td>\n",
       "      <td>2021-01-13</td>\n",
       "      <td>0.025</td>\n",
       "      <td>0.039</td>\n",
       "      <td>0.115</td>\n",
       "      <td>0.136</td>\n",
       "      <td>0.685</td>\n",
       "      <td>466195</td>\n",
       "      <td>8.393269</td>\n",
       "      <td>0.103390</td>\n",
       "    </tr>\n",
       "    <tr>\n",
       "      <th>13861</th>\n",
       "      <td>Merced</td>\n",
       "      <td>22497.0</td>\n",
       "      <td>287.0</td>\n",
       "      <td>2021-01-13</td>\n",
       "      <td>0.026</td>\n",
       "      <td>0.036</td>\n",
       "      <td>0.089</td>\n",
       "      <td>0.146</td>\n",
       "      <td>0.703</td>\n",
       "      <td>277680</td>\n",
       "      <td>8.101772</td>\n",
       "      <td>0.103356</td>\n",
       "    </tr>\n",
       "    <tr>\n",
       "      <th>6630</th>\n",
       "      <td>San Joaquin</td>\n",
       "      <td>54373.0</td>\n",
       "      <td>736.0</td>\n",
       "      <td>2021-01-13</td>\n",
       "      <td>0.054</td>\n",
       "      <td>0.019</td>\n",
       "      <td>0.081</td>\n",
       "      <td>0.165</td>\n",
       "      <td>0.680</td>\n",
       "      <td>762148</td>\n",
       "      <td>7.134179</td>\n",
       "      <td>0.096569</td>\n",
       "    </tr>\n",
       "    <tr>\n",
       "      <th>14767</th>\n",
       "      <td>Riverside</td>\n",
       "      <td>228192.0</td>\n",
       "      <td>2307.0</td>\n",
       "      <td>2021-01-13</td>\n",
       "      <td>0.026</td>\n",
       "      <td>0.014</td>\n",
       "      <td>0.041</td>\n",
       "      <td>0.116</td>\n",
       "      <td>0.803</td>\n",
       "      <td>2470546</td>\n",
       "      <td>9.236501</td>\n",
       "      <td>0.093380</td>\n",
       "    </tr>\n",
       "    <tr>\n",
       "      <th>6026</th>\n",
       "      <td>Fresno</td>\n",
       "      <td>78278.0</td>\n",
       "      <td>846.0</td>\n",
       "      <td>2021-01-13</td>\n",
       "      <td>0.021</td>\n",
       "      <td>0.022</td>\n",
       "      <td>0.059</td>\n",
       "      <td>0.156</td>\n",
       "      <td>0.741</td>\n",
       "      <td>999101</td>\n",
       "      <td>7.834844</td>\n",
       "      <td>0.084676</td>\n",
       "    </tr>\n",
       "    <tr>\n",
       "      <th>12049</th>\n",
       "      <td>Madera</td>\n",
       "      <td>12570.0</td>\n",
       "      <td>130.0</td>\n",
       "      <td>2021-01-13</td>\n",
       "      <td>0.019</td>\n",
       "      <td>0.059</td>\n",
       "      <td>0.048</td>\n",
       "      <td>0.124</td>\n",
       "      <td>0.751</td>\n",
       "      <td>157327</td>\n",
       "      <td>7.989728</td>\n",
       "      <td>0.082630</td>\n",
       "    </tr>\n",
       "  </tbody>\n",
       "</table>\n",
       "</div>"
      ],
      "text/plain": [
       "            county  totalcountconfirmed  totalcountdeaths       date  NEVER  \\\n",
       "17183     Imperial              24717.0             454.0 2021-01-13  0.001   \n",
       "6328          Inyo                785.0              27.0 2021-01-13  0.033   \n",
       "13257  Los Angeles             937985.0           12955.0 2021-01-13  0.021   \n",
       "15975   Stanislaus              40167.0             709.0 2021-01-13  0.032   \n",
       "9935        Tulare              39129.0             482.0 2021-01-13  0.025   \n",
       "13861       Merced              22497.0             287.0 2021-01-13  0.026   \n",
       "6630   San Joaquin              54373.0             736.0 2021-01-13  0.054   \n",
       "14767    Riverside             228192.0            2307.0 2021-01-13  0.026   \n",
       "6026        Fresno              78278.0             846.0 2021-01-13  0.021   \n",
       "12049       Madera              12570.0             130.0 2021-01-13  0.019   \n",
       "\n",
       "       RARELY  SOMETIMES  FREQUENTLY  ALWAYS  population  percentconfirmed  \\\n",
       "17183   0.005      0.030       0.128   0.836      181215         13.639599   \n",
       "6328    0.011      0.008       0.058   0.889       18039          4.351682   \n",
       "13257   0.013      0.049       0.131   0.786    10039107          9.343311   \n",
       "15975   0.028      0.062       0.173   0.705      550660          7.294338   \n",
       "9935    0.039      0.115       0.136   0.685      466195          8.393269   \n",
       "13861   0.036      0.089       0.146   0.703      277680          8.101772   \n",
       "6630    0.019      0.081       0.165   0.680      762148          7.134179   \n",
       "14767   0.014      0.041       0.116   0.803     2470546          9.236501   \n",
       "6026    0.022      0.059       0.156   0.741      999101          7.834844   \n",
       "12049   0.059      0.048       0.124   0.751      157327          7.989728   \n",
       "\n",
       "       percentdeath  \n",
       "17183      0.250531  \n",
       "6328       0.149676  \n",
       "13257      0.129045  \n",
       "15975      0.128755  \n",
       "9935       0.103390  \n",
       "13861      0.103356  \n",
       "6630       0.096569  \n",
       "14767      0.093380  \n",
       "6026       0.084676  \n",
       "12049      0.082630  "
      ]
     },
     "execution_count": 62,
     "metadata": {},
     "output_type": "execute_result"
    }
   ],
   "source": [
    "df_topdeath = df_210113.sort_values(by=['percentdeath'], ascending=False).head(10)\n",
    "df_topdeath"
   ]
  },
  {
   "cell_type": "code",
   "execution_count": 63,
   "metadata": {
    "ExecuteTime": {
     "end_time": "2021-01-19T05:58:11.615493Z",
     "start_time": "2021-01-19T05:58:11.591957Z"
    }
   },
   "outputs": [
    {
     "data": {
      "text/html": [
       "<div>\n",
       "<style scoped>\n",
       "    .dataframe tbody tr th:only-of-type {\n",
       "        vertical-align: middle;\n",
       "    }\n",
       "\n",
       "    .dataframe tbody tr th {\n",
       "        vertical-align: top;\n",
       "    }\n",
       "\n",
       "    .dataframe thead th {\n",
       "        text-align: right;\n",
       "    }\n",
       "</style>\n",
       "<table border=\"1\" class=\"dataframe\">\n",
       "  <thead>\n",
       "    <tr style=\"text-align: right;\">\n",
       "      <th></th>\n",
       "      <th>totalcountconfirmed</th>\n",
       "      <th>totalcountdeaths</th>\n",
       "      <th>NEVER</th>\n",
       "      <th>RARELY</th>\n",
       "      <th>SOMETIMES</th>\n",
       "      <th>FREQUENTLY</th>\n",
       "      <th>ALWAYS</th>\n",
       "      <th>population</th>\n",
       "      <th>percentconfirmed</th>\n",
       "      <th>percentdeath</th>\n",
       "    </tr>\n",
       "  </thead>\n",
       "  <tbody>\n",
       "    <tr>\n",
       "      <th>totalcountconfirmed</th>\n",
       "      <td>1.000000</td>\n",
       "      <td>0.987438</td>\n",
       "      <td>-0.119247</td>\n",
       "      <td>-0.179807</td>\n",
       "      <td>-0.134655</td>\n",
       "      <td>-0.177120</td>\n",
       "      <td>0.213671</td>\n",
       "      <td>0.979746</td>\n",
       "      <td>0.286501</td>\n",
       "      <td>0.299017</td>\n",
       "    </tr>\n",
       "    <tr>\n",
       "      <th>totalcountdeaths</th>\n",
       "      <td>0.987438</td>\n",
       "      <td>1.000000</td>\n",
       "      <td>-0.106314</td>\n",
       "      <td>-0.160560</td>\n",
       "      <td>-0.113540</td>\n",
       "      <td>-0.151684</td>\n",
       "      <td>0.185603</td>\n",
       "      <td>0.963669</td>\n",
       "      <td>0.248880</td>\n",
       "      <td>0.311265</td>\n",
       "    </tr>\n",
       "    <tr>\n",
       "      <th>NEVER</th>\n",
       "      <td>-0.119247</td>\n",
       "      <td>-0.106314</td>\n",
       "      <td>1.000000</td>\n",
       "      <td>0.320882</td>\n",
       "      <td>0.208829</td>\n",
       "      <td>0.153812</td>\n",
       "      <td>-0.540059</td>\n",
       "      <td>-0.157575</td>\n",
       "      <td>-0.105173</td>\n",
       "      <td>-0.210515</td>\n",
       "    </tr>\n",
       "    <tr>\n",
       "      <th>RARELY</th>\n",
       "      <td>-0.179807</td>\n",
       "      <td>-0.160560</td>\n",
       "      <td>0.320882</td>\n",
       "      <td>1.000000</td>\n",
       "      <td>0.425952</td>\n",
       "      <td>0.378968</td>\n",
       "      <td>-0.700612</td>\n",
       "      <td>-0.219942</td>\n",
       "      <td>-0.161628</td>\n",
       "      <td>-0.329843</td>\n",
       "    </tr>\n",
       "    <tr>\n",
       "      <th>SOMETIMES</th>\n",
       "      <td>-0.134655</td>\n",
       "      <td>-0.113540</td>\n",
       "      <td>0.208829</td>\n",
       "      <td>0.425952</td>\n",
       "      <td>1.000000</td>\n",
       "      <td>0.571153</td>\n",
       "      <td>-0.797152</td>\n",
       "      <td>-0.173768</td>\n",
       "      <td>0.216311</td>\n",
       "      <td>-0.052418</td>\n",
       "    </tr>\n",
       "    <tr>\n",
       "      <th>FREQUENTLY</th>\n",
       "      <td>-0.177120</td>\n",
       "      <td>-0.151684</td>\n",
       "      <td>0.153812</td>\n",
       "      <td>0.378968</td>\n",
       "      <td>0.571153</td>\n",
       "      <td>1.000000</td>\n",
       "      <td>-0.796528</td>\n",
       "      <td>-0.199263</td>\n",
       "      <td>-0.108190</td>\n",
       "      <td>-0.204273</td>\n",
       "    </tr>\n",
       "    <tr>\n",
       "      <th>ALWAYS</th>\n",
       "      <td>0.213671</td>\n",
       "      <td>0.185603</td>\n",
       "      <td>-0.540059</td>\n",
       "      <td>-0.700612</td>\n",
       "      <td>-0.797152</td>\n",
       "      <td>-0.796528</td>\n",
       "      <td>1.000000</td>\n",
       "      <td>0.261031</td>\n",
       "      <td>0.046112</td>\n",
       "      <td>0.265470</td>\n",
       "    </tr>\n",
       "    <tr>\n",
       "      <th>population</th>\n",
       "      <td>0.979746</td>\n",
       "      <td>0.963669</td>\n",
       "      <td>-0.157575</td>\n",
       "      <td>-0.219942</td>\n",
       "      <td>-0.173768</td>\n",
       "      <td>-0.199263</td>\n",
       "      <td>0.261031</td>\n",
       "      <td>1.000000</td>\n",
       "      <td>0.229378</td>\n",
       "      <td>0.263463</td>\n",
       "    </tr>\n",
       "    <tr>\n",
       "      <th>percentconfirmed</th>\n",
       "      <td>0.286501</td>\n",
       "      <td>0.248880</td>\n",
       "      <td>-0.105173</td>\n",
       "      <td>-0.161628</td>\n",
       "      <td>0.216311</td>\n",
       "      <td>-0.108190</td>\n",
       "      <td>0.046112</td>\n",
       "      <td>0.229378</td>\n",
       "      <td>1.000000</td>\n",
       "      <td>0.588156</td>\n",
       "    </tr>\n",
       "    <tr>\n",
       "      <th>percentdeath</th>\n",
       "      <td>0.299017</td>\n",
       "      <td>0.311265</td>\n",
       "      <td>-0.210515</td>\n",
       "      <td>-0.329843</td>\n",
       "      <td>-0.052418</td>\n",
       "      <td>-0.204273</td>\n",
       "      <td>0.265470</td>\n",
       "      <td>0.263463</td>\n",
       "      <td>0.588156</td>\n",
       "      <td>1.000000</td>\n",
       "    </tr>\n",
       "  </tbody>\n",
       "</table>\n",
       "</div>"
      ],
      "text/plain": [
       "                     totalcountconfirmed  totalcountdeaths     NEVER  \\\n",
       "totalcountconfirmed             1.000000          0.987438 -0.119247   \n",
       "totalcountdeaths                0.987438          1.000000 -0.106314   \n",
       "NEVER                          -0.119247         -0.106314  1.000000   \n",
       "RARELY                         -0.179807         -0.160560  0.320882   \n",
       "SOMETIMES                      -0.134655         -0.113540  0.208829   \n",
       "FREQUENTLY                     -0.177120         -0.151684  0.153812   \n",
       "ALWAYS                          0.213671          0.185603 -0.540059   \n",
       "population                      0.979746          0.963669 -0.157575   \n",
       "percentconfirmed                0.286501          0.248880 -0.105173   \n",
       "percentdeath                    0.299017          0.311265 -0.210515   \n",
       "\n",
       "                       RARELY  SOMETIMES  FREQUENTLY    ALWAYS  population  \\\n",
       "totalcountconfirmed -0.179807  -0.134655   -0.177120  0.213671    0.979746   \n",
       "totalcountdeaths    -0.160560  -0.113540   -0.151684  0.185603    0.963669   \n",
       "NEVER                0.320882   0.208829    0.153812 -0.540059   -0.157575   \n",
       "RARELY               1.000000   0.425952    0.378968 -0.700612   -0.219942   \n",
       "SOMETIMES            0.425952   1.000000    0.571153 -0.797152   -0.173768   \n",
       "FREQUENTLY           0.378968   0.571153    1.000000 -0.796528   -0.199263   \n",
       "ALWAYS              -0.700612  -0.797152   -0.796528  1.000000    0.261031   \n",
       "population          -0.219942  -0.173768   -0.199263  0.261031    1.000000   \n",
       "percentconfirmed    -0.161628   0.216311   -0.108190  0.046112    0.229378   \n",
       "percentdeath        -0.329843  -0.052418   -0.204273  0.265470    0.263463   \n",
       "\n",
       "                     percentconfirmed  percentdeath  \n",
       "totalcountconfirmed          0.286501      0.299017  \n",
       "totalcountdeaths             0.248880      0.311265  \n",
       "NEVER                       -0.105173     -0.210515  \n",
       "RARELY                      -0.161628     -0.329843  \n",
       "SOMETIMES                    0.216311     -0.052418  \n",
       "FREQUENTLY                  -0.108190     -0.204273  \n",
       "ALWAYS                       0.046112      0.265470  \n",
       "population                   0.229378      0.263463  \n",
       "percentconfirmed             1.000000      0.588156  \n",
       "percentdeath                 0.588156      1.000000  "
      ]
     },
     "execution_count": 63,
     "metadata": {},
     "output_type": "execute_result"
    }
   ],
   "source": [
    "df_210113.corr()"
   ]
  },
  {
   "cell_type": "code",
   "execution_count": null,
   "metadata": {},
   "outputs": [],
   "source": []
  },
  {
   "cell_type": "code",
   "execution_count": null,
   "metadata": {},
   "outputs": [],
   "source": []
  },
  {
   "cell_type": "code",
   "execution_count": null,
   "metadata": {},
   "outputs": [],
   "source": []
  },
  {
   "cell_type": "code",
   "execution_count": null,
   "metadata": {},
   "outputs": [],
   "source": []
  },
  {
   "cell_type": "code",
   "execution_count": null,
   "metadata": {},
   "outputs": [],
   "source": []
  },
  {
   "cell_type": "code",
   "execution_count": 24,
   "metadata": {
    "ExecuteTime": {
     "end_time": "2021-01-19T05:27:04.502287Z",
     "start_time": "2021-01-19T05:27:03.560037Z"
    }
   },
   "outputs": [
    {
     "data": {
      "text/plain": [
       "[Text(0.5, 1.0, 'County Histogram')]"
      ]
     },
     "execution_count": 24,
     "metadata": {},
     "output_type": "execute_result"
    },
    {
     "data": {
      "image/png": "[encoded data removed]",
      "text/plain": [
       "<Figure size 1440x720 with 1 Axes>"
      ]
     },
     "metadata": {},
     "output_type": "display_data"
    }
   ],
   "source": [
    "sns.set_theme(style=\"darkgrid\")\n",
    "fig, ax = plt.subplots(figsize=(20, 10))\n",
    "sns.histplot(df['county']);\n",
    "ax.set(title=\"County Histogram\")"
   ]
  },
  {
   "cell_type": "code",
   "execution_count": 72,
   "metadata": {
    "ExecuteTime": {
     "end_time": "2021-01-11T22:09:43.413848Z",
     "start_time": "2021-01-11T22:09:41.718003Z"
    }
   },
   "outputs": [
    {
     "data": {
      "text/plain": [
       "(0.0, 100.0)"
      ]
     },
     "execution_count": 72,
     "metadata": {},
     "output_type": "execute_result"
    },
    {
     "data": {
      "image/png": "[encoded data removed]",
      "text/plain": [
       "<Figure size 1080x360 with 1 Axes>"
      ]
     },
     "metadata": {},
     "output_type": "display_data"
    }
   ],
   "source": [
    "\n",
    "fig, ax = plt.subplots(figsize=(15, 5))\n",
    "sns.histplot(df['age'], bins=2000, color='lightseagreen');\n",
    "ax.set(title=\"Age Histogram\")\n",
    "ax.set_xlim(0,100)\n"
   ]
  },
  {
   "cell_type": "code",
   "execution_count": 108,
   "metadata": {
    "ExecuteTime": {
     "end_time": "2021-01-11T22:26:28.823832Z",
     "start_time": "2021-01-11T22:26:28.775303Z"
    }
   },
   "outputs": [],
   "source": [
    "df_country = pd.DataFrame(df['country_destination'].value_counts())\n",
    "df_country['country'] = df_country.index\n",
    "df_country.rename(columns={'country_destination':'count'}, inplace=True)"
   ]
  },
  {
   "cell_type": "code",
   "execution_count": 121,
   "metadata": {
    "ExecuteTime": {
     "end_time": "2021-01-11T22:41:23.311380Z",
     "start_time": "2021-01-11T22:41:23.145100Z"
    },
    "scrolled": true
   },
   "outputs": [
    {
     "data": {
      "text/plain": [
       "[Text(0.5, 1.0, 'Destination Country Histogram')]"
      ]
     },
     "execution_count": 121,
     "metadata": {},
     "output_type": "execute_result"
    },
    {
     "data": {
      "image/png": "[encoded data removed]",
      "text/plain": [
       "<Figure size 720x360 with 1 Axes>"
      ]
     },
     "metadata": {},
     "output_type": "display_data"
    }
   ],
   "source": [
    "\n",
    "fig, ax = plt.subplots(figsize=(10, 5))\n",
    "sns.barplot(x=df_country['country'], y=df_country['count'], color='lightcoral');\n",
    "ax.set(title=\"Destination Country Histogram\")\n"
   ]
  },
  {
   "cell_type": "code",
   "execution_count": 120,
   "metadata": {
    "ExecuteTime": {
     "end_time": "2021-01-11T22:41:16.576283Z",
     "start_time": "2021-01-11T22:41:16.262932Z"
    }
   },
   "outputs": [
    {
     "data": {
      "text/plain": [
       "[Text(0.5, 1.0, 'Signup Method Histogram')]"
      ]
     },
     "execution_count": 120,
     "metadata": {},
     "output_type": "execute_result"
    },
    {
     "data": {
      "image/png": "[encoded data removed]",
      "text/plain": [
       "<Figure size 360x360 with 1 Axes>"
      ]
     },
     "metadata": {},
     "output_type": "display_data"
    }
   ],
   "source": [
    "fig, ax = plt.subplots(figsize=(5, 5))\n",
    "sns.histplot(df['signup_method'],color='sandybrown');\n",
    "ax.set(title=\"Signup Method Histogram\")"
   ]
  },
  {
   "cell_type": "code",
   "execution_count": 119,
   "metadata": {
    "ExecuteTime": {
     "end_time": "2021-01-11T22:41:06.490659Z",
     "start_time": "2021-01-11T22:41:06.143559Z"
    }
   },
   "outputs": [
    {
     "data": {
      "text/plain": [
       "[Text(0.5, 1.0, 'Affiliate Channel Histogram')]"
      ]
     },
     "execution_count": 119,
     "metadata": {},
     "output_type": "execute_result"
    },
    {
     "data": {
      "image/png": "[encoded data removed]",
      "text/plain": [
       "<Figure size 720x360 with 1 Axes>"
      ]
     },
     "metadata": {},
     "output_type": "display_data"
    }
   ],
   "source": [
    "fig, ax = plt.subplots(figsize=(10, 5))\n",
    "sns.histplot(df['affiliate_channel'], color='skyblue');\n",
    "ax.set(title=\"Affiliate Channel Histogram\")"
   ]
  },
  {
   "cell_type": "code",
   "execution_count": 124,
   "metadata": {
    "ExecuteTime": {
     "end_time": "2021-01-11T22:43:19.808803Z",
     "start_time": "2021-01-11T22:43:19.461996Z"
    }
   },
   "outputs": [
    {
     "data": {
      "text/plain": [
       "[Text(0.5, 1.0, 'First Device Type Histogram')]"
      ]
     },
     "execution_count": 124,
     "metadata": {},
     "output_type": "execute_result"
    },
    {
     "data": {
      "image/png": "[encoded data removed]",
      "text/plain": [
       "<Figure size 1080x360 with 1 Axes>"
      ]
     },
     "metadata": {},
     "output_type": "display_data"
    }
   ],
   "source": [
    "fig, ax = plt.subplots(figsize=(15, 5))\n",
    "sns.histplot(df['first_device_type'], color='mediumorchid');\n",
    "ax.set(title=\"First Device Type Histogram\")"
   ]
  },
  {
   "cell_type": "code",
   "execution_count": 133,
   "metadata": {
    "ExecuteTime": {
     "end_time": "2021-01-11T22:54:32.745009Z",
     "start_time": "2021-01-11T22:54:32.555276Z"
    }
   },
   "outputs": [],
   "source": [
    "df['account_create_year'] = df['date_account_created'].dt.year\n",
    "\n",
    "\n",
    "df_year = df.groupby('account_create_year').count()\n",
    "df_year['year'] = df_year.index"
   ]
  },
  {
   "cell_type": "code",
   "execution_count": 136,
   "metadata": {
    "ExecuteTime": {
     "end_time": "2021-01-11T22:56:11.488414Z",
     "start_time": "2021-01-11T22:56:11.363811Z"
    }
   },
   "outputs": [
    {
     "data": {
      "text/plain": [
       "[Text(0.5, 1.0, 'Year Account Created Histogram')]"
      ]
     },
     "execution_count": 136,
     "metadata": {},
     "output_type": "execute_result"
    },
    {
     "data": {
      "image/png": "[encoded data removed]",
      "text/plain": [
       "<Figure size 576x360 with 1 Axes>"
      ]
     },
     "metadata": {},
     "output_type": "display_data"
    }
   ],
   "source": [
    "fig, ax = plt.subplots(figsize=(8, 5))\n",
    "sns.barplot(x='year', y='timestamp_first_active',color='indianred', data=df_year)\n",
    "ax.set(title=\"Year Account Created Histogram\")"
   ]
  },
  {
   "cell_type": "code",
   "execution_count": 168,
   "metadata": {
    "ExecuteTime": {
     "end_time": "2021-01-11T23:22:07.742888Z",
     "start_time": "2021-01-11T23:22:07.731395Z"
    }
   },
   "outputs": [],
   "source": [
    "df_age_gender = pd.DataFrame(age_gender.value_counts())\n",
    "df_age_gender = df_age_gender.sort_values('age_bucket')"
   ]
  },
  {
   "cell_type": "code",
   "execution_count": 169,
   "metadata": {
    "ExecuteTime": {
     "end_time": "2021-01-11T23:22:09.522572Z",
     "start_time": "2021-01-11T23:22:09.515133Z"
    }
   },
   "outputs": [],
   "source": [
    "df_age_gender.reset_index(inplace=True) "
   ]
  },
  {
   "cell_type": "code",
   "execution_count": 170,
   "metadata": {
    "ExecuteTime": {
     "end_time": "2021-01-11T23:22:14.685071Z",
     "start_time": "2021-01-11T23:22:11.128565Z"
    }
   },
   "outputs": [
    {
     "data": {
      "text/plain": [
       "<seaborn.axisgrid.FacetGrid at 0x7f9a629cd760>"
      ]
     },
     "execution_count": 170,
     "metadata": {},
     "output_type": "execute_result"
    },
    {
     "data": {
      "image/png": "[encoded data removed]",
      "text/plain": [
       "<Figure size 2992.68x432 with 1 Axes>"
      ]
     },
     "metadata": {},
     "output_type": "display_data"
    }
   ],
   "source": [
    "sns.set_palette('Blues')\n",
    "sns.catplot(x=\"age_bucket\", y=\"population_in_thousands\", kind=\"bar\", hue='country_destination', palette=sns.color_palette(\"Blues\"), data=df_age_gender, height=6, aspect=40/6)"
   ]
  },
  {
   "cell_type": "code",
   "execution_count": null,
   "metadata": {},
   "outputs": [],
   "source": []
  },
  {
   "cell_type": "code",
   "execution_count": null,
   "metadata": {},
   "outputs": [],
   "source": []
  }
 ],
 "metadata": {
  "kernelspec": {
   "display_name": "Python 3",
   "language": "python",
   "name": "python3"
  },
  "language_info": {
   "codemirror_mode": {
    "name": "ipython",
    "version": 3
   },
   "file_extension": ".py",
   "mimetype": "text/x-python",
   "name": "python",
   "nbconvert_exporter": "python",
   "pygments_lexer": "ipython3",
   "version": "3.8.5"
  },
  "toc": {
   "base_numbering": 1,
   "nav_menu": {},
   "number_sections": true,
   "sideBar": true,
   "skip_h1_title": false,
   "title_cell": "Table of Contents",
   "title_sidebar": "Contents",
   "toc_cell": false,
   "toc_position": {},
   "toc_section_display": true,
   "toc_window_display": false
  },
  "varInspector": {
   "cols": {
    "lenName": 16,
    "lenType": 16,
    "lenVar": 40
   },
   "kernels_config": {
    "python": {
     "delete_cmd_postfix": "",
     "delete_cmd_prefix": "del ",
     "library": "var_list.py",
     "varRefreshCmd": "print(var_dic_list())"
    },
    "r": {
     "delete_cmd_postfix": ") ",
     "delete_cmd_prefix": "rm(",
     "library": "var_list.r",
     "varRefreshCmd": "cat(var_dic_list()) "
    }
   },
   "types_to_exclude": [
    "module",
    "function",
    "builtin_function_or_method",
    "instance",
    "_Feature"
   ],
   "window_display": false
  }
 },
 "nbformat": 4,
 "nbformat_minor": 4
}
